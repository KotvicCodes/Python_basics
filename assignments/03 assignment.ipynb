{
 "cells": [
  {
   "cell_type": "markdown",
   "id": "e033de23-9f48-4b86-b12b-c8deda7051e4",
   "metadata": {
    "deletable": false,
    "editable": false,
    "nbgrader": {
     "cell_type": "markdown",
     "checksum": "43a724d5243a2bddaba65dada4a58cd3",
     "grade": false,
     "grade_id": "cell-e56611c9f30bd335",
     "locked": true,
     "schema_version": 3,
     "solution": false,
     "task": false
    }
   },
   "source": [
    "# Assignment 3"
   ]
  },
  {
   "cell_type": "markdown",
   "id": "5bbe6943-4bad-462f-a4f2-6c2fa532ab36",
   "metadata": {
    "deletable": false,
    "editable": false,
    "nbgrader": {
     "cell_type": "markdown",
     "checksum": "53399f7a4b89b97aa6555c3d22b98b9f",
     "grade": false,
     "grade_id": "cell-d90bc4d5b569b339",
     "locked": true,
     "schema_version": 3,
     "solution": false,
     "task": false
    }
   },
   "source": [
    "## Deadline\n",
    "\n",
    "Wednesday, October 22, 23:59."
   ]
  },
  {
   "cell_type": "markdown",
   "id": "12eb3223-f1a6-444a-975d-1542cb3d1054",
   "metadata": {
    "deletable": false,
    "editable": false,
    "nbgrader": {
     "cell_type": "markdown",
     "checksum": "d223b20640a34b179aab64d900763a0d",
     "grade": false,
     "grade_id": "cell-d69856ad3091e943",
     "locked": true,
     "schema_version": 3,
     "solution": false,
     "task": false
    }
   },
   "source": [
    "### Task\n",
    "We consider the following ([Collatz](https://en.wikipedia.org/wiki/Collatz_conjecture)) sequence:\n",
    "\n",
    "- Take an integer $ n $. As long as $ n > 1 $, update its value as follows: If $ n $ is divisible by two, divide it by two.\n",
    " Otherwise, multiply it by three and add one.\n",
    "- Once the sequence reaches the value $1$, that term is considered the **last**.\n",
    "- The given integer $ n >= 1 $ is taken as the **first term** of the sequence.  \n",
    "- If the user enters a value $n < 1$, the sequence has **no terms**.\n",
    "\n",
    "\n",
    "Write a program that reads two integers:\n",
    "1. $ n $ – the first term of the sequence,\n",
    "2. $ k $ – which **even** term of the sequence we are interested in,\n",
    "\n",
    "and then computes and prints three values:\n",
    "\n",
    "1. **X** – the **largest odd number** in the given Collatz sequence. If the sequence has no terms, X will be `-1`.\n",
    "2. **Y** – the **number of terms** in the Collatz sequence that lie within the interval `[10, 100)` ($10$ inclusive, $100$ exclusive).\n",
    "3. **Z** – the $k$-th **even** term of the Collatz sequence.     If the sequence does not contain at least $k$ even terms, or if $k < 1$, Z will be `-1`.\n",
    "\n",
    "### Important notes\n",
    "\n",
    "- Use the `input` function to read the two integers $ n $  and $ k $.  For automatic evaluation, call `input` **exactly twice** – first for $ n $, then for $ k $.\n",
    "- Print the results using the `print` function **once only**, on a single line in the format  `X Y Z` (three integers separated by a single space). Do not print anything else.\n",
    "\n",
    "For example, for the input values $n = 12$ and $k = 4$ the program should output `5 3 16`.\n",
    "For $n = 13$ and $k = 1$ the program should output `13 5 40`. For $n = 1$ and $k = 1$ the program should output `1 0 -1`. The correctness of the output for these three inputs is verified by **public tests**. \n",
    "\n",
    "*Final tip:* don’t forget to *save* your final solution and click the *Validate* button before *submitting*."
   ]
  },
  {
   "cell_type": "code",
   "execution_count": null,
   "id": "a9e1ab1a-f9bd-4018-979a-83c28a674342",
   "metadata": {
    "deletable": false,
    "editable": false,
    "nbgrader": {
     "cell_type": "code",
     "checksum": "0e4ed733868d7d6c87979c74ac95f740",
     "grade": false,
     "grade_id": "cell-f5fcefb857b3cce0",
     "locked": true,
     "schema_version": 3,
     "solution": false,
     "task": false
    }
   },
   "outputs": [],
   "source": [
    "# this is a read-only cell - do not edit, delete, or move!\n",
    "import zprotests"
   ]
  },
  {
   "cell_type": "code",
   "execution_count": 40,
   "id": "72e4a2ae-7c72-46e2-bec4-30fe65948132",
   "metadata": {
    "deletable": false,
    "nbgrader": {
     "cell_type": "code",
     "checksum": "1b19d2898d4b62ce77d75e19cf2f11bf",
     "grade": false,
     "grade_id": "cell-28dbe96b036581b3",
     "locked": false,
     "schema_version": 3,
     "solution": true,
     "task": false
    }
   },
   "outputs": [
    {
     "name": "stdin",
     "output_type": "stream",
     "text": [
      " -1\n",
      " 1\n"
     ]
    },
    {
     "name": "stdout",
     "output_type": "stream",
     "text": [
      "-1 0 -1\n"
     ]
    }
   ],
   "source": [
    "# Collatz Conjecture ++\n",
    "## Input\n",
    "n = int(input())\n",
    "k = int(input())\n",
    "\n",
    "## Collatz sequence\n",
    "def getCollatz(number):\n",
    "    array = []\n",
    "    \n",
    "    if number < 1:\n",
    "        return []\n",
    "\n",
    "    while number > 1:\n",
    "        array.append(number)\n",
    "\n",
    "        if (number % 2) == 0:\n",
    "            number = number // 2\n",
    "        else:\n",
    "            number = (number * 3) + 1\n",
    "    array.append(1)\n",
    "    return array\n",
    "\n",
    "## X: largest odd number\n",
    "def getLargestOddNumber(inputArray):\n",
    "    array = inputArray.copy() ### python only & doesn't copy automatically\n",
    "\n",
    "    if len(array) != 0:\n",
    "        oddArray = []\n",
    "\n",
    "        for i in array:\n",
    "            if (i % 2) != 0:\n",
    "                oddArray.append(i)\n",
    "        return max(oddArray)\n",
    "    else:\n",
    "        return -1\n",
    "\n",
    "## Y: # numbers in [10,100)\n",
    "def getIntervalNumber(inputArray):\n",
    "    array = inputArray.copy()\n",
    "    count = 0\n",
    "\n",
    "    for i in array:\n",
    "        if (i >= 10) and (i < 100): ### i is a value of array[j]\n",
    "            count += 1\n",
    "    return count\n",
    "\n",
    "## Z: # k-th even term\n",
    "def getSomeEvenNumber(inputArray, k):\n",
    "    array = inputArray.copy()\n",
    "    evenArray = []\n",
    "\n",
    "    if k < 1:\n",
    "        return -1\n",
    "\n",
    "    for i in array:\n",
    "        if (i % 2) == 0:\n",
    "            evenArray.append(i)\n",
    "\n",
    "    if k <= len(evenArray):\n",
    "        return evenArray[k - 1]\n",
    "    else:\n",
    "        return -1\n",
    "\n",
    "## Output\n",
    "collatzArray = getCollatz(n)\n",
    "\n",
    "x = getLargestOddNumber(collatzArray)\n",
    "y = getIntervalNumber(collatzArray)\n",
    "z = getSomeEvenNumber(collatzArray, k)\n",
    "\n",
    "print(f\"{x} {y} {z}\")"
   ]
  },
  {
   "cell_type": "code",
   "execution_count": null,
   "id": "9ac3e256-f661-488e-87f4-42719c1cbaa1",
   "metadata": {
    "deletable": false,
    "editable": false,
    "nbgrader": {
     "cell_type": "code",
     "checksum": "7fec912e5824f3182e75637db9f9e704",
     "grade": true,
     "grade_id": "cell-eca876ce26b58809",
     "locked": true,
     "points": 5,
     "schema_version": 3,
     "solution": false,
     "task": false
    }
   },
   "outputs": [],
   "source": [
    "# This is a read-only cell used for automatic validation - do not edit, delete, or move!\n",
    "\n",
    "# This cell validates the example values given in the text of the assignment.\n",
    "# If something fails and you think that the result is correct, check that you\n",
    "# use the input and print functions as required by the assignment.\n",
    "\n",
    "with zprotests.mock_input(inputs=[12, 4]):\n",
    "    %rerun_quiet -g 'input('\n",
    "\n",
    "assert zprotests.stdout == \"5 3 16\\n\""
   ]
  },
  {
   "cell_type": "code",
   "execution_count": null,
   "id": "ea3a1c16-a4f7-40ab-9724-96f29e02c5de",
   "metadata": {
    "deletable": false,
    "editable": false,
    "nbgrader": {
     "cell_type": "code",
     "checksum": "02120f8df08ca22dc0528cf9efc85fd7",
     "grade": true,
     "grade_id": "cell-700f2e2b81a58380",
     "locked": true,
     "points": 5,
     "schema_version": 3,
     "solution": false,
     "task": false
    }
   },
   "outputs": [],
   "source": [
    "# This is a read-only cell used for automatic validation - do not edit, delete, or move!\n",
    "\n",
    "# This cell validates the example values given in the text of the assignment.\n",
    "# If something fails and you think that the result is correct, check that you\n",
    "# use the input and print functions as required by the assignment.\n",
    "\n",
    "with zprotests.mock_input(inputs=[13, 1]):\n",
    "    %rerun_quiet -g 'input('\n",
    "\n",
    "assert zprotests.stdout == \"13 5 40\\n\""
   ]
  },
  {
   "cell_type": "code",
   "execution_count": null,
   "id": "df3ec3a2-98bb-4c60-87da-8d285a85efec",
   "metadata": {
    "deletable": false,
    "editable": false,
    "nbgrader": {
     "cell_type": "code",
     "checksum": "8e0954c97621e571f4839cd886d7b80c",
     "grade": true,
     "grade_id": "cell-0f004e450faa3b82",
     "locked": true,
     "points": 5,
     "schema_version": 3,
     "solution": false,
     "task": false
    }
   },
   "outputs": [],
   "source": [
    "# This is a read-only cell used for automatic validation - do not edit, delete, or move!\n",
    "\n",
    "# This cell validates the example values given in the text of the assignment.\n",
    "# If something fails and you think that the result is correct, check that you\n",
    "# use the input and print functions as required by the assignment.\n",
    "\n",
    "with zprotests.mock_input(inputs=[1, 1]):\n",
    "    %rerun_quiet -g 'input('\n",
    "\n",
    "assert zprotests.stdout == \"1 0 -1\\n\""
   ]
  },
  {
   "cell_type": "code",
   "execution_count": null,
   "id": "f9a4971c-2fa3-4bb4-ac0b-88845510b86f",
   "metadata": {
    "deletable": false,
    "editable": false,
    "nbgrader": {
     "cell_type": "code",
     "checksum": "f8fdbe5009d233d271dc5f1bc4417134",
     "grade": true,
     "grade_id": "cell-b58b997e4fc8eb59",
     "locked": true,
     "points": 10,
     "schema_version": 3,
     "solution": false,
     "task": false
    }
   },
   "outputs": [],
   "source": [
    "# This is a read-only cell used for automatic validation - do not edit, delete, or move!\n"
   ]
  },
  {
   "cell_type": "code",
   "execution_count": null,
   "id": "38bdca90-e0f7-4f60-b0a7-377b6e0aadd2",
   "metadata": {
    "deletable": false,
    "editable": false,
    "nbgrader": {
     "cell_type": "code",
     "checksum": "9bcaa9adc1f3eb6efb9a1f8c13f56ea2",
     "grade": true,
     "grade_id": "cell-4f994da053aefa6f",
     "locked": true,
     "points": 10,
     "schema_version": 3,
     "solution": false,
     "task": false
    }
   },
   "outputs": [],
   "source": [
    "# This is a read-only cell used for automatic validation - do not edit, delete, or move!\n"
   ]
  },
  {
   "cell_type": "code",
   "execution_count": null,
   "id": "a8240d7e-6bfe-4429-81ff-d5099943e029",
   "metadata": {
    "deletable": false,
    "editable": false,
    "nbgrader": {
     "cell_type": "code",
     "checksum": "e3442ce7526127f0405da5e7cc47c322",
     "grade": true,
     "grade_id": "cell-bfc2bec0c56fb157",
     "locked": true,
     "points": 10,
     "schema_version": 3,
     "solution": false,
     "task": false
    }
   },
   "outputs": [],
   "source": [
    "# This is a read-only cell used for automatic validation - do not edit, delete, or move!\n"
   ]
  },
  {
   "cell_type": "code",
   "execution_count": null,
   "id": "8127c45c-b29c-4409-8a31-3ea1a4dcc871",
   "metadata": {
    "deletable": false,
    "editable": false,
    "nbgrader": {
     "cell_type": "code",
     "checksum": "17a4b76d458565bd0c9991d9809c4d18",
     "grade": true,
     "grade_id": "cell-67e66bb49251ab13",
     "locked": true,
     "points": 10,
     "schema_version": 3,
     "solution": false,
     "task": false
    }
   },
   "outputs": [],
   "source": [
    "# This is a read-only cell used for automatic validation - do not edit, delete, or move!\n"
   ]
  },
  {
   "cell_type": "code",
   "execution_count": null,
   "id": "64a6b5e4-a830-4abd-8fbf-f8a35df00212",
   "metadata": {
    "deletable": false,
    "editable": false,
    "nbgrader": {
     "cell_type": "code",
     "checksum": "6f4f8f34aaa79367c73a933ebfeb5a56",
     "grade": true,
     "grade_id": "cell-4f658b8d97b9a56c",
     "locked": true,
     "points": 10,
     "schema_version": 3,
     "solution": false,
     "task": false
    }
   },
   "outputs": [],
   "source": [
    "# This is a read-only cell used for automatic validation - do not edit, delete, or move!\n"
   ]
  },
  {
   "cell_type": "code",
   "execution_count": null,
   "id": "542b3094-8922-452a-8350-19e8e10e2b5e",
   "metadata": {
    "deletable": false,
    "editable": false,
    "nbgrader": {
     "cell_type": "code",
     "checksum": "245630e0bf7d264e4d3fc5310d4f6635",
     "grade": true,
     "grade_id": "cell-162fee1aa8057ad2",
     "locked": true,
     "points": 10,
     "schema_version": 3,
     "solution": false,
     "task": false
    }
   },
   "outputs": [],
   "source": [
    "# This is a read-only cell used for automatic validation - do not edit, delete, or move!\n"
   ]
  },
  {
   "cell_type": "code",
   "execution_count": null,
   "id": "b538a294-8667-4886-b3f3-c277bb70e038",
   "metadata": {
    "deletable": false,
    "editable": false,
    "nbgrader": {
     "cell_type": "code",
     "checksum": "51effd2bbfb1433c37e785583a08fb24",
     "grade": true,
     "grade_id": "cell-71dd663b3d4bee2a",
     "locked": true,
     "points": 10,
     "schema_version": 3,
     "solution": false,
     "task": false
    }
   },
   "outputs": [],
   "source": [
    "# This is a read-only cell used for automatic validation - do not edit, delete, or move!\n"
   ]
  },
  {
   "cell_type": "code",
   "execution_count": null,
   "id": "8a9ee8d8-4041-4412-a9eb-791bb043b166",
   "metadata": {
    "deletable": false,
    "editable": false,
    "nbgrader": {
     "cell_type": "code",
     "checksum": "1ea508916d610ffb95ca111967650cdb",
     "grade": true,
     "grade_id": "cell-c913161a658852ab",
     "locked": true,
     "points": 5,
     "schema_version": 3,
     "solution": false,
     "task": false
    }
   },
   "outputs": [],
   "source": [
    "# This is a read-only cell used for automatic validation - do not edit, delete, or move!\n"
   ]
  },
  {
   "cell_type": "code",
   "execution_count": null,
   "id": "c507b2e2-a106-4cbd-86d1-a8b47179424b",
   "metadata": {
    "deletable": false,
    "editable": false,
    "nbgrader": {
     "cell_type": "code",
     "checksum": "0c87bb91b8818b94649b8be0d730f0d7",
     "grade": true,
     "grade_id": "cell-e9b776e6580c463d",
     "locked": true,
     "points": 5,
     "schema_version": 3,
     "solution": false,
     "task": false
    }
   },
   "outputs": [],
   "source": [
    "# This is a read-only cell used for automatic validation - do not edit, delete, or move!\n"
   ]
  },
  {
   "cell_type": "code",
   "execution_count": null,
   "id": "1e3edc4e-f24b-4062-9b21-b1829d27c485",
   "metadata": {
    "deletable": false,
    "editable": false,
    "nbgrader": {
     "cell_type": "code",
     "checksum": "70dd930599b9bce0c3bc823c007e97e7",
     "grade": true,
     "grade_id": "cell-f6fe25ac5c242630",
     "locked": true,
     "points": 5,
     "schema_version": 3,
     "solution": false,
     "task": false
    }
   },
   "outputs": [],
   "source": [
    "# This is a read-only cell used for automatic validation - do not edit, delete, or move!\n"
   ]
  }
 ],
 "metadata": {
  "kernelspec": {
   "display_name": "Python 3 (ipykernel)",
   "language": "python",
   "name": "python3"
  },
  "language_info": {
   "codemirror_mode": {
    "name": "ipython",
    "version": 3
   },
   "file_extension": ".py",
   "mimetype": "text/x-python",
   "name": "python",
   "nbconvert_exporter": "python",
   "pygments_lexer": "ipython3",
   "version": "3.13.7"
  }
 },
 "nbformat": 4,
 "nbformat_minor": 5
}
