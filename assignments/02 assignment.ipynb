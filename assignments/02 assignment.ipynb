{
 "cells": [
  {
   "cell_type": "markdown",
   "id": "d14bc179-f045-44f7-9b8e-aed36cc653e1",
   "metadata": {
    "deletable": false,
    "editable": false,
    "nbgrader": {
     "cell_type": "markdown",
     "checksum": "e313a2caf4353435b4670d3e8853d957",
     "grade": false,
     "grade_id": "cell-5fa2290b813ad2d7",
     "locked": true,
     "schema_version": 3,
     "solution": false,
     "task": false
    }
   },
   "source": [
    "# Assignment 2"
   ]
  },
  {
   "cell_type": "markdown",
   "id": "5bbe6943-4bad-462f-a4f2-6c2fa532ab36",
   "metadata": {
    "deletable": false,
    "editable": false,
    "nbgrader": {
     "cell_type": "markdown",
     "checksum": "3be9889019a15702ffacc6622f283325",
     "grade": false,
     "grade_id": "cell-d90bc4d5b569b339",
     "locked": true,
     "schema_version": 3,
     "solution": false,
     "task": false
    }
   },
   "source": [
    "## Deadline\n",
    "\n",
    "Wednesday, October 15, 23:59."
   ]
  },
  {
   "cell_type": "markdown",
   "id": "12eb3223-f1a6-444a-975d-1542cb3d1054",
   "metadata": {
    "deletable": false,
    "editable": false,
    "nbgrader": {
     "cell_type": "markdown",
     "checksum": "e2c476a366c5dfef5478a96535d3810a",
     "grade": false,
     "grade_id": "cell-d69856ad3091e943",
     "locked": true,
     "schema_version": 3,
     "solution": false,
     "task": false
    }
   },
   "source": [
    "# Instructions\n",
    "\n",
    "Write a program that calculates how long it would take to sail around the Earth along the Tropic of Cancer (*obratník Raka*) with a ship moving at a given constant speed.\n",
    "- Use the `input` function to read the ship’s speed (a real number in kilometers per hour). Use the input function **exactly once** in your program.\n",
    "- Assume that the Earth is a sphere with a radius R of **6378 km**, and that the ship sails along the parallel of **23.5°** north latitude (the Tropic of Cancer). Radius of this parallel is given by the formula r = R cos(φ), \n",
    "where φ is the latitude in radians and R is the radius of the Earth. Make sure to use a sufficiently precise value of π.\n",
    "- Compute the total travel time in hours, round it to the nearest integer, and print the result using the `print` function in the format `X d Y hrs`, where `X` is the number of days and `Y` is the number of hours.\n",
    "- For example, for a speed of **53 km/h**, the trip takes approximately **693.4 hours**, so the program should print `28 d 21 hrs`.\n",
    "- Pay attention to spaces between numbers and the units `d` and `hrs`! Due to automatic checking, **do not print anything else** besides these two numbers and the units.\n",
    "\n",
    "*Final tip:* don’t forget to save your final solution and click the **Validate** button before submitting.\n"
   ]
  },
  {
   "cell_type": "code",
   "execution_count": null,
   "id": "a9e1ab1a-f9bd-4018-979a-83c28a674342",
   "metadata": {
    "deletable": false,
    "editable": false,
    "nbgrader": {
     "cell_type": "code",
     "checksum": "0e4ed733868d7d6c87979c74ac95f740",
     "grade": false,
     "grade_id": "cell-f5fcefb857b3cce0",
     "locked": true,
     "schema_version": 3,
     "solution": false,
     "task": false
    }
   },
   "outputs": [],
   "source": [
    "# this is a read-only cell - do not edit, delete, or move!\n",
    "import zprotests"
   ]
  },
  {
   "cell_type": "code",
   "execution_count": 5,
   "id": "72e4a2ae-7c72-46e2-bec4-30fe65948132",
   "metadata": {
    "deletable": false,
    "nbgrader": {
     "cell_type": "code",
     "checksum": "1b19d2898d4b62ce77d75e19cf2f11bf",
     "grade": false,
     "grade_id": "cell-28dbe96b036581b3",
     "locked": false,
     "schema_version": 3,
     "solution": true,
     "task": false
    }
   },
   "outputs": [
    {
     "name": "stdin",
     "output_type": "stream",
     "text": [
      " 2\n"
     ]
    },
    {
     "name": "stdout",
     "output_type": "stream",
     "text": [
      "765 d 15 hrs\n"
     ]
    }
   ],
   "source": [
    "# YOUR CODE HERE\n",
    "from math import cos, pi\n",
    "\n",
    "## length\n",
    "speed = float(input())\n",
    "ourRadius = 6378 * cos(23.5 * pi / 180)\n",
    "circumference = 2 * pi * ourRadius\n",
    "\n",
    "## time\n",
    "hTime = circumference / speed\n",
    "dayTime = int(hTime // 24)\n",
    "hTime = round(hTime % 24)\n",
    "\n",
    "## output\n",
    "print(f\"{dayTime} d {hTime} hrs\")"
   ]
  },
  {
   "cell_type": "code",
   "execution_count": null,
   "id": "ea3a1c16-a4f7-40ab-9724-96f29e02c5de",
   "metadata": {
    "deletable": false,
    "editable": false,
    "nbgrader": {
     "cell_type": "code",
     "checksum": "6c58c1ccadbc5f715cdec5fb2190316f",
     "grade": true,
     "grade_id": "cell-700f2e2b81a58380",
     "locked": true,
     "points": 25,
     "schema_version": 3,
     "solution": false,
     "task": false
    }
   },
   "outputs": [],
   "source": [
    "# This is a read-only cell used for automatic validation - do not edit, delete, or move!\n",
    "\n",
    "# This cell validates the example values given in the text of the assignment.\n",
    "# If something fails and you think that the result is correct, check that you\n",
    "# use the input and print functions as required by the assignment.\n",
    "\n",
    "with zprotests.mock_input(inputs=[53]):\n",
    "    %rerun -g 'input('\n",
    "\n",
    "assert zprotests.stdout == \"28 d 21 hrs\\n\""
   ]
  },
  {
   "cell_type": "code",
   "execution_count": null,
   "id": "6ab9bee9-baf4-485c-b224-2b2f93a8cfda",
   "metadata": {
    "deletable": false,
    "editable": false,
    "nbgrader": {
     "cell_type": "code",
     "checksum": "418b8e01cf44f8a740b32d0ff0d61e70",
     "grade": true,
     "grade_id": "cell-9381416308ab808f",
     "locked": true,
     "points": 25,
     "schema_version": 3,
     "solution": false,
     "task": false
    }
   },
   "outputs": [],
   "source": [
    "# This is a read-only cell used for automatic validation - do not edit, delete, or move!\n"
   ]
  },
  {
   "cell_type": "code",
   "execution_count": null,
   "id": "e5531c8a-2b6b-4a67-910a-7f2232d1a1d9",
   "metadata": {
    "deletable": false,
    "editable": false,
    "nbgrader": {
     "cell_type": "code",
     "checksum": "aaef0fe698239cdb5890c0adb09a7662",
     "grade": true,
     "grade_id": "cell-372a56fbe26c4579",
     "locked": true,
     "points": 20,
     "schema_version": 3,
     "solution": false,
     "task": false
    },
    "slideshow": {
     "slide_type": ""
    },
    "tags": []
   },
   "outputs": [],
   "source": [
    "# This is a read-only cell used for automatic validation - do not edit, delete, or move!\n"
   ]
  },
  {
   "cell_type": "code",
   "execution_count": null,
   "id": "80c6037a-72f8-4281-8c07-5cdf681ff1a0",
   "metadata": {
    "deletable": false,
    "editable": false,
    "nbgrader": {
     "cell_type": "code",
     "checksum": "a27f4a79a3438f2e05c03372fa7d6169",
     "grade": true,
     "grade_id": "cell-ba081c9478a9d5d7",
     "locked": true,
     "points": 15,
     "schema_version": 3,
     "solution": false,
     "task": false
    }
   },
   "outputs": [],
   "source": [
    "# This is a read-only cell used for automatic validation - do not edit, delete, or move!\n"
   ]
  },
  {
   "cell_type": "code",
   "execution_count": null,
   "id": "10eb3086-f302-4d97-b20e-583309addd34",
   "metadata": {
    "deletable": false,
    "editable": false,
    "nbgrader": {
     "cell_type": "code",
     "checksum": "b2e1d7af45e7a5767fbd2707ade76c24",
     "grade": true,
     "grade_id": "cell-d007813640d92e69",
     "locked": true,
     "points": 15,
     "schema_version": 3,
     "solution": false,
     "task": false
    }
   },
   "outputs": [],
   "source": [
    "# This is a read-only cell used for automatic validation - do not edit, delete, or move!\n"
   ]
  }
 ],
 "metadata": {
  "kernelspec": {
   "display_name": "Python 3 (ipykernel)",
   "language": "python",
   "name": "python3"
  },
  "language_info": {
   "codemirror_mode": {
    "name": "ipython",
    "version": 3
   },
   "file_extension": ".py",
   "mimetype": "text/x-python",
   "name": "python",
   "nbconvert_exporter": "python",
   "pygments_lexer": "ipython3",
   "version": "3.13.7"
  }
 },
 "nbformat": 4,
 "nbformat_minor": 5
}
