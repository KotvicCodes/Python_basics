{
 "cells": [
  {
   "cell_type": "markdown",
   "id": "0f32eaf3",
   "metadata": {
    "deletable": false,
    "editable": false,
    "nbgrader": {
     "cell_type": "markdown",
     "checksum": "835bae9a682d6026ad5ee52e3cc9a131",
     "grade": false,
     "grade_id": "cell-0e452d378d84f19b",
     "locked": true,
     "schema_version": 3,
     "solution": false,
     "task": false
    }
   },
   "source": [
    "# Assignment 4"
   ]
  },
  {
   "cell_type": "markdown",
   "id": "5bbe6943-4bad-462f-a4f2-6c2fa532ab36",
   "metadata": {
    "deletable": false,
    "editable": false,
    "nbgrader": {
     "cell_type": "markdown",
     "checksum": "2ae55e174c91af300f3b7ad495638463",
     "grade": false,
     "grade_id": "cell-d90bc4d5b569b339",
     "locked": true,
     "schema_version": 3,
     "solution": false,
     "task": false
    }
   },
   "source": [
    "## Deadline\n",
    "\n",
    "Wednesday, October 29, 23:59."
   ]
  },
  {
   "cell_type": "markdown",
   "id": "12eb3223-f1a6-444a-975d-1542cb3d1054",
   "metadata": {
    "deletable": false,
    "editable": false,
    "nbgrader": {
     "cell_type": "markdown",
     "checksum": "9d552523bbf044f449c0b45265dbe21a",
     "grade": false,
     "grade_id": "cell-d69856ad3091e943",
     "locked": true,
     "schema_version": 3,
     "solution": false,
     "task": false
    }
   },
   "source": [
    "## Task\n",
    "\n",
    "The sum of all prime numbers greater than $1$ and less than $10$ is $2 + 3 + 5 + 7 = 17$.\n",
    "\n",
    "Write a function named `sum_primes`, which takes two parameters $a$ and $b$, where the latter will be optional and it will be possible to use the function in two ways:\n",
    "\n",
    "1. If only the first parameter $a$ is given, function `sum_primes` will return a sum of all prime numbers in interval $[1, a)$ ($a$ is not included).\n",
    "2. If both parameters $a$ and $b$ are given, function `sum_primes` will return a sum of all prime numbers in interval $[a, b)$ ($a$ is included, $b$ is not included).\n",
    "\n",
    "**Comments and hints:**\n",
    "\n",
    "- The number $1$ is not a prime number.\n",
    "- The function should always return an integer number.\n",
    "- The function should return $0$ if the interval is empty or if $a > b$.\n",
    "- For clarity of the code define a helper function `is_prime` and use it in the function `sum_primes`.\n",
    "- All tests use only positive integers, i.e. no need to check for negative numbers or non-integers.\n",
    "- **Do not use the function `input` in this assignment.**"
   ]
  },
  {
   "cell_type": "code",
   "execution_count": null,
   "id": "72e4a2ae-7c72-46e2-bec4-30fe65948132",
   "metadata": {
    "deletable": false,
    "nbgrader": {
     "cell_type": "code",
     "checksum": "1adbea0b5a7c28223daa1d39d9cf2bb8",
     "grade": false,
     "grade_id": "cell-28dbe96b036581b3",
     "locked": false,
     "schema_version": 3,
     "solution": true,
     "task": false
    }
   },
   "outputs": [],
   "source": [
    "# Why is something called \"Comments and hints\" required to pass the tests? Hint implies non-mandatory\n",
    "\n",
    "# Sum Interval Of Primes\n",
    "## Find primes helper f(x)\n",
    "def is_prime(n):\n",
    "    if n == 0 or n==1:\n",
    "        return False\n",
    "\n",
    "    sqrt = int(n**(1/2))\n",
    "\n",
    "    for j in range (2, sqrt + 1):\n",
    "        if n % j == 0:\n",
    "            break\n",
    "    else:\n",
    "       return True\n",
    "    return False\n",
    "\n",
    "def findPrimes(down, up):\n",
    "    primes = []\n",
    "\n",
    "    for i in range(down, up):\n",
    "        if is_prime(i) == True:\n",
    "            primes.append(i)\n",
    "    return primes\n",
    "\n",
    "## Sum primes main f(x)\n",
    "def sum_primes(a, b=0):\n",
    "    primes = []\n",
    "    \n",
    "    if b == 0:\n",
    "        primes = findPrimes(1, a)\n",
    "        \n",
    "    elif a <= b:\n",
    "        primes = findPrimes(a, b)\n",
    "    else:\n",
    "        return 0\n",
    "    return sum(primes)"
   ]
  },
  {
   "cell_type": "markdown",
   "id": "8bddaa12-8be1-454d-b9f5-ef778defa61c",
   "metadata": {
    "deletable": false,
    "editable": false,
    "nbgrader": {
     "cell_type": "markdown",
     "checksum": "ee97bfe797e78cbdae9dcae739fdd297",
     "grade": false,
     "grade_id": "cell-8b3ab402ebe2ed01",
     "locked": true,
     "schema_version": 3,
     "solution": false,
     "task": false
    }
   },
   "source": [
    "The following cells contain public tests that you can use for basic validation of your solution. **Click on the validate button before submitting!**"
   ]
  },
  {
   "cell_type": "code",
   "execution_count": 9,
   "id": "30d3946c",
   "metadata": {
    "deletable": false,
    "editable": false,
    "nbgrader": {
     "cell_type": "code",
     "checksum": "4c1eff95f8d30af7deffbbf3e6c2f1f7",
     "grade": false,
     "grade_id": "cell-bd729fdbe8229f1d",
     "locked": true,
     "schema_version": 3,
     "solution": false,
     "task": false
    }
   },
   "outputs": [
    {
     "ename": "ModuleNotFoundError",
     "evalue": "No module named 'ipytest'",
     "output_type": "error",
     "traceback": [
      "\u001b[31m---------------------------------------------------------------------------\u001b[39m",
      "\u001b[31mModuleNotFoundError\u001b[39m                       Traceback (most recent call last)",
      "\u001b[36mCell\u001b[39m\u001b[36m \u001b[39m\u001b[32mIn[9]\u001b[39m\u001b[32m, line 2\u001b[39m\n\u001b[32m      1\u001b[39m \u001b[38;5;66;03m# This is a read-only cell used for automatic validation - do not edit, delete, or move!\u001b[39;00m\n\u001b[32m----> \u001b[39m\u001b[32m2\u001b[39m \u001b[38;5;28;01mimport\u001b[39;00m\u001b[38;5;250m \u001b[39m\u001b[34;01mipytest\u001b[39;00m\n\u001b[32m      3\u001b[39m ipytest.autoconfig(raise_on_error=\u001b[38;5;28;01mTrue\u001b[39;00m, addopts=[\u001b[33m\"\u001b[39m\u001b[33m-p\u001b[39m\u001b[33m\"\u001b[39m, \u001b[33m\"\u001b[39m\u001b[33mno:cacheprovider\u001b[39m\u001b[33m\"\u001b[39m])  \u001b[38;5;66;03m# type: ignore\u001b[39;00m\n",
      "\u001b[31mModuleNotFoundError\u001b[39m: No module named 'ipytest'"
     ]
    }
   ],
   "source": [
    "# This is a read-only cell used for automatic validation - do not edit, delete, or move!\n",
    "import ipytest\n",
    "ipytest.autoconfig(raise_on_error=True, addopts=[\"-p\", \"no:cacheprovider\"])  # type: ignore"
   ]
  },
  {
   "cell_type": "code",
   "execution_count": null,
   "id": "9756356c-c5e3-4b14-82f4-565f1ada5c85",
   "metadata": {
    "deletable": false,
    "editable": false,
    "nbgrader": {
     "cell_type": "code",
     "checksum": "a8a3e7379b4bde98f8e0f33e23e08964",
     "grade": true,
     "grade_id": "cell-5443d33a7c80dc12",
     "locked": true,
     "points": 5,
     "schema_version": 3,
     "solution": false,
     "task": false
    }
   },
   "outputs": [],
   "source": [
    "# This is a read-only cell used for automatic validation - do not edit, delete, or move!\n",
    "assert \"sum_primes\" in globals(), \"The function 'sum_primes' is not defined.\"\n",
    "assert sum_primes(0) == 0, \"The function 'sum_primes' does not accept one parameter or returns wrong result for zero.\"\n",
    "assert sum_primes(0, 0) == 0, \"The function 'sum_primes' does not accept two parameters or returns wrong result for two zeros.\""
   ]
  },
  {
   "cell_type": "code",
   "execution_count": null,
   "id": "00309387-85c0-4208-b53c-d1c984aaa50f",
   "metadata": {
    "deletable": false,
    "editable": false,
    "nbgrader": {
     "cell_type": "code",
     "checksum": "170b2de04e9ac107c3a99998efe3c2b9",
     "grade": true,
     "grade_id": "cell-799821c89e9f18c0",
     "locked": true,
     "points": 5,
     "schema_version": 3,
     "solution": false,
     "task": false
    }
   },
   "outputs": [],
   "source": [
    "# This is a read-only cell used for automatic validation - do not edit, delete, or move!\n",
    "assert \"is_prime\" in globals(), \"The function 'is_prime' is not defined.\"\n",
    "assert is_prime(0) is False, \"The function 'is_prime' does not work for number 0.\""
   ]
  },
  {
   "cell_type": "code",
   "execution_count": null,
   "id": "c720ffe2-aea6-4786-a2de-ff98a3ccf584",
   "metadata": {
    "deletable": false,
    "editable": false,
    "nbgrader": {
     "cell_type": "code",
     "checksum": "4daf9de9a1bfb99642990b580fa2ed6a",
     "grade": true,
     "grade_id": "cell-b4eeb6797b63d39d",
     "locked": true,
     "points": 5,
     "schema_version": 3,
     "solution": false,
     "task": false
    }
   },
   "outputs": [],
   "source": [
    "# This is a read-only cell used for automatic validation - do not edit, delete, or move!\n",
    "assert sum_primes(10) == 17\n",
    "assert sum_primes(11) == 17\n",
    "assert sum_primes(12) == 28\n",
    "assert sum_primes(13) == 28\n",
    "assert sum_primes(1, 10) == 17\n",
    "assert sum_primes(2, 10) == 17\n",
    "assert sum_primes(3, 10) == 15\n",
    "assert sum_primes(4, 10) == 12"
   ]
  },
  {
   "cell_type": "code",
   "execution_count": null,
   "id": "3ca2138c-90b6-471a-b1a2-ac1267061f4a",
   "metadata": {
    "deletable": false,
    "editable": false,
    "nbgrader": {
     "cell_type": "code",
     "checksum": "b2017f0cfa7e91b3472da47dcca002c5",
     "grade": true,
     "grade_id": "cell-74cc1e48d19a1fc9",
     "locked": true,
     "points": 5,
     "schema_version": 3,
     "solution": false,
     "task": false
    }
   },
   "outputs": [],
   "source": [
    "# This is a read-only cell used for automatic validation - do not edit, delete, or move!\n",
    "assert is_prime(1) is False\n",
    "assert is_prime(2) is True\n",
    "assert is_prime(3) is True\n",
    "assert is_prime(4) is False\n",
    "assert is_prime(5) is True\n",
    "assert is_prime(6) is False\n",
    "assert is_prime(7) is True"
   ]
  },
  {
   "cell_type": "markdown",
   "id": "5375626d-1d65-4254-bdf6-826719cf5f94",
   "metadata": {
    "deletable": false,
    "editable": false,
    "nbgrader": {
     "cell_type": "markdown",
     "checksum": "7ec658033770a25276042b61f5fcd2af",
     "grade": false,
     "grade_id": "cell-f896fefbb8fa53ec",
     "locked": true,
     "schema_version": 3,
     "solution": false,
     "task": false
    }
   },
   "source": [
    "The following cells contain hidden tests that are evaluated during automatic grading after your submission. The tests check that your functions are sufficiently general."
   ]
  },
  {
   "cell_type": "code",
   "execution_count": null,
   "id": "8e54ee40-42bf-447a-9a70-5adb09bc735f",
   "metadata": {
    "deletable": false,
    "editable": false,
    "nbgrader": {
     "cell_type": "code",
     "checksum": "231214ae2805dee4cf19cb21324515de",
     "grade": true,
     "grade_id": "cell-539179e81fa8a20f",
     "locked": true,
     "points": 50,
     "schema_version": 3,
     "solution": false,
     "task": false
    }
   },
   "outputs": [],
   "source": [
    "# This is a read-only cell used for automatic validation - do not edit, delete, or move!"
   ]
  },
  {
   "cell_type": "code",
   "execution_count": null,
   "id": "e139a0e3-3a53-421a-a1b0-0ed1c4690fbe",
   "metadata": {
    "deletable": false,
    "editable": false,
    "nbgrader": {
     "cell_type": "code",
     "checksum": "77632edbf63d6ff323c0f60d39967257",
     "grade": true,
     "grade_id": "cell-1cec430b2fffaa3e",
     "locked": true,
     "points": 30,
     "schema_version": 3,
     "solution": false,
     "task": false
    }
   },
   "outputs": [],
   "source": [
    "# This is a read-only cell used for automatic validation - do not edit, delete, or move!"
   ]
  }
 ],
 "metadata": {
  "kernelspec": {
   "display_name": "Python 3",
   "language": "python",
   "name": "python3"
  },
  "language_info": {
   "codemirror_mode": {
    "name": "ipython",
    "version": 3
   },
   "file_extension": ".py",
   "mimetype": "text/x-python",
   "name": "python",
   "nbconvert_exporter": "python",
   "pygments_lexer": "ipython3",
   "version": "3.13.5"
  }
 },
 "nbformat": 4,
 "nbformat_minor": 5
}
