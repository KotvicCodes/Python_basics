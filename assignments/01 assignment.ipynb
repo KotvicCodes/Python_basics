{
 "cells": [
  {
   "cell_type": "markdown",
   "id": "dae8a6fc-dae7-45ed-8b8f-07278006e996",
   "metadata": {
    "deletable": false,
    "editable": false,
    "nbgrader": {
     "cell_type": "markdown",
     "checksum": "7339f8c05e291eddae9e801281b4c188",
     "grade": false,
     "grade_id": "cell-bddd97c6afdbc68a",
     "locked": true,
     "schema_version": 3,
     "solution": false,
     "task": false
    }
   },
   "source": [
    "# Assignment 1\n",
    "\n",
    "This is the first assignment from ZPRO, the following assignments will be released weekly.\n",
    "The total number of assignments will be 11 and you can get 100 points for each.\n",
    "The first assignment also contains detailed instructions how to manipulate with assignment files that should be followed for the rest of the assignments.\n",
    "\n",
    "## Deadline\n",
    "\n",
    "Sunday, October 5, 23:59."
   ]
  },
  {
   "cell_type": "markdown",
   "id": "538aebfa-ee27-4171-926c-2c2f9b4c3cbc",
   "metadata": {
    "deletable": false,
    "editable": false,
    "nbgrader": {
     "cell_type": "markdown",
     "checksum": "450422d8f11b14a1929df84f7adc68b3",
     "grade": false,
     "grade_id": "cell-82478487c832eabf",
     "locked": true,
     "schema_version": 3,
     "solution": false,
     "task": false
    }
   },
   "source": [
    "# Guideline\n",
    "\n",
    "This _Jupyter notebook_, which contains the task assignment and soon will contain your solution, is __special__, unlike regular notebooks that we use during lectures.\n",
    "Some cells contain code for _partial validation_ of your solution to the task, while other cells then contain _hidden code_ for additional validation after submission.\n",
    "On the technical level, evaluation of your assignments uses _hidden attributes_ in each cell, which are compared with the original assignment and their damage can break the validation process.\n",
    "\n",
    "Unfortunately, the software used for submitting solutions is not very robust and you have to follow these rules when editing this notebook:\n",
    "\n",
    "- __Edit only the cells that are intended for it.__\n",
    "  The solution of the assignment has to be added in a cell that contains a placeholder `YOUR CODE HERE`.\n",
    "  Typically, this will be just one cell, but later assignments may be divided into several parts across multiple cells.\n",
    "- __Do not leave__ the command `raise NotImplementedError()` in the edited cells – it needs to be __replaced__ with your solution.\n",
    "- __Do not add new cells__ and do not __move__ existing cells.\n",
    "  If you need more space for thinking and testing your solution, copy the code into another notebook.\n",
    "  If you _duplicate a cell and delete it_, then there is a risk that you will accidentally remove the original one, which would change its ID in hidden attributes and break automatic validation.\n",
    "- When submitting an assignment, all files in the folder containing this notebook are submitted.\n",
    "  __Do not add__ any other files (helper notebooks) and __do not rename__ the notebook with the assignment.\n",
    "- Save the file before submitting it to make sure that the latest version of the file is submitted.\n",
    "\n",
    "If you follow these rules and no error is displayed after clicking on the _Validate_ button, then you can submit your solution for full validation.\n",
    "\n",
    "If you find a better solution before the deadline, you may resubmit it – only the last submission in time will be taken into account."
   ]
  },
  {
   "cell_type": "markdown",
   "id": "c1ba5e16-e8bb-401a-9c9d-511bc707dff8",
   "metadata": {
    "deletable": false,
    "editable": false,
    "nbgrader": {
     "cell_type": "markdown",
     "checksum": "de19d39cf2e1c46161a4af06020deb4d",
     "grade": false,
     "grade_id": "cell-8c57d9dd417bab98",
     "locked": true,
     "schema_version": 3,
     "solution": false,
     "task": false
    }
   },
   "source": [
    "# Auxilary cell\n",
    "\n",
    "The following cell contains auxiliary code that is needed for the task validation. **Do not do anything with this cell!**"
   ]
  },
  {
   "cell_type": "code",
   "execution_count": null,
   "id": "b21396fd-d598-44d4-99aa-fd639f100a8b",
   "metadata": {
    "deletable": false,
    "editable": false,
    "nbgrader": {
     "cell_type": "code",
     "checksum": "db89359b585d6f1098ef61a0a0ecce84",
     "grade": false,
     "grade_id": "cell-92e76a1509a0f4db",
     "locked": true,
     "schema_version": 3,
     "solution": false,
     "task": false
    }
   },
   "outputs": [],
   "source": [
    "# this is a read-only cell - do not edit, delete, or move!\n",
    "import zprotests"
   ]
  },
  {
   "cell_type": "markdown",
   "id": "e674d545-17e2-40c9-8bac-063e60052cbc",
   "metadata": {
    "deletable": false,
    "editable": false,
    "nbgrader": {
     "cell_type": "markdown",
     "checksum": "7686c20b48a22766bf9990863619580e",
     "grade": false,
     "grade_id": "cell-f8d301b7c866d7ec",
     "locked": true,
     "schema_version": 3,
     "solution": false,
     "task": false
    }
   },
   "source": [
    "# Task assignment\n",
    "\n",
    "Write a program that prints the number of __bytes__ needed to store the text \"Hobbyte\" in a binary representation using the ASCII table.\n",
    "The program should not do anything else - especially, it must not print anything else."
   ]
  },
  {
   "cell_type": "code",
   "execution_count": 3,
   "id": "9122896f-b7c9-4e24-81c2-a4f4a448c49e",
   "metadata": {
    "deletable": false,
    "nbgrader": {
     "cell_type": "code",
     "checksum": "0215dd18839035eb8446f05852a8d615",
     "grade": false,
     "grade_id": "cell-d46e4b44d3d19218",
     "locked": false,
     "schema_version": 3,
     "solution": true,
     "task": false
    }
   },
   "outputs": [
    {
     "name": "stdout",
     "output_type": "stream",
     "text": [
      "7\n"
     ]
    }
   ],
   "source": [
    "# YOUR CODE HERE\n",
    "#raise NotImplementedError()\n",
    "string = \"Hobbyte\"\n",
    "length = len(string)\n",
    "print(length)"
   ]
  },
  {
   "cell_type": "markdown",
   "id": "40b413c9-3000-447c-bde1-f24839469092",
   "metadata": {
    "deletable": false,
    "editable": false,
    "nbgrader": {
     "cell_type": "markdown",
     "checksum": "5079eec9c10a69257983c819bbc7fdd4",
     "grade": false,
     "grade_id": "cell-66b927a46bb22d69",
     "locked": true,
     "schema_version": 3,
     "solution": false,
     "task": false
    }
   },
   "source": [
    "## Tests\n",
    "\n",
    "The following cells contain public or hidden tests for automatic validation of the assignment.\n",
    "**Click on the Validate button before submitting** to evaluate the public tests.\n",
    "Hidden tests are evaluated only after submission and you will see them only in the feedback.\n",
    "All tests affect your score."
   ]
  },
  {
   "cell_type": "code",
   "execution_count": null,
   "id": "c22d1fbd-73de-4f31-9284-4f0cf5641bcb",
   "metadata": {
    "deletable": false,
    "editable": false,
    "nbgrader": {
     "cell_type": "code",
     "checksum": "5e0d6dc9d505def18643ceddba4d2a5a",
     "grade": true,
     "grade_id": "cell-c75df1d93e7f7bbb",
     "locked": true,
     "points": 20,
     "schema_version": 3,
     "solution": false,
     "task": false
    }
   },
   "outputs": [],
   "source": [
    "# this is a read-only cell used for automatic validation - do not edit, delete, or move!\n",
    "assert zprotests.stdout"
   ]
  },
  {
   "cell_type": "code",
   "execution_count": null,
   "id": "29a5f08a-1fdf-46e0-a844-75c9cb3c1f16",
   "metadata": {
    "deletable": false,
    "editable": false,
    "nbgrader": {
     "cell_type": "code",
     "checksum": "01590806e77a9157b2a40d82c8db7490",
     "grade": true,
     "grade_id": "cell-a3a55b3089fd00d7",
     "locked": true,
     "points": 20,
     "schema_version": 3,
     "solution": false,
     "task": false
    }
   },
   "outputs": [],
   "source": [
    "# this is a read-only cell used for automatic validation - do not edit, delete, or move!"
   ]
  },
  {
   "cell_type": "code",
   "execution_count": null,
   "id": "2f168e9a-51c0-4dca-8d08-229ff150167b",
   "metadata": {
    "deletable": false,
    "editable": false,
    "nbgrader": {
     "cell_type": "code",
     "checksum": "bf0abef0b4b9083c463e1504bcbbf770",
     "grade": true,
     "grade_id": "cell-afd8a44c5e345b90",
     "locked": true,
     "points": 20,
     "schema_version": 3,
     "solution": false,
     "task": false
    }
   },
   "outputs": [],
   "source": [
    "# this is a read-only cell used for automatic validation - do not edit, delete, or move!"
   ]
  },
  {
   "cell_type": "code",
   "execution_count": null,
   "id": "c969e34a-b7be-4197-8ce4-a50fdbc8b896",
   "metadata": {
    "deletable": false,
    "editable": false,
    "nbgrader": {
     "cell_type": "code",
     "checksum": "d72e1ef6d71d4f8ad9a843b229a825a6",
     "grade": true,
     "grade_id": "cell-fd65dbc774726d25",
     "locked": true,
     "points": 10,
     "schema_version": 3,
     "solution": false,
     "task": false
    }
   },
   "outputs": [],
   "source": [
    "# this is a read-only cell used for automatic validation - do not edit, delete, or move!"
   ]
  },
  {
   "cell_type": "code",
   "execution_count": null,
   "id": "661c9e7a-7357-4385-a653-b0d4623eb1a6",
   "metadata": {
    "deletable": false,
    "editable": false,
    "nbgrader": {
     "cell_type": "code",
     "checksum": "a1261c5068b68e27d1ecaa3475fad9d4",
     "grade": true,
     "grade_id": "cell-28fd6851021bc365",
     "locked": true,
     "points": 10,
     "schema_version": 3,
     "solution": false,
     "task": false
    }
   },
   "outputs": [],
   "source": [
    "# this is a read-only cell used for automatic validation - do not edit, delete, or move!"
   ]
  },
  {
   "cell_type": "code",
   "execution_count": null,
   "id": "ab115c18-b677-4cf3-b137-87b1e1650857",
   "metadata": {
    "deletable": false,
    "editable": false,
    "nbgrader": {
     "cell_type": "code",
     "checksum": "2405c43b2ff9b6b2008485d9927ef4d1",
     "grade": true,
     "grade_id": "cell-5cb2985d4b80c007",
     "locked": true,
     "points": 20,
     "schema_version": 3,
     "solution": false,
     "task": false
    }
   },
   "outputs": [],
   "source": [
    "# this is a read-only cell used for automatic validation - do not edit, delete, or move!"
   ]
  },
  {
   "cell_type": "code",
   "execution_count": null,
   "id": "25d0bf7c-9d98-4791-a246-0196acf550a4",
   "metadata": {},
   "outputs": [],
   "source": []
  }
 ],
 "metadata": {
  "kernelspec": {
   "display_name": "Python 3 (ipykernel)",
   "language": "python",
   "name": "python3"
  },
  "language_info": {
   "codemirror_mode": {
    "name": "ipython",
    "version": 3
   },
   "file_extension": ".py",
   "mimetype": "text/x-python",
   "name": "python",
   "nbconvert_exporter": "python",
   "pygments_lexer": "ipython3",
   "version": "3.13.7"
  }
 },
 "nbformat": 4,
 "nbformat_minor": 5
}
