{
 "cells": [
  {
   "cell_type": "markdown",
   "metadata": {},
   "source": [
    "# V minulém díle jste viděli..."
   ]
  },
  {
   "cell_type": "markdown",
   "metadata": {},
   "source": [
    "## Generátory\n",
    "\n",
    "_Generátory_ jsou zvláštním druhem iterátoru, který iteruje přes průběžně generované hodnoty, které generuje. _generátorové funkce_ (_generator function_) nebo  _generátorového výrazu_ (_generator expression_).\n",
    "\n",
    "_Generátorová funkce_ je taková funkce, která hodnoty _nevrací_ (pomocí příkazu `return`), ale generuje (pomocí příkazu `yield`). "
   ]
  },
  {
   "cell_type": "code",
   "execution_count": 2,
   "metadata": {},
   "outputs": [],
   "source": [
    "def generate_squares(n):\n",
    "    for x in range(n):\n",
    "        yield x ** 2"
   ]
  },
  {
   "cell_type": "markdown",
   "metadata": {},
   "source": [
    "Kdykoliv v programu zavoláme generátorovou funkci, funkce vrátí nový generátor."
   ]
  },
  {
   "cell_type": "code",
   "execution_count": 3,
   "metadata": {},
   "outputs": [
    {
     "name": "stdout",
     "output_type": "stream",
     "text": [
      "<generator object generate_squares at 0x0000021D2E6EBD60>\n",
      "0 1 4 9 16 "
     ]
    }
   ],
   "source": [
    "m = generate_squares(5)\n",
    "print(m)\n",
    "\n",
    "for x in m:\n",
    "    print(x, end = \" \")"
   ]
  },
  {
   "cell_type": "markdown",
   "metadata": {},
   "source": [
    "__Generátorové výrazy__ umožňují vytvářet generátory bez nutnosti vytváření generátorových funkcí. __Generátorová notace__ (_comprehension_) u modifikovatelných (_mutable_) kontejnerů  nám pak výrazně zjednodušuje vytváření a zpracování těchto objektů.\n",
    "\n",
    "Základní syntaxe je následující:"
   ]
  },
  {
   "cell_type": "code",
   "execution_count": null,
   "metadata": {},
   "outputs": [],
   "source": [
    "new_generator = (expression for member in iterable)\n",
    "new_list = [expression for member in iterable]\n",
    "new_set  = {expression for member in iterable}\n",
    "new_dict = {key:expression for member in iterable}"
   ]
  },
  {
   "cell_type": "markdown",
   "metadata": {},
   "source": [
    "Například pro seznam můžeme příkaz rozepsat jako:"
   ]
  },
  {
   "cell_type": "code",
   "execution_count": null,
   "metadata": {},
   "outputs": [],
   "source": [
    "new_list = []\n",
    "for element in iterable:\n",
    "    my_list.append(expression(element))"
   ]
  },
  {
   "cell_type": "markdown",
   "metadata": {},
   "source": [
    "Generové výrazy můžeme rozšířit o podmínky a můžeme pomocí nich kombinovat hodnoty z více zdrojů:\n",
    "\n",
    "- Filtrování (obdoba funkce `filter`):"
   ]
  },
  {
   "cell_type": "code",
   "execution_count": null,
   "metadata": {},
   "outputs": [],
   "source": [
    "new_generator = (expression for member in iterable if condition)"
   ]
  },
  {
   "cell_type": "markdown",
   "metadata": {},
   "source": [
    "- Kombinace hodnot z více zdrojů:"
   ]
  },
  {
   "cell_type": "code",
   "execution_count": null,
   "metadata": {},
   "outputs": [],
   "source": [
    " new_generator = (expression for member1 in iterable1 (if condition1)\n",
    "             for member2 in iterable2 (if condition2) \n",
    "             ...\n",
    "             for memberN in iterableN (if conditionN))"
   ]
  },
  {
   "cell_type": "markdown",
   "metadata": {},
   "source": [
    "# Zpracování chyb, výjimky, aserce"
   ]
  },
  {
   "cell_type": "markdown",
   "metadata": {},
   "source": [
    "Neoddělitelnou součástí programování je také práce s chybami. Praxe ukazuje, že téměř každý alespoň trošku složitý program obsahuje nějakou chybu. Chyby obvykle dělíme přinejmenším do dvou skupin: syntaktické chyby a běhové chyby.\n",
    "\n",
    "## Syntaktické chyby\n",
    "\n",
    "__Syntaktické chyby__ (anglicky __syntax errors__) představují porušení pravidel zápisu jazyka v daném programovacím jazyce. Na syntaktickou chybu upozorní interpret (případně překladač) a označí i řádek ve zdrojovém kódu, kde se chyba nachází. Dokud programátor neopraví všechny syntaktické chyby, není možné program interpretovat (případně přeložit a spustit). Výhodou tedy je, že se o syntaktické chybě nikdo kromě samotného programátora nedozví. Moderní vývojová prostředí umí syntaktické chyby zvýrazňovat přímo při psaní zdrojového kódu.\n",
    "\n",
    "Následující ukázka obsahuje syntaktickou chybu:"
   ]
  },
  {
   "cell_type": "code",
   "execution_count": 1,
   "metadata": {},
   "outputs": [
    {
     "ename": "SyntaxError",
     "evalue": "Missing parentheses in call to 'print'. Did you mean print(...)? (107042682.py, line 1)",
     "output_type": "error",
     "traceback": [
      "\u001b[1;36m  Cell \u001b[1;32mIn[1], line 1\u001b[1;36m\u001b[0m\n\u001b[1;33m    print \"Hello world\"\u001b[0m\n\u001b[1;37m    ^\u001b[0m\n\u001b[1;31mSyntaxError\u001b[0m\u001b[1;31m:\u001b[0m Missing parentheses in call to 'print'. Did you mean print(...)?\n"
     ]
    }
   ],
   "source": [
    "print \"Hello world\""
   ]
  },
  {
   "cell_type": "markdown",
   "metadata": {},
   "source": [
    "Interpret označí, že na řádce `1` našel chybu ` Missing parentheses in call to 'print'`, která značí, že ve volání funkce `print` chybí závorky. V tomto případě interpret také nabídne možnost opravy. \n",
    "\n",
    "Po opravě už bude možné program spustit:"
   ]
  },
  {
   "cell_type": "code",
   "execution_count": 2,
   "metadata": {},
   "outputs": [
    {
     "name": "stdout",
     "output_type": "stream",
     "text": [
      "Hello world\n"
     ]
    }
   ],
   "source": [
    "print(\"Hello world\")"
   ]
  },
  {
   "cell_type": "markdown",
   "metadata": {},
   "source": [
    "## Běhové chyby\n",
    "\n",
    "__Běhové chyby__ (anglicky __runtime errors__) se projeví až při běhu programu a většinou vedou k jeho havárii (pádu). Mezi běhové chyby patří dělení nulou, použití ještě nevytvořeného objektu, použití objektu špatného datového typu, a podobně. V následující ukázce dojde k běhové chybě:"
   ]
  },
  {
   "cell_type": "code",
   "execution_count": 2,
   "metadata": {},
   "outputs": [
    {
     "ename": "UnboundLocalError",
     "evalue": "cannot access local variable 'f' where it is not associated with a value",
     "output_type": "error",
     "traceback": [
      "\u001b[1;31m---------------------------------------------------------------------------\u001b[0m",
      "\u001b[1;31mUnboundLocalError\u001b[0m                         Traceback (most recent call last)",
      "Cell \u001b[1;32mIn[2], line 7\u001b[0m\n\u001b[0;32m      4\u001b[0m         n \u001b[38;5;241m=\u001b[39m n \u001b[38;5;241m-\u001b[39m\u001b[38;5;241m1\u001b[39m\n\u001b[0;32m      5\u001b[0m     \u001b[38;5;28;01mreturn\u001b[39;00m f\n\u001b[1;32m----> 7\u001b[0m \u001b[38;5;28mprint\u001b[39m(\u001b[43mfaktorial\u001b[49m\u001b[43m(\u001b[49m\u001b[38;5;241;43m5\u001b[39;49m\u001b[43m)\u001b[49m)\n",
      "Cell \u001b[1;32mIn[2], line 3\u001b[0m, in \u001b[0;36mfaktorial\u001b[1;34m(n)\u001b[0m\n\u001b[0;32m      1\u001b[0m \u001b[38;5;28;01mdef\u001b[39;00m \u001b[38;5;21mfaktorial\u001b[39m(n):\n\u001b[0;32m      2\u001b[0m     \u001b[38;5;28;01mwhile\u001b[39;00m n \u001b[38;5;241m>\u001b[39m \u001b[38;5;241m0\u001b[39m:\n\u001b[1;32m----> 3\u001b[0m         f \u001b[38;5;241m=\u001b[39m \u001b[43mf\u001b[49m \u001b[38;5;241m*\u001b[39m n\n\u001b[0;32m      4\u001b[0m         n \u001b[38;5;241m=\u001b[39m n \u001b[38;5;241m-\u001b[39m\u001b[38;5;241m1\u001b[39m\n\u001b[0;32m      5\u001b[0m     \u001b[38;5;28;01mreturn\u001b[39;00m f\n",
      "\u001b[1;31mUnboundLocalError\u001b[0m: cannot access local variable 'f' where it is not associated with a value"
     ]
    }
   ],
   "source": [
    "def faktorial(n):\n",
    "    while n > 0:\n",
    "        f = f * n\n",
    "        n = n -1\n",
    "    return f\n",
    "\n",
    "print(faktorial(5))"
   ]
  },
  {
   "cell_type": "markdown",
   "metadata": {},
   "source": [
    "Po spuštění skriptu dojde k pádu programu a zobrazí se hlášení, že k lokální proměnné `f` bylo přistoupeno před její inicializací. Řešením tohoto problému je definovat proměnnou `f` na začátku funkce `faktorial` a přiřadit jí hodnotu `1`."
   ]
  },
  {
   "cell_type": "markdown",
   "metadata": {},
   "source": [
    "<div style=\"border-left: 5px solid green; padding-left: 1em\">\n",
    "<p><strong>Poznámka:</strong>\n",
    "Některé prameny uvádějí ještě třetí typ chyb: <em>logické</em> (nebo <em>sémantické</em>). Tyto chyby bývá největší problém odhalit, protože navenek program běží, ale počítá něco špatně.\n",
    "</div>"
   ]
  },
  {
   "cell_type": "markdown",
   "metadata": {},
   "source": [
    "## Výjimky jako reakce na vznik běhových chyb\n",
    "\n",
    "Protože je programovací jazyk Python silně zaměřen na objektově orientované programování, nepřekvapí, že se v něm s chybami zachází jako s objekty. Protože by k chybám v dobře napsaném programu mělo docházet pouze výjimečně, zažil se pro tyto objekty pojem __výjimky__ (anglicky __exceptions__). Takový objekt pak nese informace o chybě:\n",
    "- na jakém místě v programu k chybě došlo\n",
    "- jak se program na místo vzniku chyby dostal\n",
    "- jaký typ chyby nastal\n",
    "\n",
    "V situaci, kdy je v programu splněna podmínka vedoucí k běhové chybě, existuje možnost  __vyvolat výjimku__ (anglicky _raise exception_). Ve chvíli vyvolání výjimky je provádění aktuální funkce přerušeno, a v hierarchii volání se hledá kód, který by mohl danou výjimku __zachytit__ (anglicky _catch_) a __ošetřit__ (anglicky _handle_). V případě, že není nalezen žádný takový kód (často označovaný jako _handler_), program __zhavaruje__ (_spadne_, _crashne_) a zobrazí chybové hlášení.\n",
    "\n",
    "Na jednotlivé kroky se nyní podíváme podrobněji.\n"
   ]
  },
  {
   "cell_type": "markdown",
   "metadata": {},
   "source": [
    "## Vyvolání výjimky\n",
    "\n",
    "Pro vyvolání výjimky se v jazyce Python používá příkaz `raise`, ke kterému je možné přidat informaci o typu chyby a její textový popis:"
   ]
  },
  {
   "cell_type": "code",
   "execution_count": 3,
   "metadata": {},
   "outputs": [
    {
     "ename": "Exception",
     "evalue": "Nepodělíš nulou!",
     "output_type": "error",
     "traceback": [
      "\u001b[1;31m---------------------------------------------------------------------------\u001b[0m",
      "\u001b[1;31mException\u001b[0m                                 Traceback (most recent call last)",
      "Cell \u001b[1;32mIn[3], line 6\u001b[0m\n\u001b[0;32m      3\u001b[0m         \u001b[38;5;28;01mraise\u001b[39;00m \u001b[38;5;167;01mException\u001b[39;00m(\u001b[38;5;124m\"\u001b[39m\u001b[38;5;124mNepodělíš nulou!\u001b[39m\u001b[38;5;124m\"\u001b[39m)\n\u001b[0;32m      4\u001b[0m     \u001b[38;5;28;01mreturn\u001b[39;00m m\u001b[38;5;241m/\u001b[39mv\n\u001b[1;32m----> 6\u001b[0m \u001b[43mhustota\u001b[49m\u001b[43m(\u001b[49m\u001b[38;5;241;43m5.0\u001b[39;49m\u001b[43m,\u001b[49m\u001b[43m \u001b[49m\u001b[38;5;241;43m0.0\u001b[39;49m\u001b[43m)\u001b[49m\n",
      "Cell \u001b[1;32mIn[3], line 3\u001b[0m, in \u001b[0;36mhustota\u001b[1;34m(m, v)\u001b[0m\n\u001b[0;32m      1\u001b[0m \u001b[38;5;28;01mdef\u001b[39;00m \u001b[38;5;21mhustota\u001b[39m(m, v):\n\u001b[0;32m      2\u001b[0m     \u001b[38;5;28;01mif\u001b[39;00m v \u001b[38;5;241m==\u001b[39m \u001b[38;5;241m0\u001b[39m:\n\u001b[1;32m----> 3\u001b[0m         \u001b[38;5;28;01mraise\u001b[39;00m \u001b[38;5;167;01mException\u001b[39;00m(\u001b[38;5;124m\"\u001b[39m\u001b[38;5;124mNepodělíš nulou!\u001b[39m\u001b[38;5;124m\"\u001b[39m)\n\u001b[0;32m      4\u001b[0m     \u001b[38;5;28;01mreturn\u001b[39;00m m\u001b[38;5;241m/\u001b[39mv\n",
      "\u001b[1;31mException\u001b[0m: Nepodělíš nulou!"
     ]
    }
   ],
   "source": [
    "def hustota(m, v):\n",
    "    if v == 0:\n",
    "        raise Exception(\"Nepodělíš nulou!\")\n",
    "    return m/v\n",
    "\n",
    "hustota(5.0, 0.0)"
   ]
  },
  {
   "cell_type": "markdown",
   "metadata": {},
   "source": [
    "Vzhledem k tomu, že vyvolanou výjimku v kódu nikde nezachytáváme, dojde k vypsání informací o vzniklé chybě a následně k předčasnému ukončení programu. Součástí chybové zprávy budou i informace o vzniklé chybě získané z chybového objektu. \n",
    "\n",
    "<div style=\"border-left: 5px solid green; padding-left: 1em\">\n",
    "<p><strong>Poznámka:</strong>\n",
    "V této ukázce používáme třídu <em>Exception</em>, která je předkem všech standardních výjimek jazyka Python. Poznamenejme, že jednou z odvozených tříd je i výjimka <em>ZeroDivisionError</em>, která by pro tento příklad byla vhodnější. Přehled nejčastějších standardních výjimek bude uveden později.\n",
    "<p>\n",
    "</div>"
   ]
  },
  {
   "cell_type": "markdown",
   "metadata": {},
   "source": [
    "## Výjimka typu `AssertionError`\n",
    "\n",
    "Při ladění a testování zdrojového kódu můžeme v jazyce Python použít klíčové slovo `assert`, které slouží k ověřování platnosti podmínek:"
   ]
  },
  {
   "cell_type": "code",
   "execution_count": 3,
   "metadata": {},
   "outputs": [
    {
     "name": "stdout",
     "output_type": "stream",
     "text": [
      "120\n"
     ]
    }
   ],
   "source": [
    "def faktorial(n):\n",
    "    assert n >= 0, \"Nelze počítat faktorial ze záporného čísla\"\n",
    "    f = 1\n",
    "    for x in range(2, n + 1):\n",
    "        f = f * x\n",
    "    return f\n",
    "\n",
    "print(faktorial(5))"
   ]
  },
  {
   "cell_type": "markdown",
   "metadata": {},
   "source": [
    "V případě, že je uvedená podmínka splněna, volání `assert` nic nezpůsobí. Naopak, pokud podmínka splněna nebude, vyvolá se standardní výjimka typu `AssertionError` a program se ukončí."
   ]
  },
  {
   "cell_type": "code",
   "execution_count": 5,
   "metadata": {},
   "outputs": [
    {
     "ename": "AssertionError",
     "evalue": "Nelze počítat faktorial ze záporného čísla",
     "output_type": "error",
     "traceback": [
      "\u001b[1;31m---------------------------------------------------------------------------\u001b[0m",
      "\u001b[1;31mAssertionError\u001b[0m                            Traceback (most recent call last)",
      "Cell \u001b[1;32mIn[5], line 1\u001b[0m\n\u001b[1;32m----> 1\u001b[0m \u001b[38;5;28mprint\u001b[39m(\u001b[43mfaktorial\u001b[49m\u001b[43m(\u001b[49m\u001b[38;5;241;43m-\u001b[39;49m\u001b[38;5;241;43m1\u001b[39;49m\u001b[43m)\u001b[49m)\n",
      "Cell \u001b[1;32mIn[4], line 2\u001b[0m, in \u001b[0;36mfaktorial\u001b[1;34m(n)\u001b[0m\n\u001b[0;32m      1\u001b[0m \u001b[38;5;28;01mdef\u001b[39;00m \u001b[38;5;21mfaktorial\u001b[39m(n):\n\u001b[1;32m----> 2\u001b[0m     \u001b[38;5;28;01massert\u001b[39;00m n \u001b[38;5;241m>\u001b[39m\u001b[38;5;241m=\u001b[39m \u001b[38;5;241m0\u001b[39m, \u001b[38;5;124m\"\u001b[39m\u001b[38;5;124mNelze počítat faktorial ze záporného čísla\u001b[39m\u001b[38;5;124m\"\u001b[39m\n\u001b[0;32m      3\u001b[0m     f \u001b[38;5;241m=\u001b[39m \u001b[38;5;241m1\u001b[39m\n\u001b[0;32m      4\u001b[0m     \u001b[38;5;28;01mfor\u001b[39;00m x \u001b[38;5;129;01min\u001b[39;00m \u001b[38;5;28mrange\u001b[39m(\u001b[38;5;241m2\u001b[39m, n \u001b[38;5;241m+\u001b[39m \u001b[38;5;241m1\u001b[39m):\n",
      "\u001b[1;31mAssertionError\u001b[0m: Nelze počítat faktorial ze záporného čísla"
     ]
    }
   ],
   "source": [
    "print(faktorial(-1))"
   ]
  },
  {
   "cell_type": "markdown",
   "metadata": {},
   "source": [
    "Použití klíčového slova `assert` nám tedy umožní program odladit tak, aby byly všechny požadované podmínky splněny.\n",
    "\n",
    "<div style=\"border-left: 5px solid green; padding-left: 1em\">\n",
    "<p><strong>Poznámka:</strong>\n",
    "Dodejme, že klíčové slovo <code>assert</code> byste již měli znát z domácích úkolů, kde se používá ve veřejných i skrytých testech.\n",
    "<p>\n",
    "</div>\n",
    "\n",
    "Nyní se podíváme na způsob, jakým se výjimky zachytávají a ošetřují."
   ]
  },
  {
   "cell_type": "markdown",
   "metadata": {},
   "source": [
    "## Ošetřování výjimek\n",
    "\n",
    "K zachycení a ošetření výjimek v jazyce Python nám slouží _pokusný blok_ uvozený klíčovým slovem `try` doplněný o jeden nebo více bloků `except`. V případě, že některý příkaz v _pokusném bloku_ vyvolá výjimku, přeruší se vykonávání tohoto bloku a řízení se přesune do bloku `except`.  Bloku `except` se také říká __handler__, a má na starost ošetření výjimek vzniklých v předchozím _pokusném bloku_. Pokud v pokusném bloku žádný příkaz výjimku nevyvolá, blok `except` se vynechá.\n"
   ]
  },
  {
   "cell_type": "code",
   "execution_count": 6,
   "metadata": {},
   "outputs": [
    {
     "name": "stdout",
     "output_type": "stream",
     "text": [
      "Toto je první příkaz za handlerem\n"
     ]
    }
   ],
   "source": [
    "try:\n",
    "    print(faktorial(5))\n",
    "    print(faktorial(-5))\n",
    "    print(faktorial(20))\n",
    "except:\n",
    "    pass\n",
    "\n",
    "print(\"Toto je první příkaz za handlerem\")"
   ]
  },
  {
   "cell_type": "markdown",
   "metadata": {},
   "source": [
    "Při výpočtu faktoriálu hodnoty `-5` nebyla ve funkci `faktorial` splněna podmínka kladnosti parametru, což způsobilo vyvolání standardní výjimky (typu `AssertionError`) a dále předčasné ukončení fukce `faktorial` a také zbytku pokusného bloku. Řízení pak pokračovalo v bloku `except`, který by měl zachycenou výjimku ošetřit.\n",
    "\n",
    "<div style=\"border-left: 5px solid green; padding-left: 1em\">\n",
    "<p><strong>Poznámka:</strong>\n",
    "V bloku <code>except</code> jsme použili prázdný příkaz <code>pass</code>, který nic nedělá, ale je možné ho z hlediska syntaxe použít na jakémkoliv místě, kde je očekáván nějaký příkaz (např. tělo funkce, tělo cyklů a podmínek). Používá se při psaní programu na vyplnění ještě neimplementovaných pasáží zdrojového kódu.\n",
    "</div>\n",
    "\n",
    "Upravme předchozí ukázku tak, aby handler vykonal nějakou činnost. K tomu, abychom zjistili informaci o chybě, musíme zachytit vyvolanou výjimku (v našem případě typu `AssertionError`):"
   ]
  },
  {
   "cell_type": "code",
   "execution_count": 20,
   "metadata": {},
   "outputs": [
    {
     "name": "stdout",
     "output_type": "stream",
     "text": [
      "120\n",
      "Zachytil jsem výjimku typu AssertionError. Došlo k následující chybě:\n",
      "Nelze počítat faktorial ze záporného čísla\n",
      "Toto je první příkaz za handlerem\n"
     ]
    }
   ],
   "source": [
    "try:\n",
    "    print(faktorial(5))\n",
    "    print(faktorial(-5))\n",
    "    print(faktorial(20))\n",
    "except AssertionError as error:\n",
    "    print(\"Zachytil jsem výjimku typu AssertionError. Došlo k následující chybě:\")\n",
    "    print(error)\n",
    "\n",
    "print(\"Toto je první příkaz za handlerem\")"
   ]
  },
  {
   "cell_type": "markdown",
   "metadata": {},
   "source": [
    "Všimněte si, že v tomto případě je za klíčovým slovem `except` uveden typ výjimky, kterou daný handler obslouží. Za klíčovým slovem `as` se píše název, pod kterým budeme se zachycenou výjimkou pracovat. Můžeme ji třeba předat funkci `print`, která vypíše textový popis chyby.\n",
    "\n",
    "Za blokem `try` může být handlerů více, každý z nich pak obslouží jiný typ výjimky:"
   ]
  },
  {
   "cell_type": "code",
   "execution_count": 21,
   "metadata": {},
   "outputs": [
    {
     "name": "stdout",
     "output_type": "stream",
     "text": [
      "120\n",
      "Zachytil jsem výjimku typu TypeError. Došlo k následující chybě:\n",
      "'>=' not supported between instances of 'str' and 'int'\n",
      "Toto je první příkaz za handlerem\n"
     ]
    }
   ],
   "source": [
    "try:\n",
    "    print(faktorial(5))\n",
    "    print(faktorial(\"10\"))\n",
    "    print(faktorial(20))\n",
    "except AssertionError as error:\n",
    "    print(\"Zachytil jsem výjimku typu AssertionError. Došlo k následující chybě:\")\n",
    "    print(error)\n",
    "except TypeError as type_error:\n",
    "    print(\"Zachytil jsem výjimku typu TypeError. Došlo k následující chybě:\")\n",
    "    print(type_error)\n",
    "    \n",
    "print(\"Toto je první příkaz za handlerem\")"
   ]
  },
  {
   "cell_type": "markdown",
   "metadata": {},
   "source": [
    "V tomto případě tedy první handler obsluhuje výjimky typu `AssertionError` a druhý pak `TypeError`. Při práci s výjimkami je potřeba doplnit handler pro každý typ výjimky, který v pokusném bloku může vzniknout. \n",
    "\n",
    "\n",
    "Univerzální handler umí obsloužit všechny typy výjimek odvozené od třídy `Exception`. Je uvozen pomocí `except:` nebo `except Exception ... :` "
   ]
  },
  {
   "cell_type": "code",
   "execution_count": 25,
   "metadata": {},
   "outputs": [
    {
     "name": "stdout",
     "output_type": "stream",
     "text": [
      "120\n",
      "Zachytil jsem výjimku typu TypeError. Došlo k následující chybě:\n",
      "'>=' not supported between instances of 'str' and 'int'\n",
      "Toto je první příkaz za handlerem\n"
     ]
    }
   ],
   "source": [
    "try:\n",
    "    print(faktorial(5))\n",
    "    print(faktorial(\"10\"))\n",
    "    print(faktorial(20))\n",
    "except AssertionError as error:\n",
    "    print(\"Zachytil jsem výjimku typu AssertionError. Došlo k následující chybě:\")\n",
    "    print(error)\n",
    "except TypeError as type_error:\n",
    "    print(\"Zachytil jsem výjimku typu TypeError. Došlo k následující chybě:\")\n",
    "    print(type_error)\n",
    "except Exception as error:\n",
    "    print(\"Zachytil jsem nějakou nečekanou chybu:\")\n",
    "    print(error)\n",
    "    \n",
    "print(\"Toto je první příkaz za handlerem\")"
   ]
  },
  {
   "cell_type": "markdown",
   "metadata": {},
   "source": [
    "<div style=\"border-left: 5px solid red; padding-left: 1em\">\n",
    "<p><strong>Varování:</strong>\n",
    "Použití univerzálního handleru je jeden z nejnebezpečnějších zlozvyků (<em>antipattern</em>). Kód\n",
    "<pre>\n",
    "try:\n",
    "    něco_udělej()\n",
    "except:\n",
    "    pass\n",
    "</pre>\n",
    "sice zachytí všechny výjimky a tím zabrání okamžitému pádu programu, ale na druhou stranu  <strong>všechny chyby, i ty neočekávané, v tichosti zamaskuje</strong>! Tímto způsobem pak často projdou chyby nepozorovaně do produkční verze programu.\n",
    "</p>\n",
    "</div>"
   ]
  },
  {
   "cell_type": "markdown",
   "metadata": {},
   "source": [
    "<div style=\"border-left: 5px solid green; padding-left: 1em\">\n",
    "<p><strong>Poznámka:</strong>\n",
    "V jazyce Python se používá styl psaní kódu označovaný zkratkou <strong>EAFP</strong> - <em>easier to ask for forgiveness than permission</em> neboli <em>raději prosit o odpuštění než o povolení</em>. To znamená, že se při práci se slovníky a objekty předpokládá existence klíčů a atributů a v případě jejich neexistence se zachytí výjimka. Součástí kódu tak bude řada pokusných bloků doplněných o příslušné handlery.\n",
    "</p>\n",
    "\n",
    "<p>\n",
    "Na druhou stranu v jiných programovacích jazycích, jako třeba <em>C</em>, dáváme přednost principu <strong>LBYL</strong> - <em>look before you leap</em> neboli <em>rozhlédni se před tím, než skočíš</em>. V tomto případě existenci klíčů a atributů ověřuje před tím, než k nim přistoupíme. Součástí kódu tak bude řada podmínek. Tento přístup může působit problémy ve vícevláknovém programování. Například, následující ukázka:\n",
    "<pre>\n",
    "if key in dictionary:\n",
    "    return dictionary[key]\n",
    "</pre>\n",
    "selže, pokud jiné vlákno odstraní klíč ze slovníku po testu, ale před přístupem k hodnotě. Řešením je použít <em>zamykání</em> nebo EAFP přístup.\n",
    "</p>\n",
    "</div>"
   ]
  },
  {
   "cell_type": "markdown",
   "metadata": {},
   "source": [
    "V následující tabulce jsou vypsány časté výjimky, se kterými se můžete při programování potkat:\n",
    "\n",
    "Výjimka                             | Krátký popis\n",
    "------------------------------------|-----------------------------\n",
    "`ValueError`                        | vzniká při pokusu předat do funkce neplatnou hodnotu argumentu\n",
    "`TypeError`                         | vzniká při pokusu o provedení operace s objektem nevhodného typu (např. operátor dělení pro typ `str`)\n",
    "`NameError`                         | vzniká při pokusu o přístup k funkci nebo proměnné, jejichž jméno není nalezeno v aktuální oblasti viditelnosti\n",
    "`IndentationError`                  | vzniká v případě chybně odsazeného kódu\n",
    "`RecursionError`                    | vzniká v případě překročení maximální hloubky rekurze\n",
    "`ZeroDivisionError`                 | vzniká při pokusu o dělení nulou\n",
    "`AssertionError`                    | vzniká, pokud není splněna podmínka v příkazu `assert`\n",
    "`IndexError`                        | vzniká při indexování posloupností, pokud je index mimo meze\n",
    "`KeyError`                          | vzniká, pokud přistupujeme k neexistujícímu klíči slovníku\n",
    "`StopIteration`                     | vzniká, pokud se pokusíme použít iterátor, který už je na konci\n",
    "`IOError`                           | vzniká v případě chyby při vstupně-výstupních operacích (práce se soubory)\n",
    "`ImportError`                       | vzniká, pokud příkaz `import` nenalezne požadovaný modul"
   ]
  },
  {
   "cell_type": "markdown",
   "metadata": {},
   "source": [
    "Podrobnější popis a kompletní tabulku standardních výjimek je možné nalézt v [referenční dokumentaci jazyka Python](https://docs.python.org/3/library/exceptions.html)."
   ]
  },
  {
   "cell_type": "markdown",
   "metadata": {},
   "source": [
    "V jednom handleru můžeme zachytit i více typů výjimek, pokud je zapíšeme jako n-tici. V ukázce je použití funkce `type(var)`, která vrací objekt obsahující informaci o typu proměnné `var`. Jeho atribut `__name__` pak obsahuje název typu."
   ]
  },
  {
   "cell_type": "code",
   "execution_count": 4,
   "metadata": {},
   "outputs": [
    {
     "name": "stdout",
     "output_type": "stream",
     "text": [
      "Zachytil jsem výjimku typu AssertionError. Došlo k následující chybě:\n",
      "Nelze počítat faktorial ze záporného čísla\n",
      "Toto je první příkaz za handlerem\n"
     ]
    }
   ],
   "source": [
    "typeE = None\n",
    "try:\n",
    "    print(faktorial(-5))\n",
    "    print(faktorial(\"10\"))\n",
    "    print(faktorial(20))\n",
    "except (AssertionError, TypeError) as error:\n",
    "    error_name = type(error).__name__\n",
    "    print(f\"Zachytil jsem výjimku typu {error_name}. Došlo k následující chybě:\")\n",
    "    print(error)\n",
    "\n",
    "print(\"Toto je první příkaz za handlerem\")"
   ]
  },
  {
   "cell_type": "markdown",
   "metadata": {},
   "source": [
    "## Klauzule `else` a `finally`\n",
    "\n",
    "Za handlery může volitelně následovat blok `else:` s příkazy, které mají být vykonány v případě, že v pokusném bloku _nenastala_ chyba. Na úplný závěr může být blok `finally:`, který se vykoná vždy, bez ohledu na to, zda v pokusném bloku byla vyvolána výjimka, či nikoliv:"
   ]
  },
  {
   "cell_type": "code",
   "execution_count": 5,
   "metadata": {},
   "outputs": [
    {
     "name": "stdout",
     "output_type": "stream",
     "text": [
      "Pokusný blok proběhl bez chyb, výsledek je 120\n",
      "Tento blok se provede vždy\n"
     ]
    }
   ],
   "source": [
    "try:\n",
    "    f = faktorial(5)\n",
    "except (AssertionError, TypeError) as error:\n",
    "    error_name = type(error).__name__\n",
    "    raise ZeroDivisionError(\"Test\")\n",
    "    print(f\"Zachytil jsem výjimku typu {error_name}. Došlo k následující chybě:\")\n",
    "    print(error)\n",
    "else:\n",
    "    print(\"Pokusný blok proběhl bez chyb, výsledek je\", f)\n",
    "finally:\n",
    "    print(\"Tento blok se provede vždy\")"
   ]
  },
  {
   "cell_type": "markdown",
   "metadata": {},
   "source": [
    "<div style=\"border-left: 5px solid green; padding-left: 1em\">\n",
    "<p><strong>Poznánka:</strong>\n",
    "Při obsluze výjimky může v rámci handleru vzniknout další výjimka. Tuto sekundární výjimku ovšem neobslouží ostatní handlery na této úrovni, protože nejsou uvnitř pokusného bloku. Nicméně blok <em>finally</em> se provede i v tomto případě. \n",
    "V následující ukázce si všimněte hlášení <em>During handling of the above exception, another exception occurred</em> (při obsluze předchozí výjimky nastala další výjimka) a dále výpisu z <em>finally</em> bloku:\n",
    "</p>\n",
    "</div>"
   ]
  },
  {
   "cell_type": "code",
   "execution_count": 6,
   "metadata": {},
   "outputs": [
    {
     "name": "stdout",
     "output_type": "stream",
     "text": [
      "Tento blok se provede vždy\n"
     ]
    },
    {
     "ename": "ZeroDivisionError",
     "evalue": "Test",
     "output_type": "error",
     "traceback": [
      "\u001b[1;31m---------------------------------------------------------------------------\u001b[0m",
      "\u001b[1;31mTypeError\u001b[0m                                 Traceback (most recent call last)",
      "Cell \u001b[1;32mIn[6], line 2\u001b[0m\n\u001b[0;32m      1\u001b[0m \u001b[38;5;28;01mtry\u001b[39;00m:\n\u001b[1;32m----> 2\u001b[0m     f \u001b[38;5;241m=\u001b[39m \u001b[43mfaktorial\u001b[49m\u001b[43m(\u001b[49m\u001b[38;5;124;43m\"\u001b[39;49m\u001b[38;5;124;43m5\u001b[39;49m\u001b[38;5;124;43m\"\u001b[39;49m\u001b[43m)\u001b[49m\n\u001b[0;32m      3\u001b[0m \u001b[38;5;28;01mexcept\u001b[39;00m (\u001b[38;5;167;01mAssertionError\u001b[39;00m, \u001b[38;5;167;01mTypeError\u001b[39;00m) \u001b[38;5;28;01mas\u001b[39;00m error:\n",
      "Cell \u001b[1;32mIn[3], line 2\u001b[0m, in \u001b[0;36mfaktorial\u001b[1;34m(n)\u001b[0m\n\u001b[0;32m      1\u001b[0m \u001b[38;5;28;01mdef\u001b[39;00m \u001b[38;5;21mfaktorial\u001b[39m(n):\n\u001b[1;32m----> 2\u001b[0m     \u001b[38;5;28;01massert\u001b[39;00m \u001b[43mn\u001b[49m\u001b[43m \u001b[49m\u001b[38;5;241;43m>\u001b[39;49m\u001b[38;5;241;43m=\u001b[39;49m\u001b[43m \u001b[49m\u001b[38;5;241;43m0\u001b[39;49m, \u001b[38;5;124m\"\u001b[39m\u001b[38;5;124mNelze počítat faktorial ze záporného čísla\u001b[39m\u001b[38;5;124m\"\u001b[39m\n\u001b[0;32m      3\u001b[0m     f \u001b[38;5;241m=\u001b[39m \u001b[38;5;241m1\u001b[39m\n",
      "\u001b[1;31mTypeError\u001b[0m: '>=' not supported between instances of 'str' and 'int'",
      "\nDuring handling of the above exception, another exception occurred:\n",
      "\u001b[1;31mZeroDivisionError\u001b[0m                         Traceback (most recent call last)",
      "Cell \u001b[1;32mIn[6], line 5\u001b[0m\n\u001b[0;32m      3\u001b[0m \u001b[38;5;28;01mexcept\u001b[39;00m (\u001b[38;5;167;01mAssertionError\u001b[39;00m, \u001b[38;5;167;01mTypeError\u001b[39;00m) \u001b[38;5;28;01mas\u001b[39;00m error:\n\u001b[0;32m      4\u001b[0m     error_name \u001b[38;5;241m=\u001b[39m \u001b[38;5;28mtype\u001b[39m(error)\u001b[38;5;241m.\u001b[39m\u001b[38;5;18m__name__\u001b[39m\n\u001b[1;32m----> 5\u001b[0m     \u001b[38;5;28;01mraise\u001b[39;00m \u001b[38;5;167;01mZeroDivisionError\u001b[39;00m(\u001b[38;5;124m\"\u001b[39m\u001b[38;5;124mTest\u001b[39m\u001b[38;5;124m\"\u001b[39m)\n\u001b[0;32m      6\u001b[0m     \u001b[38;5;28mprint\u001b[39m(\u001b[38;5;124mf\u001b[39m\u001b[38;5;124m\"\u001b[39m\u001b[38;5;124mZachytil jsem výjimku typu \u001b[39m\u001b[38;5;132;01m{\u001b[39;00merror_name\u001b[38;5;132;01m}\u001b[39;00m\u001b[38;5;124m. Došlo k následující chybě:\u001b[39m\u001b[38;5;124m\"\u001b[39m)\n\u001b[0;32m      7\u001b[0m     \u001b[38;5;28mprint\u001b[39m(error)\n",
      "\u001b[1;31mZeroDivisionError\u001b[0m: Test"
     ]
    }
   ],
   "source": [
    "try:\n",
    "    f = faktorial(\"5\")\n",
    "except (AssertionError, TypeError) as error:\n",
    "    error_name = type(error).__name__\n",
    "    raise ZeroDivisionError(\"Test\")\n",
    "    print(f\"Zachytil jsem výjimku typu {error_name}. Došlo k následující chybě:\")\n",
    "    print(error)\n",
    "else:\n",
    "    print(\"Pokusný blok proběhl bez chyb, výsledek je\", f)\n",
    "finally:\n",
    "    print(\"Tento blok se provede vždy\")"
   ]
  },
  {
   "cell_type": "markdown",
   "metadata": {},
   "source": [
    "## Vyvolání a šíření výjimky\n",
    "\n",
    "Nyní už byste měli vědět, jak výjimku zachytit a ošetřit, zbývá ukázat, jak výjimku __vyvolat__ a jakým způsobem se v programu __šíří__. K vyvolání výjimky slouží příkaz `raise` doplněný o typ výjimky, která se má vyvolat. Typem výjimky se rozumí konkrétní objekt - třída odvozená od předka `Exception`. \n",
    "\n",
    "V následující ukázce funkce `fukce_volana()` vyvolá výjimku typu `ValueError`, což způsobí začátek _šíření výjimky_. Během něho se hledá handler odpovídajícího typu, který by výjimku zvládl ošetřit. Pokud se handler nenajde ve volané funkci, dojde k jejímu předčasnému ukončení a handler se dále hledá ve volající funkci. V našem případě se výjimka po jednotlivých patrech stromu volání rozšířila až na globální úroveň, na které se konečně našel příslušný handler. Pokud by se nenašel ani na globální úrovni, program by se ukončil (neošetřená výjimka). Všimněte si, že v tomto handleru voláme znovu příkaz `raise` - tím umožníme další šíření výjimky."
   ]
  },
  {
   "cell_type": "code",
   "execution_count": 16,
   "metadata": {},
   "outputs": [
    {
     "name": "stdout",
     "output_type": "stream",
     "text": [
      "Ahoj, já jsem výjimka typu ValueError\n"
     ]
    },
    {
     "ename": "ValueError",
     "evalue": "Ahoj, já jsem výjimka typu ValueError",
     "output_type": "error",
     "traceback": [
      "\u001b[1;31m---------------------------------------------------------------------------\u001b[0m",
      "\u001b[1;31mValueError\u001b[0m                                Traceback (most recent call last)",
      "Cell \u001b[1;32mIn[16], line 8\u001b[0m\n\u001b[0;32m      5\u001b[0m     funkce_volana()\n\u001b[0;32m      7\u001b[0m \u001b[38;5;28;01mtry\u001b[39;00m:\n\u001b[1;32m----> 8\u001b[0m     \u001b[43mfunkce_volajici\u001b[49m\u001b[43m(\u001b[49m\u001b[43m)\u001b[49m\n\u001b[0;32m      9\u001b[0m \u001b[38;5;28;01mexcept\u001b[39;00m \u001b[38;5;167;01mValueError\u001b[39;00m \u001b[38;5;28;01mas\u001b[39;00m error:\n\u001b[0;32m     10\u001b[0m     \u001b[38;5;28mprint\u001b[39m(error)\n",
      "Cell \u001b[1;32mIn[16], line 5\u001b[0m, in \u001b[0;36mfunkce_volajici\u001b[1;34m()\u001b[0m\n\u001b[0;32m      4\u001b[0m \u001b[38;5;28;01mdef\u001b[39;00m \u001b[38;5;21mfunkce_volajici\u001b[39m():\n\u001b[1;32m----> 5\u001b[0m     \u001b[43mfunkce_volana\u001b[49m\u001b[43m(\u001b[49m\u001b[43m)\u001b[49m\n",
      "Cell \u001b[1;32mIn[16], line 2\u001b[0m, in \u001b[0;36mfunkce_volana\u001b[1;34m()\u001b[0m\n\u001b[0;32m      1\u001b[0m \u001b[38;5;28;01mdef\u001b[39;00m \u001b[38;5;21mfunkce_volana\u001b[39m():\n\u001b[1;32m----> 2\u001b[0m     \u001b[38;5;28;01mraise\u001b[39;00m \u001b[38;5;167;01mValueError\u001b[39;00m(\u001b[38;5;124m\"\u001b[39m\u001b[38;5;124mAhoj, já jsem výjimka typu ValueError\u001b[39m\u001b[38;5;124m\"\u001b[39m)\n",
      "\u001b[1;31mValueError\u001b[0m: Ahoj, já jsem výjimka typu ValueError"
     ]
    }
   ],
   "source": [
    "def funkce_volana():\n",
    "    raise ValueError(\"Ahoj, já jsem výjimka typu ValueError\")\n",
    "\n",
    "def funkce_volajici():\n",
    "    funkce_volana()\n",
    "    \n",
    "try:\n",
    "    funkce_volajici()\n",
    "except ValueError as error:\n",
    "    print(error)\n",
    "    raise"
   ]
  },
  {
   "cell_type": "markdown",
   "metadata": {},
   "source": [
    "Program nakonec opravdu zhavaruje, protože druhé vyvolání výjimky už není nikde zachyceno. Všimněte si, že v chybovém výpisu je zobrazen graf volání (anglicky _traceback_ nebo taky _stack trace_)"
   ]
  },
  {
   "cell_type": "markdown",
   "metadata": {},
   "source": [
    "## Výhody a nevýhody práce s výjimkami\n",
    "\n",
    "Použití výjimek v programu přináší řadu výhod:\n",
    "\n",
    "- __vyšší spolehlivost__: použití výjimek umožní detekovat nečekané chyby\n",
    "- __čistější kód a jednodušší obsluha chyb__: použití výjimek umožní oddělit kód pro ošetřování chyb od výpočetní logiky\n",
    "- __snadnější ladění__: výpis informací, které výjimka nese usnadní identifikaci problému a výpis grafu volání umožní i vystopovat, kde k chybě došlo\n",
    "\n",
    "Nicméně, s výjimkami jsou spjaty i některé nevýhody:\n",
    "\n",
    "- __dopad na výkon__: s obsluhou výjimek jsem spojena režie, která snižuje výkon programu\n",
    "- __zvýšení složitosti kódu__: zvláště pokud pracujeme s mnoha typy výjimek, může dojít ke zvýšení složitosti zdrojových souborů související s přidanou logikou pro obsluh chyb\n",
    "- __potenciální zvýšení zranitelnosti__: špatně obsloužená výjimka může zveřejnit citlivé informace a vytvořit bezpečnostní zranitelnost\n",
    "\n",
    "I přes tyto nedostatky zůstávají výjimky základním nástrojem pro řešení běhových chyb v jazyce Python."
   ]
  },
  {
   "cell_type": "markdown",
   "metadata": {},
   "source": [
    "# Příklady"
   ]
  },
  {
   "cell_type": "markdown",
   "metadata": {},
   "source": [
    "#### 1. Základy práce s výjimkami\n",
    "\n",
    "Zkuste si pro každý z následujících typů chyb napsat chybný kód, který ji vyvolá.\n",
    "\n",
    "Výjimka                             | Krátký popis\n",
    "------------------------------------|-----------------------------\n",
    "`ZeroDivisionError`                 | vzniká při pokusu o dělení nulou\n",
    "`IndexError`                        | vzniká při indexování posloupností, pokud je index mimo meze\n",
    "`KeyError`                          | vzniká u slovníku, pokud přistupujeme k neexistujícímu klíči\n",
    "`StopIteration`                     | vzniká, pokud se pokusíme použít iterátor, který už je na koci\n",
    "`NameError`                         | vzniká při pokusu o přístup k funkci nebo proměnné, jejichž jméno není nalezeno v aktuální oblasti viditelnosti\n",
    "`ValueError`                        | vzniká při pokus předat do funkce neplatnou hodnotu argumentu\n",
    "`TypeError`                         | vzniká, když operátor nebo funkci aplikujeme na objekt nesprávného typu "
   ]
  },
  {
   "cell_type": "code",
   "execution_count": null,
   "metadata": {},
   "outputs": [],
   "source": [
    "# ZeroDivisionError:\n"
   ]
  },
  {
   "cell_type": "code",
   "execution_count": 14,
   "metadata": {},
   "outputs": [],
   "source": [
    "# IndexError:\n"
   ]
  },
  {
   "cell_type": "code",
   "execution_count": null,
   "metadata": {},
   "outputs": [],
   "source": [
    "# KeyError:\n"
   ]
  },
  {
   "cell_type": "code",
   "execution_count": null,
   "metadata": {},
   "outputs": [],
   "source": [
    "# StopIteration:\n"
   ]
  },
  {
   "cell_type": "code",
   "execution_count": null,
   "metadata": {},
   "outputs": [],
   "source": [
    "# NameError:\n"
   ]
  },
  {
   "cell_type": "code",
   "execution_count": 16,
   "metadata": {},
   "outputs": [],
   "source": [
    "# ValueError:\n"
   ]
  },
  {
   "cell_type": "code",
   "execution_count": 17,
   "metadata": {},
   "outputs": [],
   "source": [
    "# TypeError:\n"
   ]
  },
  {
   "cell_type": "markdown",
   "metadata": {},
   "source": [
    "Jednu z chyb vložte do pokusného bloku a odchytněte ji pomocí vhodného (dostatečně konkrétního) handleru. Vypiště textový popis chyby."
   ]
  },
  {
   "cell_type": "code",
   "execution_count": null,
   "metadata": {},
   "outputs": [],
   "source": [
    "try:\n",
    "    ..."
   ]
  },
  {
   "cell_type": "markdown",
   "metadata": {},
   "source": [
    "#### 2. Dělitelnost\n",
    "\n",
    "Napište funkci `je_dělitelné(n, d)`, která vrací `True` nebo `False` podle toho, jestli je zadané přirozené číslo `n` dělitelné číslem přirozeným číslem `d` nebo ne. Pokud `n` nebo `d` není typu `int` nebo se nejedná o kladné číslo, funkce vyvolá vhodný typ výjimky (`TypeError` nebo `ValueError`) s vhodným textovým popisem chyby. "
   ]
  },
  {
   "cell_type": "code",
   "execution_count": null,
   "metadata": {},
   "outputs": [],
   "source": [
    "def je_dělitelné(n, d):\n",
    "    ...\n",
    "\n",
    "print(je_dělitelné(10, 2))\n",
    "print(je_dělitelné(10, 3.5))"
   ]
  },
  {
   "cell_type": "code",
   "execution_count": null,
   "metadata": {},
   "outputs": [],
   "source": [
    "# takto by mohla vypadat testovací (logovací) funkce, která výjimky odchytne:\n",
    "def test_and_print(n, d):\n",
    "    try:\n",
    "        result = je_dělitelné(n, d)\n",
    "    except (ValueError, TypeError) as e:\n",
    "        print(f\"{n} {d}: Program nalezl chybu: {e}\")\n",
    "    else:\n",
    "        print(f\"{n} {d}: {result}\")\n",
    "\n",
    "# chybné argumenty:\n",
    "test_and_print(1, 3.5)\n",
    "test_and_print('8', 4)\n",
    "test_and_print(0, 5)\n",
    "test_and_print(5, 0)\n",
    "\n",
    "# argumenty jsou v pořádku:\n",
    "test_and_print(10, 2)\n",
    "test_and_print(10, 3)\n",
    "test_and_print(10, 5)"
   ]
  },
  {
   "cell_type": "markdown",
   "metadata": {},
   "source": [
    "#### 3. Indexy\n",
    "\n",
    "Napište funkci `find_letter_indexes(string, letter)`, která vrátí seznam všech indexů, kde se v řetězci `string` vyskytuje znak `char` pomocí generátorové notace a funkce `enumerate`. Rozšiřte řešení této úlohy o kontrolu argumentů funkce: `string` by měl být neprázdný string a `letter` by měl být buď string délky jedna nebo se může jednat o číselný kód znaku (typ `int`). Pokud argumenty nejsou správných typů, funkce by měla vyvolat vhodný typ výjimky (`TypeError` nebo `ValueError`) s vhodným textovým popisem chyby. Pokud `string` znak `letter` neobsahuje, nechte funkci také vyvolat vhodnou výjimku (`ValueError`). "
   ]
  },
  {
   "cell_type": "code",
   "execution_count": 57,
   "metadata": {},
   "outputs": [],
   "source": [
    "def find_letter_indexes(string, letter):\n",
    "    ...\n",
    "\n",
    "assert find_letter_indexes(\"hello world\", \"o\") == [4, 7]\n",
    "assert find_letter_indexes(\"hello world\", 108) == [2, 3, 9]"
   ]
  },
  {
   "cell_type": "markdown",
   "metadata": {},
   "source": [
    "Vložte volání funkce do pokusného bloku (můžete se inspirovat testovací funkcí u předchozího příkladu) a otestujte funkci na vhodných příkladech:"
   ]
  },
  {
   "cell_type": "code",
   "execution_count": 60,
   "metadata": {},
   "outputs": [
    {
     "data": {
      "text/plain": [
       "Ellipsis"
      ]
     },
     "execution_count": 60,
     "metadata": {},
     "output_type": "execute_result"
    }
   ],
   "source": [
    "s = \"hello world\"\n",
    "l = \"ll\"\n",
    "# result = find_letter_indexes(s, l)\n",
    "\n",
    "try:\n",
    "    ...\n",
    "except:\n",
    "    ...\n",
    "\n",
    "..."
   ]
  },
  {
   "cell_type": "markdown",
   "metadata": {},
   "source": [
    "#### 4. Známky\n",
    "\n",
    "Seznam studentů je reprezentovaný jako seznam slovníků, kde pro každého studenta je jeho jméno a seznam získaných známek. Příklad správně definovaného seznamu:"
   ]
  },
  {
   "cell_type": "code",
   "execution_count": 65,
   "metadata": {},
   "outputs": [],
   "source": [
    "grades = [\n",
    "    {'name': 'Adam', 'grades': [1, 2, 3, 1, 2]},\n",
    "    {'name': 'Martin', 'grades': [1, 2, 2]},\n",
    "    {'name': 'Filip', 'grades':  [1, 3]},\n",
    "    {'name': 'David', 'grades':  [1, 2, 2, 3]},\n",
    "    {'name': 'Jakub', 'grades':  [1, 2, 2, 1, 1]},\n",
    "]"
   ]
  },
  {
   "cell_type": "markdown",
   "metadata": {},
   "source": [
    "1. Napište funkci `check_format(grades)`, která pomocí `assert`-ů otestuje, zda proměnná `grades` má správný formát:\n",
    " \n",
    "    - grades je typu seznam (`list`)\n",
    "    - prvky tohoto seznamu jsou pouze slovníky (`dict`)\n",
    "    - každý slovník obsahuje právě klíče `name` a `grades`\n",
    "    - datový typ hodnoty `name` je `str` a datový typ `grades` je `list`\n",
    "    - seznam se známkami obsahuje pouze čísla od `1` do `5`\n",
    "    - žádné jméno studenta se v seznamu neopakuje \n",
    "\n",
    "Doplňte `assert`-y o vhodné chybové hlášky. \n",
    "\n",
    "Zkuste pro funkci vymyslet vhodné testovací příklady.  \n"
   ]
  },
  {
   "cell_type": "code",
   "execution_count": null,
   "metadata": {},
   "outputs": [],
   "source": [
    "def check_format(grades):\n",
    "    ...\n",
    "\n",
    "check_format(grades)\n",
    "\n",
    "grades_with_error = (1, 2)\n",
    "\n",
    "try:\n",
    "    check_format(grades_with_error)\n",
    "except AssertionError as e:\n",
    "    print(\"Kontrola funguje:\")\n",
    "    print(e)\n",
    "else:\n",
    "    assert False, \"Kontrola nefunguje.\""
   ]
  },
  {
   "cell_type": "markdown",
   "metadata": {},
   "source": [
    "2. Napište funkci, která vrátí seznam jmen studentů, kteří nemají dostatek známek (alespoň `n`). Funkce pomocí funkce `check_format()` zkontroluje, zda  seznam `students` je správného formátu. Také zkontroluje, zda `n` je (nezáporné) celé číslo. Jinak vyvolá vhodný typ výjimky. "
   ]
  },
  {
   "cell_type": "code",
   "execution_count": null,
   "metadata": {},
   "outputs": [],
   "source": [
    "def students_with_not_enough_grades(students, n):\n",
    "    ...\n",
    "\n",
    "assert students_with_not_enough_grades(grades,4) == ['Martin', 'Filip']"
   ]
  },
  {
   "cell_type": "markdown",
   "metadata": {},
   "source": [
    "3. Napište funkci, která vrátí seznam, kde bude pro každé jméno studenta jeho průměr známek.  Seznam bude seřazený v pořadí od studenta s nejlepším průměrem známek po studenta s nejhorším průměrem. Pokud seznam `students` nemá správný formát, funkce nevyvolá výjimku, ale vypíše textový popis chyby a vrátí hodnotu `None`."
   ]
  },
  {
   "cell_type": "code",
   "execution_count": 68,
   "metadata": {},
   "outputs": [
    {
     "name": "stdout",
     "output_type": "stream",
     "text": [
      "None\n",
      "None\n"
     ]
    }
   ],
   "source": [
    "def sort_students_by_average_grade(students):\n",
    "    ...\n",
    "   \n",
    "print(sort_students_by_average_grade(grades))\n",
    "print(sort_students_by_average_grade(grades_with_error)) # None"
   ]
  },
  {
   "cell_type": "markdown",
   "metadata": {},
   "source": [
    "#### 5. Načti a sečti čísla\n",
    "\n",
    "Napište funkci, která postupně načítá čísla ze vstupu, dokud nepřijde něco jiného než číslo. Pak vrátí počet zadaných čísel a jejich součet. Zkuste úlohu řešit s využitím odchytávání výjimky nebo bez něho."
   ]
  },
  {
   "cell_type": "code",
   "execution_count": 1,
   "metadata": {},
   "outputs": [
    {
     "name": "stdout",
     "output_type": "stream",
     "text": [
      "Počet čísel je 0 a jejich součet je 0.\n"
     ]
    }
   ],
   "source": [
    "def sum_numbers():\n",
    "    ...\n",
    "\n",
    "c, s = sum_numbers()\n",
    "print(f\"Počet čísel je {c} a jejich součet je {s}.\")"
   ]
  }
 ],
 "metadata": {
  "kernelspec": {
   "display_name": "Python 3 (ipykernel)",
   "language": "python",
   "name": "python3"
  },
  "language_info": {
   "codemirror_mode": {
    "name": "ipython",
    "version": 3
   },
   "file_extension": ".py",
   "mimetype": "text/x-python",
   "name": "python",
   "nbconvert_exporter": "python",
   "pygments_lexer": "ipython3",
   "version": "3.11.2"
  }
 },
 "nbformat": 4,
 "nbformat_minor": 4
}
