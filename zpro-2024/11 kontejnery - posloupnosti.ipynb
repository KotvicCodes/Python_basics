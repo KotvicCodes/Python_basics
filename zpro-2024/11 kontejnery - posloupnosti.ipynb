{
 "cells": [
  {
   "cell_type": "markdown",
   "metadata": {},
   "source": [
    "# V minulém díle jste viděli..."
   ]
  },
  {
   "cell_type": "markdown",
   "metadata": {},
   "source": [
    "Rekurzivní funkce je taková funkce, která volá sama sebe, a to buď přímo (`f` → `f`) nebo nepřímo (`f` → `g` → `h` → `f`).\n",
    "Použití rekurze může v určitých případech zjednodušit řešení dané úlohy.\n",
    "\n",
    "Obecná struktura rekurzivní funkce se skládá z následujících částí:\n",
    "\n",
    "1. __základní případ__: nejjednodušší úloha, kterou lze vyřešit přímo bez použití rekurze\n",
    "2. __rekurzivní volání__: rozdělení velké úlohy na menší části a použití stejné funkce pro vyřešení těchto menších úloh\n",
    "3. __rekombinace__: spojení výsledků menších úloh pro vyřešení původní velké úlohy"
   ]
  },
  {
   "cell_type": "markdown",
   "metadata": {},
   "source": [
    "Rekurzivní funkce pro výpočet Fibonacciho čísel (je __velmi neefektivní__):"
   ]
  },
  {
   "cell_type": "code",
   "execution_count": 4,
   "metadata": {},
   "outputs": [
    {
     "name": "stdout",
     "output_type": "stream",
     "text": [
      "21\n"
     ]
    }
   ],
   "source": [
    "def fib(n):\n",
    "    if n == 0:\n",
    "        # ověření první počáteční podmínky\n",
    "        return 0\n",
    "    elif n == 1:\n",
    "        # ověření druhé počáteční podmínky\n",
    "        return 1\n",
    "    else:\n",
    "        # rekurzivní volání pro vyřešení menších úloh\n",
    "        # rekombinace a vrácení finálního výsledku\n",
    "        return fib(n - 2) + fib(n - 1)\n",
    "\n",
    "print(fib(8))"
   ]
  },
  {
   "cell_type": "markdown",
   "metadata": {},
   "source": [
    "Efektivnější implementaci s _lineární složitostí_ můžeme dostat pomocí iteračního přístupu:"
   ]
  },
  {
   "cell_type": "code",
   "execution_count": 18,
   "metadata": {},
   "outputs": [
    {
     "name": "stdout",
     "output_type": "stream",
     "text": [
      "21\n"
     ]
    }
   ],
   "source": [
    "def fib_iterative(n):\n",
    "    # nastavení počátečních hodnot\n",
    "    term1 = 0\n",
    "    term2 = 1\n",
    "\n",
    "    # iterační výpočet\n",
    "    while n > 0:\n",
    "        new = term1 + term2\n",
    "        term1 = term2\n",
    "        term2 = new\n",
    "        n -= 1\n",
    "\n",
    "    return term1\n",
    "\n",
    "print(fib_iterative(8))"
   ]
  },
  {
   "cell_type": "markdown",
   "metadata": {},
   "source": [
    "# Kontejnery"
   ]
  },
  {
   "cell_type": "markdown",
   "metadata": {},
   "source": [
    "__Kontejner__ je libovolný objekt, který představuje datovou strukturu obsahující libovolný počet jiných objektů.\n",
    "Kontejnery poskytují způsob uchování několika objektů a přístup k nim.\n",
    "\n",
    "Python obsahuje několik vestavěných kontejnerů, které jsou rozděleny do několika kategorií podle jejich vlastností:\n",
    "\n",
    "![](images/11/Python_3._The_standard_type_hierarchy-en.svg)\n",
    "\n",
    "Číselné typy a hodnotu `None` jsme viděli v minulých dílech.\n",
    "Poté v diagramu následují posloupnosti, zejména seznamy (`list`), n-tice (`tuple`) a stringy (`str`).\n",
    "V samostatných kategoriích jsou množinové typy (`set` a `frozenset`) a zobrazení neboli slovníky (`dict`).\n",
    "Pro úplnost jsou v diagramu kategorizace objektů i _volatelné objekty_ (sem patří např. funkce) a moduly."
   ]
  },
  {
   "cell_type": "markdown",
   "metadata": {},
   "source": [
    "## Zápis a vytváření základních kontejnerů\n",
    "\n",
    "Základní kontejnery mají následující význam:\n",
    "\n",
    "- __string__ neboli __textový řetězec__ je posloupnost znaků, v Pythonu reprezentovaná třídou `str`.\n",
    "  Stringy zapisujeme typicky mezi dvojici uvozovek (`\"string\"` nebo `'string'`).\n",
    "  Podrobnosti týkající se zápisu stringů si ukážeme na příštím cvičení.\n",
    "- __seznam__ je _modifikovatelná_ (_mutable_) posloupnost libovolných objektů, v Pythonu reprezentovaná třídou `list`.\n",
    "- __n-tice__ je _nemodifikovatelná_ (_immutable_) posloupnost libovolných objektů, v Pythonu reprezentovaná třídou `tuple`.\n",
    "- __množina__ (třída `set`) je datová struktura obsahující objekty, pro které není určené jejich vzájemné pořadí.\n",
    "- __slovník__ (třída `dict`) je datová struktura, která představuje zobrazení z množiny klíčů (_keys_) na libovolné hodnoty (_values_).\n",
    "\n",
    "Kromě slovníků můžeme ostatní kontejnery mezi sebou jednoduše převádět pomocí příslušných funkcí (`str`, `list`, `tuple`, `set`):"
   ]
  },
  {
   "cell_type": "code",
   "execution_count": 1,
   "metadata": {},
   "outputs": [
    {
     "name": "stdout",
     "output_type": "stream",
     "text": [
      "string: Hello, world!\n",
      "seznam: ['H', 'e', 'l', 'l', 'o', ',', ' ', 'w', 'o', 'r', 'l', 'd', '!']\n",
      "ntice: ('H', 'e', 'l', 'l', 'o', ',', ' ', 'w', 'o', 'r', 'l', 'd', '!')\n",
      "množina: {'w', 'H', 'd', 'o', '!', 'e', ',', 'l', 'r', ' '}\n"
     ]
    }
   ],
   "source": [
    "string = \"Hello, world!\"\n",
    "seznam = list(string)\n",
    "ntice = tuple(string)\n",
    "množina = set(string)\n",
    "\n",
    "print(\"string:\", string)\n",
    "print(\"seznam:\", seznam)\n",
    "print(\"ntice:\", ntice)\n",
    "print(\"množina:\", množina)"
   ]
  },
  {
   "cell_type": "markdown",
   "metadata": {},
   "source": [
    "Předchozí výstup nám napovídá, jakým způsobem lze zapsat určitý kontejner přímo v kódu.\n",
    "Objekty v ostatních kontejnerech nemusí být jen znaky a navíc všechny objekty v daném kontejneru nemusí mít stejný typ:"
   ]
  },
  {
   "cell_type": "code",
   "execution_count": 3,
   "metadata": {},
   "outputs": [
    {
     "name": "stdout",
     "output_type": "stream",
     "text": [
      "seznam: [0, 1, 'A', 'hello']\n",
      "ntice: (2, 'A', 1, 2)\n",
      "množina: {1, 2, 'A'}\n"
     ]
    }
   ],
   "source": [
    "a = 0\n",
    "b = \"A\"\n",
    "seznam = [a, 1, b, \"hello\"]\n",
    "a = 2  # změní se hodnota proměnné `a`, ale v seznamu zůstane původní hodnota\n",
    "ntice = (a, b, 1, 2)\n",
    "množina = {a, b, 1, 2}\n",
    "\n",
    "print(\"seznam:\", seznam)\n",
    "print(\"ntice:\", ntice)\n",
    "print(\"množina:\", množina)"
   ]
  },
  {
   "cell_type": "markdown",
   "metadata": {},
   "source": [
    "<div style=\"border-left: 5px solid #08c; padding-left: 1em\">\n",
    "<p><strong>Poznámka:</strong>\n",
    "V tomto cvičení se budeme soustředit na <emph>posloupnosti</emph>, tedy seznamy a n-tice. Množiny a slovníky probereme podrobně na příštím cvičení.</p>\n",
    "</div>"
   ]
  },
  {
   "cell_type": "markdown",
   "metadata": {},
   "source": [
    "## Základní operace s kontejnery\n",
    "\n",
    "Všechny kontejnery poskytují dvě základní operace:\n",
    "\n",
    "1. _Testování_, jestli kontejner obsahuje danou hodnotu.\n",
    "   Testovací výraz obsahuje operátor `in`, případně `not in`, a vrací vždy hodnotu `True` nebo `False`:"
   ]
  },
  {
   "cell_type": "code",
   "execution_count": 8,
   "metadata": {},
   "outputs": [
    {
     "name": "stdout",
     "output_type": "stream",
     "text": [
      "True\n",
      "False\n"
     ]
    }
   ],
   "source": [
    "print(1 in [0, 1, 2])\n",
    "print(1 not in [0, 1])"
   ]
  },
  {
   "cell_type": "markdown",
   "metadata": {},
   "source": [
    "\n",
    "2. _Iterování_: každý kontejner lze použít jako zdroj dat v příkazu `for`.\n",
    "   Zde opět vystupuje klíčové slovo `in`, ale v jiném významu: `for hodnota in kontejner`.\n",
    "   Podle typu kontejneru mají iterované prvky buď určité nebo nespecifikované pořadí."
   ]
  },
  {
   "cell_type": "code",
   "execution_count": 9,
   "metadata": {},
   "outputs": [
    {
     "name": "stdout",
     "output_type": "stream",
     "text": [
      "0\n",
      "1\n",
      "A\n",
      "hello\n"
     ]
    }
   ],
   "source": [
    "for i in seznam:\n",
    "    print(i)"
   ]
  },
  {
   "cell_type": "markdown",
   "metadata": {},
   "source": [
    "Kromě těchto základních operací má každý typ kontejneru své vlastní rozhraní, které jej odlišuje od ostatních.\n",
    "Proto si postupně probereme všechny zmíněné kontejnery."
   ]
  },
  {
   "cell_type": "markdown",
   "metadata": {},
   "source": [
    "## Indexování posloupností\n",
    "\n",
    "Předpokládejme, že máme seznam `my_list` definovaný následovně:"
   ]
  },
  {
   "cell_type": "code",
   "execution_count": 10,
   "metadata": {},
   "outputs": [],
   "source": [
    "my_list = [10, 20, 30, 40, 50, 60, 70, 80, 90, 100]"
   ]
  },
  {
   "cell_type": "markdown",
   "metadata": {},
   "source": [
    "Pro přístup k jednotlivým prvkům seznamu můžeme použít operátor `[]`, např. `my_list[i]`, kde `i` je celočíselná hodnota určující pořadí daného prvku.\n",
    "Přípustné hodnoty indexu `i` jsou znázorněny na tomto obrázku:\n",
    "\n",
    "![](images/11/python-indexing.png)"
   ]
  },
  {
   "cell_type": "markdown",
   "metadata": {},
   "source": [
    "Tento způsob indexování funguje stejně pro všechny typy posloupností (`list`, `tuple`, `str`, atd).\n",
    "Navíc pro všechny posloupnosti můžeme použít funkci `len`, která vrací aktuální počet prvků v daném kontejneru.\n",
    "Např. pokud máme `L = len(my_list)`, ve výrazu `my_list[i]` můžeme za `i` dosadit libovolnou hodnotu z `-L`, `-L+1`, `-L+2`, ..., `0`, `1`, `2`, ..., `L-2`, `L-1`.\n",
    "\n",
    "Známe již dva způsoby iterování přes prvky seznamu:\n",
    "\n",
    "1. `for value in my_list:` – `my_list` slouží přímo jako zdroj dat pro příkaz `for`, v proměnné `value` dostáváme postupně hodnoty uložené v seznamu.\n",
    "2. `for i in range(len(my_list)):` – funkce `len` zjistí počet prvků v seznamu a funkce `range` představuje posloupnost všech _nezáporných_ hodnot, které můžeme použít pro indexování seznamu `my_list`.\n",
    "   Všimněte si, že funkce `range` příhodně vynechává koncovou hodnotu `len(my_list)`.\n",
    "\n",
    "První způsob iterování je snadněji pochopitelný a vhodný pro případy, kdy potřebujeme zpracovat všechny hodnoty z určitého seznamu stejným způsobem.\n",
    "Druhý způsob je hůře čitelný, ale hodí se v případech, kdy potřebujeme _modifikovat hodnoty uložené v modifikovatelné (mutable) posloupnosti_, což není možné prvním způsobem.\n",
    "Např. pokud bychom chtěli všechny hodnoty v seznamu `my_list` zmenšit o 1:"
   ]
  },
  {
   "cell_type": "code",
   "execution_count": 11,
   "metadata": {},
   "outputs": [
    {
     "name": "stdout",
     "output_type": "stream",
     "text": [
      "[9, 19, 29, 39, 49, 59, 69, 79, 89, 99]\n"
     ]
    }
   ],
   "source": [
    "for i in range(len(my_list)):\n",
    "    my_list[i] = my_list[i] - 1\n",
    "\n",
    "print(my_list)"
   ]
  },
  {
   "cell_type": "markdown",
   "metadata": {},
   "source": [
    "Velmi příjemným syntaktickým rozšířením indexování jednotlivých prvků posloupnosti je _slicing_ (česky _vykrajování_).\n",
    "Při něm se v hranatých závorkách za názvem posloupnosti zadají dva indexy oddělené dvojtečkou, např. `my_list[i:j]`, a výsledkem výrazu je podposloupnost daná těmito indexy:\n",
    "- index `i` představuje počáteční index podposloupnosti\n",
    "- index `j` představuje index „po-posledního“ prvku podposloupnosti\n",
    "\n",
    "Není-li zadán první index, dosadí se nula, a není-li zadán druhý index, dosadí se délka posloupnosti.\n",
    "Bude-li proto v indexových závorkách pouze dvojtečka, výsledná podposloupnost bude celá posloupnost.\n",
    "\n",
    "_Slicing_ je názorně ukázán v následujícím příkladu, kde jako vstupní posloupnost používáme proměnnou `python` (zde string, ale stejný princip je možné aplikovat pro všechny posloupnosti):"
   ]
  },
  {
   "cell_type": "code",
   "execution_count": 12,
   "metadata": {},
   "outputs": [
    {
     "name": "stdout",
     "output_type": "stream",
     "text": [
      "tho\n",
      "thon\n",
      "Py\n",
      "tho\n",
      "tho\n",
      "Pyth\n",
      "on\n",
      "Python\n"
     ]
    }
   ],
   "source": [
    "# vstupní posloupnost\n",
    "python = \"Python\"\n",
    "\n",
    "# ukázky operace slicing (mezery uvnitř hranatých závorek nehrají roli)\n",
    "print(python[ 2: 5])  # \"tho\"\n",
    "print(python[ 2:  ])  # \"thon\"\n",
    "print(python[  : 2])  # \"Py\"\n",
    "print(python[ 2:-1])  # \"tho\"\n",
    "print(python[-4:-1])  # \"tho\"\n",
    "print(python[  :-2])  # \"Pyth\"\n",
    "print(python[-2:  ])  # \"on\"\n",
    "print(python[  :  ])  # \"Python\""
   ]
  },
  {
   "cell_type": "markdown",
   "metadata": {},
   "source": [
    "<div style=\"border-left: 5px solid green; padding-left: 1em\">\n",
    "<p><strong>Tip:</strong>\n",
    "V případě operace <emph>slicing</emph> je vhodné si představit, že indexy nepředstavují pozice jednotlivých prvků posloupnosti, ale pozice <q>mezer</q> mezi nimi. Viz následující tabulku:</p>\n",
    "</div>\n",
    "\n",
    "```\n",
    "   0   1   2   3   4   5    <-- Indexování od počátku\n",
    "  -6  -5  -4  -3  -2  -1    <-- Indexování od konce\n",
    " +---+---+---+---+---+---+\n",
    " | P | y | t | h | o | n |\n",
    " +---+---+---+---+---+---+\n",
    " 0   1   2   3   4   5   6  <-- Slicing od počátku\n",
    "-6  -5  -4  -3  -2  -1      <-- Slicing od konce\n",
    "```"
   ]
  },
  {
   "cell_type": "markdown",
   "metadata": {},
   "source": [
    "Dále si podrobněji ukážeme práci se seznamy a n-ticemi.\n",
    "Stringům se budeme podrobně věnovat na příštím cvičení, protože mají velmi odlišné rozhraní."
   ]
  },
  {
   "cell_type": "markdown",
   "metadata": {},
   "source": [
    "## Seznamy a n-tice\n",
    "\n",
    "__Seznam__ (`list`) a __n-tice__ (`tuple`) jsou datové struktury představující posloupnosti, které se ale zásadním způsobem liší:\n",
    "\n",
    "- seznam je __modifikovatelná__ (_mutable_) datová struktura – do seznamu můžeme přidávat nové objekty a nebo z něj objekty odebírat\n",
    "- n-tice je __nemodifikovatelná__ (_immutable_) datová struktura – nelze přidat nebo odebrat objekt v existující n-tici (jediný způsob jak změnit n-tici je vytvořit nový objekt)\n",
    "\n",
    "Seznam se často používá v algoritmech, kde je potřeba si průběžně ukládat nějaké hodnoty a později se k nim vracet.\n",
    "Často začínáme s prázdným seznamem, do kterého postupně přidáváme prvky pomocí metod `append` (přidání na konec) nebo `insert` (vložení na zadanou pozici):"
   ]
  },
  {
   "cell_type": "code",
   "execution_count": 1,
   "metadata": {},
   "outputs": [
    {
     "name": "stdout",
     "output_type": "stream",
     "text": [
      "[9, 7, 5, 3, 1, 0, 2, 4, 6, 8]\n"
     ]
    }
   ],
   "source": [
    "# prázdný seznam\n",
    "seznam = []\n",
    "\n",
    "# výpočet prvků\n",
    "for i in range(10):\n",
    "    if i % 2 == 0:\n",
    "        # sudé číslo vložíme na konec\n",
    "        seznam.append(i)\n",
    "    else:\n",
    "        # liché číslo vložíme na začátek\n",
    "        seznam.insert(0, i)\n",
    "\n",
    "# výpis seznamu\n",
    "print(seznam)"
   ]
  },
  {
   "cell_type": "markdown",
   "metadata": {},
   "source": [
    "Úplný přehled metod použitelných pro seznam (resp. každou _modifikovatelnou_ posloupnost) je možné najít [v dokumentaci](https://docs.python.org/3/library/stdtypes.html#mutable-sequence-types).\n",
    "\n",
    "Naopak n-tice (`tuple`) se běžně používá tam, kde modifikace posloupnosti není potřeba.\n",
    "Jeden z typických případů jsou funkce, které vrací více než jednu hodnotu, např. funkce [divmod](https://docs.python.org/3/library/functions.html#divmod), která vrací _dvojici_ (tuple o dvou prvcích) hodnot, z nichž první je celočíselný podíl a druhá je zbytek po celočíselném dělení:"
   ]
  },
  {
   "cell_type": "code",
   "execution_count": 2,
   "metadata": {},
   "outputs": [
    {
     "name": "stdout",
     "output_type": "stream",
     "text": [
      "(3, 2)\n"
     ]
    }
   ],
   "source": [
    "dvojice = divmod(11, 3)\n",
    "print(dvojice)"
   ]
  },
  {
   "cell_type": "markdown",
   "metadata": {},
   "source": [
    "K jednotlivým prvkům dvojice se dostaneme pomocí indexovacího operátoru: `dvojice[0]` je první prvek a `dvojice[1]` je druhý prvek.\n",
    "Protože počet prvků v n-tici nelze změnit a jednotlivé prvky je často vhodné pojmenovat pro větší přehlednost kódu, umožňuje syntaxe jazyka Python tzv. _rozbalování_ (_unpacking_):"
   ]
  },
  {
   "cell_type": "code",
   "execution_count": 5,
   "metadata": {},
   "outputs": [],
   "source": [
    "# definice trojice\n",
    "point = (1, 2, 3)\n",
    "\n",
    "# rozbalení\n",
    "x, y, z = point"
   ]
  },
  {
   "cell_type": "markdown",
   "metadata": {},
   "source": [
    "Při rozbalování je potřeba zajistit, že počet proměnných definovaných na levé straně odpovídá počtu prvků v n-tici, jinak dojde k chybě `ValueError`.\n",
    "Rozbalování je možné provést obecně pro libovolnou posloupnost, ale právě kvůli zajištění odpovídajícího počtu prvků je toto použití nejtypičtější pro n-tice.\n",
    "\n",
    "A jak vrátit více hodnot z námi definované funkce?\n",
    "Stačí v příkazu `return` zadat tuple, např. `return (a, b, c)` nebo ekvivalentně `return a, b, c`."
   ]
  },
  {
   "cell_type": "markdown",
   "metadata": {},
   "source": [
    "# Příklady"
   ]
  },
  {
   "cell_type": "markdown",
   "metadata": {},
   "source": [
    "1. Napište funkci, která vezme vstupní posloupnost a vrátí seznam, ve kterém jsou všechny prvky posloupnosti uspořádané pozpátku."
   ]
  },
  {
   "cell_type": "code",
   "execution_count": null,
   "metadata": {},
   "outputs": [],
   "source": [
    "def pozpatku(posloupnost):\n",
    "    ...\n",
    "\n",
    "seznam = [1, 2, 3, 3, 4, 10]\n",
    "vysledek = pozpatku(seznam)\n",
    "assert vysledek == [10, 4, 3, 3, 2, 1]"
   ]
  },
  {
   "cell_type": "markdown",
   "metadata": {},
   "source": [
    "2. Napište funkci, která vrátí [medián](https://cs.wikipedia.org/wiki/Medi%C3%A1n) vstupní posloupnosti čísel."
   ]
  },
  {
   "cell_type": "code",
   "execution_count": null,
   "metadata": {},
   "outputs": [],
   "source": [
    "def median(posloupnost):\n",
    "    ...\n",
    "\n",
    "seznam = [1, 2, 3, 4, 5]\n",
    "print(median(seznam))\n",
    "\n",
    "assert median([1, 2, 3]) == 2\n",
    "assert median([1, 2]) == 1.5"
   ]
  },
  {
   "cell_type": "markdown",
   "metadata": {},
   "source": [
    "3. Napište funkci, která přečte vstupní posloupnost přirozených čísel a vrátí seznam obsahující všechna čísla, která nejsou dělitelná 2 ani 3, v pořadí odpovídajícím vstupu."
   ]
  },
  {
   "cell_type": "code",
   "execution_count": null,
   "metadata": {},
   "outputs": [],
   "source": [
    "def vyber_cisla(posloupnost):\n",
    "    ...\n",
    "\n",
    "assert vyber_cisla([1, 2, 3, 4, 5, 7, 4, 3, 2, 1]) == [1, 5, 7, 1]"
   ]
  },
  {
   "cell_type": "markdown",
   "metadata": {},
   "source": [
    "4. Napište funkci, která vrátí seznam všech dělitelů zadaného přirozeného čísla seřazený od nejmenšího po největší."
   ]
  },
  {
   "cell_type": "code",
   "execution_count": null,
   "metadata": {},
   "outputs": [],
   "source": [
    "def delitele(n):\n",
    "    ...\n",
    "\n",
    "assert delitele(24) == [1, 2, 3, 4, 6, 8, 12, 24]"
   ]
  },
  {
   "cell_type": "markdown",
   "metadata": {},
   "source": [
    "5. Napište funkci, která vrátí seznam prvočísel seřazený od největšího po nejmenší, jejichž součin se rovná vstupnímu přirozenému číslu."
   ]
  },
  {
   "cell_type": "code",
   "execution_count": null,
   "metadata": {},
   "outputs": [],
   "source": [
    "def primes(n):\n",
    "    ...\n",
    "\n",
    "assert primes(72) == [3, 3, 2, 2, 2]"
   ]
  },
  {
   "cell_type": "markdown",
   "metadata": {},
   "source": [
    "6. Napište funkci, která pomocí [Eratosthenova síta](https://cs.wikipedia.org/wiki/Eratosthenovo_s%C3%ADto) najde všechna prvočísla menší nebo rovna $n$."
   ]
  },
  {
   "cell_type": "code",
   "execution_count": null,
   "metadata": {},
   "outputs": [],
   "source": [
    "def eratosthenes(n):\n",
    "    ...\n",
    "\n",
    "assert eratosthenes(11) == [2, 3, 5, 7, 11]"
   ]
  },
  {
   "cell_type": "markdown",
   "metadata": {},
   "source": [
    "7. Napište funkci, která vypíše $n$ řádků [Pascalova trojúhelníku](https://cs.wikipedia.org/wiki/Pascal%C5%AFv_troj%C3%BAheln%C3%ADk). Vytvořte pomocnou funkci, která spočte nový řádek na základě předchozího."
   ]
  },
  {
   "cell_type": "code",
   "execution_count": null,
   "metadata": {},
   "outputs": [],
   "source": []
  }
 ],
 "metadata": {
  "kernelspec": {
   "display_name": "Python 3",
   "language": "python",
   "name": "python3"
  },
  "language_info": {
   "codemirror_mode": {
    "name": "ipython",
    "version": 3
   },
   "file_extension": ".py",
   "mimetype": "text/x-python",
   "name": "python",
   "nbconvert_exporter": "python",
   "pygments_lexer": "ipython3",
   "version": "3.11.5"
  },
  "orig_nbformat": 4
 },
 "nbformat": 4,
 "nbformat_minor": 2
}
