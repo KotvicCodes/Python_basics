{
 "cells": [
  {
   "cell_type": "markdown",
   "metadata": {},
   "source": [
    "# V minulém díle jste viděli..."
   ]
  },
  {
   "cell_type": "markdown",
   "metadata": {},
   "source": [
    "### Proč moduly\n",
    "Řekli jsme si, proč je výhodné používat moduly:\n",
    "Moduly vznikly z potřeby uchovávat definice funkcí a proměnných tak, aby byly dostupné i po ukončení běhu Python interpreteru. Když ukončíte a znovu spustíte Python interpreter, ztratíte všechny definice, které jste vytvořili. Pro psaní delších programů je tak lepší využít externích souborů a tím vytvořit skripty. A jak se váš program stává komplexnějším, může být výhodné rozdělit ho do několika souborů pro snazší údržbu a přehlednost.\n",
    "\n",
    "### import\n",
    "Seznámili jsme se podrobně s příkazem import a s tím, co se děje na pozadí\n",
    "\n",
    "### moduly standardní knihovny\n",
    "Modul | Popis\n",
    "------ | -------------------------\n",
    "math | matematické funkce pro pokročilé výpočty\n",
    "cmath | funkce podobné, jako v modulu math. Umí však počítat v komplexním prostoru\n",
    "random | slouží k generování pseudo-náhodných čísel\n",
    "sys | obsahuje funkce a hodnoty, ktere jsou vyuzivany interpreterem nebo ho ovlivnuji\n",
    "os | funkce pro interakci se systémovým prostředím\n",
    "pprint | hezke a prehledne vypisovani slozitejsich struktur\n",
    "collections | poskytuje alternativní datové typy k vestavěným typům\n",
    "itertools | funkce pro vytváření efektivních iterátorů\n",
    "csv | poskytuje funkcionalitu pro práci s formátem CSV\n",
    "json | umožňuje práci s formátem JSON\n",
    "argparse | usnadnuje praci s parametry skriptu"
   ]
  },
  {
   "cell_type": "markdown",
   "metadata": {},
   "source": [
    "# Modulární stavba programu\n",
    "Již minulé cvičení jsme si řekli, proč je výhodné používat moduly a seznámili jsme se několika z nich ze standardní knihovny.\n",
    "\n",
    "Dnes si ukážeme, jak si můžeme vytvořit moduly vlastní.\n",
    "\n",
    "# Moduly\n",
    "## Jak vytvořit modul\n",
    "Modul je velice lehké vytvořit. Jedná se obyčejný textový soubor s příponou `.py`, který obsahuje definice funkcí a tříd, konstanty a ostatní výrazy v jazyce Python. Název tohoto souboru zároveň reprezentuje jméno modulu (bez přípony `.py`).\n",
    "\n",
    "Jméno modulu je také automaticky přístupné v  globální proměnné (string) `__name__`.\n"
   ]
  },
  {
   "cell_type": "code",
   "execution_count": 1,
   "metadata": {},
   "outputs": [
    {
     "name": "stdout",
     "output_type": "stream",
     "text": [
      "math\n"
     ]
    }
   ],
   "source": [
    "import math as matematika\n",
    "print(matematika.__name__)"
   ]
  },
  {
   "cell_type": "markdown",
   "metadata": {},
   "source": [
    "### První modul\n",
    "Pojďme vytvořit náš první modul.\n",
    "Vytvoříme soubor [mymodule.py](mymodule.py) v aktuální složce a bude obsahovat jen jednu proměnnou,jednu funkci a jedno volání funkce print. Soubor si otevřete a prohlédněte.\n",
    "\n",
    "Má následující obsah\n",
    "```python\n",
    "myvariable = f'I am variable myvariable from module {__name__}'\n",
    "\n",
    "def say_hello():\n",
    "    print(f'Hello! I am function say_hello from module {__name__} ')\n",
    "\n",
    "print(f'This is an executable statement from module {__name__}'}\n",
    "```\n",
    "\n",
    "Nyní tento modul můžeme importovat a pracovat s ním, podobně jako jinými moduly. To jsme se naučili minule:"
   ]
  },
  {
   "cell_type": "code",
   "execution_count": 2,
   "metadata": {},
   "outputs": [
    {
     "name": "stdout",
     "output_type": "stream",
     "text": [
      "This is an executable statement from module mymodule\n",
      "I am variable myvariable from module mymodule\n",
      "Hello! I am function say_hello from module mymodule \n"
     ]
    }
   ],
   "source": [
    "import mymodule\n",
    "\n",
    "print(mymodule.myvariable)\n",
    "\n",
    "mymodule.say_hello()"
   ]
  },
  {
   "cell_type": "markdown",
   "metadata": {},
   "source": [
    "> Poznámka: každý modul má vlastní soukromý \"globální\" namespace. Nemusíme se tak bát kolizí stejných jmen při importu více modulů. Pozor musíme dávat jen v případě importu `*`. Ale tím si přinejhorším překryjeme nějaká jména jen v našem kontextu."
   ]
  },
  {
   "cell_type": "markdown",
   "metadata": {},
   "source": [
    "### Cesta pro hledání modulů\n",
    "\n",
    "Mohla Vás napadnout otázka: Jak Python ví, kde se náš modul `mymodule` nachází?\n",
    "\n",
    "Příkaz `import` při hledání modulů zhruba následuje tento postup:\n",
    "1) podívá se, jestli modul není součástí vestavěných modulů (jejich seznam je dostupný v rámci `sys.builtin_module_names`)\n",
    "2) Pokud ho nenalezne mezi vestavěnými moduly, hledá soubor `mymodule.py` v seznamu adresářů uloženém v proměnné `sys.path`\n",
    "> Poznámka: V těchto cestách krom souboru `mymodule.py` hledá i složku nazvanou `mymodule` obsahující soubor `__init__.py`. To je tzv python balíček. O tom více informací trochu níže.\n",
    "\n",
    "Obsah tohoto seznamu je naplněn z následujících zdrojů:\n",
    "- obsahuje aktuální složku (cwd), případně složku, ve které je uložen spouštěný skript. Toto je i náš případ výše\n",
    "- z proměnné prostředí `PYTHONPATH`\n",
    "- předdefinované adresáře s moduly u dané instalace Pythonu\n",
    "\n",
    "\n",
    "Ukažme si, jak aktuálně `sys.path` vypadá. Vidíme aktuální složku a pak nějaké další systémové adresáře, do kterých se kouká.\n"
   ]
  },
  {
   "cell_type": "code",
   "execution_count": 3,
   "metadata": {},
   "outputs": [
    {
     "name": "stdout",
     "output_type": "stream",
     "text": [
      "['/home/tomsajan/playground/lekce22', '/usr/lib/python311.zip', '/usr/lib/python3.11', '/usr/lib/python3.11/lib-dynload', '', '/usr/lib/python3.11/site-packages']\n"
     ]
    }
   ],
   "source": [
    "import sys\n",
    "print(sys.path)"
   ]
  },
  {
   "cell_type": "markdown",
   "metadata": {},
   "source": [
    "##### Úprava Path\n",
    "Abychom Pythonu řekli, ať hledá moduly ještě v dalších lokacích, můžeme upravit proměnnou prostředí `PYTHONPATH` a po restartu skriptu už tam začne hledat.\n",
    "\n",
    "V našem případě (Jupyter notebook) je ale snazší využít další možnost, a to upravit aktuální seznam a přidat tam nějakou dodatečnou složku.\n",
    "Přidáme tedy do seznamu `sys.path` složku `modules` sídlící v aktuálním adresáři, abychom pro další práci s moduly mohli využít tuto k tomu určenou složku a nemíchali Jupyter notebooky s Python moduly.\n",
    "\n"
   ]
  },
  {
   "cell_type": "code",
   "execution_count": 4,
   "metadata": {},
   "outputs": [
    {
     "name": "stdout",
     "output_type": "stream",
     "text": [
      "['/home/tomsajan/playground/lekce22', '/usr/lib/python311.zip', '/usr/lib/python3.11', '/usr/lib/python3.11/lib-dynload', '', '/usr/lib/python3.11/site-packages', '/home/tomsajan/playground/lekce22/modules']\n"
     ]
    }
   ],
   "source": [
    "import os\n",
    "import sys\n",
    "sys.path.append(os.path.join(os.getcwd(), 'modules'))\n",
    "print(sys.path)"
   ]
  },
  {
   "cell_type": "markdown",
   "metadata": {},
   "source": [
    "> Poznámka: Prohlédnutím obsahu proměnné `sys.path` tedy můžeme zjistit, odkud jsou moduly načítány a naše moduly tam pro opakovatelné použití umístit.\n",
    "\n",
    "Pro následující kódy již budeme počítat s tím, že moduly můžeme načítat ze složky `modules`. Obsahuje již nějaké předpřipravené pro další práci."
   ]
  },
  {
   "cell_type": "markdown",
   "metadata": {},
   "source": [
    "### Spustitelný kód\n",
    "Krom definicí a konstant může modul obsahovat i spustitelný kód. Tento spustitelný kód je spouštěn pouze jednou a to při prvním výskytu daného modulu v příkazu `import` - tedy při prvním importu modulu, nebo jeho komponent. Tento kód je určený k počátečnímu nastavení a nakonfigurování daného modulu. Taktéž je tento kód spuštěn v případě, že je daný modul (soubor s Python kódem) spuštěn jako skript.\n",
    "\n",
    "Zkusme znova pustit stejný kód, jako výše. Uvidíme, že podruhé již příkaz `import` nezavolá funkci print a nic nevypíše:"
   ]
  },
  {
   "cell_type": "code",
   "execution_count": 5,
   "metadata": {},
   "outputs": [],
   "source": [
    "import mymodule\n",
    "from mymodule import myvariable"
   ]
  },
  {
   "cell_type": "markdown",
   "metadata": {},
   "source": [
    "#### Spouštění jako skript\n",
    "Modul se spustí jako skript tak, že se v terminálu napíše:\n",
    "```python\n",
    "python <cesta k modulu> <argumenty>\n",
    "```\n",
    "\n",
    "> Poznámka: Jako skript jsme nevědomky spouštěli všechny programy, se který mi jsme doposud pracovali v rámci VSCodium. Kód jsme psali do souboru a ten za nás vývojové prostředí pouštělo pomocí `python <nazev_souboru>`\n",
    "\n",
    "Kód v modulu bude spuštěn stejně, jako při importu, ale navíc se nastaví proměnná `__name__` na hodnotu `__main__` (string).\n",
    "\n",
    "Pokud tedy na konec souboru přidáme následující kód, zajistíme, že:\n",
    "1) při importu se to bude chovat jako doposud - provedou se nějaké spustitelné kódy, nadefinují se proměnné, třídy a konstanty...jako předtím...\n",
    "2) při spuštění jako skript bude nastavena proměnná `__name__` na `'__main__'` a tím pádem bude splněna podmínka a spustí se tento dodatečný kód. Toto je ekvivalent k funkci `main`, kterou poznáte v jazycích odvozených od `C/C++`. Tedy vstupní brána do spuštěného programu.\n",
    "\n",
    "```python\n",
    "if __name__ == '__main__':\n",
    "    print('Tato část se spustí jen při zavolání jako skript')\n",
    "    print('Tady klidně mohu zase zavolat funkci z modulu say_hello')\n",
    "    say_hello()\n",
    "```\n",
    "\n",
    "Pro ověření funkcionality nejprve zkusme tento upravený modul - [druhymodul](modules/druhymodul.py) naimportovat lokálně zde a pak teprve spustit jako skript. Modul se nachází ve složce `modules`. Podívejte se na jeho obsah.\n",
    "\n",
    "U importu uvidíme, že importujeme jen jeho název, nemusíme říkat, ve které složce je, to už je díky upravené proměnné `path`. Dále při prvním importu vidíme vykonání spustitelných kódů."
   ]
  },
  {
   "cell_type": "code",
   "execution_count": 6,
   "metadata": {},
   "outputs": [
    {
     "name": "stdout",
     "output_type": "stream",
     "text": [
      "This is an executable statement from module druhymodul\n",
      "I am variable myvariable from module druhymodul\n"
     ]
    }
   ],
   "source": [
    "from druhymodul import myvariable\n",
    "print(myvariable)"
   ]
  },
  {
   "cell_type": "markdown",
   "metadata": {},
   "source": [
    "Pro zavolání jako skript využijeme `os.system` - spustíme skript nezávisle na tomto Jupyter notebooku. Totéž je možné udělat z terminálu."
   ]
  },
  {
   "cell_type": "code",
   "execution_count": 7,
   "metadata": {},
   "outputs": [
    {
     "name": "stdout",
     "output_type": "stream",
     "text": [
      "This is an executable statement from module __main__\n",
      "Tato část se spustí jen při zavolání jako skript\n",
      "Tady klidně mohu zase zavolat funkci z modulu say_hello\n",
      "Hello! I am function say_hello from module __main__ \n"
     ]
    },
    {
     "data": {
      "text/plain": [
       "0"
      ]
     },
     "execution_count": 7,
     "metadata": {},
     "output_type": "execute_result"
    }
   ],
   "source": [
    "import os\n",
    "os.system('python modules/druhymodul.py')"
   ]
  },
  {
   "cell_type": "markdown",
   "metadata": {},
   "source": [
    "Všimněte si, co všechno to vypsalo a že obsah proměnné `__name__` je teď `__main__`."
   ]
  },
  {
   "cell_type": "markdown",
   "metadata": {},
   "source": [
    "# Balíčky - packages"
   ]
  },
  {
   "cell_type": "markdown",
   "metadata": {},
   "source": [
    "### Co jsou balíčky?\n",
    "Balíček je kolekce modulů organizovaných do adresářové struktury. Může obsahovat také další balíčky. Slouží k lepší organizaci kódu větších projektů a umožňují hierarchickou strukturu modulů. Balíčky jsou reprezentovány adresáři obsahujícími soubory modulů a speciální soubor `__init__.py`, který indikuje, že daný adresář je považován za balíček."
   ]
  },
  {
   "cell_type": "markdown",
   "metadata": {},
   "source": [
    "### Vytváření balíčků\n",
    "- vytvoříme adresář pro balíček (název adresáře odpovídá názvu balíčku)\n",
    "- umístíme do něj soubory modulů (`.py` soubory)\n",
    "- vytvoříme v něm soubor `__init__.py`. Ten způsobí, že daný adresář bude balíčkem. Tento soubor může být prázdný. Může ovšem také obsahovat nějaký inicializační kód, podobně jako u modulů. Takový kód je spuštěn jen jednou při prvotním importu balíčku. Dále může obsahovat proměnnou `__all__`. O té více později.\n",
    "\n",
    "Struktura jednoduchého balíčku může vypadat následovně:\n",
    "```bash\n",
    "nazev_balicku/\n",
    "├── __init__.py\n",
    "├── modul1.py\n",
    "└── modul2.py\n",
    "\n",
    "```\n",
    "\n",
    "Struktura balíčku, který obsahuje i další balíčky. Ukázka dostupná ve složce `modules`\n",
    "```bash\n",
    "zpro\n",
    "├── __init__.py\n",
    "├── kontejnery\n",
    "│   ├── __init__.py\n",
    "│   ├── seznam.py\n",
    "│   └── slovnik.py\n",
    "├── obecne.py\n",
    "└── soubory\n",
    "    ├── cteni.py\n",
    "    ├── __init__.py\n",
    "    └── zapis.py\n",
    "\n",
    "```\n",
    "\n",
    "### Importy balíčků\n",
    "Nyní můžeme importovat jednotlivé moduly balíčků. Můžeme používat již známé přístupy:\n",
    "- `import balicek.modul`\n",
    "- `from balicek import modul`\n",
    "- `from balicek.podbalicek import modul`\n",
    "- `from balicek.podbalicek.modul import funkce`\n",
    "\n",
    "> Poznámka: Může se hodit funkce `dir`, která vypíše dostupný seznam objektů a definic z daného balíčku."
   ]
  },
  {
   "cell_type": "code",
   "execution_count": 8,
   "metadata": {},
   "outputs": [
    {
     "name": "stdout",
     "output_type": "stream",
     "text": [
      "['__builtins__', '__cached__', '__doc__', '__file__', '__loader__', '__name__', '__package__', '__spec__', 'novy_seznam', 'otoc_seznam']\n",
      "\n",
      "funkce na novy seznam\n"
     ]
    }
   ],
   "source": [
    "import zpro.kontejnery.seznam\n",
    "print(dir(zpro.kontejnery.seznam))\n",
    "print()\n",
    "# pak můžeme funkcni použít\n",
    "zpro.kontejnery.seznam.novy_seznam()"
   ]
  },
  {
   "cell_type": "code",
   "execution_count": 9,
   "metadata": {},
   "outputs": [
    {
     "name": "stdout",
     "output_type": "stream",
     "text": [
      "funkce na otoceni seznamu\n",
      "funkce na otoceni seznamu\n"
     ]
    }
   ],
   "source": [
    "from zpro.kontejnery import seznam\n",
    "seznam.otoc_seznam()\n",
    "\n",
    "from zpro.kontejnery.seznam import otoc_seznam\n",
    "otoc_seznam()"
   ]
  },
  {
   "cell_type": "markdown",
   "metadata": {},
   "source": [
    "## from <balicek> import * a proměnná `__all__`"
   ]
  },
  {
   "cell_type": "markdown",
   "metadata": {},
   "source": [
    "Můžeme si všimnout, že když naimportujeme vše z balíčku `zpro`, tak v něm nejsou dostupné všech očekávané podbalíčky a moduly.\n",
    "Oproti očekávání, že tam bude dostupný modul `obecne` a podbalíčky `soubory` a `kontejnery`, je tam pouze podbalíček `kontejnery`. A i v něm je pouze načtený modul `seznam`.\n",
    "Tyto tam jsou dostupné pouze protože jsme je dříve nějakým způsobem importovali.\n",
    "\n",
    "Když zkusíme importovat \"všechno\", nic se nezmění. Stále tam jsou jen kontejnery."
   ]
  },
  {
   "cell_type": "code",
   "execution_count": 10,
   "metadata": {},
   "outputs": [
    {
     "name": "stdout",
     "output_type": "stream",
     "text": [
      "['kontejnery']\n",
      "['seznam']\n",
      "\n",
      "Globalni ns\n",
      "['In', 'Out', 'exit', 'filter_keys', 'get_ipython', 'kontejnery', 'matematika', 'mymodule', 'myvariable', 'open', 'os', 'otoc_seznam', 'quit', 'seznam', 'sys', 'zpro']\n"
     ]
    }
   ],
   "source": [
    "# pomocna funkce\n",
    "def filter_keys(keys):\n",
    "    return [key for key in keys if not key.startswith('_')]\n",
    "    \n",
    "from zpro import *\n",
    "print(filter_keys(dir(zpro)))\n",
    "print(filter_keys(dir(zpro.kontejnery)))\n",
    "print()\n",
    "print(\"Globalni ns\")\n",
    "print(filter_keys(dir()))\n"
   ]
  },
  {
   "cell_type": "markdown",
   "metadata": {},
   "source": [
    "Člověk by očekával, že systém zajistí vyhledání všech podmodulů a importuje je. Ve skutečnosti se tak neděje, protože by to mohla být časově náročná operace a mohla by mít spoustu vedlejších efektů (například nějaká inicializační část submodulu, která by byla potřeba jen v případě, že je submodul explicitně zavolán)\n",
    "\n",
    "Řešení je, aby autor balíčku poskytl seznam podmodulů, které mají být při takovém importu balíčku-podbalíčku automaticky importovány.\n",
    "\n",
    "Takový seznam se zapisuje do proměnné `__all__`, která se umístí vždy do odpovídajícího `__init__.py` souboru.\n",
    "\n",
    "Interpret při importu pak importuje všechna vyjmenovaná jména.\n",
    "\n",
    "Podívejme se na balíček `zpro2`, který je kopií původního balíčku `zpro`, jsou upraveny názvy tak, aby končili číslem 2, a obsahuje vyplněné proměnné `__all__`.\n"
   ]
  },
  {
   "cell_type": "code",
   "execution_count": 11,
   "metadata": {},
   "outputs": [
    {
     "name": "stdout",
     "output_type": "stream",
     "text": [
      "['In', 'Out', 'exit', 'filter_keys', 'get_ipython', 'kontejnery', 'matematika', 'mymodule', 'myvariable', 'obecne2', 'open', 'os', 'otoc_seznam', 'quit', 'seznam', 'sys', 'zpro']\n"
     ]
    }
   ],
   "source": [
    "from zpro2 import *\n",
    "print(filter_keys(dir()))\n"
   ]
  },
  {
   "cell_type": "markdown",
   "metadata": {},
   "source": [
    "Můžeme vidět již automaticky naimportovaný modul `obecne2`\n",
    "\n",
    "Obdobně při importu balíčku `zpro2.kontejnery2`, dostaneme moduly jak `seznam2` tak `slovnik2`"
   ]
  },
  {
   "cell_type": "code",
   "execution_count": 12,
   "metadata": {},
   "outputs": [
    {
     "name": "stdout",
     "output_type": "stream",
     "text": [
      "['In', 'Out', 'exit', 'filter_keys', 'get_ipython', 'kontejnery', 'matematika', 'mymodule', 'myvariable', 'obecne2', 'open', 'os', 'otoc_seznam', 'quit', 'seznam', 'seznam2', 'slovnik2', 'sys', 'zpro']\n"
     ]
    }
   ],
   "source": [
    "from zpro2.kontejnery2 import *\n",
    "print(filter_keys(dir()))"
   ]
  },
  {
   "cell_type": "markdown",
   "metadata": {},
   "source": [
    "#### `__all__` na úrovni modulu\n",
    "Podobně jako u balíčků proměnná `__all__` umí řídit i to, co se importuje při importu  \"všeho\" z modulu.\n",
    "Stačí ji umístit do samotného modulu.\n",
    "\n",
    "Pokud se v modulu `__all__` nachází, importují se jen objekty, které jsou vyjmenované. Pokud se tam nenachází, importují se všechna jména, která nezačínají podtržítkem (`_`)\n",
    "\n",
    "Podívejte na obsah souboru [seznam2.py](modules/zpro2/kontejnery2/seznam2.py)\n",
    "\n",
    "Pozorujte, že z modulu seznam2 se mi importovala jen funkce `novy_seznam2`, protože její jméno je zapsáno v `__all__`. Druhá funkce `otoc_seznam2` přítomna není.\n",
    "\n",
    "> Poznámka: můžeme importovat i ty objekty, které nejsou vyjmenovány v proměnné `__all__`. Musíme ale explicitně vypsat jejich název, například `from zpro2.kontejnery2.seznam2 import otoc_seznam2`"
   ]
  },
  {
   "cell_type": "code",
   "execution_count": 13,
   "metadata": {},
   "outputs": [
    {
     "name": "stdout",
     "output_type": "stream",
     "text": [
      "['In', 'Out', 'exit', 'filter_keys', 'get_ipython', 'kontejnery', 'matematika', 'mymodule', 'myvariable', 'novy_seznam2', 'obecne2', 'open', 'os', 'otoc_seznam', 'quit', 'seznam', 'seznam2', 'slovnik2', 'sys', 'zpro']\n"
     ]
    }
   ],
   "source": [
    "from zpro2.kontejnery2.seznam2 import *\n",
    "print(filter_keys(dir()))"
   ]
  },
  {
   "cell_type": "markdown",
   "metadata": {},
   "source": [
    "### Relativní import\n",
    "Pokud potřebujeme v rámci balíčků importovat subbalíčky/submoduly/funkce z tohoto balíčku, můžeme krom absolutních importu použít i importy relativní. Relativní importy operují v rámci prostoru daného balíčku.\n",
    "\n",
    "Relativní import používá předponu `.` pro značení aktuálního (sub)balíčku nebo `..` pro specifikaci nadřazeného (rodičovského) balíčku.\n",
    "\n",
    "Příklad naleznete z souboru: [seznam2.py](modules/zpro2/kontejnery2/seznam2.py)\n",
    "```python\n",
    "from . import slovnik2  # import z vedlejsiho modulu v tomto balicku\n",
    "from ..soubory2 import zapis2  # import z vedlejsiho subbalicku\n",
    "from ..obecne2  import napis_pisemku2   # import z nadazeneho balicku\n",
    "```"
   ]
  },
  {
   "cell_type": "code",
   "execution_count": 14,
   "metadata": {},
   "outputs": [
    {
     "name": "stdout",
     "output_type": "stream",
     "text": [
      "funkce na novy slovnik\n",
      "funkce na zapis textovych souboru\n",
      "funkce, co napise pisemku\n"
     ]
    }
   ],
   "source": [
    "import zpro2.kontejnery2.seznam2\n",
    "zpro2.kontejnery2.seznam2.pouzij_relativni_import()"
   ]
  },
  {
   "cell_type": "markdown",
   "metadata": {},
   "source": [
    "# Příklady"
   ]
  },
  {
   "cell_type": "markdown",
   "metadata": {},
   "source": [
    "## 1) dokončete látku a příklady z minulé hodiny"
   ]
  },
  {
   "cell_type": "markdown",
   "metadata": {},
   "source": [
    "## 2) vytvořte modul s matematickými funkcemi\n",
    "V dřívějších cvičeních jsme často vytvářeli funkce, které počítají například faktoriál, zjišťují, jestli je číslo sudé nebo liché, počítají prvočíselný rozklad a tak podobně.\n",
    "\n",
    "Sesbírejte tyto funkce a udělejte z nich modul `matematika`.\n",
    "\n",
    "> poznámka: využijte možnosti definovat `__all__` a vyjmenujte tam jen užitečné funkce - pomocné funkce nechť tam nejsou. Ověřte funkcionalitu pomoci `from matematika import *`\n",
    "\n",
    "> poznámka: Může být  snadnější v tomto ohledu pracovat ve VSCodium nebo v terminálu, než na Jupyter Hubu."
   ]
  },
  {
   "cell_type": "markdown",
   "metadata": {},
   "source": [
    "## 3) vytvořte modul s funkcemi pro práci se soubory\n",
    "V dřívějších cvičeních jsme často vytvářeli funkce, které pracují se soubory.\n",
    "\n",
    "Sesbírejte tyto funkce a udělejte z nich modul `soubory`.\n",
    "\n",
    "> poznámka: Může být  snadnější v tomto ohledu pracovat ve VSCodium nebo v terminálu, než na Jupyter Hubu."
   ]
  },
  {
   "cell_type": "markdown",
   "metadata": {},
   "source": [
    "## 4) Vytvoření balíčku\n",
    "Vytvořte nový balíček nazvaný `vsehochut`. Do něj zakomponujte výše vytvořené moduly.\n",
    "Dále zkuste experimentovat s vytvářením podbalíčků. Podle libosti doplňte další funkcionalitu\n",
    "> poznámka: Může být  snadnější v tomto ohledu pracovat ve VSCodium nebo v terminálu, než na Jupyter Hubu."
   ]
  }
 ],
 "metadata": {
  "kernelspec": {
   "display_name": "Python 3 (ipykernel)",
   "language": "python",
   "name": "python3"
  },
  "language_info": {
   "codemirror_mode": {
    "name": "ipython",
    "version": 3
   },
   "file_extension": ".py",
   "mimetype": "text/x-python",
   "name": "python",
   "nbconvert_exporter": "python",
   "pygments_lexer": "ipython3",
   "version": "3.11.6"
  }
 },
 "nbformat": 4,
 "nbformat_minor": 4
}
