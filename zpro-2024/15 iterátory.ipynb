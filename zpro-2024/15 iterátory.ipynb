{
 "cells": [
  {
   "cell_type": "markdown",
   "id": "46818d82-702a-47f6-908f-5384f63242a4",
   "metadata": {},
   "source": [
    "# V minulém díle jste viděli…\n",
    "\n",
    "Minule jsme představili celou řadu metod pro práci se stringy. Tyto metody slouží k různým účelům:\n",
    "- spojování a rozdělování (např. `join`, `split`, `splitlines`, `partition`, )\n",
    "- zjišťovací metody (např. `islower`, `isalpha`, `isspace`)\n",
    "- vyhledávání (např. `count`, `find`, `index`, `startswith`)\n",
    "- nahrazování (např. `replace`, `expandtabs`)\n",
    "- ořezávání (např. `strip`, `rstrip`, `lstrip`)\n",
    "- formátování (např. `lower`, `upper`, `capitalize`, `title`)\n",
    "\n",
    "Detaily o všech metodách třídy `str` nalzenete v dokumentaci https://docs.python.org/3/library/stdtypes.html#string-methods.\n",
    "\n",
    "Ukázka:\n"
   ]
  },
  {
   "cell_type": "code",
   "execution_count": 16,
   "metadata": {},
   "outputs": [
    {
     "name": "stdout",
     "output_type": "stream",
     "text": [
      "This is a sentence.\n",
      "['This', 'is', 'a', 'sentence.', 'This', 'is', 'another', 'sentence.']\n",
      "False True\n",
      "5\n",
      "8\n",
      "To JE to, co to JE, je to toto!\n",
      "Adam Novák\n",
      "TO NENÍ TO, CO TO NENÍ, JE TO TOTO!\n"
     ]
    }
   ],
   "source": [
    "print(\" \".join([\"This\", \"is\", \"a\", \"sentence.\"]))                  # spojení stringů\n",
    "print(\"This is a sentence.\\n This is another sentence.\".split())   # rozdělení stringů\n",
    "\n",
    "print(\"17.5\".isnumeric(), \"ahoj lidi\".islower())                   # zjišťovací metody\n",
    "\n",
    "print(\"To není to, co to není, je to toto!\".count(\"to\"))           # počet výskytů podstringu\n",
    "print(\"To není to, co to není, je to toto!\".find(\"to\"))            # index prvního výskytu podstringu\n",
    "print(\"To není to, co to není, je to toto!\".replace(\"není\", \"JE\")) # nahrazení všech výskytů podstringu\n",
    "\n",
    "print(\"   Adam Novák \\t\\n \\n\".strip())                             # ořezání stringu\n",
    "\n",
    "print(\"To není to, co to není, je to toto!\".upper())               # jednoduché formátování"
   ]
  },
  {
   "cell_type": "markdown",
   "metadata": {},
   "source": [
    "\n",
    "Ukázali jsme si možnosti pokročilého formátování řetězců pomocí __formátovacích řetězeců__ (__f-string-ů__) a pomocí metody `format`. Pomocí nich můžeme vytvářet textové šablony, například: \n"
   ]
  },
  {
   "cell_type": "code",
   "execution_count": 23,
   "metadata": {},
   "outputs": [
    {
     "name": "stdout",
     "output_type": "stream",
     "text": [
      "Dnes je 20.listopadu. Na cvičení dorazilo 36 studentů.\n",
      "Datum: 20.listopadu. Na cvičení dorazilo 36 studentů.\n",
      "Datum: 19.listopadu. Na cvičení dorazilo 16 studentů.\n"
     ]
    }
   ],
   "source": [
    "den = 20\n",
    "měsíc = \"listopad\"\n",
    "koncovka = \"u\"\n",
    "skupina1 = 15\n",
    "skupina2 = 21\n",
    "\n",
    "string = f\"Dnes je {den}.{měsíc}{koncovka}. Na cvičení dorazilo {skupina1 + skupina2} studentů.\"\n",
    "print(string)\n",
    "\n",
    "šablona = \"Datum: {}.{}{}. Na cvičení dorazilo {} studentů.\"\n",
    "dnes = šablona.format(den, měsíc, koncovka, skupina1 + skupina2)\n",
    "včera = šablona.format(den - 1, měsíc, koncovka, 16)\n",
    "print(dnes)\n",
    "print(včera)\n"
   ]
  },
  {
   "cell_type": "markdown",
   "id": "b2465963",
   "metadata": {},
   "source": [
    "# Iterátory\n",
    "Iterátory jsou velmi důležitým konceptem Pythonu. Umožňují nám zpracovávat data postupně nebo kombinovat hodnoty z různých zdrojů. Na předchozích cvičeních jsme již s nimi pracovali, i když skrytě, při práci s kontejnery a kdykoliv jsme v programech použili `for`-cyklus. Iterátory oceníme především při zpracování velkých objemů dat, kdy umožňují přístup k jednotlivým hodnotám až ve chvíli, kdy jsou potřeba, bez nutnosti ukládání celého objemu dat do paměti.  "
   ]
  },
  {
   "cell_type": "markdown",
   "id": "3d0e3c8a",
   "metadata": {},
   "source": [
    "## Iterovatelné objekty (*iterables*)\n",
    "Základním stavebním kamenem iterace a zpracování dat v Pythonu jsou iterovatelné objekty (*iterables*). Iterovatelný objekt je jakýkoliv objekt, přes který může být prováděna iterace (tj. můžeme přistupovat k jednotlivým prvkům v objektu postupně, jeden po druhém, například pomocí `for`-cyklu). Mezi iterovatelné objekty patří řada vestavěných datových typů v Pythonu, například kontejnery (`list`, `tuple`, `str`, `dictionary`, `set`, ...), `range` nebo datové proudy (např. objekty představující soubory)."
   ]
  },
  {
   "cell_type": "markdown",
   "id": "7abfef16",
   "metadata": {},
   "source": [
    "<div style=\"border-left: 5px solid orange; padding-left: 1em\">\n",
    "<p><strong>Poznámka:</strong>\n",
    "O datových proudech si řekneme více na některém z dalších cvičení.\n",
    "</div>"
   ]
  },
  {
   "cell_type": "markdown",
   "id": "5183e47d",
   "metadata": {},
   "source": [
    "Za iteraci na iterovatelném objektu, například v rámci `for`-cyklu, je zodpovědný objekt zvaný __iterátor__. Ten během iterace postupně (jeden po druhém) poskytuje další prvky iterovatelného objektu. Pamatuje si svůj vnitřní stav (ví, které prvky již poskytl a který prvek bude na řadě příště). Jakmile iterátor poskytne (právě jednou) všechny prvky iterovatelného objektu, vyvolá výjimku `StopIteraion`, což iteraci ukončí.\n",
    "\n",
    "Iterátor pro daný iterovatelný objekt získáme pomocí vestavěné funkce `iter(iterable)`:"
   ]
  },
  {
   "cell_type": "code",
   "execution_count": 1,
   "id": "357edeaa",
   "metadata": {},
   "outputs": [
    {
     "name": "stdout",
     "output_type": "stream",
     "text": [
      "<list_iterator object at 0x7f0424ba6680>\n"
     ]
    }
   ],
   "source": [
    "my_list = [1, 5, 4]\n",
    "\n",
    "my_iterator = iter(my_list)\n",
    "print(my_iterator)"
   ]
  },
  {
   "cell_type": "markdown",
   "id": "143017e1",
   "metadata": {},
   "source": [
    "Další prvek v iteraci získáme pomocí vestavěné funkce `next(iterator)`:"
   ]
  },
  {
   "cell_type": "code",
   "execution_count": 2,
   "id": "a8c6a145",
   "metadata": {},
   "outputs": [
    {
     "name": "stdout",
     "output_type": "stream",
     "text": [
      "1\n",
      "5\n",
      "4\n"
     ]
    }
   ],
   "source": [
    "# iterátor poskytuje prvky seznamu jeden po druhém\n",
    "print(next(my_iterator))\n",
    "print(next(my_iterator))\n",
    "print(next(my_iterator))"
   ]
  },
  {
   "cell_type": "code",
   "execution_count": 3,
   "id": "31b6ed48",
   "metadata": {},
   "outputs": [
    {
     "ename": "StopIteration",
     "evalue": "",
     "output_type": "error",
     "traceback": [
      "\u001b[1;31m---------------------------------------------------------------------------\u001b[0m\n",
      "\u001b[1;31mStopIteration\u001b[0m                             Traceback (most recent call last)\n",
      "Cell \u001b[1;32mIn[11], line 2\u001b[0m\n",
      "\u001b[0;32m      1\u001b[0m \u001b[38;5;66;03m# další volání 'next' vyvolá výjimku `StopIteration`\u001b[39;00m\n",
      "\u001b[1;32m----> 2\u001b[0m \u001b[38;5;28mprint\u001b[39m(\u001b[38;5;28;43mnext\u001b[39;49m\u001b[43m(\u001b[49m\u001b[43mmy_iterator\u001b[49m\u001b[43m)\u001b[49m)\n",
      "\n",
      "\u001b[1;31mStopIteration\u001b[0m: "
     ]
    }
   ],
   "source": [
    "# další volání 'next' vyvolá výjimku `StopIteration`\n",
    "print(next(my_iterator))"
   ]
  },
  {
   "cell_type": "markdown",
   "id": "18874f36",
   "metadata": {},
   "source": [
    "<div style=\"border-left: 5px solid orange; padding-left: 1em\">\n",
    "<p><strong>Poznámka:</strong>\n",
    "Pro každý iterovatelný objekt může být iterátor implementován různými způsoby. Pořadí, v jakém iterátor vrací prvky, proto vždy záleží na daném iterovatelném objektu. Např. pro posloupnosti iterátor vrací prvky ve vzestupném pořadí dle jejich indexu.</p>\n",
    "</div>\n"
   ]
  },
  {
   "cell_type": "markdown",
   "id": "71add085",
   "metadata": {},
   "source": [
    "Iterátor v Pythonu nelze použít opakovaně a neumí se vracet k předchozím hodnotám. Říkáme o něm, že se při použití _\"vyčerpává\"_. Pokud po vyčerpání iterátoru budeme chtít provést iteraci znovu, musíme vytvořit nový iterátor. Vyzkoušejte si to na následujícím příkladu:"
   ]
  },
  {
   "cell_type": "code",
   "execution_count": 4,
   "id": "af3727de",
   "metadata": {},
   "outputs": [],
   "source": [
    "my_list = [1, 5, 4, 7, 9]"
   ]
  },
  {
   "cell_type": "code",
   "execution_count": 5,
   "id": "9dde8f86",
   "metadata": {},
   "outputs": [],
   "source": [
    "# vytvořte nový iterátor:\n",
    "my_iterator = iter(my_list)"
   ]
  },
  {
   "cell_type": "code",
   "execution_count": 6,
   "id": "3f7363ef",
   "metadata": {},
   "outputs": [
    {
     "name": "stdout",
     "output_type": "stream",
     "text": [
      "1\n"
     ]
    }
   ],
   "source": [
    "# zkuste si následující buňku pouštět opakovaně:\n",
    "print(next(my_iterator))\n",
    "\n",
    "# po vyčerpání iterátoru si vytvořte nový spuštěním předchozí buňky"
   ]
  },
  {
   "cell_type": "markdown",
   "id": "230702f8",
   "metadata": {},
   "source": [
    "Pro jeden iterovatelný objekt můžeme zároveň používat více iterátorů:"
   ]
  },
  {
   "cell_type": "code",
   "execution_count": 7,
   "id": "bff7a4c8",
   "metadata": {},
   "outputs": [
    {
     "name": "stdout",
     "output_type": "stream",
     "text": [
      "první:  1\n",
      "první:  5\n",
      " druhý:  1\n",
      "první:  4\n",
      " druhý:  5\n"
     ]
    }
   ],
   "source": [
    "my_list = [1, 5, 4]\n",
    "\n",
    "it_1 = iter(my_list)\n",
    "it_2 = iter(my_list)\n",
    "print(\"první: \", next(it_1))\n",
    "print(\"první: \", next(it_1))\n",
    "print(\" druhý: \", next(it_2))\n",
    "print(\"první: \", next(it_1))\n",
    "print(\" druhý: \", next(it_2))"
   ]
  },
  {
   "cell_type": "markdown",
   "id": "d8d9c290",
   "metadata": {},
   "source": [
    "<div style=\"border-left: 5px solid green; padding-left: 1em\">\n",
    "<p><strong>Poznámka:</strong>\n",
    "Iterovatelný objekt si můžeme představit jako knížku, která se skládá z jednotlivých stránek a iterátory si můžeme představit jako záložky v této knížce. </div>"
   ]
  },
  {
   "cell_type": "markdown",
   "id": "8eb5b587",
   "metadata": {},
   "source": [
    "V programech s iterátory obvykle nepracujeme přímo, ale skrytě. Již jsme zmínili, že na iterátorech je založený `for`-cyklus. Při `for`-cyklu se pro iterovatelný objekt nejprve vytvoří iterátor a pak se na něm v cyklu volá `next()`, dokud se iterátor nevyčerpá. Tento princip ilustruje následující ukázka:"
   ]
  },
  {
   "cell_type": "code",
   "execution_count": 8,
   "id": "8c910f4f",
   "metadata": {},
   "outputs": [],
   "source": [
    "my_list = [1, 8, 3]\n",
    "\n",
    "for x in my_list:\n",
    "    ... # do something"
   ]
  },
  {
   "cell_type": "markdown",
   "id": "be98b292",
   "metadata": {},
   "source": [
    "Kód v předchozí buňce můžeme přepsat tímto způsobem:"
   ]
  },
  {
   "cell_type": "code",
   "execution_count": 9,
   "id": "7aa77296",
   "metadata": {},
   "outputs": [],
   "source": [
    "my_list = [1, 8, 3]\n",
    "\n",
    "iterator = iter(my_list)\n",
    "while True:\n",
    "    try:\n",
    "        x = next(iterator)\n",
    "        ... # do something        \n",
    "    except StopIteration:\n",
    "        break"
   ]
  },
  {
   "cell_type": "markdown",
   "id": "2624f164",
   "metadata": {},
   "source": [
    "<div style=\"border-left: 5px solid orange; padding-left: 1em\">\n",
    "<p><strong>Poznámka:</strong>\n",
    "S dvojicí bloků <code>try:</code> a <code>except:</code> jsme se již setkali ve veřejných testech domácích úkolů. \n",
    "Slouží k  ošetřování (neboli <i>odchytávání</i>) chyb (<i>výjimek</i>). Pokud uvnitř bloku <code>try:</code> dojde k chybě, tj. k <i>vyvolání výjimky</i>, provádění bloku <code>try:</code> se okamžitě ukončí a přejde se do bloku <code>except:</code>.\n",
    "Pokud k chybě nedojde, blok <code>except:</code> se přeskočí.\n",
    "Více o výjimkách a obecně o ošetřování chyb si řekneme na jednom z následujících cvičení. </div>"
   ]
  },
  {
   "cell_type": "markdown",
   "id": "a8163a38",
   "metadata": {},
   "source": [
    "Jako zdroj hodnot pro `for`-cyklus můžeme použít přímo iterátor, ale je třeba si uvědomit, že se po jednom použití vyčerpá a už nelze použít znova:"
   ]
  },
  {
   "cell_type": "code",
   "execution_count": 10,
   "id": "e668159b",
   "metadata": {},
   "outputs": [
    {
     "name": "stdout",
     "output_type": "stream",
     "text": [
      "poprvé:\n",
      "1 8 3 \n",
      "podruhé:\n",
      "\n"
     ]
    }
   ],
   "source": [
    "my_list = [1, 8, 3]\n",
    "iterator = iter(my_list)\n",
    "\n",
    "print(\"poprvé:\")\n",
    "for x in iterator:\n",
    "    print(x, end = \" \")\n",
    "print()\n",
    "\n",
    "print(\"podruhé:\")\n",
    "for x in iterator:\n",
    "    print(x, end = \" \")\n",
    "print()"
   ]
  },
  {
   "cell_type": "markdown",
   "id": "f170d58e",
   "metadata": {},
   "source": [
    "Pokud jako zdroj hodnot pro `for`-cyklus použijeme přímo iterovatelný objekt, předchozí problém nenastane, protože při spuštění `for`-cyklu se pro něj vytvoří vždy nový iterátor:"
   ]
  },
  {
   "cell_type": "code",
   "execution_count": 11,
   "id": "6916a680",
   "metadata": {},
   "outputs": [
    {
     "name": "stdout",
     "output_type": "stream",
     "text": [
      "poprvé:\n",
      "1 8 3 \n",
      "podruhé:\n",
      "1 8 3 \n"
     ]
    }
   ],
   "source": [
    "print(\"poprvé:\")\n",
    "for x in my_list:\n",
    "    print(x, end = \" \")\n",
    "print()\n",
    "\n",
    "print(\"podruhé:\")\n",
    "for x in my_list:\n",
    "    print(x, end = \" \")\n",
    "print()"
   ]
  },
  {
   "cell_type": "markdown",
   "id": "5c58f999",
   "metadata": {},
   "source": [
    "<div style=\"border-left: 5px solid orange; padding-left: 1em\">\n",
    "<p><strong>Poznámka:</strong>\n",
    "Iterátory v Pythonu pracují na zásadě <i>líného vyhodnocování</i> (<i>lazy evaluation</i>). To znamená, že prvky nejsou načítány do paměti najednou, ale jsou získávány až ve chvíli, kdy jsou potřeba. To je užitečné pro zpracování velkých datových sad, protože tak snížíme paměťové nároky programu.</div>"
   ]
  },
  {
   "cell_type": "markdown",
   "id": "e7375318",
   "metadata": {},
   "source": [
    "## Vestavěné funkce, které vrací iterátory\n",
    "\n",
    "Kromě funkce `iter()` jsou v Pythonu i další vestavěné funkce, které vrací iterátory:\n",
    "\n",
    "Funkce                             | Krátký popis\n",
    "-----------------------------------|-----------------------------\n",
    "`reversed(sequence)`               | Vrací iterátor, který poskytuje prvky posloupnosti `sequence` v opačném pořadí.\n",
    "`map(function, iterable)`          | Vrací iterátor přes `function(x)` pro `x` z `iterable`.\n",
    "`filter(function, iterable)`       | Vrací iterátor přes ta `x` z `iterable`, pro která `function(x)==True`.\n",
    "`zip(*iterables)`                  | Vrací iterátor přes n-tice `(x, y,...)` pro `x` z `iterable1`, `y` z `iterable2`,...\n",
    "`enumerate(iterable,start=0)`      | Vrací objekt `enumerate` - iterátor přes dvojice `(index, x)` pro `x` z `iterable`.\n"
   ]
  },
  {
   "cell_type": "markdown",
   "id": "7c94c35f",
   "metadata": {},
   "source": [
    "Použití těchto funkcí si ukážeme na několika ilustračních příkladech:"
   ]
  },
  {
   "cell_type": "code",
   "execution_count": 12,
   "id": "ba14c822",
   "metadata": {},
   "outputs": [
    {
     "name": "stdout",
     "output_type": "stream",
     "text": [
      "2 1 3 6 2 7 1 \n",
      "<list_reverseiterator object at 0x7f0420031780>\n",
      "[2, 1, 3, 6, 2, 7, 1]\n",
      "[1, 7, 2, 6, 3, 1, 2]\n"
     ]
    }
   ],
   "source": [
    "my_list = [1,7,2,6,3,1,2]\n",
    "\n",
    "# iterace přes prvky seznamu v opačném pořadí:\n",
    "for x in reversed(my_list):\n",
    "    print(x, end=\" \")\n",
    "print(\"\")\n",
    "\n",
    "# funkce 'reversed' vrací iterátor (ne seznam):\n",
    "m = reversed(my_list)\n",
    "print(m) \n",
    "\n",
    "# iterátor mohu převést na seznam:\n",
    "reversed_list = list(m)\n",
    "print(reversed_list)\n",
    "print(my_list)"
   ]
  },
  {
   "cell_type": "markdown",
   "id": "14a5463a",
   "metadata": {},
   "source": [
    "Iterátory můžeme převézt na různé typy kontejnerů - voláním příslušné funkce (konstruktoru): např. `list(iterator)`, `tuple(iterator)`, `set(iterator)`:"
   ]
  },
  {
   "cell_type": "code",
   "execution_count": 13,
   "id": "78406a04",
   "metadata": {},
   "outputs": [
    {
     "name": "stdout",
     "output_type": "stream",
     "text": [
      "(2, 1, 3, 6, 2, 7, 1)\n",
      "[2, 1, 3, 6, 2, 7, 1]\n",
      "(1, 7, 2, 6, 3, 1, 2)\n",
      "{1, 2, 3, 6, 7}\n"
     ]
    }
   ],
   "source": [
    "my_tuple = (1, 7, 2, 6, 3, 1, 2)\n",
    "\n",
    "reversed_tuple = tuple(reversed(my_tuple))\n",
    "reversed_list  = list(reversed(my_tuple))\n",
    "my_set         = set(iter(my_tuple)) \n",
    "\n",
    "print(reversed_tuple)\n",
    "print(reversed_list)\n",
    "print(my_tuple)\n",
    "print(my_set)"
   ]
  },
  {
   "cell_type": "markdown",
   "id": "5a79408f",
   "metadata": {},
   "source": [
    "\n",
    "Funkce `filter(f, iterable)` vytváří iterátor, který poskytuje pouze ty prvky z iterable, pro které funkce `f(x)` vrací hodnotu `True`."
   ]
  },
  {
   "cell_type": "code",
   "execution_count": 14,
   "id": "6e1bfb60",
   "metadata": {},
   "outputs": [
    {
     "name": "stdout",
     "output_type": "stream",
     "text": [
      "2 4 6 8 \n",
      "(2, 4, 6, 8)\n"
     ]
    }
   ],
   "source": [
    "def is_even(number):\n",
    "    return number % 2 == 0\n",
    "\n",
    "numbers = (1, 2, 3, 4, 5, 6, 7, 8)\n",
    "\n",
    "# iterace jen přes sudá čísla z n-tice:\n",
    "for x in filter(is_even, numbers):\n",
    "    print(x, end=\" \")\n",
    "print(\"\")\n",
    "\n",
    "# iterátor mohu převést na iterovatelný objekt (např. n-tici):\n",
    "even_numbers = tuple(filter(is_even, numbers))\n",
    "\n",
    "print(even_numbers)"
   ]
  },
  {
   "cell_type": "markdown",
   "id": "081d5ea1",
   "metadata": {},
   "source": [
    "Funkce `map(f, iterable)` vytváří iterátor, který poskytuje `f(x)` pro každý prvek `x` z `iterable`."
   ]
  },
  {
   "cell_type": "code",
   "execution_count": 15,
   "id": "c34ba5e4",
   "metadata": {},
   "outputs": [
    {
     "name": "stdout",
     "output_type": "stream",
     "text": [
      "1 4 9 16 25 36 49 64 \n",
      "[1, 4, 9, 16, 25, 36, 49, 64]\n"
     ]
    }
   ],
   "source": [
    "def square(number):\n",
    "    return number ** 2\n",
    "\n",
    "numbers = [1, 2, 3, 4, 5, 6, 7, 8]\n",
    "\n",
    "# iterace přes druhé mocniny čísel ze seznamu:\n",
    "for x in map(square, numbers):\n",
    "    print(x, end=\" \")\n",
    "print(\"\")\n",
    "\n",
    "# iterátor mohu převést na iterovatelný objekt (např. seznam):\n",
    "squares  = list(map(square, numbers))\n",
    "\n",
    "print(squares)"
   ]
  },
  {
   "cell_type": "markdown",
   "id": "0cf927c6",
   "metadata": {},
   "source": [
    "<div style=\"border-left: 5px solid orange; padding-left: 1em\">\n",
    "<p><strong>Poznámka:</strong>\n",
    "Funkce <code>filter()</code> a <code>map()</code> se dají použít elegantněji v kombinaci s tzv. <i>anonymními</i> (<i>lambda</i>) funkcemi, jak ukazují následující příklady.\n",
    "<pre>\n",
    "even_numbers = tuple(filter(lambda x: x % 2 == 0, numbers))\n",
    "squares = list(map(lambda x: x ** 2, numbers))\n",
    "</pre>\n",
    "Tato látka je ovšem nad rámec tohoto základního kurzu. Více o anonymních funkcích se dozvíte např.\n",
    "<a href=\"https://docs.python.org/3/tutorial/controlflow.html#lambda-expressions\">v dokumentaci</a>.\n",
    "</div>"
   ]
  },
  {
   "cell_type": "markdown",
   "id": "b725eacc",
   "metadata": {},
   "source": [
    "Funkce `zip(*iterables)` vytvoří iterátor n-tic pro prvky z několika iterovatelných objektů: "
   ]
  },
  {
   "cell_type": "code",
   "execution_count": 16,
   "id": "ed8c6e26",
   "metadata": {},
   "outputs": [
    {
     "name": "stdout",
     "output_type": "stream",
     "text": [
      "Anna má plat 25000 Kč.\n",
      "Bob má plat 35000 Kč.\n",
      "Cyril má plat 45000 Kč.\n"
     ]
    }
   ],
   "source": [
    "names = [\"Anna\", \"Bob\", \"Cyril\"]\n",
    "salaries = [25000, 35000, 45000]\n",
    "\n",
    "for name, salary in zip(names, salaries):\n",
    "  print(f\"{name} má plat {salary} Kč.\")"
   ]
  },
  {
   "cell_type": "markdown",
   "id": "236f4006",
   "metadata": {},
   "source": [
    "Pokud mají iterovatelné objekty různé počty prvků, funkce zip prvky navíc ignoruje:"
   ]
  },
  {
   "cell_type": "code",
   "execution_count": 17,
   "id": "7b4bb1f5",
   "metadata": {},
   "outputs": [
    {
     "name": "stdout",
     "output_type": "stream",
     "text": [
      "[(1, 'a', (11, 'A')), (2, 'b', (12, 'B')), (3, 'c', (13, 'C'))]\n"
     ]
    }
   ],
   "source": [
    "x = [1, 2, 3, 4, 5]\n",
    "y = (\"a\", \"b\", \"c\")\n",
    "z = { 11 : \"A\", 12 : \"B\", 13 : \"C\", 14 : \"D\"}\n",
    "\n",
    "w = list(zip(x,y,z.items()))\n",
    "print(w)"
   ]
  },
  {
   "cell_type": "markdown",
   "id": "fd4c5bb0-4d3f-4337-9589-603b9f4cee38",
   "metadata": {},
   "source": [
    "Funkce `enumerate(iterable, start=0)` vrací enumerate objekt, což je iterátor, který poskytuje dvojice `(index,x)` pro každý prvek `x` z `iterable`."
   ]
  },
  {
   "cell_type": "code",
   "execution_count": 18,
   "id": "0d974bcd-a89c-4f80-95be-60f609878322",
   "metadata": {},
   "outputs": [
    {
     "name": "stdout",
     "output_type": "stream",
     "text": [
      "<enumerate object at 0x7f04035f0ef0>\n",
      "Index: 0, Value: 0\n",
      "Index: 1, Value: 1\n",
      "Index: 2, Value: 10\n",
      "Index: 3, Value: 2\n",
      "[(0, 'a'), (1, 'b'), (2, 'r'), (3, 'a'), (4, 'k'), (5, 'a'), (6, 'd'), (7, 'a'), (8, 'b'), (9, 'r'), (10, 'a')]\n",
      "[(10, 'a'), (11, 'b'), (12, 'r'), (13, 'a'), (14, 'k'), (15, 'a'), (16, 'd'), (17, 'a'), (18, 'b'), (19, 'r'), (20, 'a')]\n"
     ]
    }
   ],
   "source": [
    "numbers = {10, 1, 2, 0}\n",
    "\n",
    "print(enumerate(numbers))\n",
    "\n",
    "# iterace:\n",
    "for index, value in enumerate(numbers):\n",
    "    print(f\"Index: {index}, Value: {value}\")\n",
    "\n",
    "string = \"abrakadabra\" \n",
    "print(list(enumerate(string)))\n",
    "\n",
    "# volitelný parametr start nastaví začátek číslování:\n",
    "print(list(enumerate(string, start=10)))"
   ]
  },
  {
   "cell_type": "markdown",
   "id": "1a34912b",
   "metadata": {},
   "source": [
    "## Další užitečné vestevěné funkce\n",
    "\n",
    "Kromě funkcí, které vrací iterátory existuje i řada dalších užitečných funkcí nad iterovatelnými objekty:\n",
    "Funkce                             | Krátký popis\n",
    "-----------------------------------|-----------------------------\n",
    "`all(iterable)`                    | Vrací `True`, pokud každý prvek z `iterable` má hodnotu `True`, jinak vrací `False`.\n",
    "`any(iterable)`                    | Vrací `True`, pokud alespoň jeden prvek z `iterable` má hodnotu `True`, jinak vrací `False`.\n",
    "`sum(iterable, /, start=0)`  | Vrací součet prvků z `iterable`.\n",
    "`max(iterable, /, key=None)`  | Vrací největší prvek z `iterable`.\n",
    "`min(iterable, /, key=None)`  | Vrací nejmenší prvek z `iterable`.\n",
    "`range(stop)`, `range(start,stop)`, `range(start,stop,step)` | Vrací iterovatelný objekt typu `range`, nemodifikovatelnou posloupnost čísel.\n",
    "`sorted(iterable, /, *, key=None, reverse=False`) | Vrací nový seznam obsahující všechny prvky iterovatelného objektu `iterable`.\n",
    "\n",
    "\n",
    "Použití těchto funkcí si ukážeme na několika ilustračních příkladech:"
   ]
  },
  {
   "cell_type": "code",
   "execution_count": 1,
   "id": "9e38a442",
   "metadata": {},
   "outputs": [
    {
     "name": "stdout",
     "output_type": "stream",
     "text": [
      "True False 13 10 0\n",
      "range(0, 3)\n",
      "[0, 1, 2]\n"
     ]
    }
   ],
   "source": [
    "# any, all, sum, max, min:\n",
    "numbers = {0, 1, 2, 10}\n",
    "print(any(numbers), all(numbers), sum(numbers), max(numbers), min(numbers))\n",
    "\n",
    "# range:\n",
    "print(range(3))\n",
    "print(list(range(3)))"
   ]
  },
  {
   "cell_type": "markdown",
   "id": "05a760dc",
   "metadata": {},
   "source": [
    "Funkci `sorted` a význam volitelného parametru `key` u funkcí `max`, `min` a `sorted` detailněji rozebereme v následující kapitole. "
   ]
  },
  {
   "cell_type": "markdown",
   "id": "1f4fda78",
   "metadata": {},
   "source": [
    "### Příklady:\n",
    "1a. __palindrom__ Napište funkci `palindrome(sequence)`, která ověří, zda je daná posloupnost palindromem (tj. zda se čte stejně od začátku jako od konce). Využijte některou z funkcí, se kterými jsme se seznámili na tomto cvičení (např. `reversed`)."
   ]
  },
  {
   "cell_type": "code",
   "execution_count": null,
   "id": "c4bd3d37",
   "metadata": {},
   "outputs": [],
   "source": [
    "def palindrome(sequence):\n",
    "    ...\n",
    "\n",
    "assert palindrome(\"kobylamamalybok\")\n",
    "assert palindrome((1,23,6,6,23,1))\n",
    "assert palindrome([1,23,6,6,23]) == False"
   ]
  },
  {
   "cell_type": "markdown",
   "id": "b8ecae01",
   "metadata": {},
   "source": [
    "1b. __počet palindromů__ Napište funkci `count_palindromes(sequence)`, která vrátí počet prvků z posloupnosti `sequence`, které jsou palindromy. Využijte některé z funkcí, se kterými jsme se seznámili na tomto cvičení (např. `map`,`sum`)."
   ]
  },
  {
   "cell_type": "code",
   "execution_count": null,
   "id": "bdf6fa77",
   "metadata": {},
   "outputs": [],
   "source": [
    "def count_palindromes(sequence):\n",
    "   ...\n",
    "\n",
    "word_list = [\"ananas\", \"otto\", \"radar\", \"hello\", \"level\", \"civic\", \"python\"]\n",
    "assert count_palindromes(word_list) == 4"
   ]
  },
  {
   "cell_type": "markdown",
   "id": "a2ddc252",
   "metadata": {},
   "source": [
    "1c. __palindromy__ Napište funkci `palindromes(sequence)`, která vrátí seznam prvků z posloupnosti `sequence`, které jsou palindromy. Využijte některou z funkcí, se kterými jsme se seznámili na tomto cvičení (např. `filter`)."
   ]
  },
  {
   "cell_type": "code",
   "execution_count": null,
   "id": "23dac659",
   "metadata": {},
   "outputs": [],
   "source": [
    "def palindromes(sequence):\n",
    "    ...\n",
    "\n",
    "word_list = [\"ananas\", \"otto\", \"radar\", \"hello\", \"level\", \"civic\", \"python\"]\n",
    "assert palindromes(word_list) == ['otto', 'radar', 'level', 'civic']"
   ]
  },
  {
   "cell_type": "markdown",
   "id": "3f4a6feb",
   "metadata": {},
   "source": [
    "2. __vytvoř loginy__ Máme dva seznamy, v jednom jsou jména osob a v druhém jim přiřazená čísla (ID). Napište funkci, která vrátí seznam loginů.  Každý login bude vytvořen tak, že vezmeme první 4  písmena ze jména, změníme je na malá, doplníme případně znakem `'_'` na 4 znaky , a na konec připojíme celé ID.    Využijte některou z funkcí, se kterými jsme se seznámili na tomto cvičení (např. `zip` nebo `map`). "
   ]
  },
  {
   "cell_type": "code",
   "execution_count": null,
   "id": "01aebe2a",
   "metadata": {},
   "outputs": [],
   "source": [
    "def create_logins(names, ids):\n",
    "    ...\n",
    "\n",
    "names = [\"John\", \"Alice\", \"Eduard\", \"Bob\", \"Ed\"]\n",
    "ids = [143,787,546,165,798]\n",
    "assert create_logins(names,ids) == ['john143', 'alic787', 'edua546', 'bob_165', 'ed__798']"
   ]
  },
  {
   "cell_type": "markdown",
   "id": "ef831d59",
   "metadata": {},
   "source": [
    "3a. __indexy__ Napište funkci, která vrátí seznam všech indexů, kde se v řetězci `string` vyskytuje znak `char`. \n",
    "Využijte některou z funkcí, se kterými jsme se seznámili na tomto cvičení (např. `enumerate`)."
   ]
  },
  {
   "cell_type": "code",
   "execution_count": null,
   "id": "8a683899",
   "metadata": {},
   "outputs": [],
   "source": [
    "def find_letter_indexes(string, letter):\n",
    "    ...\n",
    "\n",
    "assert find_letter_indexes(\"hello world\", \"l\") == [2, 3, 9]"
   ]
  },
  {
   "cell_type": "markdown",
   "id": "1530d42b",
   "metadata": {},
   "source": [
    "3b.  __indexy__ Napište funkci, která vrátí seznam všech indexů, na kterých v řetězci `string` začíná podstring `substring`. "
   ]
  },
  {
   "cell_type": "code",
   "execution_count": null,
   "id": "46f906e0",
   "metadata": {},
   "outputs": [],
   "source": [
    "def find_substring_indexes(string, substring):\n",
    "   ...\n",
    "\n",
    "assert find_substring_indexes(\"ara aaraara arara\", \"ara\") == [0, 5, 8, 12, 14]"
   ]
  },
  {
   "cell_type": "markdown",
   "id": "a479ae21",
   "metadata": {},
   "source": [
    "## Třídění iterovatelných objektů\n",
    "K třídění (řazení) prvků iterovatelných objektů slouží funkce `sorted(iterable, /, *, key=None, reverse=False`). Funkce vrací nový seznam. Ten obsahuje všechny prvky iterovatelného objektu `iterable` seřazené od nejmenšího po největší (nebo od největšího po nejmenší) pomocí operátorů pro porovnání (`<=`). Defaultně řadí funkce prvky vzestupně, pro sestupné pořadí je třeba nastavit hodnotu volitelného parametru `reverse=True`:"
   ]
  },
  {
   "cell_type": "code",
   "execution_count": 19,
   "id": "e5d8c21c",
   "metadata": {},
   "outputs": [
    {
     "name": "stdout",
     "output_type": "stream",
     "text": [
      "[1, 2, 3, 4, 5]\n",
      "[5, 4, 3, 2, 1]\n"
     ]
    }
   ],
   "source": [
    "my_tuple = (5, 2, 3, 1, 4)\n",
    "\n",
    "sorted_list = sorted(my_tuple)\n",
    "print(sorted_list)\n",
    "\n",
    "sorted_list_1 = sorted(my_tuple, reverse=True)\n",
    "print(sorted_list_1)"
   ]
  },
  {
   "cell_type": "code",
   "execution_count": 20,
   "id": "3669ce44",
   "metadata": {},
   "outputs": [
    {
     "name": "stdout",
     "output_type": "stream",
     "text": [
      "['ABC', 'aBc', 'ab', 'abc', 'abd', 'abČ']\n"
     ]
    }
   ],
   "source": [
    "# stringy:\n",
    "my_set = {\"abc\", \"abd\", \"ABC\", \"aBc\", \"ab\", \"abČ\"}\n",
    "\n",
    "sorted_list = sorted(my_set)\n",
    "print(sorted_list)"
   ]
  },
  {
   "cell_type": "code",
   "execution_count": 21,
   "id": "ba90ed91",
   "metadata": {},
   "outputs": [
    {
     "name": "stdout",
     "output_type": "stream",
     "text": [
      "True True\n",
      "[(0, False, 'abc'), (0, False, 'abc'), (0, True, 'ab'), (0, True, 'abc'), (1, True, 'ab'), (1, True, 'abc')]\n"
     ]
    }
   ],
   "source": [
    "# porovnávat a třídit můžeme i posloupnosti:\n",
    "print((0, True, \"abc\") > (0, False, \"ab\"),\n",
    "      (0, True, \"abc\") > (0, True, \"ab\"))\n",
    "\n",
    "my_list = [\n",
    "    (1, True, \"abc\"),\n",
    "    (0, True, \"ab\"),\n",
    "    (0, False, \"abc\"),\n",
    "    (0, True, \"abc\"),\n",
    "    (1, True, \"ab\"),\n",
    "    (0, False, \"abc\")\n",
    "]\n",
    "sorted_list = sorted(my_list)\n",
    "print(sorted_list)"
   ]
  },
  {
   "cell_type": "code",
   "execution_count": 24,
   "id": "23d68cf7",
   "metadata": {},
   "outputs": [
    {
     "name": "stdout",
     "output_type": "stream",
     "text": [
      "{3: 'c', 2: 'b', 4: 'a'}\n",
      "[2, 3, 4]\n",
      "['a', 'b', 'c']\n"
     ]
    }
   ],
   "source": [
    "my_dict = {3: \"c\", 2: \"b\", 4: \"a\"}\n",
    "\n",
    "sorted_list = sorted(my_dict)\n",
    "print(sorted_list)\n",
    "\n",
    "sorted_list = sorted(my_dict.values())\n",
    "print(sorted_list)"
   ]
  },
  {
   "cell_type": "markdown",
   "id": "a842f652",
   "metadata": {},
   "source": [
    "Funkce `sorted` má další volitelný parametr `key`, který definuje metodu nebo funkci, která bude zavolaná na každý prvek předtím, než se provede třídění."
   ]
  },
  {
   "cell_type": "code",
   "execution_count": 23,
   "id": "05972062",
   "metadata": {},
   "outputs": [
    {
     "name": "stdout",
     "output_type": "stream",
     "text": [
      "original:    ['Anna', 'and', 'Bob', 'decided', 'to', 'buy', 'a', 'beautiful', 'house', 'in', 'Brighton']\n",
      "without key: ['Anna', 'Bob', 'Brighton', 'a', 'and', 'beautiful', 'buy', 'decided', 'house', 'in', 'to']\n",
      "with key:    ['a', 'and', 'Anna', 'beautiful', 'Bob', 'Brighton', 'buy', 'decided', 'house', 'in', 'to']\n"
     ]
    }
   ],
   "source": [
    "my_string = \"Anna and Bob decided to buy a beautiful house in Brighton\"\n",
    "my_list = my_string.split()\n",
    "print(\"original:   \", my_list)\n",
    "\n",
    "print(\"without key:\", sorted(my_list))\n",
    "print(\"with key:   \", sorted(my_list, key=str.lower))"
   ]
  },
  {
   "cell_type": "code",
   "execution_count": 24,
   "id": "943f9ff1",
   "metadata": {},
   "outputs": [
    {
     "name": "stdout",
     "output_type": "stream",
     "text": [
      "sort by lenghts: ['a', 'to', 'in', 'and', 'Bob', 'buy', 'Anna', 'house', 'decided', 'Brighton', 'beautiful']\n"
     ]
    }
   ],
   "source": [
    "print(\"sort by lenghts:\", sorted(my_list, key=len))"
   ]
  },
  {
   "cell_type": "markdown",
   "id": "a66d088b",
   "metadata": {},
   "source": [
    "Iterovatelné objekty často potřebujeme třídit podle hodnot na nějakém indexu: "
   ]
  },
  {
   "cell_type": "code",
   "execution_count": 25,
   "id": "5982b35d",
   "metadata": {},
   "outputs": [
    {
     "name": "stdout",
     "output_type": "stream",
     "text": [
      "[(3, 'ba', False), (3, 'bc', True), (4, 'bba', True)]\n",
      "[(3, 'ba', False), (4, 'bba', True), (3, 'bc', True)]\n",
      "[(3, 'ba', False), (4, 'bba', True), (3, 'bc', True)]\n"
     ]
    }
   ],
   "source": [
    "my_tuples = [(3, 'bc', True), (3, 'ba', False), (4, 'bba', True)]\n",
    "\n",
    "sorted_list = sorted(my_tuples)\n",
    "print(sorted_list)\n",
    "\n",
    "def second(x):\n",
    "    return x[1]\n",
    "\n",
    "# setřídění podle druhé hodnoty v n-tici:\n",
    "sorted_list = sorted(my_tuples, key=second)\n",
    "print(sorted_list)\n",
    "\n",
    "# setřídění podle druhé hodnoty v n-tici:\n",
    "sorted_list = sorted(my_tuples, key=lambda x : x[1])\n",
    "print(sorted_list)"
   ]
  },
  {
   "cell_type": "markdown",
   "id": "65425d71",
   "metadata": {},
   "source": [
    "### Třídění seznamů\n",
    "\n",
    "Narozdíl od jiných iterovatelných objektů můžeme u seznamů kromě funkce `sorted()` použít také metodu `sort(*, key=None, reverse=False)`. Ta narozdíl od funkce `sorted()` nevrací nový seznam, ale modifikuje ten původní: "
   ]
  },
  {
   "cell_type": "code",
   "execution_count": 26,
   "id": "8cd0e30b",
   "metadata": {},
   "outputs": [
    {
     "name": "stdout",
     "output_type": "stream",
     "text": [
      "[-5, -3, 1, 2, 4]\n",
      "[4, 2, 1, -3, -5]\n",
      "[-5, 4, -3, 2, 1]\n"
     ]
    }
   ],
   "source": [
    "my_list = [-5, 2, -3, 1, 4]\n",
    "\n",
    "my_list.sort()\n",
    "print(my_list)\n",
    "\n",
    "my_list.sort(reverse=True)\n",
    "print(my_list)\n",
    "\n",
    "my_list.sort(reverse=True, key=abs)\n",
    "print(my_list)"
   ]
  },
  {
   "cell_type": "markdown",
   "id": "55cf27e3",
   "metadata": {},
   "source": [
    "U seznamů je také třeba dávat pozor, abychom si nespletli funkci `reversed()`, která vrací iterátor a metodu `reverse()`, která modifikuje původní seznam:"
   ]
  },
  {
   "cell_type": "code",
   "execution_count": 27,
   "id": "8cb593d7",
   "metadata": {},
   "outputs": [
    {
     "name": "stdout",
     "output_type": "stream",
     "text": [
      "[4, 1, 3, 2, 5]\n",
      "[5, 2, 3, 1, 4]\n",
      "[4, 1, 3, 2, 5]\n"
     ]
    }
   ],
   "source": [
    "my_list = [5, 2, 3, 1, 4]\n",
    "\n",
    "print(list(reversed(my_list)))\n",
    "print(my_list)\n",
    "\n",
    "my_list.reverse()\n",
    "print(my_list)"
   ]
  },
  {
   "cell_type": "markdown",
   "id": "928ec5be",
   "metadata": {},
   "source": [
    "## Modul itertools\n",
    "\n",
    "Další funkce pro práci s iterátory a iterovatelnými objekty naleznete v modulu [itertools](https://docs.python.org/3/library/itertools.html#module-itertools).\n",
    "Jsou zde například funkce vracející kombinatorické iterátory:"
   ]
  },
  {
   "cell_type": "code",
   "execution_count": 29,
   "id": "55768a0c",
   "metadata": {},
   "outputs": [
    {
     "name": "stdout",
     "output_type": "stream",
     "text": [
      "abcd abdc acbd acdb adbc adcb bacd badc bcad bcda bdac bdca cabd cadb cbad cbda cdab cdba dabc dacb dbac dbca dcab dcba \n",
      "ab ac ad ba bc bd ca cb cd da db dc \n",
      "ab ac ad bc bd cd \n",
      "aa ab ac ad bb bc bd cc cd dd "
     ]
    }
   ],
   "source": [
    "import itertools\n",
    "\n",
    "# permutace:\n",
    "for x in itertools.permutations(\"abcd\"):\n",
    "    print(\"\".join(x), end=\" \")\n",
    "print(\"\")\n",
    "\n",
    "# variace:\n",
    "for x in itertools.permutations(\"abcd\", 2):\n",
    "    print(\"\".join(x), end=\" \")\n",
    "print(\"\")\n",
    "\n",
    "# kombinace:\n",
    "for x in itertools.combinations(\"abcd\", 2):\n",
    "    print(\"\".join(x), end=\" \")\n",
    "print(\"\")\n",
    "\n",
    "# kombinace s opakováním:\n",
    "for x in itertools.combinations_with_replacement(\"abcd\", 2):\n",
    "    print(\"\".join(x), end=\" \")"
   ]
  },
  {
   "cell_type": "markdown",
   "id": "9d61bffe",
   "metadata": {},
   "source": [
    "4. __setřiď podle id__ Napište funkci, která pro seznam loginů ve tvaru `\"jméno\"+\"id\"`, kde `id` je tvořeno čtyřmi číslicemi, vrátí nový seznam, kde budou loginy setříděny sestupně podle `id`"
   ]
  },
  {
   "cell_type": "code",
   "execution_count": null,
   "id": "fbd69fa5",
   "metadata": {},
   "outputs": [],
   "source": [
    "def sort_logins_by_id(logins):\n",
    "    ...\n",
    "\n",
    "login_list = [\"john1234\", \"alice5678\", \"bob2345\", \"eve8765\"]\n",
    "assert sort_logins_by_id(login_list) == ['eve8765', 'alice5678', 'bob2345', 'john1234']\n",
    "assert login_list == [\"john1234\", \"alice5678\", \"bob2345\", \"eve8765\"]"
   ]
  },
  {
   "cell_type": "markdown",
   "id": "4d4d8543",
   "metadata": {},
   "source": [
    "5a. __setřiď podle vzdálenosti__ Napište funkci, která vezme seznam bodů v n-rozměrném Euklidovském prostoru a vrátí ho setříděný vzestupně podle vzdálenosti bodů od bodu (0,0,...,0). Body jsou reprezentované jako n-tice čísel. "
   ]
  },
  {
   "cell_type": "code",
   "execution_count": null,
   "id": "8e9f717c",
   "metadata": {},
   "outputs": [],
   "source": [
    "def sort_vectors_by_distance(vectors):\n",
    "   ...\n",
    "\n",
    "vectors = [(3, 4.5, 0), (1, 2, -3), (0, 0, 0), (-1, -1, 1), (0.5, 5, -1)]\n",
    "sorted_vectors = sort_vectors_by_distance(vectors)\n",
    "assert sorted_vectors == [(0, 0, 0), (-1, -1, 1), (1, 2, -3), (0.5, 5, -1), (3, 4.5, 0)]\n",
    "assert vectors == [(3, 4.5, 0), (1, 2, -3), (0, 0, 0), (-1, -1, 1), (0.5, 5, -1)]"
   ]
  },
  {
   "cell_type": "markdown",
   "id": "fa450f4f",
   "metadata": {},
   "source": [
    "5b. Změňte předchozí funkci tak, aby setřídila přímo původní seznam `vectors`: "
   ]
  },
  {
   "cell_type": "code",
   "execution_count": null,
   "id": "5de718fb",
   "metadata": {},
   "outputs": [],
   "source": [
    "def sort_vectors_by_distance(vectors):\n",
    "   ...\n",
    "\n",
    "vectors = [(3, 4.5, 0), (1, 2, -3), (0, 0, 0), (-1, -1, 1), (0.5, 5, -1)]\n",
    "sort_vectors_by_distance(vectors)\n",
    "assert vectors == [(0, 0, 0), (-1, -1, 1), (1, 2, -3), (0.5, 5, -1), (3, 4.5, 0)]"
   ]
  },
  {
   "cell_type": "markdown",
   "id": "8b9b34c4",
   "metadata": {},
   "source": [
    "6. __známky__ Seznam studentů je reprezentovaný jako seznam slovníků, kde pro každého studenta je jeho jméno a seznam získaných známek. Například:"
   ]
  },
  {
   "cell_type": "code",
   "execution_count": null,
   "id": "366a7c0b",
   "metadata": {},
   "outputs": [],
   "source": [
    "grades = [{'name': 'Adam', 'grades': [1, 2, 3, 1, 2]},\n",
    " {'name': 'Martin', 'grades': [1, 2, 2]},\n",
    " {'name': 'Filip', 'grades':  [1, 3]},\n",
    " {'name': 'David', 'grades':  [1, 2, 2, 3]},\n",
    " {'name': 'Jakub', 'grades':  [1, 2, 2, 1, 1]}]"
   ]
  },
  {
   "cell_type": "markdown",
   "id": "48dfaf8b",
   "metadata": {},
   "source": [
    "6a. Napište funkci, která vypíše jména studentů a jejich průměr známek v pořadí od studenta s nejlepším průměrem známek po studenta s nejhorším průměrem. Využijte některou z funkcí, se kterými jsme se seznámili na tomto cvičení (např. `sorted`)."
   ]
  },
  {
   "cell_type": "code",
   "execution_count": null,
   "id": "c276dfb0",
   "metadata": {},
   "outputs": [
    {
     "name": "stdout",
     "output_type": "stream",
     "text": [
      "Jakub: Průměr známek: 1.40\n",
      "Martin: Průměr známek: 1.67\n",
      "Adam: Průměr známek: 1.80\n",
      "Filip: Průměr známek: 2.00\n",
      "David: Průměr známek: 2.00\n"
     ]
    }
   ],
   "source": [
    "def sort_students_by_average_grade(students):\n",
    "   ...\n",
    "   \n",
    "sort_students_by_average_grade(grades)"
   ]
  },
  {
   "cell_type": "markdown",
   "id": "5e7327dc",
   "metadata": {},
   "source": [
    "6b. Napište funkci, která vrátí seznam jmen studentů, kteří nemají dostatek známek (alespoň `n`). Využijte některou z funkcí, se kterými jsme se seznámili na tomto cvičení (např. `filter`)."
   ]
  },
  {
   "cell_type": "code",
   "execution_count": null,
   "id": "59f557c3",
   "metadata": {},
   "outputs": [],
   "source": [
    "def students_with_not_enough_grades(students, n):\n",
    "    ...\n",
    "\n",
    "assert students_with_not_enough_grades(grades,4) == ['Martin', 'Filip']\n"
   ]
  },
  {
   "cell_type": "markdown",
   "id": "f2608f6f",
   "metadata": {},
   "source": [
    "7. __hra uhodni heslo__ Napište funkci `guess_password`, která se pokusí 'uhodnout' heslo `passwd`. Heslo má má danou délku `n` a může se skládat ze znaků uvedených v stringu `chars`. Funkce bude volat funkci `evaluate_password`, která odpoví, zda je daný string správné heslo nebo ne. Využijte některou z funkcí z modulu `itertools`. Vyzkoušejte si, jak dlouho bude programu trvat uhodnutí různě dlouhých a různě složitých hesel."
   ]
  },
  {
   "cell_type": "code",
   "execution_count": null,
   "id": "d8c36e95",
   "metadata": {},
   "outputs": [
    {
     "name": "stdout",
     "output_type": "stream",
     "text": [
      "Finished:  None\n"
     ]
    }
   ],
   "source": [
    "chars = \"0123456789\"\n",
    "#chars = \"0123456789abcdefghijklmnopqrstuvwxyz\"\n",
    "n = 4\n",
    "\n",
    "def evaluate_password(string):\n",
    "    ''' Returns True if string == passwd\n",
    "    '''\n",
    "    passwd = chars[-1] * n\n",
    "    return string == passwd\n",
    "        \n",
    "def guess_password(chars, n):\n",
    "    ...\n",
    "\n",
    "passwd = guess_password(chars, n)\n",
    "print(\"Finished: \", passwd)"
   ]
  }
 ],
 "metadata": {
  "kernelspec": {
   "display_name": "Python 3",
   "language": "python",
   "name": "python3"
  },
  "language_info": {
   "codemirror_mode": {
    "name": "ipython",
    "version": 3
   },
   "file_extension": ".py",
   "mimetype": "text/x-python",
   "name": "python",
   "nbconvert_exporter": "python",
   "pygments_lexer": "ipython3",
   "version": "3.11.4"
  }
 },
 "nbformat": 4,
 "nbformat_minor": 5
}
