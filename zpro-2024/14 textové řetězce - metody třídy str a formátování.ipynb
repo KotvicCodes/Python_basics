{
 "cells": [
  {
   "cell_type": "markdown",
   "id": "1a42f634-c438-4daa-8d33-eba94264cfa3",
   "metadata": {},
   "source": [
    "# V minulém díle jste viděli…"
   ]
  },
  {
   "cell_type": "markdown",
   "id": "9f303e96-ff67-4059-8a86-9f6e0604e12e",
   "metadata": {},
   "source": [
    "_Textový řetězec_ (_string_) je základní datový typ v Pythonu, který představuje posloupnost libovolných znaků.\n",
    "Se stringy pracujeme pomocí typu `str`, což je _neměnný_ (_immutable_) kontejner."
   ]
  },
  {
   "cell_type": "markdown",
   "id": "c7b953e5-4752-4c25-a24f-4f2b1ee6c974",
   "metadata": {},
   "source": [
    "Stringy zapisujeme pomocí jednoduchých nebo dvojitých uvozovek, případně pomocí trojic jednoduchých nebo dvojitých uvozovek."
   ]
  },
  {
   "cell_type": "code",
   "execution_count": 1,
   "id": "96916a54-f0a0-4e1a-8f37-0158ee82ff64",
   "metadata": {},
   "outputs": [
    {
     "name": "stdout",
     "output_type": "stream",
     "text": [
      "Potřebuji 'apostrofy'\n",
      "Potřebuji \"uvozovky\"\n",
      "Jsem víceřádkový string,\n",
      "vytvořený pomocí\n",
      "trojic jednoduchých uvozovek.\n"
     ]
    }
   ],
   "source": [
    "s1 = \"Potřebuji 'apostrofy'\"\n",
    "s2 = 'Potřebuji \"uvozovky\"'\n",
    "s3 = '''Jsem víceřádkový string,\n",
    "vytvořený pomocí\n",
    "trojic jednoduchých uvozovek.'''\n",
    "print(s1)\n",
    "print(s2)\n",
    "print(s3)"
   ]
  },
  {
   "cell_type": "markdown",
   "id": "01172957-a9ea-4d7d-985e-584fae0966ff",
   "metadata": {},
   "source": [
    "Použití _escape sekvencí_ začínajících zpětným lomítkem (`\\`) umožňuje vkládat do stringů speciální znaky, jako například nový řádek (`\\n`) nebo uvozovky (`\\\"`)."
   ]
  },
  {
   "cell_type": "markdown",
   "id": "2f24974f-a0d2-4e14-b58e-86b71b7b1513",
   "metadata": {},
   "source": [
    "Python umožňuje převádět stringy na jiné datové typy a zpět."
   ]
  },
  {
   "cell_type": "code",
   "execution_count": 2,
   "id": "40b9b92a-7418-4573-b4be-9072a0c936fa",
   "metadata": {},
   "outputs": [
    {
     "name": "stdout",
     "output_type": "stream",
     "text": [
      "1234\n",
      "-3.5\n",
      "(1+2j)\n",
      "True\n",
      "Python\n",
      "'Python'\n"
     ]
    }
   ],
   "source": [
    "print(int(\"1234\"))\n",
    "print(float(-3.5))\n",
    "print(complex(\"1+2j\"))\n",
    "print(bool(\"0\"))\n",
    "print(str(\"Python\"))\n",
    "print(repr(\"Python\"))"
   ]
  },
  {
   "cell_type": "markdown",
   "id": "ad6c9381-3ec1-4d4d-8405-2456aed417ed",
   "metadata": {},
   "source": [
    "Pro stringy je možné používat základní operace jako testování, iterování, zřetězení, porovnání.\n",
    "Dále je k dispozici indexování a slicing.\n",
    "Porovnávání stringů se provádí znak po znaku podle jejich kódů.\n",
    "Pozor na výsledky porovnání, které mohou být ovlivněny znakovou sadou a velikostí písmen!"
   ]
  },
  {
   "cell_type": "markdown",
   "id": "0a2920cc-d531-4274-bf6a-93935d16f2b6",
   "metadata": {},
   "source": [
    "Pro zpracování jednotlivých znaků lze použít funkce `chr()` a `ord()`.\n",
    "Funkce `chr(i)` převádí celé číslo `i` na znak, zatímco `ord(c)` převádí znak `c` na jeho kód v Unicode.\n",
    "Python nezavádí samostatný datový typ pro znaky, zadávají se jako stringy obsahující pouze jeden znak."
   ]
  },
  {
   "cell_type": "code",
   "execution_count": 3,
   "id": "5f3d30dc-6b21-47c3-b297-df2b13498e0e",
   "metadata": {},
   "outputs": [
    {
     "name": "stdout",
     "output_type": "stream",
     "text": [
      "€\n",
      "8364\n"
     ]
    }
   ],
   "source": [
    "print(chr(0x20ac))    # Znak euro\n",
    "print(ord(\"€\"))"
   ]
  },
  {
   "cell_type": "markdown",
   "id": "0b0848c3-8f54-4fdd-8b08-a3dd61592de0",
   "metadata": {},
   "source": [
    "# Textové řetězce (2. část)"
   ]
  },
  {
   "cell_type": "markdown",
   "id": "04ac04e6-1f0f-4c42-8295-9a6c21f6e595",
   "metadata": {},
   "source": [
    "## Metody pro práci se stringy\n",
    "\n",
    "Typ `str` v Pythonu poskytuje řadu _metod_ pro běžné operace s textem.\n",
    "Podrobně se s pojmem _metoda_ seznámíme na konci semestru v tématu o objektově orientovaném programování, ale již při používání jiných typů jsme se s metodami setkali (např. komplexní čísla – metoda `complex.conjugate()` nebo seznamy – metoda `list.append()`).\n",
    "\n",
    "Pro připomenutí: metoda je \"v podstatě funkce\", která provádí akci spojenou s konkrétním objektem.\n",
    "Při volání metody pro string budeme používat obecnou syntaxi `textový_řetězec.název_metody()`, kde `textový_řetězec` je určitý objekt typu `str` a `název_metody` je určitá metoda, kterou chceme použít.\n",
    "V kulatých závorkách při volání metody navíc můžou být parametry, které daná metoda podporuje.\n",
    "\n",
    "Řetězcových metod je celá řada. Tyto metody můžeme klasifikovat dle účelu, ke kterému slouží:\n",
    "\n",
    "- spojování a rozdělování\n",
    "- ořezávání\n",
    "- vyhledávání\n",
    "- nahrazování\n",
    "- zjišťovací metody\n",
    "- formátování\n",
    "\n",
    "Některé z nich dále probereme podrobně a ukážeme základní příklady jejich použití. Detaily o všech metodách třídy `str` jsou k dispozici v dokumentaci https://docs.python.org/3/library/stdtypes.html#string-methods.\n",
    "\n",
    "<div style=\"border-left: 5px solid orange; padding-left: 1em\">\n",
    "<p><strong>Poznámka:</strong>\n",
    "Stringy jsou <em>nemodifikovatelná posloupnost</em>, proto <strong>žádná z metod typu <code>str</code> nemodifikuje přímo objekt, na kterém je volána</strong>.\n",
    "Místo toho je \"modifikace\" stringu vrácena jako nový objekt.\n",
    "Proto například pokud chceme v proměnné <code>text</code> nahradit všechny výskyty znaku <code>A</code> znakem <code>B</code>, musíme napsat <code>text = text.replace(\"A\", \"B\")</code> a ne jen <code>text.replace(\"A\", \"B\")</code>.\n",
    "Pamatujte na to při používání všech metod.\n",
    "</div>"
   ]
  },
  {
   "cell_type": "markdown",
   "id": "f5d0e4df-f76d-45c0-8248-ce6bf75dda51",
   "metadata": {},
   "source": [
    "### Spojování a rozdělování stringů\n",
    "\n",
    "Spojení dvou stringů můžeme provést pomocí operátoru `+`.\n",
    "Pro zřetězení více stringů můžeme místo cyklu použít metodu `join` (`string.join(container)`):\n",
    "\n",
    "- String, na kterém metodu voláme, funguje jako oddělovač.\n",
    "- Kontejner, který předáme metodě jako argument, obsahuje objekty, které chceme spojit.\n",
    "- Návratovou hodnotou metody je výsledný zřetězený string."
   ]
  },
  {
   "cell_type": "code",
   "execution_count": 4,
   "id": "d3501134-c259-4d3f-8693-d76f48f4a583",
   "metadata": {},
   "outputs": [
    {
     "name": "stdout",
     "output_type": "stream",
     "text": [
      "Jablko, Hruška, Meruňka\n",
      "JablkoHruškaMeruňka\n",
      "J; a; b; l; k; o\n"
     ]
    }
   ],
   "source": [
    "ovoce = [\"Jablko\", \"Hruška\", \"Meruňka\"]\n",
    "s1 = \", \".join(ovoce)       # Jako oddělovač použijeme čárku s mezerou\n",
    "s2 = \"\".join(ovoce)         # Jako oddělovač použijeme prázdný řetězec\n",
    "s3 = \"; \".join(\"Jablko\")    # Pokud jako argument použijeme string, oddělovač se vloží mezi všechny jeho znaky\n",
    "print(s1)\n",
    "print(s2)\n",
    "print(s3)"
   ]
  },
  {
   "cell_type": "markdown",
   "id": "667ce037-ab9a-4c69-88da-7fc811cc9e35",
   "metadata": {},
   "source": [
    "Pokud naopak chceme string rozdělit na části podle určitého oddělovače, můžeme použít některou z následujících metod:\n",
    "\n",
    "- `split` (`str.split(sep=None, maxsplit=-1)`) – výsledkem je _seznam_ stringů, přičemž každý je částí původního stringu v odpovídajícím pořadí a oddělovače ve výsledném seznamu chybí\n",
    "    - parametr `sep` určuje _oddělovač_ (_separator_) – pokud není zadaný, dělí se dle všech bílých znaků (např. mezera nebo `\\n`)\n",
    "    - parametr `maxsplit` určuje, jaký maximální počet dělení se má provést (hodnota `-1` znamená bez limitu)\n",
    "- `rsplit` (`str.rsplit(sep=None, maxsplit=-1)`) – funguje stejně jako `split`, ale prohledává řetězec od konce\n",
    "- `splitlines` (`str.splitlines(keepends=False)`) – rozdělí string na jednotlivé řádky (oddělovačem je znak `\\n`) a vrátí _seznam_ stringů, přičemž každý string buď obsahuje konec řádku (pokud `keepends=True`) nebo neobsahuje konec řádku (pokud `keepends=False`)"
   ]
  },
  {
   "cell_type": "code",
   "execution_count": 5,
   "id": "3bb50ec7-728e-4d88-9f8d-a4e64a257423",
   "metadata": {},
   "outputs": [
    {
     "name": "stdout",
     "output_type": "stream",
     "text": [
      "['Jablko', 'hruška', 'meruňka']\n",
      "['Jablko', '', 'hruška', '', 'meruňka']\n",
      "['Jablko', 'a', 'hruška', 'a', 'meruňka']\n",
      "['Jablko,,hruška,,meruňka']\n",
      "['Jablko', 'hruška a meruňka']\n",
      "['Jablko a hruška', 'meruňka']\n"
     ]
    }
   ],
   "source": [
    "list1 = \"Jablko a hruška a meruňka\".split(\" a \")\n",
    "list2 = \"Jablko,,hruška,,meruňka\".split(\",\")           # Separátory se neslučují\n",
    "list3 = \"Jablko a  hruška\\na   meruňka\".split()        # Používají se výchozí hodnoty parametrů\n",
    "list4 = \"Jablko,,hruška,,meruňka\".split(\";\")           # Separátor není nalezen\n",
    "list5 = \"Jablko a hruška a meruňka\".split(\" a \", 1)    # Určujeme maximální počet použití separátoru\n",
    "list6 = \"Jablko a hruška a meruňka\".rsplit(\" a \", 1)   # Začínáme zprava\n",
    "print(list1, list2, list3, list4, list5, list6, sep=\"\\n\")"
   ]
  },
  {
   "cell_type": "markdown",
   "id": "e673c6b3-afa9-47b9-8639-fef71f86fb7e",
   "metadata": {},
   "source": [
    "- `partition` (`str.partition(sep)`)\n",
    "    - pokud string obsahuje zadaný oddělovač (parametr `sep`), vrátí _trojici_ obsahující string před oddělovačem, oddělovač, a string za oddělovačem\n",
    "    - pokud string neobsahuje zadaný oddělovač, vrátí _trojici_ obsahující původní string a dva prázdné stringy\n",
    "- `rpartition` (`str.rpartition(sep)`)\n",
    "    - pokud string obsahuje zadaný oddělovač (parametr `sep`), vrátí _trojici_ obsahující string před oddělovačem, oddělovač, a string za oddělovačem\n",
    "    - pokud string neobsahuje zadaný oddělovač, vrátí _trojici_ obsahující dva prázdné stringy a původní string"
   ]
  },
  {
   "cell_type": "code",
   "execution_count": 6,
   "id": "2489f68d-c1da-454f-bd41-2d936b348ea6",
   "metadata": {},
   "outputs": [
    {
     "name": "stdout",
     "output_type": "stream",
     "text": [
      "('Jablko', ' a ', 'hruška a meruňka')\n",
      "('Jablko a hruška a meruňka', '', '')\n",
      "('Jablko a hruška', ' a ', 'meruňka')\n",
      "('', '', 'Jablko a hruška a meruňka')\n"
     ]
    }
   ],
   "source": [
    "ntice1 = \"Jablko a hruška a meruňka\".partition(\" a \")\n",
    "ntice2 = \"Jablko a hruška a meruňka\".partition(\" x \")    # Oddělovač není nalezen\n",
    "ntice3 = \"Jablko a hruška a meruňka\".rpartition(\" a \")   # Hledáme oddělovač zprava\n",
    "ntice4 = \"Jablko a hruška a meruňka\".rpartition(\" x \")   # Hledáme zprava, oddělovač není nalezen\n",
    "print(ntice1, ntice2, ntice3, ntice4, sep=\"\\n\")"
   ]
  },
  {
   "cell_type": "markdown",
   "id": "71665ba2",
   "metadata": {},
   "source": [
    "<div style=\"border-left: 5px solid green; padding-left: 1em\">\n",
    "<p><strong>Tip:</strong> Pro každou metodu typu <code>str</code> si můžete zobrazit oficiální nápovědu – v ní ale ignorujte parametr <code>self</code> (tím se budeme zabývat podrobně na konci semestru). Po napsání části <code>str.</code> můžete stisknout klávesu <kbd>Tab</kbd> a nechat si doplnit všechny existující metody.\n",
    "</div>"
   ]
  },
  {
   "cell_type": "code",
   "execution_count": 7,
   "id": "fb387e74",
   "metadata": {},
   "outputs": [
    {
     "name": "stdout",
     "output_type": "stream",
     "text": [
      "Help on method_descriptor:\n",
      "\n",
      "split(self, /, sep=None, maxsplit=-1) unbound builtins.str method\n",
      "    Return a list of the substrings in the string, using sep as the separator string.\n",
      "\n",
      "      sep\n",
      "        The separator used to split the string.\n",
      "\n",
      "        When set to None (the default value), will split on any whitespace\n",
      "        character (including \\n \\r \\t \\f and spaces) and will discard\n",
      "        empty strings from the result.\n",
      "      maxsplit\n",
      "        Maximum number of splits.\n",
      "        -1 (the default value) means no limit.\n",
      "\n",
      "    Splitting starts at the front of the string and works to the end.\n",
      "\n",
      "    Note, str.split() is mainly useful for data that has been intentionally\n",
      "    delimited.  With natural text that includes punctuation, consider using\n",
      "    the regular expression module.\n",
      "\n"
     ]
    }
   ],
   "source": [
    "help(str.split)"
   ]
  },
  {
   "cell_type": "markdown",
   "id": "18e4e7ef",
   "metadata": {},
   "source": [
    "### Zjišťovací metody\n",
    "\n",
    "Typ `str` nabízí mnoho metod bez parametrů, které vracejí hodnoty `True`/`False` podle toho, jestli daný string splňuje určité vlastnosti.\n",
    "\n",
    "Metoda         | Krátký popis\n",
    "---------------|---------------------------------------------------------------------------------------------\n",
    "`islower`      | Vrací `True`, je-li ve stringu alespoň jedno písmeno a všechna písmena jsou malá. Znaky, které nejsou písmeny, výsledek neovlivní.\n",
    "`isupper`      | Vrací `True`, je-li ve stringu alespoň jedno písmeno a všechna písmena jsou velká. Znaky, které nejsou písmeny, výsledek neovlivní.\n",
    "`istitle`      | Vrací `True`, je-li ve stringu alespoň jedno písmeno a mají-li ve stringu všechna slova první písmeno velké a ostatní malá. Znaky, které nejsou písmeny, výsledek neovlivní.\n",
    "`isalpha`      | Vrací `True`, je-li string neprázdný a všechny jeho znaky jsou v sadě Unicode považovány za písmena.\n",
    "`isdecimal`    | Vrací `True`, je-li string neprázdný a všechny jeho znaky mohou být použity pro zápis čísel o základu 10.\n",
    "`isdigit`      | Vrací `True`, je-li string neprázdný a všechny jeho znaky jsou v sadě Unicode považovány za číslice. Vedle běžných číslic a číslic zapsaných jako indexy či exponenty sem patří i číslice dalších jazyků – např. arabsko-indické.\n",
    "`isnumeric`    | Vrací `True`, je-li string neprázdný a všechny jeho znaky jsou v sadě Unicode považovány za reprezentanty čísel. Sem patří vedle číslic i řada dalších znaků reprezentujících některé zlomky, římské číslice a jiné symboly. Platí `isdecimal()` ⊆ `isdigit()` ⊆ `isnumeric()`.\n",
    "`isalnum`      | Vrací `True`, je-li string neprázdný a všechny znaky představují písmena, číslice či čísla. Za alfanumerický je znak `c` považován v případě, vrací-li `True` alespoň jedna z metod `c.isalpha()`, `c.isdecimal()`, `c.isdigit()`, `c.isnumeric()`.\n",
    "`isspace`      | Vrací `True`, je-li string neprázdný a všechny jeho znaky jsou v sadě Unicode klasifikovány jako bílé znaky.\n",
    "`isprintable`  | Vrací `True`, je-li string prázdný, nebo obsahuje pouze tisknutelné znaky. Za netisknutelné znaky jsou mimo jiné považovány všechny bílé znaky s výjimkou obyčejné mezery (tedy naříklad pevná mezera `'\\xA0'` je netisknutelný znak).\n",
    "`isascii`      | Vrací `True`, je-li string prázdný, nebo mají všechny jeho znaky kód menší nebo roven `255` (`0x7F`).\n",
    "`isidentifier` | Vrací `True`, je-li string platným identifikátorem podle pravidel Pythonu."
   ]
  },
  {
   "cell_type": "code",
   "execution_count": 8,
   "id": "a253fa70",
   "metadata": {},
   "outputs": [],
   "source": [
    "# Write your exercise code here"
   ]
  },
  {
   "cell_type": "markdown",
   "id": "ff09887d",
   "metadata": {},
   "source": [
    "### Vyhledávání podstringů\n",
    "\n",
    "Pro vyhledávání podřetězců má typ `str` v Pythonu celou sadu metod.\n",
    "Všechny tyto metody mají tři parametry:  Povinným argumentem je hledaný podstring, volitelnými parametry `start` a `end` lze omezit hledání na podřetězec v rozsahu _slice_ `[start:end]`.\n",
    "Parametry `start` a `end` nelze předat pojmenovaným způsobem, proto potřebujete-li zadat parametr `end`, musíte zadat i `start`.\n",
    "\n",
    "Metody                | Krátký popis\n",
    "----------------------|---------------------------------------------------------------------------------------------\n",
    "`count`                  | Vrací počet nepřekrývajících se výskytů zadaného podstringu.\n",
    "`find`, `rfind`          | Vracejí pozici počátku prvního výskytu zadaného podstringu. Není-li podstring nalezen, vrátí `-1`. Metoda `rfind` prohledává zprava.\n",
    "`index`, `rindex`        | Pracují stejně jako metody `find`, resp. `rfind`. Liší se pouze tím, že nenajdou-li hledaný řetězec, vyvolají `ValueError`.\n",
    "`startswith`, `endswith` | Vracejí `True` v případě, začíná-li (resp. končí-li) prohledávaný řetězec zadaným podstringem. Prvním argumentem může být i n-tice stringů.\n",
    "\n",
    "Příklady použití těchto metod zkuste vymyslet samostatně.\n",
    "\n"
   ]
  },
  {
   "cell_type": "code",
   "execution_count": 9,
   "id": "f6723c1c",
   "metadata": {},
   "outputs": [],
   "source": [
    "# Write your exercise code here\n"
   ]
  },
  {
   "cell_type": "markdown",
   "id": "bb215f99-f870-4aef-a2a8-739a111de04b",
   "metadata": {},
   "source": [
    "### Metody nahrazování\n",
    "\n",
    "Často potřebujeme nejen zkontrolovat, jestli string obsahuje zadaný podřetězec, ale také ho nahradit nějakým jiným stringem.\n",
    "V nejjednodušším případě k tomu stačí použit metodu `replace`:\n",
    "\n",
    "- `replace(old, new, count=-1)`:\n",
    "    - parametr `old` představuje string, který hledáme\n",
    "    - parametr `new` představuje náhradu za hledaný string\n",
    "    - parametr `count` určuje maximální počet nahrazení (hodnota `-1` znamená bez limitu)"
   ]
  },
  {
   "cell_type": "code",
   "execution_count": 10,
   "id": "b2be0f77-5196-43eb-9118-93c41dc72cb3",
   "metadata": {},
   "outputs": [
    {
     "name": "stdout",
     "output_type": "stream",
     "text": [
      "Ve slově sdandard se na konci nepíše d, ale d!\n",
      "Ve slově sdandard se na konci nepíše t, ale d!\n",
      "Ve slově standart se na konci nepíše t, ale d!\n"
     ]
    }
   ],
   "source": [
    "s1 = \"Ve slově standart se na konci nepíše t, ale d!\"\n",
    "print(s1.replace(\"t\", \"d\"))\n",
    "print(s1.replace(\"t\", \"d\", 2))\n",
    "print(s1)"
   ]
  },
  {
   "cell_type": "markdown",
   "id": "3be204cb-a402-417f-bb21-a1869a1cff6f",
   "metadata": {},
   "source": [
    "Zmiňme ještě jednu nahrazovací metodu `expandtabs(tabsize=8)`, která vrací kopii stringu, v níž jsou tabulátory (znak `\\t`) nahrazeny sadou mezer tak, aby to odpovídalo zadané velikosti kroku tabulátoru. Vyzkoušejte na příkladu:"
   ]
  },
  {
   "cell_type": "code",
   "execution_count": 11,
   "id": "f5851e28-3c34-43e9-bdd6-4276d8f145b9",
   "metadata": {},
   "outputs": [
    {
     "name": "stdout",
     "output_type": "stream",
     "text": [
      "01      012     0123    01234\n",
      "01  012 0123    01234\n"
     ]
    }
   ],
   "source": [
    "print(\"01\\t012\\t0123\\t01234\".expandtabs())\n",
    "print(\"01\\t012\\t0123\\t01234\".expandtabs(4))"
   ]
  },
  {
   "cell_type": "markdown",
   "id": "5ef1f767",
   "metadata": {},
   "source": [
    "### Ořezávání stringů\n",
    "\n",
    "Při práci se vstupem od uživatele je často potřeba vstup zkontrolovat a případně upravit.\n",
    "Jedním z častých problémů jsou nadbytečné mezery (nebo obecně bílé znaky) na začátku nebo na konci řetězce.\n",
    "Tyto přebytečné znaky mohou způsobovat chyby při ukládání dat, vyhledávání, řazení nebo při kontrole unikátnosti.\n",
    "K odstranění těchto znaků je možné použít jednu z následujících metod:\n",
    "\n",
    "- `lstrip` (`str.lstrip(chars=None)`) – odstraňuje zadané znaky ze začátku stringu (zleva)\n",
    "- `rstrip` (`str.rstrip(chars=None)`) – odstraňuje zadané znaky z konce stringu (zprava)\n",
    "- `strip` (`str.strip(chars=None)`) – odstraňuje zadané znaky ze začátku i z konce stringu\n",
    "\n",
    "Pokud parametr `chars` není zadaný, metody odstraní všechny bílé znaky (např. mezera, tabulátor nebo `\\n`)."
   ]
  },
  {
   "cell_type": "code",
   "execution_count": 12,
   "id": "ff94910e",
   "metadata": {},
   "outputs": [
    {
     "name": "stdout",
     "output_type": "stream",
     "text": [
      "Nechci bílé znaky před ani za textem!\n",
      "Nechci bílé znaky před textem!  \n",
      "  \n",
      "       Nechci bílé znaky za textem!\n",
      "   Nechci * před ani za textem!\n",
      "*--Nechci * ani - za textem!\n"
     ]
    }
   ],
   "source": [
    "s1 = \"       Nechci bílé znaky před ani za textem!  \\n  \".strip()\n",
    "s2 = \"       Nechci bílé znaky před textem!  \\n  \".lstrip()\n",
    "s3 = \"       Nechci bílé znaky za textem!  \\n  \".rstrip()\n",
    "s4 = \"*   Nechci * před ani za textem!****\".strip(\"*\")\n",
    "s5 = \"*--Nechci * ani - za textem!**---\".rstrip(\"*-\")\n",
    "print(s1, s2, s3, s4, s5, sep=\"\\n\")"
   ]
  },
  {
   "cell_type": "markdown",
   "id": "a02822e1",
   "metadata": {},
   "source": [
    "Všimněte si, že metody `lstrip` a `rstrip` neodebírají prefix, resp. suffix ­– parametr `chars` má význam _množiny znaků_, nikoliv _podposloupnosti_.\n",
    "Pokud chcete odebrat předponu nebo koncovku, můžete využít metody `removeprefix` a `removesuffix`."
   ]
  },
  {
   "cell_type": "markdown",
   "id": "72730997-8a41-4fa5-8335-b0c9bd876ec4",
   "metadata": {},
   "source": [
    "### Metody pro jednoduché formátování\n",
    "\n",
    "Pro základní změnu velikosti písmen Python nabízí několik jednoduchých metod bez parametrů.\n",
    "Znaky, které nejsou považovány za písmena, nejsou těmito metodami ovlivněny.\n",
    "\n",
    "Metoda       | Krátký popis\n",
    "-------------|---------------------------------------------------------------------------------------------\n",
    "`lower`      | Vrátí nový string, ve kterém jsou všechna písmena převedena na malá písmena.\n",
    "`upper`      | Vrátí nový string, ve kterém jsou všechna písmena převedena na velká písmena.  \n",
    "`capitalize` | Vrátí nový string s prvním písmenem velkým a ostatními písmeny malými.  \n",
    "`title`      | Vrátí nový string, kde je první písmeno každého slova velké a ostatní písmena malá. Slova jsou definována jako skupiny po sobě jdoucích písmen. Tato definice funguje ve většině případů, ale má své limity (např. apostrofy jsou považovány za oddělovače slov). "
   ]
  },
  {
   "cell_type": "code",
   "execution_count": 13,
   "id": "6bf9070c-4217-44e9-8518-60133c66783a",
   "metadata": {},
   "outputs": [
    {
     "name": "stdout",
     "output_type": "stream",
     "text": [
      "text z malých písmen, velkých písmen a čísla 42.\n",
      "TEXT Z MALÝCH PÍSMEN, VELKÝCH PÍSMEN A ČÍSLA 42.\n",
      "Text z malých písmen, velkých písmen a čísla 42.\n",
      "Text Z Malých Písmen, Velkých Písmen A Čísla 42.\n",
      "They'Re Bill'S Friends From The Uk\n"
     ]
    }
   ],
   "source": [
    "s1 = \"Text z malých písmen, VELKÝCH PÍSMEN a čísla 42.\"\n",
    "print(s1.lower(), s1.upper(), s1.capitalize(), s1.title(), sep=\"\\n\")\n",
    "s2 = \"they're bill's friends from the UK\"\n",
    "print(s2.title())"
   ]
  },
  {
   "cell_type": "markdown",
   "id": "dae3ca51-0863-474c-9203-188aceed60e2",
   "metadata": {},
   "source": [
    "Pro zlepšení čitelnosti delších textů může být potřeba zarovnat text doleva, doprava, nebo na střed.\n",
    "K tomu slouží metody `ljust`, `rjust` a `center`.\n",
    "Povinným pozičním parametrem všech těchto metod je požadovaná délka výsledného stringu.\n",
    "Text bude podle typu zarovnání standardně doplněn mezerami na začátku, na konci nebo z obou stran, aby dosáhl požadované délky.\n",
    "Pomocí druhého nepovinného parametru můžeme určit, jaký znak se má použít k doplnění stringu místo mezery.\n"
   ]
  },
  {
   "cell_type": "code",
   "execution_count": 14,
   "id": "24af0c60-0fda-45bd-82df-4c99b5d974e3",
   "metadata": {},
   "outputs": [
    {
     "name": "stdout",
     "output_type": "stream",
     "text": [
      "| vlevo                |      uprostřed       |               vpravo |\n",
      "-----------------Ahoj!------------------\n"
     ]
    }
   ],
   "source": [
    "print(\"|\", \"vlevo\".ljust(20), \"|\", \"uprostřed\".center(20), \"|\", \"vpravo\".rjust(20), \"|\")\n",
    "print (\"Ahoj!\".center(40, '-'))"
   ]
  },
  {
   "cell_type": "markdown",
   "id": "7c2ec5ea-7346-4233-af07-4259fbe4e099",
   "metadata": {},
   "source": [
    "## Formátování řetězců\n",
    "\n",
    "Doposud jsme v případech, kdy jsme chtěli vytvořit \"hezký\" výstup pro uživatele, museli použít funkci `print` a vhodně zvolit objekty k zobrazení.\n",
    "Například, pokud jsme chtěli vypsat číselné hodnoty společně s krátkým vysvětlením, museli jsme funkci `print` předat \"mix\" proměnných a stringů:"
   ]
  },
  {
   "cell_type": "code",
   "execution_count": 15,
   "id": "78dcfc27-5fbb-49ef-adf0-552be02fad63",
   "metadata": {},
   "outputs": [
    {
     "name": "stdout",
     "output_type": "stream",
     "text": [
      "2 hod je 120 min\n"
     ]
    }
   ],
   "source": [
    "hodiny = 2\n",
    "minuty = hodiny * 60\n",
    "print(hodiny, \"hod je\", minuty, \"min\")"
   ]
  },
  {
   "cell_type": "markdown",
   "id": "2e4d0f11-f11a-4c94-818d-986c19a1551f",
   "metadata": {},
   "source": [
    "U delšího nebo složitějšího textu však tento přístup není praktický.\n",
    "Navíc někdy potřebujeme výstup uložit pro další zpracování, nejen zobrazit pomocí funkce `print`.\n",
    "Mohli bychom sice číselné hodnoty převést na string a potom stringy zřetězit, Python ale nabízí elegantnější způsob formátování.\n",
    "\n",
    "Pro znázornění si představte textovou šablonu s prázdnými místy, která později vyplníme konkrétními hodnotami:"
   ]
  },
  {
   "cell_type": "markdown",
   "id": "76de5a36-b3a2-48ac-9cc9-97fbd0f73e91",
   "metadata": {},
   "source": [
    "```python\n",
    "Mil[ý/á] _______,\n",
    "Váš výsledek 1. testu ZPRO je __________ bodů.\n",
    "\n",
    "S pozdravem\n",
    "_________\n",
    "```"
   ]
  },
  {
   "cell_type": "markdown",
   "id": "a8aa0ccb-ac22-4e50-a8b9-1ef855de2422",
   "metadata": {},
   "source": [
    "Aby Python věděl, které hodnoty umístit do kterých vynechaných míst, je potřeba jednotlivá vynechaná místa v šabloně nějak jednoznačně označit.\n",
    "K tomu se používají složené závorky a identifikátory:"
   ]
  },
  {
   "cell_type": "markdown",
   "id": "f4e3e595-b722-41d0-a8ac-229a98362f47",
   "metadata": {},
   "source": [
    "```python\n",
    "Mil{y_a} {osloveni},\n",
    "Váš výsledek 1. testu ZPRO je {soucet} bodů.\n",
    "\n",
    "S pozdravem,\n",
    "{podpis}.\n",
    "```"
   ]
  },
  {
   "cell_type": "markdown",
   "id": "6779448c-e7ca-42d1-8bcb-2681a890d79e",
   "metadata": {},
   "source": [
    "Takovou textovou šablonu můžeme použít jako tzv. __formátovací řetězec__ neboli __f-string__ (anglicky _formatted string literal_).\n",
    "Formátovací řetězec se vytváří podobně jako obyčejný řetězec s tím rozdílem, že před první uvozovkou nebo apostrofem musíme přidat předponu `f` nebo `F`.\n",
    "\n",
    "Pro uvedený příklad můžeme vytvořit jednoduchý program:"
   ]
  },
  {
   "cell_type": "code",
   "execution_count": 16,
   "id": "9a177ccf-1611-4813-bc72-c41ed4f341e8",
   "metadata": {},
   "outputs": [
    {
     "name": "stdout",
     "output_type": "stream",
     "text": [
      "\n",
      "Milá Žofie,\n",
      "Váš výsledek 1. testu ZPRO je 85 bodů.\n",
      "\n",
      "S pozdravem,\n",
      "Váš cvičící\n",
      "\n"
     ]
    }
   ],
   "source": [
    "y_a = \"á\"\n",
    "osloveni = \"Žofie\"\n",
    "ukol1 = 25\n",
    "ukol2 = 40\n",
    "ukol3 = 20\n",
    "soucet = ukol1 + ukol2 + ukol3\n",
    "podpis = \"Váš cvičící\"\n",
    "vystup = f\"\"\"\n",
    "Mil{y_a} {osloveni},\n",
    "Váš výsledek 1. testu ZPRO je {soucet} bodů.\n",
    "\n",
    "S pozdravem,\n",
    "{podpis}\n",
    "\"\"\"\n",
    "print(vystup)"
   ]
  },
  {
   "cell_type": "markdown",
   "id": "227f3107-1ba7-4cac-a911-bb4bbf49b88a",
   "metadata": {},
   "source": [
    "Uvnitř složených závorek lze namísto identifikátorů proměnných použít jakékoli výrazy, volání funkcí apod.\n",
    "\n",
    "Shrňme tedy základy práce s _f-stringy_, včetně několika dalších možností:\n",
    "\n",
    "- Pro _f-stringy_ platí stejná pravidla jako pro obyčejné textové řetězce. Mohou je ohraničovat jednoduché, dvojité uvozovky nebo jejich trojice. Liší se pouze tím, že před úvodním uvozováním píšeme předponu `f` nebo `F`.\n",
    "- _F-stringy_ mohou obsahovat nahrazovací pole s výrazy, jejichž hodnota se má dosadit do výsledného stringu.\n",
    "- Výrazy v nahrazovacích polích jsou vyhodnocovány zleva doprava, což má vliv pouze tehdy, pokud některé z výrazu mají vedlejší efekty.\n",
    "- _F-stringy_ můžeme vytvořit jako zřetězení (součet) několika stringů, ale každý spojovaný řetězec by měl být _f-string_ (jinak se nahrazovací pole v součtu neuplatní a budou brána jako běžný text).\n",
    "- Při ladění programu může být užitečné, pokud výraz v nahrazovacím poli zakončíme znakem `=`, což způsobí, že do stringu se vloží samotný zápis výrazu (včetně případných mezer a závěrečného rovnítka) a teprve za něj jeho výsledná hodnota."
   ]
  },
  {
   "cell_type": "code",
   "execution_count": 17,
   "id": "0913f28f",
   "metadata": {},
   "outputs": [
    {
     "name": "stdout",
     "output_type": "stream",
     "text": [
      "Obvod kruhu o poloměru r=4 je 2 * pi * r = 25.132741228718345\n"
     ]
    }
   ],
   "source": [
    "from math import pi\n",
    "r = 4\n",
    "print(f\"Obvod kruhu o poloměru {r=} je {2 * pi * r = }\")"
   ]
  },
  {
   "cell_type": "markdown",
   "id": "fe45c800-6349-4db5-81f7-ca96650c4035",
   "metadata": {},
   "source": [
    "<div style=\"border-left: 5px solid orange; padding-left: 1em\">\n",
    "<p><strong>Poznámka:</strong>\n",
    "Předponu <code>f</code>/<code>F</code> lze kombinovat s předponou <code>r</code>/<code>R</code>, která označuje <em>surový literál</em> (anglicky <em>raw literal</em>). V surovém literálu nejsou podporovány escape sekvence, každý znak je interpretován doslovně. Výjimkou jsou pouze uvozovky, které musíme nadále zadávat se zpětným lomítkem. Surový řetězcový literál se hodí při práci s cestami k souborům nebo při zadávání regulárních výrazů.</p>\n",
    "</div>\n",
    "\n"
   ]
  },
  {
   "cell_type": "markdown",
   "id": "9956140b-d646-4a59-8bc7-8d708ceb1413",
   "metadata": {},
   "source": [
    "Někdy se může stát, že jednu textovou šablonu chceme použít několikrát.\n",
    "V takovém případě nám _f-string_ již nepomůže, protože v něm se \"prázdná místa\" doplňují automaticky a hned.\n",
    "Místo toho můžeme použít metodu `format` pro obyčejný string."
   ]
  },
  {
   "cell_type": "markdown",
   "id": "54a836d3-01ee-4158-9b3c-5e19adfae1b2",
   "metadata": {},
   "source": [
    "<div style=\"border-left: 5px solid orange; padding-left: 1em\">\n",
    "<p><strong>Poznámka:</strong>\n",
    "Historicky jsou <em>f-stringy</em> novější vlastností Pythonu, která byla zavedena až ve verzi 3.6. Naopak metoda <code>format</code> se objevila dříve již ve verzi Python 3. Pravidla pro formátování nahrazovacích polí pro <em>f-stringy</em> jsou fakticky převzatá z metody <code>format</code>.</p>\n",
    "</div>"
   ]
  },
  {
   "cell_type": "markdown",
   "id": "f8312e2a-1a59-4adb-babd-8afe634499a6",
   "metadata": {},
   "source": [
    "Hlavička metody `format` má tvar `format(*args, **kwargs)`, což znamená, že hodnoty dosazované do stringu můžeme specifikovat buď pomocí jejich pořadí, nebo jejich názvem.\n",
    "Názvy vkládaných hodnot nemusí být platné identifikátory, což činí metodu `format` obecnější než _f-stringy_."
   ]
  },
  {
   "cell_type": "code",
   "execution_count": 18,
   "id": "3d118859-5ecc-4aef-ba00-bfbb059e51a3",
   "metadata": {},
   "outputs": [
    {
     "name": "stdout",
     "output_type": "stream",
     "text": [
      "2 krát 3 je 6.\n",
      "Ahoj, jsem Matěj. A moje oblibené číslo je 7.\n",
      "Ahoj, jsem divný člověk. A moje oblibené číslo je 42.\n"
     ]
    },
    {
     "ename": "KeyError",
     "evalue": "'jmeno'",
     "output_type": "error",
     "traceback": [
      "\u001b[0;31m---------------------------------------------------------------------------\u001b[0m",
      "\u001b[0;31mKeyError\u001b[0m                                  Traceback (most recent call last)",
      "Cell \u001b[0;32mIn[18], line 6\u001b[0m\n\u001b[1;32m      4\u001b[0m \u001b[38;5;28mprint\u001b[39m(s2\u001b[38;5;241m.\u001b[39mformat(cislo\u001b[38;5;241m=\u001b[39m\u001b[38;5;241m7\u001b[39m, jmeno\u001b[38;5;241m=\u001b[39m\u001b[38;5;124m\"\u001b[39m\u001b[38;5;124mMatěj\u001b[39m\u001b[38;5;124m\"\u001b[39m))\n\u001b[1;32m      5\u001b[0m \u001b[38;5;28mprint\u001b[39m(s2\u001b[38;5;241m.\u001b[39mformat(cislo\u001b[38;5;241m=\u001b[39m\u001b[38;5;241m42\u001b[39m, jmeno\u001b[38;5;241m=\u001b[39m\u001b[38;5;124m\"\u001b[39m\u001b[38;5;124mdivný člověk\u001b[39m\u001b[38;5;124m\"\u001b[39m))\n\u001b[0;32m----> 6\u001b[0m \u001b[38;5;28mprint\u001b[39m(\u001b[43ms2\u001b[49m\u001b[38;5;241;43m.\u001b[39;49m\u001b[43mformat\u001b[49m\u001b[43m(\u001b[49m\u001b[38;5;124;43m\"\u001b[39;49m\u001b[38;5;124;43mŽofie\u001b[39;49m\u001b[38;5;124;43m\"\u001b[39;49m\u001b[43m,\u001b[49m\u001b[43m \u001b[49m\u001b[38;5;241;43m3\u001b[39;49m\u001b[43m)\u001b[49m)    \u001b[38;5;66;03m# KeyError: není možné dosadit nepojmenovaný argument do pojmenovaného místa\u001b[39;00m\n",
      "\u001b[0;31mKeyError\u001b[0m: 'jmeno'"
     ]
    }
   ],
   "source": [
    "s1 = \"{} krát {} je {}.\".format(2, 3, 2 * 3)\n",
    "print(s1)\n",
    "s2 = \"Ahoj, jsem {jmeno}. A moje oblibené číslo je {cislo}.\"\n",
    "print(s2.format(cislo=7, jmeno=\"Matěj\"))\n",
    "print(s2.format(cislo=42, jmeno=\"divný člověk\"))\n",
    "print(s2.format(\"Žofie\", 3))    # KeyError: není možné dosadit nepojmenovaný argument do pojmenovaného místa"
   ]
  },
  {
   "cell_type": "markdown",
   "id": "d8bcd5d5-00c3-47f9-b6d3-2e5957fa195a",
   "metadata": {},
   "source": [
    "# Příklady"
   ]
  },
  {
   "cell_type": "markdown",
   "id": "55fe4f6e-eb2b-40ff-a2f8-85533c8d3859",
   "metadata": {},
   "source": [
    "10. __Silné heslo.__ Heslo budeme označovat jako _silné_, jsou-li splněná následující kritéria:\n",
    "    1. Heslo obsahuje malá písmena latinské abecedy.\n",
    "    2. Heslo obsahuje velká písmena latinské abecedy.\n",
    "    3. Heslo obsahuje číslice.\n",
    "    4. Heslo obsahuje alespoň jeden ze znaků `! \" # $ % & ' ( ) * +`.\n",
    "    5. Délka hesla není menší než 8 znaků.\n",
    "       \n",
    "Napište funkci, která zjistí (a ve vhodné formě vrátí), které z těchto pěti kritérií silného hesla jsou pro použité heslo splněny."
   ]
  },
  {
   "cell_type": "code",
   "execution_count": null,
   "id": "3da937a9-b104-4a28-8b8d-5cf15701ae11",
   "metadata": {},
   "outputs": [],
   "source": [
    "def strong_password(passwd):\n",
    "    ...\n",
    "\n",
    "print(strong_password(\"Moje8Heslo'\"))  # splňuje všechna kriteria"
   ]
  },
  {
   "cell_type": "markdown",
   "id": "f00e244d-f223-4e87-933f-2055b1017c00",
   "metadata": {},
   "source": [
    "11. __Anagramy.__ Slovo je _anagramem_ jiného slova, když ho lze získat přeuspořádáním jeho písmen. Napište funkci `anagrams(word1, word2)`, která vrátí `True`, pokud jsou tato dvě slova anagramy, a `False`, pokud nejsou."
   ]
  },
  {
   "cell_type": "code",
   "execution_count": null,
   "id": "e91d5416-9e64-45b5-b583-6d08f46af64b",
   "metadata": {},
   "outputs": [],
   "source": [
    "def anagrams(str1, str2):\n",
    "    ...\n",
    "\n",
    "assert anagrams(\"reklama\", \"makrela\")\n",
    "assert anagrams(\"reklama\", \"marekll\") == False"
   ]
  },
  {
   "cell_type": "markdown",
   "id": "595beb9c-8bab-449a-83ef-a6e15d5778c8",
   "metadata": {},
   "source": [
    "12. __Iniciály.__ Napište program, který se zeptá uživatele na jméno, pak na příjmení a potom vypíše iniciály – první písmena zadaných jmen. Iniciály jsou vždy velkými písmeny (i kdyby byl uživatel líný mačkat `Shift`). Možné náhodné mezery na začátku jména nebo příjmení také odstraňte. Pro převod zadaných jmén na iniciály použijte pomocnou funkci `get_initials(name, surname)`."
   ]
  },
  {
   "cell_type": "code",
   "execution_count": null,
   "id": "342b352c-09a4-4d41-8201-839fecfec239",
   "metadata": {},
   "outputs": [],
   "source": [
    "def get_initials(name, surname):\n",
    "    ...\n",
    "\n",
    "assert get_initials(\"  jan \", \"  novák\") == \"JN\""
   ]
  },
  {
   "cell_type": "markdown",
   "id": "52d9dc00-bd43-48f6-a259-19ab6fbc481f",
   "metadata": {},
   "source": [
    "13. __Frekvenční analýza.__ Napište funkci `freq_analysis(text)`, která spočítá výskyt jednotlivých písmen (znaků)\n",
    "     ve vstupním textu a vrátí výsledek jako slovník nebo jako seznam dvojic (znak, počet výskytů). Vypište znaky s počty jejich výskytů setříděné sestupně podle počtu výskytů."
   ]
  },
  {
   "cell_type": "code",
   "execution_count": null,
   "id": "c1d39f53-2a31-4e4b-ad43-051db3dc893d",
   "metadata": {},
   "outputs": [],
   "source": [
    "def freq_analysis(text):\n",
    "    ...\n",
    "\n",
    "d = freq_analysis(\"All the world is a stage and all the men and women merely players.\")\n",
    "..."
   ]
  },
  {
   "cell_type": "markdown",
   "id": "cca69af6-d183-4eed-ac87-4f4f248ca1ac",
   "metadata": {},
   "source": [
    "14. __Délka slov.__ Naprogramujte funkci, která zjistí délku každého slova v textu. Předpokládejme, že slova jsou oddělená pomocí obyčejných mezer (možná několika za sebou)."
   ]
  },
  {
   "cell_type": "code",
   "execution_count": null,
   "id": "912ff320-2605-4376-8951-74215a1fb550",
   "metadata": {},
   "outputs": [],
   "source": [
    "def word_lengths(text):\n",
    "    ...\n",
    "\n",
    "assert word_lengths(\"   Toto   je    příklad textu s různě dlouhými slovy.  \") == [4, 2, 7, 5, 1, 5, 8, 6]\n"
   ]
  },
  {
   "cell_type": "markdown",
   "id": "18dabd33-0484-4298-b29b-703d785df350",
   "metadata": {},
   "source": [
    "15. __Frekvenční analýza slov.__ Napište funkci `freq_analysis(text)`, která spočítá výskytů jednotlivých slov ve vstupním textu a vrátí výsledek jako slovník nebo jako seznam dvojic (slovo, počet výskytů). Vypište slova s počty jejich výskytů setříděné vzestupně podle abecedy."
   ]
  },
  {
   "cell_type": "code",
   "execution_count": null,
   "id": "1db51052-b960-43ef-92f9-e5d771dad782",
   "metadata": {},
   "outputs": [],
   "source": [
    "def freq_analysis(text):\n",
    "    ...\n",
    "\n",
    "d = freq_analysis(\"This is a test. This is only a test, not a real situation.\")\n",
    "..."
   ]
  },
  {
   "cell_type": "markdown",
   "id": "4408e094-7327-4eb2-b3ff-a0956b813acd",
   "metadata": {},
   "source": [
    "16. __Caesarova šifra.__ Vytvořte si funkci, která zrealizuje šifrování algoritmem [Caesarové šifry](https://cs.wikipedia.org/wiki/Caesarova_šifra). To šifrování spočívá v posouvání každého písmena řetězce o určitý počet znaků dle abecedy. Například slovo `\"Ahoj\"` se s posunem 1 převede na `\"Bipk\"`. Ten posun – klič šifry – povolte vybrat uživateli. Jak by se naprogramovala funkce pro dešifrování?"
   ]
  },
  {
   "cell_type": "code",
   "execution_count": null,
   "id": "113f3ca9-6860-457b-8f77-5d8d61ba6c84",
   "metadata": {},
   "outputs": [],
   "source": [
    "def caesar(text, shift):\n",
    "   ...\n",
    "\n",
    "a = \"abcdefghijklmnopqrstuvwxyz ABCDEFGHIJKLMNOPQRSTUVWXYZ\"\n",
    "assert caesar(a,12) == \"mnopqrstuvwxyzabcdefghijkl MNOPQRSTUVWXYZABCDEFGHIJKL\"\n",
    "\n",
    "b = \"All the world is a stage; And all the men and women merely players.\"\n",
    "assert caesar(b, -2) == \"Yjj rfc umpjb gq y qryec; Ylb yjj rfc kcl ylb umkcl kcpcjw njywcpq.\"\n",
    "assert caesar(b, 26) == b\n",
    "assert caesar(caesar(b,15), -15) == b"
   ]
  },
  {
   "cell_type": "markdown",
   "id": "36470531-bae9-4eec-bcb1-00d4cda62bc8",
   "metadata": {},
   "source": [
    "17. __Kryptoanalýza Caesarovy šifry.__ Caesarovu šifru lze velmi lehko [vyluštit]( https://cs.wikipedia.org/wiki/Caesarova_šifra#Kryptoanalýza) (tj. zjistit neznámý posun – tajný klíč). Zkuste naprogramovat dvě funkce, první implementuje tzv. _metodu hrubé sily_, druhá způsob _frekvenční analýzy_."
   ]
  },
  {
   "cell_type": "code",
   "execution_count": null,
   "id": "b59cce8c-0a46-48a3-b936-a7358ba57b64",
   "metadata": {},
   "outputs": [],
   "source": [
    "print(caesar(\"Ask me, how to \"))\n",
    "\n",
    "def try_caesar(text):\n",
    "    ...\n",
    "\n",
    "try_caesar(\"Clguba vf n irel hfrshy cebtenzzvat ynathntr. Naq ubj fvzcyr vg vf... V ybir vg!\") "
   ]
  },
  {
   "cell_type": "code",
   "execution_count": null,
   "id": "f4617183-6b90-462c-9097-a23a05b7fd0b",
   "metadata": {},
   "outputs": [],
   "source": [
    "def caesar_frequency_analysis(text):\n",
    "    ...\n",
    "\n",
    "caesar_frequency_analysis(\"Clguba vf n irel hfrshy cebtenzzvat ynathntr. Naq ubj fvzcyr vg vf... V ybir vg!\")"
   ]
  }
 ],
 "metadata": {
  "kernelspec": {
   "display_name": "Python 3",
   "language": "python",
   "name": "python3"
  },
  "language_info": {
   "codemirror_mode": {
    "name": "ipython",
    "version": 3
   },
   "file_extension": ".py",
   "mimetype": "text/x-python",
   "name": "python",
   "nbconvert_exporter": "python",
   "pygments_lexer": "ipython3",
   "version": "3.12.7"
  }
 },
 "nbformat": 4,
 "nbformat_minor": 5
}
