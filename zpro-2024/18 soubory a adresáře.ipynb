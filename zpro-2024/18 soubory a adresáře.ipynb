{
 "cells": [
  {
   "cell_type": "markdown",
   "metadata": {},
   "source": [
    "# Práce se soubory 1"
   ]
  },
  {
   "cell_type": "markdown",
   "id": "7ca8a876-a2a7-4928-80bc-6585b330a999",
   "metadata": {
    "scrolled": true
   },
   "source": [
    "V programovacím jazyce Python lze přistupovat k souborům, které máme uložené na disku. Soubory lze číst, zapisovat do nich, vytvářet nové, mazat je a další operace.\n",
    "\n",
    "Základní práce je docela přímočará. Pro práci se souborem používáme funkci `open()`, která dokáže soubor otevřít v několika různých módech, mezi které patří například čtení nebo zápis. Funkce `open` se většinou používá s jedním nebo dvěma parametry, kdy první určuje jméno souboru (včetně relativní nebo úplné cesty), se kterým chceme pracovat, a druhý určuje mód práce se souborem (čtení/zápis/...)\n",
    "\n",
    "Funkce `open()` vrací objekt, který nám dovoluje následně se souborem pracovat."
   ]
  },
  {
   "cell_type": "markdown",
   "id": "82abc011-52f4-4dfc-9ec6-9b00fda52bbf",
   "metadata": {
    "scrolled": true
   },
   "source": [
    "*Různé módy přístupu k souboru v Pythonu*\n",
    "\n",
    "| Mód | Popis |\n",
    "| ---  | --- |\n",
    "| r    | Otevře soubor pro čtení. (výchozí) |\n",
    "| w\t   | Otevře soubor pro zápis. Pokud soubor existuje, přemaže ho novým prázdným souborem. |\n",
    "| x\t   | Vytvoří a otevře soubor, pokud na disku neexistuje. Pokud soubor již existuje, skončí to chybou. |\n",
    "| a\t   | Otevře soubor pro zápis, aniž by smazal jeho obsah. Zápis bude probíhat za poslední data v souboru. Pokud soubor neexistuje, pak je vytvořen.  |\n",
    "| t\t   | Otevře soubor v textovém režimu. (výchozí)|\n",
    "| b\t   | Otevře soubor v binárním režimu.|\n",
    "| +\t   | Otevře soubor pro upravení. (čtení a psaní)|"
   ]
  },
  {
   "cell_type": "markdown",
   "id": "59c9d2c0-4434-4516-a061-a7e731611da8",
   "metadata": {
    "scrolled": true
   },
   "source": [
    "*Ukázky použití funkce `open()`*\n",
    "\n",
    "```python\n",
    "file1 = open(\"test.txt\")        # otevře soubor pro čtení v textovém režimu\n",
    "file2 = open(\"test.txt\", \"r\")   # otevře soubor pro čtení v textovém režimu\n",
    "file3 = open(\"test.txt\", \"w\")   # otevře soubor pro zápis v textovém režimu\n",
    "file4 = open(\"test.txt\", \"wb\")  # otevře soubor pro zápis v binárním režimu\n",
    "file5 = open(\"test.txt\", \"rb\")  # otevře soubor pro čtení v binárním režimu\n",
    "file6 = open(\"test.txt\", \"a\")   # otevře soubor pro přidávání v textovém režimu\n",
    "```\n",
    "\n",
    "```python\n",
    "file7 = open(\"data/test3.txt\")  # jméno souboru včetně relativní cesty\n",
    "file8 = open(\"c:/data/test3.txt\")  # jméno souboru včetně úplné cesty\n",
    "```"
   ]
  },
  {
   "cell_type": "markdown",
   "id": "bd59672e-1796-42cc-9a93-cf5c7d3d0e8b",
   "metadata": {
    "scrolled": true
   },
   "source": [
    "Po práci se souborem je vhodné soubor uzavřít, čímž dojde k dokončení všech operací a zneplatnění ukazatele na soubor. K tomu slouží metoda `close()`.\n",
    "```python\n",
    "file1.close()  #uzavření souboru\n",
    "```"
   ]
  },
  {
   "cell_type": "markdown",
   "id": "0706a068-7252-4d9e-9e6c-59eb8833da4a",
   "metadata": {
    "scrolled": true
   },
   "source": [
    "## Čtení textových souborů\n",
    "Ze souboru otevřeného pro čtení můžeme číst data a ukládat je do proměnných v našem programu. Pro čtení lze využít například metodu `read()`, která data načte a vrátí je jako svou návratovou hodnotu (typu `str`)."
   ]
  },
  {
   "cell_type": "code",
   "execution_count": 1,
   "id": "60f120b4-702d-4a4a-ab55-b45b6624b3ba",
   "metadata": {},
   "outputs": [
    {
     "name": "stdout",
     "output_type": "stream",
     "text": [
      "Nějaký textový soubor,\n",
      "který obsahuje\n",
      "více řádků.\n"
     ]
    }
   ],
   "source": [
    "# otevře soubor pro čtení v textovém režimu\n",
    "file1 = open(\"data/data.txt\", \"r\")\n",
    "\n",
    "# přečte soubor a obsah uloží do proměnné file_content\n",
    "file_content = file1.read()\n",
    "\n",
    "# obsah souboru vypíšeme\n",
    "print(file_content)\n",
    "\n",
    "# soubor následně uzavřeme\n",
    "file1.close()"
   ]
  },
  {
   "cell_type": "markdown",
   "id": "f9bb2918-7175-4cfd-b622-22f0c73c8759",
   "metadata": {
    "scrolled": true
   },
   "source": [
    "Jiný způsob práce se souborem je využití klíčového slova `with`. Zde je výhoda v tom, že nemusíme volat `close()` a řešit uvolnění prostředků po nějaké chybě (například pokud do souboru nelze zapisovat nebo z něj číst). Také proměnná `file1` má omezenou existenci pouze na tento blok, což zefektivňuje a zpřehledňuje kód."
   ]
  },
  {
   "cell_type": "code",
   "execution_count": 2,
   "id": "c84d68fe-c606-4db0-a236-f98a5bd7c64f",
   "metadata": {},
   "outputs": [
    {
     "name": "stdout",
     "output_type": "stream",
     "text": [
      "Nějaký textový soubor,\n",
      "který obsahuje\n",
      "více řádků.\n"
     ]
    }
   ],
   "source": [
    "with open('data/data.txt') as file1:\n",
    "    print(file1.read())"
   ]
  },
  {
   "cell_type": "markdown",
   "id": "bed7298c",
   "metadata": {},
   "source": [
    "Při práci se soubory může velmi lehce dojít k chybě při otevírání nebo další práci se souborem, například že soubor neexistuje, nelze z něj číst, atp. V tomto případě by náš program skončil chybou. Tyto chyby lze ale v Pythonu ošetřit pomocí výjimek (exceptions). Lze toho docílit tak, že funkce a metody pracující se soubory dáme do bloku `try` a následně výjimky odchytáváme. Více v příkladu:"
   ]
  },
  {
   "cell_type": "code",
   "execution_count": 3,
   "id": "6128959a",
   "metadata": {},
   "outputs": [
    {
     "name": "stdout",
     "output_type": "stream",
     "text": [
      "Při práci se souborem došlo k chybě.\n",
      "[Errno 2] No such file or directory: 'data/data2.txt'\n",
      "\n",
      "Program ale pokračuje dál bez přerušení.\n"
     ]
    }
   ],
   "source": [
    "try:\n",
    "    with open('data/data2.txt') as file1:\n",
    "        print(file1.read())\n",
    "except OSError as e:\n",
    "    print(f\"Při práci se souborem došlo k chybě.\\n{e}\")\n",
    "\n",
    "print(\"\\nProgram ale pokračuje dál bez přerušení.\")"
   ]
  },
  {
   "cell_type": "markdown",
   "id": "6961c10b",
   "metadata": {},
   "source": [
    "<div style=\"border-left: 5px solid green; padding-left: 1em\">\n",
    "<p><strong>Poznámka:</strong>\n",
    "Funkce <code>open</code> vyvolává pouze výjimky typu <code>OSError</code> (<em>operating system error</em>).\n",
    "K jiným chybám ale může dojít ve vašem kódu uvnitř bloku <code>with</code>.\n",
    "<p>\n",
    "</div>\n",
    "\n",
    "V následujících příkladech nebudeme tento způsob používat z důvodu zpřehlednění kódu, ale ve vašich programech by bylo vhodné tento způsob zpracování výjimek používat u každé práce se souborem."
   ]
  },
  {
   "cell_type": "markdown",
   "id": "3fadc0dc-4597-45d4-9751-73bc1aba7069",
   "metadata": {
    "scrolled": true
   },
   "source": [
    "Někdy je vhodné číst soubor po jednotlivých řádcích. Zde lze použít metodu `readline()`:"
   ]
  },
  {
   "cell_type": "code",
   "execution_count": 4,
   "id": "bfd73ebc-53e6-470a-bb42-3bfef7a147ee",
   "metadata": {},
   "outputs": [
    {
     "name": "stdout",
     "output_type": "stream",
     "text": [
      "Nějaký textový soubor,\n",
      "který obsahuje\n",
      "více řádků."
     ]
    }
   ],
   "source": [
    "with open('data/data.txt') as file1:\n",
    "    line = file1.readline()\n",
    "    while line:\n",
    "        print(line, end='')\n",
    "        line = file1.readline()"
   ]
  },
  {
   "cell_type": "markdown",
   "id": "5f1b612e-ce20-4770-a5f3-322318be9abe",
   "metadata": {},
   "source": [
    "Alternativně lze použít `for`-cyklus, kde jako zdroj hodnot použijeme soubor:"
   ]
  },
  {
   "cell_type": "code",
   "execution_count": 5,
   "id": "4aab0fd3-5183-4157-9644-9f0e746b15f3",
   "metadata": {},
   "outputs": [
    {
     "name": "stdout",
     "output_type": "stream",
     "text": [
      "Nějaký textový soubor,\n",
      "který obsahuje\n",
      "více řádků."
     ]
    }
   ],
   "source": [
    "with open('data/data.txt') as file1:\n",
    "    for line in file1:\n",
    "        print(line, end='')"
   ]
  },
  {
   "cell_type": "markdown",
   "id": "90ed0ddd-5ef4-4aa8-97a8-696587a5c223",
   "metadata": {},
   "source": [
    "Je též možné načíst jednotlivé řádky do seznamu řetězců pomocí metody `readlines()` a následně s nimi pracovat."
   ]
  },
  {
   "cell_type": "code",
   "execution_count": 6,
   "id": "af70fa81-fcbb-45ef-819b-313a7562b10b",
   "metadata": {},
   "outputs": [
    {
     "name": "stdout",
     "output_type": "stream",
     "text": [
      "Vsechna data v seznamu:\n",
      " ['Nějaký textový soubor,\\n', 'který obsahuje\\n', 'více řádků.'] \n",
      "\n",
      "Vypsani 2. radku:\n",
      " který obsahuje\n",
      "\n"
     ]
    }
   ],
   "source": [
    "with open('data/data.txt') as file1:\n",
    "    lines = file1.readlines()\n",
    "print(\"Vsechna data v seznamu:\\n\", lines, \"\\n\")\n",
    "print(\"Vypsani 2. radku:\\n\",lines[1])"
   ]
  },
  {
   "cell_type": "markdown",
   "id": "9388bd54-4d76-49e6-b794-02727cada331",
   "metadata": {},
   "source": [
    "Alternativně:"
   ]
  },
  {
   "cell_type": "code",
   "execution_count": 7,
   "id": "989ebbca-d3ec-42fd-ae95-4f318c560177",
   "metadata": {},
   "outputs": [
    {
     "name": "stdout",
     "output_type": "stream",
     "text": [
      "Vsechna data v seznamu:\n",
      " ['Nějaký textový soubor,\\n', 'který obsahuje\\n', 'více řádků.'] \n",
      "\n",
      "Vypsani 2. radku:\n",
      " který obsahuje\n",
      "\n"
     ]
    }
   ],
   "source": [
    "with open('data/data.txt') as file1:\n",
    "    lines = list(file1)\n",
    "print(\"Vsechna data v seznamu:\\n\", lines, \"\\n\")\n",
    "print(\"Vypsani 2. radku:\\n\",lines[1])"
   ]
  },
  {
   "cell_type": "markdown",
   "id": "50f4e3dc-2906-4c68-823b-81c8b84510ca",
   "metadata": {},
   "source": [
    "## Zápis do textových souborů"
   ]
  },
  {
   "cell_type": "markdown",
   "id": "27c423ba-b7cc-49e2-a62e-88991778e27b",
   "metadata": {},
   "source": [
    "Do souborů je samozřejmě možné zapisovat. K tomu slouží metoda `write()` nebo funkce `print()`. Metoda `write()` má jediný parametr typu `str`.  V případě funkce `print()`, kterou už dobře známe, je třeba specifikovat (pomocí parametru `file`), do kterého souboru se data mají zapsat. Když parametr nezadáme, použije se standardní výstup, jak jsme byli doposud zvyklí."
   ]
  },
  {
   "cell_type": "code",
   "execution_count": 8,
   "id": "22e5bb68-f733-4919-80dc-62aca42b2f45",
   "metadata": {},
   "outputs": [],
   "source": [
    "text = \"Nějaký text, který chceme zapsat do souboru.\"\n",
    "\n",
    "# otevřeme soubor pro zápis v textovém režimu\n",
    "# pokud neexistuje, je nově vytvořen\n",
    "file1 = open(\"data/new_file.txt\", 'w')\n",
    "\n",
    "# zapíšeme text pomocí write()\n",
    "file1.write(text)\n",
    "\n",
    "# zapíšeme text pomocí print()\n",
    "print(text,124, file=file1) \n",
    "\n",
    "# uzavřeme\n",
    "file1.close()"
   ]
  },
  {
   "cell_type": "markdown",
   "id": "42bba85a-6e4a-49fe-9703-8056bb866a23",
   "metadata": {},
   "source": [
    "Stejně jako u čtení, je vhodné použít konstrukci `with`."
   ]
  },
  {
   "cell_type": "code",
   "execution_count": 9,
   "id": "0df26925-0e9f-4265-a38d-571e855518b6",
   "metadata": {},
   "outputs": [],
   "source": [
    "# otevřeme soubor pro zápis\n",
    "with open('data/new_file.txt', \"w\") as file1:\n",
    "    file1.write(\"Nějaký text.\\n\")\n",
    "    print(\"Nějaký další text pomocí print().\", file=file1)"
   ]
  },
  {
   "cell_type": "markdown",
   "id": "38bfac66-bea7-4c5f-9648-9a4b656fb785",
   "metadata": {},
   "source": [
    "Pokud potřebujeme pracovat s více soubory najednou, můžeme je otevřít v rámci jedné konstrukce `with`, například:"
   ]
  },
  {
   "cell_type": "code",
   "execution_count": 10,
   "id": "4bada8f8-2804-4941-b6ba-3f3a9daf9bf3",
   "metadata": {},
   "outputs": [],
   "source": [
    "# zkopírování souboru:\n",
    "with open('data/data.txt') as file1, open('data/data_new.txt', \"w\") as file2:\n",
    "    file2.write(file1.read())"
   ]
  },
  {
   "cell_type": "markdown",
   "id": "b46bcb14-846b-44c7-829c-2300b61b77e7",
   "metadata": {},
   "source": [
    "##### Ukázkový příklad 1: zápis číselných hodnot do souboru\n",
    "\n",
    "Zapíšeme 2 sloupce čísel oddělené tabulátorem (znak `'\\t'`), kde v prvním sloupci bude vždy číslo (od 1 do n) a v druhém jeho odmocnina. Při zápisu číselných hodnot do souboru pomocí metody `write()` je nejprve musíme převést na stringy. To můžeme udělat například pomocí funkce `str()` nebo pomocí formátovacích řetězců (`f`-stringů)."
   ]
  },
  {
   "cell_type": "code",
   "execution_count": 11,
   "id": "0d411239-e393-4339-944b-4cccced906ea",
   "metadata": {},
   "outputs": [],
   "source": [
    "import math\n",
    "n = 10\n",
    "with open('data/cisla.txt', \"w\") as file1:\n",
    "    for i in range(1, n):\n",
    "        # s využitím funkce str() a metody write()\n",
    "        file1.write(str(i) + '\\t'+ str(math.sqrt(i))+'\\n')\n",
    "        \n",
    "        # alternativně pomocí f-stringu:\n",
    "        # file1.write(f\"{i}\\t{math.sqrt(i)}\\n\")\n",
    "\n",
    "        # alternativně pomocí f-stringu a funkce print():\n",
    "        # print(f\"{i}\\t{math.sqrt(i)}\", file=file1)"
   ]
  },
  {
   "cell_type": "markdown",
   "id": "3612356a-0c8d-4c48-b175-3d95823db6d2",
   "metadata": {},
   "source": [
    "##### Ukázkový příklad 2: načtení číselných hodnot ze souboru, jejich výpis a spočítání součtu odmocnin\n",
    "\n",
    "Při čtení dat z textového souboru je musíme vhodně zpracovat (parsovat), abychom s nimi pak mohli pracovat. Hodnota načtená pomocí metod `read()`, `readline()` nebo pomocí `for`-cyklu je typu `str` (string). String musíme nejprve rozdělit na jednotlivé podstringy a ty následně převést na vhodný datový typ.\n",
    "\n",
    "Rozdělení stringu lze provést pomocí nám již známé metody `split()`, která daný string rozdělí na seznam kratších stringů v místech, kde se nacházel oddělovač. Například:\n",
    "`\"rum,pivo,zelena\".split(',') == ['rum', 'pivo', 'zelena']`"
   ]
  },
  {
   "cell_type": "code",
   "execution_count": 12,
   "id": "10e3d54c-daae-4217-866d-baf1bf1f3b9c",
   "metadata": {},
   "outputs": [
    {
     "name": "stdout",
     "output_type": "stream",
     "text": [
      "sqrt( 1 ) =  1.0\n",
      "sqrt( 2 ) =  1.4142135623730951\n",
      "sqrt( 3 ) =  1.7320508075688772\n",
      "sqrt( 4 ) =  2.0\n",
      "sqrt( 5 ) =  2.23606797749979\n",
      "sqrt( 6 ) =  2.449489742783178\n",
      "sqrt( 7 ) =  2.6457513110645907\n",
      "sqrt( 8 ) =  2.8284271247461903\n",
      "sqrt( 9 ) =  3.0\n",
      "Soucet odmocnin je: 19.30600052603572\n"
     ]
    }
   ],
   "source": [
    "with open('data/cisla.txt') as file2:\n",
    "    sum = 0  # budeme počítat sumu z druhého sloupce\n",
    "    for line in file2:\n",
    "        string_values = line.split('\\t')  # rozdělíme řádek podle znaku \\t\n",
    "        index = int(string_values[0])  # první hodnotu převedeme na int\n",
    "        value = float(string_values[1])  # druhou převedeme na float\n",
    "        \n",
    "        sum += value  # přičteme k sumě\n",
    "        print('sqrt(', index, ') = ', value)  # ukázkový výpis\n",
    "\n",
    "print('Soucet odmocnin je:', sum)"
   ]
  },
  {
   "cell_type": "markdown",
   "id": "6e72bfb6",
   "metadata": {},
   "source": [
    "### Nastavení standardního výstupu\n",
    "\n",
    "Pokud nechceme stále zadávat parametr `file` při použití funkce `print()`, lze nastavit standardní výstup do námi zvoleného souboru.\n",
    "Lze to provést pomocí nastavení `sys.stdout` na náš soubor. Je nutné importovat balíček `sys`."
   ]
  },
  {
   "cell_type": "code",
   "execution_count": 13,
   "id": "c75e07ab",
   "metadata": {},
   "outputs": [],
   "source": [
    "import sys  # importujeme balíček sys\n",
    "\n",
    "# uložíme si původní hodnotu výstupu\n",
    "orig_stdout = sys.stdout\n",
    "\n",
    "with open('data/soubor.txt', 'w') as file1:\n",
    "    # změníme výstup na náš soubor\n",
    "    sys.stdout = file1\n",
    "    print('Tento text se zapíše do souboru.')\n",
    "\n",
    "# změníme výstup zpět na standardní výstup\n",
    "sys.stdout = orig_stdout"
   ]
  },
  {
   "cell_type": "markdown",
   "id": "978ab13e-d4e6-4fc2-89d1-d945469beb72",
   "metadata": {},
   "source": [
    "## Čtení a zápis binárních souborů\n",
    "\n",
    "Práce s binárními soubory je velmi podobná. Používáme stejné funkce a metody `open()`, `read()`, `write()` a `close()`. Rozdíl je hlavně v tom, že binární soubory jsou pro člověka nečitelné a data jsou v něm uložena právě v binární, nikoli textové podobě.\n",
    "\n",
    "S binárními soubory je spojeno několik komplikací. Nejprve musíme naše data převést na byty a pak zapsat. Navíc je třeba dát pozor na kódování čísel větších než 1 byte. Zde podle architektury procesoru existuje kódování *little endian* a *big endian*, které se liší pořadím bytu.\n",
    "\n",
    "Pro převedení seznamu s hodnotami na pole bytů lze například použít funkci `bytearray()`."
   ]
  },
  {
   "cell_type": "code",
   "execution_count": 14,
   "id": "4f7f56d5-020b-4a07-bd0e-fcd712e96bf6",
   "metadata": {},
   "outputs": [],
   "source": [
    "# Zápis pěti bytů do souboru v binární podobě\n",
    "data = [1, 2, 65, 66, 32]\n",
    "bytes = bytearray(data)\n",
    "with open('data/binarni_soubor.bin', \"wb\") as file2:\n",
    "    file2.write(bytes)"
   ]
  },
  {
   "cell_type": "markdown",
   "id": "42182c35-d70a-48e5-ad96-2f0baf41e3b8",
   "metadata": {},
   "source": [
    "Čtení binárních souborů se provádí pomocí metody `read()`."
   ]
  },
  {
   "cell_type": "code",
   "execution_count": 15,
   "id": "1fe9d679-2a3c-486d-830c-0d9c68d8cba6",
   "metadata": {},
   "outputs": [
    {
     "name": "stdout",
     "output_type": "stream",
     "text": [
      "65\n",
      "[1, 2, 65, 66, 32]\n"
     ]
    }
   ],
   "source": [
    "with open('data/binarni_soubor.bin', \"rb\") as file2:\n",
    "    content = file2.read() # přečteme vše\n",
    "    print(content[2])      # přistoupíme ke třetímu bytu ze souboru\n",
    "    data = list(content)   # převod bytového pole na seznam čísel\n",
    "    print(data)"
   ]
  },
  {
   "cell_type": "markdown",
   "id": "892f6a46-1b97-4f79-8dd9-2bbedce0c52b",
   "metadata": {},
   "source": [
    "# Příklady"
   ]
  },
  {
   "cell_type": "markdown",
   "id": "ebac0006-caa7-4d95-a0b7-bc579f9011cc",
   "metadata": {
    "jp-MarkdownHeadingCollapsed": true
   },
   "source": [
    "1. Načtěte textový soubor data/text.txt a vypište ho na obrazovku tak, že všechna písmena budou velká."
   ]
  },
  {
   "cell_type": "code",
   "execution_count": null,
   "id": "9afa680d-294b-47ab-a1aa-31780ba8f093",
   "metadata": {
    "jp-MarkdownHeadingCollapsed": true
   },
   "outputs": [],
   "source": []
  },
  {
   "cell_type": "markdown",
   "id": "87d58a96-8e39-4d99-b435-6a1e72ed4908",
   "metadata": {
    "jp-MarkdownHeadingCollapsed": true
   },
   "source": [
    "2. Upravte předchozí příklad tak, aby byl výsledek konverze uložen do nového souboru a nevypisoval se na obrazovku."
   ]
  },
  {
   "cell_type": "code",
   "execution_count": null,
   "id": "d29b0f7f-a55d-4dc0-bde0-96a3dba2c5db",
   "metadata": {},
   "outputs": [],
   "source": []
  },
  {
   "cell_type": "markdown",
   "id": "42d4984c-3cd3-4775-9226-cdfe8cd3c065",
   "metadata": {},
   "source": [
    "3. V souboru data/text.txt spočítejte počet řádků a počet slov."
   ]
  },
  {
   "cell_type": "code",
   "execution_count": null,
   "id": "cbe964bd-545d-4d0b-9410-2c89d0a27753",
   "metadata": {},
   "outputs": [],
   "source": []
  },
  {
   "cell_type": "markdown",
   "id": "7325a28d-c0ab-431d-a893-3c6acfd31ab4",
   "metadata": {},
   "source": [
    "4. Vytvořte program, který do textového souboru `data/sinus.txt` vypíše dvojice hodnot $x,y$ kde $x$ budou čísla od $0$ do $2\\pi$ s krokem $0.05$ a $y = \\sin(x)$. Každá dvojice bude vypsaná na samostatný řádek ve formátu `x,y` (dvě čísla oddělená čárkou). "
   ]
  },
  {
   "cell_type": "code",
   "execution_count": null,
   "id": "e9c27c5d-b4eb-49a3-8bcb-a8fddb4d612e",
   "metadata": {},
   "outputs": [],
   "source": []
  },
  {
   "cell_type": "markdown",
   "id": "8545c6e1-7699-4045-aa91-1e8cfa55a1eb",
   "metadata": {},
   "source": [
    "5. Načtěte soubor `data/inventory.txt`, ve kterém je seznam zboží na skladě. Z dat vypočtěte celkovou cenu zboží na skladě a také celkový počet kusů všeho zboží dohromady. Výsledek vypište (na standardní výstup). Podívejte se nejprve na strukturu souboru a podle toho ho v programu zpracujte. Všimněte si například, že první řádek obsahuje jen popis sloupců."
   ]
  },
  {
   "cell_type": "code",
   "execution_count": null,
   "id": "1aacf233-7958-4aac-9e56-76c6f0d0ab01",
   "metadata": {},
   "outputs": [],
   "source": []
  },
  {
   "cell_type": "markdown",
   "id": "cf014ac7-aeca-4044-8850-4d085f698519",
   "metadata": {},
   "source": [
    "6. Data v souboru `data/inventory.txt` převeďte z formátu CSV (hodnoty oddělené čárkou) na tabulku v HTML (do nějakého jiného souboru). Příklad:\n",
    "```html\n",
    "<table>\n",
    "    <tr>\n",
    "        <td>Kýbl</td>\n",
    "        <td>5</td>\n",
    "        <td>85</td>\n",
    "    </tr>\n",
    "    <tr>\n",
    "        <td>Pytel cementu</td>\n",
    "        <td>10</td>\n",
    "        <td>12</td>\n",
    "    </tr>\n",
    "</table>\n",
    "```"
   ]
  },
  {
   "cell_type": "code",
   "execution_count": null,
   "id": "e5bc10f0-be5c-4aa5-be5e-44422d8ff1fb",
   "metadata": {},
   "outputs": [],
   "source": []
  },
  {
   "cell_type": "markdown",
   "id": "6da5dfb2-7090-4217-9c74-f3d3ff4a0bf2",
   "metadata": {},
   "source": [
    "7. Vypište do souboru čísla od 2 do *n* a vedle nich do sloupce odděleného tabulátorem (znak `'\\t'`) jejich prvočíselný rozklad oddělený čárkami. Příklad:\n",
    "```\n",
    "...\n",
    "8    2,2,2\n",
    "9    3,3\n",
    "10   2,5\n",
    "...\n",
    "```"
   ]
  },
  {
   "cell_type": "code",
   "execution_count": null,
   "id": "12b02a38-5273-48bc-8673-555c0627dd38",
   "metadata": {},
   "outputs": [],
   "source": []
  }
 ],
 "metadata": {
  "kernelspec": {
   "display_name": "Python 3",
   "language": "python",
   "name": "python3"
  },
  "language_info": {
   "codemirror_mode": {
    "name": "ipython",
    "version": 3
   },
   "file_extension": ".py",
   "mimetype": "text/x-python",
   "name": "python",
   "nbconvert_exporter": "python",
   "pygments_lexer": "ipython3",
   "version": "3.12.7"
  }
 },
 "nbformat": 4,
 "nbformat_minor": 5
}
