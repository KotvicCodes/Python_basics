{
 "cells": [
  {
   "cell_type": "markdown",
   "metadata": {},
   "source": [
    "# Práce se základními moduly standardní knihovny"
   ]
  },
  {
   "cell_type": "markdown",
   "metadata": {},
   "source": [
    "Na dnešním cvičení se budeme podrobně zabývat klíčovým konceptem v jazyce Python Python – [moduly](https://docs.python.org/3/tutorial/modules.html). \n",
    "\n",
    "Moduly vznikly z potřeby uchovávat definice funkcí a proměnných tak, aby byly dostupné i po ukončení běhu Python interpreteru. Když ukončíte a znovu spustíte Python interpreter, ztratíte všechny definice, které jste vytvořili. Pro psaní delších programů je tak lepší využít externích souborů a tím vytvořit skripty. A jak se váš program stává komplexnějším, může být výhodné rozdělit ho do několika souborů pro snazší údržbu a přehlednost.\n",
    "\n",
    "V praxi to znamená, že můžete vytvářet moduly obsahující funkce, třídy nebo proměnné a následně je importovat do dalších modulů nebo skriptů. Tento přístup usnadňuje správu kódu a umožňuje opakované využití kódu bez kopírování definic do každého nového programu. To je zvláště užitečné při psaní funkcí, které chcete používat v různých projektech, aniž byste museli opisovat jejich definici do každého programu znovu.\n",
    "\n",
    "Dnes se budeme zaměřovat na praktický pohled na několik standardních modulů, jako jsou `math`, `random`, `sys`, `os`, a další, abychom se s nimi naučili pracovat. "
   ]
  },
  {
   "cell_type": "markdown",
   "metadata": {},
   "source": [
    "## Příkaz `import`\n",
    "\n",
    "Příkaz `import` je základním nástrojem, jak zavést moduly a jejich funkcionalitu do našeho kódu. Tento příkaz má několik variant.\n",
    "\n",
    "### Základní Import\n",
    "```python\n",
    "import module_name\n",
    "```\n",
    "Tímto způsobem získáme přístup ke všem prvkům definovaným v `module_name`. Používá se jednoduše přístupem k prvkům přes přes tečkovou notaci -  `module_name.element`\n",
    "\n",
    "### Import konkrétních prvků\n",
    "Pokud nepotřebujeme importovat celý modul, ale jen několik jeho prvků (funkcí, tříd, konstant), můžeme to udělat následujícím způsobem\n",
    "```python\n",
    "from module_name import element1, element2\n",
    "```\n",
    "K těmto prvkům již můžeme přistupovat napřímo, bez tečkové notace a plného názvu modulu - `element1`\n",
    "\n",
    "### Alternativní způsoby importu\n",
    "#### - Alternativní pojmenování - alias\n",
    "Během importu je možné modul nebo jeho prvky (záleží, která varianta importu je použita) pojmenovat alternativním názvem a pod tímto názvem s ním dále pracovat. Hodí se to převážně, pokud název modulu nebo jeho prvků je příliš dlouhý nebo komplikovaný nebo pokud by daný název kolidoval s již jinými objekty v našem programu.\n",
    "```python\n",
    "import module_name as alias\n",
    "from another_module import element1 as el1, element2 as el2\n",
    "```\n",
    "\n",
    "#### - Import všech prvků z modulu (&#10071;&#10071;NEDOPORUČOVÁNO&#10071;&#10071;)\n",
    "Existuje možnost importovat všechny prvky z daného modulu.\n",
    "```python\n",
    "from module_name import *\n",
    "```\n",
    "Tento přístup není doporučován, protože může dojít ke konfliktům názvů (k zastínění starších objektů) a dalším nejasnostem a k \"zaplevelení\" aktuálního namespace. Je doporučeno být explicitní v tom, jaké moduly a prvky z nich potřebuji a importuji.\n",
    "Pro rychlé prototypování v interaktivním intepretu to může být užitečné, ale ve finálním programu by se to nemělo používat."
   ]
  },
  {
   "cell_type": "code",
   "execution_count": 7,
   "metadata": {},
   "outputs": [
    {
     "name": "stdout",
     "output_type": "stream",
     "text": [
      "5.0\n",
      "[1 2 3]\n",
      "10\n",
      "b\n"
     ]
    }
   ],
   "source": [
    "# příklad\n",
    "\n",
    "# Základní import\n",
    "import math\n",
    "\n",
    "# Import s aliasem\n",
    "import numpy as np\n",
    "\n",
    "# Import konkrétních prvků\n",
    "from random import randint, choice as volba\n",
    "\n",
    "# Použití importovaných prvků\n",
    "print(math.sqrt(25))\n",
    "print(np.array([1, 2, 3]))\n",
    "print(randint(1, 10))\n",
    "print(volba(['a', 'b', 'c']))"
   ]
  },
  {
   "cell_type": "markdown",
   "metadata": {},
   "source": [
    "### Co se děje na pozadí příkazu `import`\n",
    "Kdyz se zavolá některá z variant příkazu `import`, dojde k tomu, že importovaný objekt se stane součástí namespace, ve kterém je příkaz `import` zavolán.\n",
    "Nejčastěji `import` voláme na začátku programu v globálním namespace a importované objekty tak jsou součástí tohoto globálního namespace a dostupné odkudkoli v programu. Je možné ale import volat i v lokálním namespace (například v těle funkce) a pak efekt příkazu `import` je platný jen v tomto kontextu.\n",
    "\n",
    "##### `sys.modules`\n",
    "Při provádění příkazu `import` se Python nejprve podívá, jestli už se hledaný modul program nepokusil načíst již dříve (je jedno, jestli celý modul, nebo jen nějaký prvek z něj). Odkazy na moduly, které již program během svého běhu načetl, se nacházejí v `sys.modules`. Je to slovník, kde klíče jsou názvy modulů a hodnoty jednotlivé moduly. Slouží jako cache.\n",
    "\n",
    "Pokud se tedy hledaný modul najde v tomto slovníku, nemusí se modul již načítat (už je v paměti načten) a do aktuálního namespace se vloží odkazy na modul, nebo na prvky, které z tohoto modulu chceme používat.\n",
    "\n",
    "Pokud není nalezen, Python prohledává určité [cesty](https://docs.python.org/3/tutorial/modules.html#the-module-search-path) v souborovém systému na disku  a snaží se najít odpovídající moduly. Když se modul podaří nalézt, načte se do paměti, uloží do `sys.modules` a zveřejní v lokálním namespace.\n",
    "\n",
    "Pokud není modul nalezen ani na souborovém systému, dojde k vyvolání výjimky `ModuleNotFoundError` (existuje ještě výjimka `ImportError`, která je rodičovská třída k třídě `ModuleNotFoundError`, a ta může být také vyvolána, pokud import selže z nějakých jiných důvodů)\n",
    "\n"
   ]
  },
  {
   "cell_type": "markdown",
   "metadata": {},
   "source": [
    "##### Ukázka `sys.modules`\n",
    "Pojďme se podívat na to, jak se import projevuje na aktuálním namespace a `sys.modules`.\n",
    "\n",
    "\n"
   ]
  },
  {
   "cell_type": "code",
   "execution_count": 8,
   "metadata": {},
   "outputs": [],
   "source": [
    "# pomocna funkce\n",
    "def filter_keys(keys):\n",
    "    return [key for key in keys if not key.startswith('_')]"
   ]
  },
  {
   "cell_type": "code",
   "execution_count": 9,
   "metadata": {},
   "outputs": [
    {
     "name": "stdout",
     "output_type": "stream",
     "text": [
      "GLOBAL ['In', 'Out', 'get_ipython', 'exit', 'quit', 'open', 'math', 'np', 'randint', 'volba', 'filter_keys', 'sys', 'zelva', 'Counter', 'import_test']\n",
      "\n",
      "LOCAL ['In', 'Out', 'get_ipython', 'exit', 'quit', 'open', 'math', 'np', 'randint', 'volba', 'filter_keys', 'sys', 'zelva', 'Counter', 'import_test']\n",
      "\n",
      "jsou identicke? True\n",
      "\n",
      "Counter({1: 2, 2: 1, 3: 1})\n",
      "\n"
     ]
    }
   ],
   "source": [
    "import sys\n",
    "import turtle as zelva\n",
    "from collections import Counter\n",
    "\n",
    "# podivejme se na lokalni a globalni kontext - jsou stejne, jsme totiz v globalnim kontextu\n",
    "# vypiseme pro prehlednost jen klice relevantni klice\n",
    "print('GLOBAL', filter_keys(globals()), end='\\n\\n')\n",
    "print('LOCAL', filter_keys(locals()), end='\\n\\n')\n",
    "print('jsou identicke?', globals() is locals(), end='\\n\\n')\n",
    "\n",
    "# vidime zde moduly/funkce vsazene do namespace, aby byly k dispozici\n",
    "print(Counter([1,1,2,3]), end='\\n\\n')\n",
    "\n"
   ]
  },
  {
   "cell_type": "code",
   "execution_count": 10,
   "metadata": {},
   "outputs": [
    {
     "name": "stdout",
     "output_type": "stream",
     "text": [
      "Modul turtle je v sys.modules pod originalnim nazvem: True\n",
      "\n",
      "V glob. ns je dostupny pod aliasem: True\n",
      "\n",
      "Je to ten stejny modul?: True\n",
      "\n"
     ]
    }
   ],
   "source": [
    "# Podivejme se treba na modul turtle. Je nacteny v pameti a reference na nej se objevuje\n",
    "# ve slovniku sys.modules pod jeho originalnim nazvem\n",
    "print('Modul turtle je v sys.modules pod originalnim nazvem:', 'turtle' in sys.modules, end='\\n\\n')\n",
    "print('V glob. ns je dostupny pod aliasem:', 'zelva' in globals(), end='\\n\\n')\n",
    "print('Je to ten stejny modul?:', globals()['zelva'] is sys.modules['turtle'], end='\\n\\n')"
   ]
  },
  {
   "cell_type": "code",
   "execution_count": 11,
   "metadata": {},
   "outputs": [
    {
     "name": "stdout",
     "output_type": "stream",
     "text": [
      "Counter je dostupny v namespace: True\n",
      "\n",
      "Counter je dostupny v cache - sys.module: False\n",
      "\n",
      "V sys.modules je dostupny jeho modul, ne samotna fce: True\n",
      "\n",
      "je Counter v ns totez, jako Counter ukryty v modulu v sys.modules?: True\n",
      "\n"
     ]
    }
   ],
   "source": [
    "# jak vypada samostatna funkce/trida, ktera byla importovana\n",
    "print('Counter je dostupny v namespace:', 'Counter' in globals(), end='\\n\\n')\n",
    "print('Counter je dostupny v cache - sys.module:', 'Counter' in sys.modules, end='\\n\\n')\n",
    "\n",
    "print('V sys.modules je dostupny jeho modul, ne samotna fce:', \n",
    "      'collections' in sys.modules, end='\\n\\n')\n",
    "\n",
    "print('je Counter v ns totez, jako Counter ukryty v modulu v sys.modules?:', \n",
    "      globals()['Counter'] is sys.modules['collections'].Counter, end='\\n\\n')"
   ]
  },
  {
   "cell_type": "markdown",
   "metadata": {},
   "source": [
    "> Poznámka: operátor `is` je operátor identity - říká, jestli 2 proměnné odkazují na ten stejný objekt v paměti"
   ]
  },
  {
   "cell_type": "code",
   "execution_count": 12,
   "metadata": {},
   "outputs": [
    {
     "name": "stdout",
     "output_type": "stream",
     "text": [
      "Cmath in sys.modules True\n",
      "Cmath in globals() False\n",
      "CMATH sqrt jde pouzit:  1j\n",
      "\n",
      "GLOBAL ve funkci ['In', 'Out', 'get_ipython', 'exit', 'quit', 'open', 'math', 'np', 'randint', 'volba', 'filter_keys', 'sys', 'zelva', 'Counter', 'import_test']\n",
      "\n",
      "LOCAL ve funkci  ['cmath']\n",
      "\n",
      "jsou identicke? False\n",
      "\n",
      "Cmath in sys.modules True\n",
      "Cmath in globals() False\n"
     ]
    },
    {
     "ename": "NameError",
     "evalue": "name 'cmath' is not defined",
     "output_type": "error",
     "traceback": [
      "\u001b[0;31m---------------------------------------------------------------------------\u001b[0m",
      "\u001b[0;31mNameError\u001b[0m                                 Traceback (most recent call last)",
      "Cell \u001b[0;32mIn[12], line 20\u001b[0m\n\u001b[1;32m     18\u001b[0m \u001b[38;5;28mprint\u001b[39m(\u001b[38;5;124m'\u001b[39m\u001b[38;5;124mCmath in globals()\u001b[39m\u001b[38;5;124m'\u001b[39m, \u001b[38;5;124m'\u001b[39m\u001b[38;5;124mcmath\u001b[39m\u001b[38;5;124m'\u001b[39m \u001b[38;5;129;01min\u001b[39;00m \u001b[38;5;28mglobals\u001b[39m())\n\u001b[1;32m     19\u001b[0m \u001b[38;5;66;03m# vykonavani spadne, v globalnim ns to neni importovane\u001b[39;00m\n\u001b[0;32m---> 20\u001b[0m \u001b[38;5;28mprint\u001b[39m(\u001b[43mcmath\u001b[49m\u001b[38;5;241m.\u001b[39msqrt(\u001b[38;5;241m-\u001b[39m\u001b[38;5;241m1\u001b[39m))\n",
      "\u001b[0;31mNameError\u001b[0m: name 'cmath' is not defined"
     ]
    }
   ],
   "source": [
    "# Podívejme se ještě na lokální namespace, například ve funkci\n",
    "def import_test():\n",
    "    # naimportujeme neco, co jsme jeste dnes neimportovali\n",
    "    import cmath\n",
    "    print('CMATH sqrt jde pouzit: ',cmath.sqrt(-1), end='\\n\\n')\n",
    "    print('GLOBAL ve funkci', filter_keys(globals().keys()), end='\\n\\n')\n",
    "    print('LOCAL ve funkci ', filter_keys(locals().keys()), end='\\n\\n')\n",
    "    print('jsou identicke?', globals() is locals(), end='\\n\\n')\n",
    "\n",
    "\n",
    "#zjistime jestli cmath je v sys.modules\n",
    "print('Cmath in sys.modules', 'cmath' in sys.modules)\n",
    "print('Cmath in globals()', 'cmath' in globals())\n",
    "# spustime funkce\n",
    "import_test()\n",
    "\n",
    "print('Cmath in sys.modules', 'cmath' in sys.modules)\n",
    "print('Cmath in globals()', 'cmath' in globals())\n",
    "# vykonavani spadne, v globalnim ns to neni importovane\n",
    "print(cmath.sqrt(-1))\n"
   ]
  },
  {
   "cell_type": "markdown",
   "metadata": {},
   "source": [
    "# Výběr modulů standardní knihovny"
   ]
  },
  {
   "cell_type": "markdown",
   "metadata": {},
   "source": [
    "## `math` \n",
    "Modul `math` poskytuje matematické funkce pro pokročilé výpočty. Obsahuje metody pro operace s čísly, trigonometrii, logaritmy a další matematické operace. Knihovna je velice bohatá a nabízí široké spektrum funkcí.\n",
    "\n",
    "S touto knihovnou jsme se již seznámili v dřívějších cvičeních.\n",
    "\n",
    "- Práce s integery a konverze\n",
    " Funkce     | Krátký popis\n",
    "-------------|---------------------------------------------------\n",
    "math.ceil(x) | Zaokrouhlení nahodu\n",
    "math.floor(x)| Zaokrouhlení dolu\n",
    "math.trunc(x)| Odříznutí desetinné části\n",
    "\n",
    "\n",
    "- Obecné výpočty\n",
    " Funkce     | Krátký popis\n",
    "-------------|---------------------------------------------------\n",
    "math.factorial(n) | Výpočet n!\n",
    "math.gcd(*integers)| Výpočet největšího společného dělitele čísel\n",
    "math.prod(iterable, *, start=1)| Výpočet produktu - vzájemné vynásobení všech čísel\n",
    "\n",
    "\n",
    "- Trigonometrické  a běžné funkce \n",
    "Funkce     | Krátký popis\n",
    "-------------|---------------------------------------------------\n",
    "math.exp(x)| Výpočet `e^x`\n",
    "math.log(x[, base]  )| Výpočet logaritmu od základu `base`\n",
    "math.pow(x, y)| Výpočet mocniny `x^y`\n",
    "math.sqrt(x) | Výpočet odmocniny\n",
    "\n",
    "- Konstanty\n",
    "Konstanta     | Krátký popis\n",
    "-------------|---------------------------------------------------\n",
    "math.pi| Ludolfovo číslo pi - 3.14\n",
    "math.e  )| Eulerovo číslo e\n",
    "math.inf| Hodnota reprezentující kladné nekonečno\n",
    "math.sqrt(x) | Výpočet odmocniny\n",
    "\n",
    "\n",
    "- Zjišťovací funkce\n",
    "Funkce     | Krátký popis\n",
    "-------------|---------------------------------------------------\n",
    "math.isclose(a, b, *, rel_tol=1e-09, abs_tol=0.0)| Zjistí, jestli jsou si čísla blízko za daných mezí (relativních nebo absolutních)\n",
    "    \n",
    "    \n",
    "> Více podrobností v oficiální [dokumentaci](https://docs.python.org/3/library/math.html)\n",
    "\n",
    "## cmath\n",
    "Tento modul poskytuje funkce podobné, jako v modulu `math`. Umí však počítat v komplexním prostoru.\n",
    "Navíc nabízí nějaké funkce aplikovatelné jen v komplexní rovině.\n",
    "\n",
    "Funkce     | Krátký popis\n",
    "-------------|---------------------------------------------------\n",
    "cmath.phase(x)| Fáze komplexního čísla\n",
    "cmath.polar(x)| Konverze komplexního čísla do polárních souřadnic\n",
    "cmath.rect(r, phi)| Konverze komplexního čísla z polárních do kartézských souřadnic\n",
    "\n",
    "> Více podrobností v oficiální [dokumentaci](https://docs.python.org/3/library/cmath.html)"
   ]
  },
  {
   "cell_type": "code",
   "execution_count": 13,
   "metadata": {},
   "outputs": [
    {
     "name": "stdout",
     "output_type": "stream",
     "text": [
      "1j\n"
     ]
    },
    {
     "ename": "ValueError",
     "evalue": "math domain error",
     "output_type": "error",
     "traceback": [
      "\u001b[0;31m---------------------------------------------------------------------------\u001b[0m",
      "\u001b[0;31mValueError\u001b[0m                                Traceback (most recent call last)",
      "Cell \u001b[0;32mIn[13], line 5\u001b[0m\n\u001b[1;32m      2\u001b[0m \u001b[38;5;28;01mimport\u001b[39;00m \u001b[38;5;21;01mcmath\u001b[39;00m\n\u001b[1;32m      4\u001b[0m \u001b[38;5;28mprint\u001b[39m(cmath\u001b[38;5;241m.\u001b[39msqrt(\u001b[38;5;241m-\u001b[39m\u001b[38;5;241m1\u001b[39m))  \u001b[38;5;66;03m# komlexní varianta umi vypočítat odmocninu záporných čísel\u001b[39;00m\n\u001b[0;32m----> 5\u001b[0m \u001b[38;5;28mprint\u001b[39m(\u001b[43mmath\u001b[49m\u001b[38;5;241;43m.\u001b[39;49m\u001b[43msqrt\u001b[49m\u001b[43m(\u001b[49m\u001b[38;5;241;43m-\u001b[39;49m\u001b[38;5;241;43m1\u001b[39;49m\u001b[43m)\u001b[49m)\n",
      "\u001b[0;31mValueError\u001b[0m: math domain error"
     ]
    }
   ],
   "source": [
    "import math\n",
    "import cmath\n",
    "\n",
    "print(cmath.sqrt(-1))  # komplexní varianta umi vypočítat odmocninu záporných čísel\n",
    "print(math.sqrt(-1))"
   ]
  },
  {
   "cell_type": "markdown",
   "metadata": {},
   "source": [
    "## `random`\n",
    "Modul random slouží k generování pseudo-náhodných čísel. Pomocí různých metod může být využit v různých situacích, například při hraní her nebo simulacích. Dostupné funkce se řadí do několika kategorií:\n",
    "\n",
    "#### Sekce pro integery\n",
    "Funkce     | Krátký popis\n",
    "-------------|---------------------------------------------------\n",
    "random.randrange(stop)| Vrátí náhodný prvek z množiny hodnot, které by vygenerovala funkce range se stejnými parametry. Používá stejné parametry. \n",
    "random.randint(a, b) | Vrátí náhodný integer `I` tak, že `a <= I <=b`\n",
    "\n",
    "#### Sekce pro sekvence\n",
    "Funkce     | Krátký popis\n",
    "-------------|---------------------------------------------------\n",
    "random.choice(seq)| Vybere náhodný prvek ze sekvence\n",
    "random.shuffle(x) | Náhodně zamíchá (inplace) prvky modifikovatelné sekvence\n",
    "\n",
    "#### Sekce pro reálná čísla\n",
    "Funkce     | Krátký popis\n",
    "-------------|---------------------------------------------------\n",
    "random.random()| Vrátí náhodné číslo v `r` rozmezí `0.0 <= r < 1.0`\n",
    "random.uniform(a, b) | Vrátí náhodné číslo v `r` rozmezí `a <= r <= b`\n",
    "\n",
    "### Seed\n",
    "Někdy je velice užitečné být schopen zreplikovat posloupnost (pseudo)náhodných čísel, například kvůli ladění programu. Generátor náhodné sekvence funguje tak, že na základě aktuální hodnoty se generuje hodnota následující. Automatická volba počáteční hodnoty pak zajistí \"náhodnost\". Typicky se prvotní hodnota nastavuje například na aktuální čas nebo si bere počáteční hodnotu z nějakého systémového generátoru pseudo-náhodných čísel (`/dev/random`, `/dev/urandom`, ...). \n",
    "\n",
    "Můžeme ale nastavit výchozí hodnotu na konkrétní číslo a tím zajistíme opakovatelnost - posloupnost náhodných čísel bude začínat vždy ze stejného bodu. Nezapomeňte vlastní seed pak odstranit před reálným použitím programu :)\n",
    "\n",
    "\n",
    "> Více podrobností v oficiální [dokumentaci](https://docs.python.org/3/library/random.html#examples).\n",
    "\n"
   ]
  },
  {
   "cell_type": "code",
   "execution_count": 14,
   "metadata": {},
   "outputs": [
    {
     "name": "stdout",
     "output_type": "stream",
     "text": [
      "40\n",
      "30\n",
      "20\n",
      "45\n",
      "35\n"
     ]
    }
   ],
   "source": [
    "import random\n",
    "\n",
    "# vygenerujeme nahodna cisla z mnoziny, kterou by vytvoril range(5, 50, 5)\n",
    "\n",
    "for i in range(5):\n",
    "    print(random.randrange(5, 50, 5))"
   ]
  },
  {
   "cell_type": "markdown",
   "metadata": {},
   "source": [
    "> TIP: Zkuste předchozí kód pouštět vícekrát - pokaždé dá jiné hodnoty."
   ]
  },
  {
   "cell_type": "code",
   "execution_count": 15,
   "metadata": {},
   "outputs": [
    {
     "name": "stdout",
     "output_type": "stream",
     "text": [
      "5\n",
      "2\n",
      "8\n",
      "5\n"
     ]
    }
   ],
   "source": [
    "# vybereme nahodny prvek ze sekvence\n",
    "s = [1,2,3,4,5,6,7,8,9,10]\n",
    "print(random.choice(s))\n",
    "print(random.choice(s))\n",
    "print(random.choice(s))\n",
    "print(random.choice(s))"
   ]
  },
  {
   "cell_type": "code",
   "execution_count": 16,
   "metadata": {},
   "outputs": [
    {
     "name": "stdout",
     "output_type": "stream",
     "text": [
      "132.2072573379625\n"
     ]
    }
   ],
   "source": [
    "# vygenerujeme nahodne cislo z daneho rozsahu\n",
    "print(random.uniform(100, 200))"
   ]
  },
  {
   "cell_type": "code",
   "execution_count": 17,
   "metadata": {},
   "outputs": [],
   "source": [
    "# zazalohuje me si aktualni stav random objektu\n",
    "random_state = random.getstate()"
   ]
  },
  {
   "cell_type": "code",
   "execution_count": 18,
   "metadata": {},
   "outputs": [
    {
     "name": "stdout",
     "output_type": "stream",
     "text": [
      "0.9560342718892494\n",
      "0.9478274870593494\n",
      "0.05655136772680869\n",
      "0.08487199515892163\n",
      "0.8354988781294496\n",
      "0.7359699890685233\n",
      "0.6697304014402209\n",
      "0.3081364575891442\n",
      "0.6059441656784624\n",
      "0.6068017336408379\n"
     ]
    }
   ],
   "source": [
    "# nastavime vlastni seed - uvidime, ze to vzdy generuje stejne posloupnosti pri kazdem behu, pokud nastavime vlastni seed\n",
    "\n",
    "random.seed(2)  # nejake konstantni cislo\n",
    "for i in range(10):\n",
    "    print(random.random())"
   ]
  },
  {
   "cell_type": "code",
   "execution_count": 19,
   "metadata": {},
   "outputs": [],
   "source": [
    "# obnovime random do puvodniho stavu\n",
    "random.setstate(random_state)"
   ]
  },
  {
   "cell_type": "markdown",
   "metadata": {},
   "source": [
    "> TIP: zkuste měnit seed a pozorujte, jak se mění výstup."
   ]
  },
  {
   "cell_type": "markdown",
   "metadata": {},
   "source": [
    "## `sys`\n",
    "Modul `sys` poskytuje funkce a hodnoty, které Python interpreter využívá nebo ho ovlivňují. Umožňuje například manipulaci s cestami nebo předávání argumentů při spouštění skriptu.\n",
    "\n",
    "#### Důležité funkce a hodnoty\n",
    "Funkce     | Krátký popis\n",
    "-------------|---------------------------------------------------\n",
    "sys.exit([arg])| Ukončí běh skriptu s daným návratovým kódem\n",
    "sys.modules | Slovník obsahující aktuálně načtené moduly. Slouží jako cache pro jejich načítání\n",
    "sys.version_info | Poskytuje informace o aktuální verzi interpreteru Python\n",
    "sys.argv | Seznam argumentů, předaných skriptu při spuštění\n",
    "\n",
    "\n",
    "> Více podrobností v oficiální [dokumentaci](https://docs.python.org/3/library/sys.html).\n"
   ]
  },
  {
   "cell_type": "code",
   "execution_count": 20,
   "metadata": {},
   "outputs": [
    {
     "name": "stdout",
     "output_type": "stream",
     "text": [
      "['/usr/lib/python3.11/site-packages/ipykernel_launcher.py', '-f', '/home/tomsajan/.local/share/jupyter/runtime/kernel-85497e81-26ed-4d9f-8972-71f65de2b117.json']\n",
      "\n",
      "sys.version_info(major=3, minor=11, micro=6, releaselevel='final', serial=0)\n"
     ]
    }
   ],
   "source": [
    "import sys\n",
    "# parametry, se kterymi byl tento skript spusten\n",
    "print(sys.argv, end='\\n\\n')\n",
    "\n",
    "print(sys.version_info)\n",
    "\n"
   ]
  },
  {
   "cell_type": "markdown",
   "metadata": {},
   "source": [
    "## `os`\n",
    "Modul `os` poskytuje funkce pro interakci se systémovým prostředím, jako je manipulace s adresáři, spouštění příkazů nebo práce s proměnnými prostředí.\n",
    "Slouží jako rozhraní ke komunikaci s operačním systémem.\n",
    "\n",
    "#### Důležité funkce a hodnoty - práce s proměnnými prostředí a systémem\n",
    "Funkce     | Krátký popis\n",
    "-------------|---------------------------------------------------\n",
    "os.environ| Slovník obsahující proměnné prostředí a jejich hodnoty. Může být využit pro konfiguraci našeho skriptu\n",
    "os.getenv(key, default=None) | Funkce schopna vrátit hodnoty proměnnných prostřed (s možností definovat defaultní hodnoty v případě nenalezení daného klíče). Operuje nad `os.environ`\n",
    "os.system(command) | Spustí příkaz v `command` v terminálu\n",
    "\n",
    "#### Důležité funkce a hodnoty - práce se soubory\n",
    "Funkce     | Krátký popis\n",
    "-------------|---------------------------------------------------\n",
    "os.getcwd()| Zjistí aktuální adresář\n",
    "os.chdir(path) | Změní aktuální adresář na `path`\n",
    "os.mkdir(path) | Vytvoří nový adresář `path`. Neumí vytvořit více úrovní složek najednou\n",
    "os.makedirs(path) | Vytvoří nové adresáře. Umí vytvořit celou cestu adresářů.\n",
    "os.rmdir(path) | Smaže adresář `path`\n",
    "os.listdir(path='.') | Vrátí seznam adresářů a souborů v `path`, ve výchozím stavu v aktuálním adresáři\n",
    "os.replace(src, dst) | Přejmenuje/přesune  soubor nebo složku `src` na `dst`\n",
    "os.remove(path) | Odstraní soubor `path`\n",
    "\n",
    "\n",
    "\n",
    "\n",
    "> Více podrobností v oficiální [dokumentaci](https://docs.python.org/3/library/os.html).\n"
   ]
  },
  {
   "cell_type": "code",
   "execution_count": 21,
   "metadata": {},
   "outputs": [
    {
     "name": "stdout",
     "output_type": "stream",
     "text": [
      "tomsajan\n",
      "['12 std moduly.ipynb', '.ipynb_checkpoints', 'argparse_test.py', 'data', 'test']\n",
      "12 std moduly.ipynb\n",
      "argparse_test.py\n",
      "data\n",
      "test\n"
     ]
    },
    {
     "data": {
      "text/plain": [
       "0"
      ]
     },
     "execution_count": 21,
     "metadata": {},
     "output_type": "execute_result"
    }
   ],
   "source": [
    "import os\n",
    "print(os.getenv(\"USER\"))\n",
    "\n",
    "# python funkce na vylistovani obsahu slozky\n",
    "print(os.listdir())\n",
    "\n",
    "# zavolani alternativni funkce dostupne primo v terminalu operacniho systemu. Pouzijte dir pro windows OS.\n",
    "# Ukazuje univerzalnost python funkci (vyse) a nezavislost na OS.\n",
    "os.system('ls')"
   ]
  },
  {
   "cell_type": "markdown",
   "metadata": {},
   "source": [
    "## `pprint`\n",
    "Modul `pprint` (pretty-print) slouží k \"krásnému\" formátování výstupu, což je užitečné zejména při práci s komplexními datovými strukturami.\n",
    "#### Důležité funkce a hodnoty\n",
    "\n",
    "Funkce     | Krátký popis\n",
    "-------------|---------------------------------------------------\n",
    "pprint.pprint(object)| Zajistí hezčí a přehlednějsí výpis komplikovaných datových struktur.\n",
    "\n",
    "Pro zjednodušení práce je možné funkcí `pprint` nahradit původní funkci `print`\n",
    "```python\n",
    "from pprint import pprint as print\n",
    "```\n",
    "\n",
    "Případně alternativně se zachováním původní funkce\n",
    "```python\n",
    "import pprint\n",
    "original_print = print\n",
    "print = pprint.pprint\n",
    "```\n",
    "\n",
    "> Více podrobností v oficiální [dokumentaci](https://docs.python.org/3/library/pprint.html)."
   ]
  },
  {
   "cell_type": "code",
   "execution_count": 22,
   "metadata": {},
   "outputs": [
    {
     "name": "stdout",
     "output_type": "stream",
     "text": [
      "Standardni print\n",
      "{0: 0, 1: 1, 2: 4, 3: 9, 4: 16, 5: 25, 6: 36, 7: 49, 8: 64, 9: 81, 10: 100, 11: 121, 12: 144, 13: 169, 14: 196, 15: 225, 16: 256, 17: 289, 18: 324, 19: 361}\n",
      "\n",
      "Pretty print\n",
      "{0: 0,\n",
      " 1: 1,\n",
      " 2: 4,\n",
      " 3: 9,\n",
      " 4: 16,\n",
      " 5: 25,\n",
      " 6: 36,\n",
      " 7: 49,\n",
      " 8: 64,\n",
      " 9: 81,\n",
      " 10: 100,\n",
      " 11: 121,\n",
      " 12: 144,\n",
      " 13: 169,\n",
      " 14: 196,\n",
      " 15: 225,\n",
      " 16: 256,\n",
      " 17: 289,\n",
      " 18: 324,\n",
      " 19: 361}\n"
     ]
    }
   ],
   "source": [
    "import pprint\n",
    "d = {i: i**2 for i in range(20)}\n",
    "print(\"Standardni print\")\n",
    "print(d)\n",
    "print(\"\\nPretty print\")\n",
    "pprint.pprint(d)\n",
    "\n"
   ]
  },
  {
   "cell_type": "code",
   "execution_count": 23,
   "metadata": {},
   "outputs": [
    {
     "name": "stdout",
     "output_type": "stream",
     "text": [
      "{0: 0,\n",
      " 1: 1,\n",
      " 2: 4,\n",
      " 3: 9,\n",
      " 4: 16,\n",
      " 5: 25,\n",
      " 6: 36,\n",
      " 7: 49,\n",
      " 8: 64,\n",
      " 9: 81,\n",
      " 10: 100,\n",
      " 11: 121,\n",
      " 12: 144,\n",
      " 13: 169,\n",
      " 14: 196,\n",
      " 15: 225,\n",
      " 16: 256,\n",
      " 17: 289,\n",
      " 18: 324,\n",
      " 19: 361}\n"
     ]
    }
   ],
   "source": [
    "import pprint\n",
    "\n",
    "# nahrazeni\n",
    "original_print = print\n",
    "print = pprint.pprint\n",
    "\n",
    "print(d)\n",
    "\n",
    "# vraceni\n",
    "print = original_print\n"
   ]
  },
  {
   "cell_type": "markdown",
   "metadata": {},
   "source": [
    "## `collections`\n",
    "Modul `collections` poskytuje alternativní datové typy k vestavěným typům jako seznamy nebo slovníky. \n",
    "Tyto dodatečné datové typy mohou usnadnit práci při implementaci například některých algoritmů.\n",
    "\n",
    "#### Důležité funkce a hodnoty\n",
    "Funkce     | Krátký popis\n",
    "-------------|---------------------------------------------------\n",
    "collections.Counter([iterable-or-mapping])| Struktura typu slovník. Prvky původní posloupnosti jsou uloženy jako klíče, hodnoty značí počet výskyt§\n",
    "collections.defaultdict() | Je to slovník s výchozí  hodnotou pro  neexistující prvky\n",
    "collections.namedtuple(typename, field_names) | Alternativa k tuple. Umožní pojmenovat jednotlivé pozice pro jednodušší a přehlednější použití\n",
    "\n",
    "> Více podrobností v oficiální [dokumentaci](https://docs.python.org/3/library/collections.html)."
   ]
  },
  {
   "cell_type": "code",
   "execution_count": 24,
   "metadata": {},
   "outputs": [
    {
     "name": "stdout",
     "output_type": "stream",
     "text": [
      "Counter({1: 3, 2: 2, 3: 1, 4: 1, 5: 1})\n"
     ]
    }
   ],
   "source": [
    "from collections import Counter\n",
    "data = [1, 2, 3, 1, 2, 1, 4, 5]\n",
    "counter = Counter(data)\n",
    "print(counter)\n",
    "\n"
   ]
  },
  {
   "cell_type": "code",
   "execution_count": 25,
   "metadata": {},
   "outputs": [
    {
     "name": "stdout",
     "output_type": "stream",
     "text": [
      "1 2\n",
      "1 2\n"
     ]
    }
   ],
   "source": [
    "from collections import namedtuple\n",
    "Point = namedtuple('Point', ['x', 'y'])\n",
    "p = Point(1, 2)\n",
    "print(p.x, p.y)  # Vytiskne hodnoty x a y\n",
    "\n",
    "# funguje i originalni \"tuple\" přístup přes indexy\n",
    "print(p[0], p[1])"
   ]
  },
  {
   "cell_type": "code",
   "execution_count": 26,
   "metadata": {},
   "outputs": [
    {
     "name": "stdout",
     "output_type": "stream",
     "text": [
      "dict_items([('yellow', [1, 3]), ('blue', [2, 4]), ('red', [1])])\n"
     ]
    }
   ],
   "source": [
    "from collections import defaultdict\n",
    "s = [('yellow', 1), ('blue', 2), ('yellow', 3), ('blue', 4), ('red', 1)]\n",
    "d = defaultdict(list)\n",
    "\n",
    "# výhoda je v tom, že nemusíme ověřovat, jestli daný klíč je ve slovníku\n",
    "# pro každý neexistující klíč se při přístupu automaticky vytvoří s danou defaultní hodnotou \n",
    "# list v tomto případě\n",
    "for k, v in s:\n",
    "    d[k].append(v)\n",
    "print(d.items())"
   ]
  },
  {
   "cell_type": "markdown",
   "metadata": {},
   "source": [
    "## `itertools`\n",
    "Modul `itertools` poskytuje funkce pro vytváření efektivních iterátorů, které jsou užitečné jak samostatně, tak ve vzájemné kombinaci. Obsahuje funkce například pro slučování a kombinaci více zdrojů, opakování, nebo filtrování.\n",
    "\n",
    "#### Důležité funkce a hodnoty\n",
    "Funkce     | Krátký popis\n",
    "-------------|---------------------------------------------------\n",
    "itertools.count(start=0, step=1)| Iterator určený k očíslování. Užitečný například u ZIPu nebo map funkci\n",
    "itertools.cycle(iterable) | Umožňuje nekonečnou iteraci přes nějakou posloupnost\n",
    "itertools.chain(*iterables) | Vytvoří iterátor, který postupně iteruje přes všechny posloupnosti \n",
    "itertools.product(*iterables, repeat=1)| Vygeneruje prvky kartézského součinu všech vstupních posloupností\n",
    "itertools.permutations(iterable, r=None) | Vygeneruje permutace o délce r\n",
    "itertools.combinations(iterable, r) | Vygeneruje kombinace o délce r\n",
    "itertools.combinations_with_replacement(iterable, r) | Vygeneruje kombinace s opakováním o délce r\n",
    "\n",
    "\n",
    "> Více podrobností v oficiální [dokumentaci](https://docs.python.org/3/library/itertools.html)."
   ]
  },
  {
   "cell_type": "code",
   "execution_count": 27,
   "metadata": {},
   "outputs": [
    {
     "name": "stdout",
     "output_type": "stream",
     "text": [
      "0\n",
      "1\n",
      "2\n",
      "3\n",
      "4\n",
      "5\n",
      "6\n",
      "7\n",
      "8\n",
      "9\n",
      "10\n",
      "11\n",
      "12\n",
      "13\n",
      "14\n",
      "15\n",
      "16\n",
      "17\n",
      "18\n",
      "19\n"
     ]
    }
   ],
   "source": [
    "import itertools\n",
    "c = itertools.count()\n",
    "\n",
    "for i in range(20):\n",
    "    print(next(c))\n",
    "\n",
    "\n",
    "# Nekonecna smycka tisknouci 1,2,3,1,2,3,1,2,3,.....\n",
    "#for i in itertools.cycle( [1,2,3]):\n",
    "#    print(i)"
   ]
  },
  {
   "cell_type": "code",
   "execution_count": 28,
   "metadata": {},
   "outputs": [
    {
     "name": "stdout",
     "output_type": "stream",
     "text": [
      "('a', 1)\n",
      "('a', 2)\n",
      "('a', 3)\n",
      "('a', 4)\n",
      "('b', 1)\n",
      "('b', 2)\n",
      "('b', 3)\n",
      "('b', 4)\n",
      "('c', 1)\n",
      "('c', 2)\n",
      "('c', 3)\n",
      "('c', 4)\n"
     ]
    }
   ],
   "source": [
    "for i in itertools.product('abc', [1,2,3,4]):\n",
    "    print(i)"
   ]
  },
  {
   "cell_type": "code",
   "execution_count": 29,
   "metadata": {},
   "outputs": [
    {
     "name": "stdout",
     "output_type": "stream",
     "text": [
      "[(1, 2), (1, 3), (1, 4), (1, 5), (2, 3), (2, 4), (2, 5), (3, 4), (3, 5), (4, 5)]\n",
      "[(1, 2, 3), (1, 2, 4), (1, 2, 5), (1, 3, 4), (1, 3, 5), (1, 4, 5), (2, 3, 4), (2, 3, 5), (2, 4, 5), (3, 4, 5)]\n"
     ]
    }
   ],
   "source": [
    "\n",
    "pole = [1,2,3,4,5]\n",
    "#  ukázka kombinací o delce 2\n",
    "print(list(itertools.combinations(pole, 2)))\n",
    "\n",
    "#  ukázka kombinací o delce 3\n",
    "print(list(itertools.combinations(pole, 3)))"
   ]
  },
  {
   "cell_type": "markdown",
   "metadata": {},
   "source": [
    "## `csv`\n",
    "Modul `csv` poskytuje funkcionalitu pro práci s formátem CSV (Comma-Separated Values), což je často používaný formát pro ukládání tabulkových dat.\n",
    "\n",
    "#### Důležité funkce a hodnoty\n",
    "Funkce     | Krátký popis\n",
    "-------------|---------------------------------------------------\n",
    "csv.reader(csvfile, dialect='excel', **fmtparams)| Vytvoří objekt pro čtení dat ze souboru CSV\n",
    "csv.writer(csvfile, dialect='excel', **fmtparams) | Vytvoří objekt pro zápis dat do souboru CSV.\n",
    "\n",
    "> Více podrobností v oficiální [dokumentaci](https://docs.python.org/3/library/csv)."
   ]
  },
  {
   "cell_type": "code",
   "execution_count": 30,
   "metadata": {},
   "outputs": [
    {
     "name": "stdout",
     "output_type": "stream",
     "text": [
      "['#name', 'amount', 'price']\n",
      "['Kýbl', '5', '85']\n",
      "['Pytel cementu', '10', '120']\n",
      "['Cihla', '65', '25']\n",
      "['Kladivo', '3', '150']\n",
      "['Vrtačka', '2', '2000']\n",
      "['Hřebík', '560', '0.5']\n",
      "['Míchačka', '1', '5600']\n",
      "['Hmoždinka', '120', '3']\n"
     ]
    }
   ],
   "source": [
    "import csv\n",
    "\n",
    "with open('data/inventory.csv', 'r') as file:\n",
    "    reader = csv.reader(file)\n",
    "    for row in reader:\n",
    "        print(row)  # Vytiskne každý řádek ze souboru CSV\n"
   ]
  },
  {
   "cell_type": "markdown",
   "metadata": {},
   "source": [
    "## `json`\n",
    "Modul `json` umožňuje práci s formátem JSON (JavaScript Object Notation), což je populární formát pro výměnu dat mezi aplikacemi.\n",
    "\n",
    "\n",
    "#### Důležité funkce a hodnoty\n",
    "Funkce     | Krátký popis\n",
    "-------------|---------------------------------------------------\n",
    "json.dumps(obj)| Převede objekt na string ve formátu JSON (serializace).\n",
    "json.loads(json_str) | Převede JSON řetězec zpět na objekt (deserializace).\n",
    "\n",
    "> Více podrobností v oficiální [dokumentaci](https://docs.python.org/3/library/json)."
   ]
  },
  {
   "cell_type": "code",
   "execution_count": 31,
   "metadata": {},
   "outputs": [
    {
     "name": "stdout",
     "output_type": "stream",
     "text": [
      "<class 'dict'>\n",
      "{'name': 'John', 'age': 30, 'city': 'New York'}\n",
      "[1, 2, 3, 1, 2, 1, 4, 5]\n"
     ]
    }
   ],
   "source": [
    "import json\n",
    "\n",
    "json_str = '{\"name\": \"John\", \"age\": 30, \"city\": \"New York\"}'  # vyzaduje dvojite uvozovky\n",
    "loaded_data = json.loads(json_str)  # nacteme string JSON a udelame z nej python objekt\n",
    "print(type(loaded_data))\n",
    "print(loaded_data)  # vytiskne python objekt odpovidajici strukture JSON (dict)\n",
    "\n",
    "json_str = json.dumps(data)  # vytvori json retezec z python objektu\n",
    "\n",
    "print(json_str)  # Vytiskne JSON řetězec\n"
   ]
  },
  {
   "cell_type": "markdown",
   "metadata": {},
   "source": [
    "## `argparse`\n",
    "`argparse` je velmi užitečný modul v jazyce Python, který umožňuje jednoduché a efektivní zpracování příkazové řádky. Tento modul slouží k definování, konfiguraci a parsování argumentů a jejich hodnot spouštěného skriptu. To usnadňuje usnadňuje psaní rozsáhlejších Python skriptů. \n",
    "\n",
    "##### Hlavní vlastnosti argparse\n",
    "- umožňuje definovat, jaké argumenty může skript nebo aplikace přijímat. Argumenty mohou být povinné nebo volitelné.\n",
    "- Každý argument může mít přidružené parametry, například typ dat, který očekává (řetězec, číslo, atd.), nebo zkrácenou a plnou verzi názvu argumentu\n",
    "- postará se o správu chyb spojených s nevalidními vstupy nebo chybějícími argumenty\n",
    "- generuje automaticky nápovědu a dokumentaci pro všechny definované argumenty, což zjednodušuje orientaci uživatelům.\n",
    "- poskytuje možnost specifikovat vzájemné vztahy mezi argumenty, například vyžadování určitých kombinací argumentů nebo nastavení výchozích hodnot.\n",
    "\n",
    "##### Stručné použití\n",
    "Vytvoříme novou instanci parseru a nastavíme popis programu, případně dovětek dokumentace\n",
    "```python\n",
    "import argparse\n",
    "\n",
    "parser = argparse.ArgumentParser(\n",
    "                    description='What the program does',\n",
    "                    epilog='Text at the bottom of help')\n",
    "```\n",
    "Následně můžeme přidávat jednotlivé argumenty. Funkce `add_argument` má velké množství konfiguračních parametru, viz [doc](https://docs.python.org/3/library/argparse.html#quick-links-for-add-argument)\n",
    "```python\n",
    "parser.add_argument('filename')           # positional argument\n",
    "parser.add_argument('-c', '--count')      # option that takes a value\n",
    "parser.add_argument('-v', '--verbose',\n",
    "                    action='store_true')  # on/off flag\n",
    "\n",
    "```\n",
    "Spustíme parser. Následně můžeme přistupovat k hodnotám jednotlivých argumentů\n",
    "```python\n",
    "args = parser.parse_args()\n",
    "print(args.filename, args.count, args.verbose)\n",
    "```\n",
    "\n",
    "Více k ukázce dole v příkladech.\n",
    "> Více podrobností v oficiální [dokumentaci](https://docs.python.org/3/library/argparse.html)"
   ]
  },
  {
   "cell_type": "markdown",
   "metadata": {},
   "source": [
    "# Externí (nestandardní) balíčky a moduly\n",
    "Kromě standardních modulů, které jsou součástí každé instalace Pythonu, existuje bohatý ekosystém externích modulů, nazývaných balíčky. \n",
    "Tyto balíčky poskytují širokou škálu funkcionalit, které mohou být snadno integrovány do projektů. \n",
    "Instalace externích balíčků je obvykle prováděna pomocí správce balíčků, například `pip`.\n",
    "\n",
    "Zde je několik příkladů externích balíčků:\n",
    "- `requests` - Slouží k jednoduchému provádění HTTP requestů\n",
    "- `numpy` - Poskytuje podporu pro efektivní manipulaci s multidimenzionálními poli a matematickými funkcemi.\n",
    "- `Pandas` - Nabízí vysokoúrovňové datové struktury a nástroje pro analýzu dat\n",
    "- `Django` - webový framework pro vývoj moderních webových aplikací v jazyce Python\n",
    "\n",
    "> TIP: Používání externích balíčků se věnuje navazující předmět 18PPY1."
   ]
  },
  {
   "cell_type": "markdown",
   "metadata": {},
   "source": [
    "# Příklady"
   ]
  },
  {
   "cell_type": "markdown",
   "metadata": {},
   "source": [
    "## 1) Vzdálenost bodů v rovině\n",
    "Napište program, který který bude analyzovat vzdálenosti mezi body v rovině. Bude obsahovat nejméně 2 funkce:\n",
    "- `def average_distance(points)` - spočítá průměrnou vzájemnou vzdálenost bodů. Vrátí tuto hodnotu\n",
    "- `def closest_points(points)` - zjistí, které 2 body jsou si nejblíže. Vrátí tuple, který bude obsahovat tyto 2 body\n",
    "\n",
    "Může se hodit funkce `itertools.combinations`.\n",
    "  \n",
    "\n",
    "Proměnná `point` bude posloupnost bodů. Volbu toho, jak reprezentovat bod, nechám na Vás. Nabízím ale 2 možné varianty, které procvičí látku dnešní hodiny:\n",
    "1) `namedtuple('Point', ['x', 'y'])`\n",
    "2) reprezentace pomocí komplexních čísel - tam se pak může hodit operátor mínus (`-`) a funkce `abs`\n",
    "\n",
    "Sadu bodů, které budete testovat si vygenerujte náhodně. Pro začátek vyrobte 10 bodů tak, aby se nacházely v intervalu <0,100> pro souřadnici `x` i `y`. Bude se hodit funkce `random.uniform`. Pro ladění programu se může hodit zafixovat generátor pseudonáhodných čísel na konkrétní počáteční hodnotě (`random.seed(value)`)\n"
   ]
  },
  {
   "cell_type": "code",
   "execution_count": 32,
   "metadata": {},
   "outputs": [],
   "source": [
    "# volné místo na program\n"
   ]
  },
  {
   "cell_type": "markdown",
   "metadata": {},
   "source": [
    "## 2) Hluboká adresářová struktura\n",
    "Napište program, který ve vámi zvoleném adresáři vytvoří stromovou strukturu adresářů. Struktura je parametrizována její hloubkou (počet úrovní zanoření) a množstvím větvení (kolik nových podstromů je v každé úrovni).\n",
    "\n",
    "Názvy adresářů záleží na Vás. Můžete používat například čísla nebo písmena.\n",
    "Ukázka pro faktor větvení 2 a hloubku 3.\n",
    "```bash\n",
    "├── 1\n",
    "│   ├── 1\n",
    "│   │   ├── 1\n",
    "│   │   └── 2\n",
    "│   └── 2\n",
    "│       ├── 1\n",
    "│       └── 2\n",
    "└── 2\n",
    "    ├── 1\n",
    "    │   ├── 1\n",
    "    │   └── 2\n",
    "    └── 2\n",
    "        ├── 1\n",
    "        └── 2\n",
    "\n",
    "```\n",
    "\n",
    "Následně zkuste pomocí `os.system` zavolat příkaz `tree <cesta_k_root_directory>` pro vizualizaci vaší struktury. Nezapomeňte `<cesta_k_root_directory>` nahradit skutečnou hodnotou.\n",
    "\n",
    "Nakonec strukturu po sobě smažte."
   ]
  },
  {
   "cell_type": "code",
   "execution_count": 2,
   "metadata": {},
   "outputs": [],
   "source": [
    "# volné místo na program\n",
    "def generate_tree(root_directory, branch_factor, depth):\n",
    "    assert depth <= 6, 'Structure too deep'\n",
    "    assert branch_factor <= 6, 'Structure too wide'\n",
    "    # your code here"
   ]
  },
  {
   "cell_type": "markdown",
   "metadata": {},
   "source": [
    "## 3) Opilá želva\n",
    "Naprogramujte opilou želvu. Taková želva se pohybuje po obrazovce náhodným způsobem. Náhodně se otáčí a chodí náhodnou vzdálenost.\n",
    "\n",
    "Poznámka: želvu je potřeba spouštět v nativním Pythonu na vašem nebo školním počítači. Zde v Jupyteru to nelze."
   ]
  },
  {
   "cell_type": "code",
   "execution_count": 1,
   "metadata": {},
   "outputs": [],
   "source": [
    "# volné místo na program\n"
   ]
  },
  {
   "cell_type": "markdown",
   "metadata": {},
   "source": [
    "## 4) Argparse testování\n",
    "\n",
    "Otevřete si soubor [argparse_test.py](data/argparse_test.py) a prohlédněte si obsah. Můžete ho pustit přímo z terminálu, nebo níže pomocí `os.system`\n",
    "Experimentujte s různými parametry, které skriptu předáte.\n",
    "\n",
    "Dobrovolně zkuste program modifikovat tak, aby mohl přijmout neomezené množství čísel a všechna sečíst. Může se hodit `action='append'` z [dokumentace](https://docs.python.org/3/library/argparse.html)."
   ]
  },
  {
   "cell_type": "code",
   "execution_count": 43,
   "metadata": {},
   "outputs": [
    {
     "name": "stderr",
     "output_type": "stream",
     "text": [
      "usage: argparse_test.py [-h] [-s] [-r] cislo1 cislo2\n",
      "argparse_test.py: error: the following arguments are required: cislo1, cislo2\n"
     ]
    },
    {
     "data": {
      "text/plain": [
       "512"
      ]
     },
     "execution_count": 43,
     "metadata": {},
     "output_type": "execute_result"
    }
   ],
   "source": [
    "# Spustime tento soubor bez parametru parametry\n",
    "import os\n",
    "os.system(\"python3 data/argparse_test.py\")"
   ]
  },
  {
   "cell_type": "code",
   "execution_count": 44,
   "metadata": {},
   "outputs": [
    {
     "name": "stdout",
     "output_type": "stream",
     "text": [
      "usage: argparse_test.py [-h] [-s] [-r] cislo1 cislo2\n",
      "\n",
      "Program pro výpočet součtu a rozdílu.\n",
      "\n",
      "positional arguments:\n",
      "  cislo1        První číslo pro výpočty\n",
      "  cislo2        Druhé číslo pro výpočty\n",
      "\n",
      "options:\n",
      "  -h, --help    show this help message and exit\n",
      "  -s, --soucet  Spočítat součet čísel\n",
      "  -r, --rozdil  Spočítat rozdíl čísel\n"
     ]
    },
    {
     "data": {
      "text/plain": [
       "0"
      ]
     },
     "execution_count": 44,
     "metadata": {},
     "output_type": "execute_result"
    }
   ],
   "source": [
    "# výpis nápovědy\n",
    "os.system(\"python3 data/argparse_test.py --help\")"
   ]
  },
  {
   "cell_type": "code",
   "execution_count": 45,
   "metadata": {},
   "outputs": [
    {
     "name": "stdout",
     "output_type": "stream",
     "text": [
      "Není vybrána žádná operace.\n"
     ]
    },
    {
     "data": {
      "text/plain": [
       "0"
      ]
     },
     "execution_count": 45,
     "metadata": {},
     "output_type": "execute_result"
    }
   ],
   "source": [
    "os.system(\"python3 data/argparse_test.py 1 2\")"
   ]
  },
  {
   "cell_type": "code",
   "execution_count": 46,
   "metadata": {},
   "outputs": [
    {
     "name": "stdout",
     "output_type": "stream",
     "text": [
      "Součet: 3\n"
     ]
    },
    {
     "data": {
      "text/plain": [
       "0"
      ]
     },
     "execution_count": 46,
     "metadata": {},
     "output_type": "execute_result"
    }
   ],
   "source": [
    "os.system(\"python3 data/argparse_test.py 1 2 --soucet\")"
   ]
  },
  {
   "cell_type": "code",
   "execution_count": 47,
   "metadata": {},
   "outputs": [
    {
     "name": "stdout",
     "output_type": "stream",
     "text": [
      "Rozdíl: -1\n"
     ]
    },
    {
     "data": {
      "text/plain": [
       "0"
      ]
     },
     "execution_count": 47,
     "metadata": {},
     "output_type": "execute_result"
    }
   ],
   "source": [
    "os.system(\"python3 data/argparse_test.py 1 2 -r\")"
   ]
  },
  {
   "cell_type": "code",
   "execution_count": 38,
   "metadata": {},
   "outputs": [],
   "source": [
    "# volné místo na program\n"
   ]
  },
  {
   "cell_type": "markdown",
   "metadata": {},
   "source": [
    "## 5) Argparse - program na modifikaci souborů\n",
    "Napište program, který s použitím modulu `argparse` bude očekávat argument `--input-file`, kde mu předáme cestu k nějakému textovému souboru. \n",
    "Program daný soubor načte a na obrazovku vypíše modifikovaný obsah - vše velkými písmeny.\n",
    "Soubory na testování můžete nalézt například ve složce `data`, která byla využívána během cvičení 19, kdy jsme se učili, jak pracovat se soubory.\n",
    "\n",
    "Program napište do zvláštního souboru s příponou `.py`. Můžete buď zde na JupyterHubu nebo na vašich počítačích v prostředí VSCodium. Spouštět takový program je nejlépe ručně z příkazové řádky, kdy můžete jednoduše specifikovat argumenty při spuštění. Terminál je dostupný i zde na Jupyteru."
   ]
  },
  {
   "cell_type": "code",
   "execution_count": 39,
   "metadata": {},
   "outputs": [],
   "source": [
    "# volné místo na program\n"
   ]
  },
  {
   "cell_type": "markdown",
   "metadata": {},
   "source": [
    "## 6) Argparse - program na modifikaci souborů #2\n",
    "Rozšiřte předchozí program tak, že bude obsahovat další volitelný parametr `--output-file`. Pokud bude použit, program by měl výstup uložit do tohoto souboru.\n",
    "\n",
    "Experimentujte s dalšími možnostmi argparse."
   ]
  },
  {
   "cell_type": "code",
   "execution_count": 40,
   "metadata": {},
   "outputs": [],
   "source": [
    "# volné místo na program\n"
   ]
  }
 ],
 "metadata": {
  "kernelspec": {
   "display_name": "Python 3 (ipykernel)",
   "language": "python",
   "name": "python3"
  },
  "language_info": {
   "codemirror_mode": {
    "name": "ipython",
    "version": 3
   },
   "file_extension": ".py",
   "mimetype": "text/x-python",
   "name": "python",
   "nbconvert_exporter": "python",
   "pygments_lexer": "ipython3",
   "version": "3.11.6"
  }
 },
 "nbformat": 4,
 "nbformat_minor": 4
}
