{
 "cells": [
  {
   "cell_type": "markdown",
   "metadata": {},
   "source": [
    "# V minulém díle jste viděli..."
   ]
  },
  {
   "cell_type": "markdown",
   "metadata": {},
   "source": [
    "Základní kontejnery jsou:\n",
    "\n",
    "- `str` (_string_ neboli _textový řetězec_) – posloupnost znaků\n",
    "- `list` (_seznam_) – _modifikovatelná_ (_mutable_) posloupnost libovolných objektů\n",
    "- `tuple` (_n-tice_) – _nemodifikovatelná_ (_immutable_) posloupnost libovolných objektů\n",
    "- `set` (_množina_) – datová struktura obsahující objekty, pro které není určené jejich vzájemné pořadí\n",
    "- `dict` (_slovník_) – datová struktura, která představuje zobrazení z množiny klíčů (_keys_) na libovolné hodnoty (_values_)"
   ]
  },
  {
   "cell_type": "markdown",
   "metadata": {},
   "source": [
    "Základní operace s kontejnery jsou:\n",
    "\n",
    "1. testování: `var in container` – výraz s hodnotou `True`/`False`\n",
    "2. iterování: `for var in container`"
   ]
  },
  {
   "cell_type": "markdown",
   "metadata": {},
   "source": [
    "Seznam zapisujeme pomocí hranatých závorek a n-tice pomocí kulatých závorek:"
   ]
  },
  {
   "cell_type": "code",
   "execution_count": 1,
   "metadata": {},
   "outputs": [],
   "source": [
    "my_list  = [10, 20, 30, 40, 50, 60, 70, 80, 90, 100]\n",
    "my_tuple = (10, 20, 30, 40, 50, 60, 70, 80, 90, 100)"
   ]
  },
  {
   "cell_type": "markdown",
   "metadata": {},
   "source": [
    "Pro přístup k jednotlivým prvkům posloupnosti používáme operátor `[]` a celočíselnou hodnotu:"
   ]
  },
  {
   "cell_type": "code",
   "execution_count": 2,
   "metadata": {},
   "outputs": [
    {
     "name": "stdout",
     "output_type": "stream",
     "text": [
      "10\n",
      "100\n",
      "[30, 40, 50, 60, 70, 80]\n"
     ]
    }
   ],
   "source": [
    "print(my_list[0])\n",
    "print(my_list[-1])\n",
    "print(my_list[2:-2])"
   ]
  },
  {
   "cell_type": "markdown",
   "metadata": {},
   "source": [
    "# Množiny\n",
    "\n",
    "__Množina__ (`set`) je datová struktura, která se od posloupností liší v tom, že prvky množiny nemají určené pořadí a daná hodnota se v množině může vyskytovat nejvýše jednou.\n",
    "Kvůli kontrole unikátnosti je na objekty, které vkládáme do množiny, kladen dodatečný požadavek – musí být _hashovatelné_ (_hashable_).\n",
    "Většina _nemodifikovatelných_ (_immutable_) objektů v Pythonu jsou hashovatelné, _modifikovatelné_ kontejnery hashovatelné nejsou.\n",
    "\n",
    "Podobně jako v případě seznamu a n-tice má Python dva množinové typy: `set` (_modifikovatelná/mutable_ množina) a `frozenset` (_nemodifikovatelná/immutable_ množina).\n",
    "\n",
    "Množina se typicky používá v algoritmech, kde je potřeba zajistit unikátnost prvků.\n",
    "Pokud algoritmus formulujeme matematicky, odpovídá `set` přímo matematickému pojmu _množina_.\n",
    "\n",
    "V kódu jazyka Pythonu zapisujeme množiny pomocí složených závorek `{` a `}`, podobně jako v matematice.\n",
    "Objekty typu `set` mají dvě hlavní metody: `add` pro přidání prvku a `remove` pro odebrání prvku.\n",
    "Kompletní přehled dostupných metod je možné najít [v dokumentaci](https://docs.python.org/3/library/stdtypes.html#set-types-set-frozenset).\n",
    "\n",
    "__Příklad:__ určení počtu unikátních znaků v textovém řetězci"
   ]
  },
  {
   "cell_type": "code",
   "execution_count": 7,
   "metadata": {},
   "outputs": [
    {
     "name": "stdout",
     "output_type": "stream",
     "text": [
      "unikátní znaky: {' ', 'l', 'e', 'o', '!', ',', 'r', 'H', 'd', 'w'}\n",
      "počet unikátních znaků je 10\n"
     ]
    }
   ],
   "source": [
    "# vstupní data\n",
    "string = \"Hello, world!\"\n",
    "\n",
    "# vytvoření prázdné množiny\n",
    "unique_chars = set()\n",
    "\n",
    "# výpočet\n",
    "for c in string:\n",
    "    # vložení znaku do množiny (pokud tam ještě není)\n",
    "    unique_chars.add(c)\n",
    "\n",
    "# výpis\n",
    "print(\"unikátní znaky:\", unique_chars)\n",
    "print(\"počet unikátních znaků je\", len(unique_chars))"
   ]
  },
  {
   "cell_type": "markdown",
   "metadata": {},
   "source": [
    "S objekty `set` a `frozenset` je také možné provádět množinové operace v matematickém smyslu.\n",
    "V následujícím přehledu předpokládáme, že proměnné `a` a `b` označují množiny:\n",
    "\n",
    "- `a <= b` – kontrola podmnožiny ($a \\subseteq b$)\n",
    "- `a < b` – kontrola podmnožiny ($a \\subset b$)\n",
    "- `a >= b` – kontrola nadmnožiny ($a \\supseteq b$)\n",
    "- `a > b` – kontrola nadmnožiny ($a \\supset b$)\n",
    "- `a | b | ...` – sjednocení množin ($a \\cup b \\cup \\ldots$)\n",
    "- `a & b & ...` – průnik množin ($a \\cap b \\cap \\ldots$)\n",
    "- `a - b - ...` – množinový rozdíl (vrátí prvky, které jsou v `a`, ale ne `b` ani v `...`)\n",
    "- `a ^ b` – symetrický množinový rozdíl (vrátí prvky, které jsou buď v `a` nebo `b`, ale ne v obou současně)"
   ]
  },
  {
   "cell_type": "markdown",
   "metadata": {},
   "source": [
    "## Příklad\n",
    "\n",
    "Napište funkci `sudoku_line_check(line)`, která zkontroluje, zda předaný seznam celých čísel reprezentuje správný řádek vyplněného Sudoku, tj. obsahuje pouze čísla 1 až 9 a každé z nich právě jedenkrát."
   ]
  },
  {
   "cell_type": "code",
   "execution_count": null,
   "metadata": {},
   "outputs": [],
   "source": [
    "def sudoku_line_check(line):\n",
    "    ...\n",
    "\n",
    "assert sudoku_line_check([1, 2, 8, 9, 3, 5, 6, 7, 4]) == True\n",
    "assert sudoku_line_check([1, 2, 8, 9, 3, 5, 7, 4]) == False\n",
    "assert sudoku_line_check([1, 1, 2, 8, 9, 3, 5, 7, 4]) == False\n",
    "assert sudoku_line_check([1, 6, 1, 2, 8, 9, 3, 5, 7, 4]) == False\n",
    "assert sudoku_line_check([0, 1, 2, 3, 4, 5, 6, 7, 8]) == False"
   ]
  },
  {
   "cell_type": "markdown",
   "metadata": {},
   "source": [
    "# Slovníky\n",
    "\n",
    "__Slovník__ (`dict`) je _modifikovatelná_ (_mutable_) datová struktura, která představuje zobrazení z množiny klíčů (_keys_) na libovolné hodnoty (_values_).\n",
    "Klíče slovníku musí být unikátní, ale hodnoty se mohou opakovat.\n",
    "Klíče tedy podléhají stejným požadavkům, jako množina – musí být _hashovatelné_.\n",
    "\n",
    "Pro zápis slovníků v kódu se také používají složené závorky, ale se syntaktickým rozdílem kvůli mapování klíčů na hodnoty.\n",
    "Každý prvek slovníku je dvojice hodnot _klíč-hodnota_, které jsou oddělené dvojtečkou:"
   ]
  },
  {
   "cell_type": "code",
   "execution_count": null,
   "metadata": {},
   "outputs": [
    {
     "name": "stdout",
     "output_type": "stream",
     "text": [
      "{1: 'a', 2: 'bc', 7: 'hello'}\n"
     ]
    }
   ],
   "source": [
    "slovník = {1: \"a\", 2: \"bc\", 7: \"hello\"}\n",
    "print(slovník)"
   ]
  },
  {
   "cell_type": "markdown",
   "metadata": {},
   "source": [
    "__Důležitá otázka:__ Je proměnná `var` v následujícím kódu _prázdná množina_ nebo _prázdný slovník_? Jak můžeme získat _to druhé_?"
   ]
  },
  {
   "cell_type": "code",
   "execution_count": null,
   "metadata": {},
   "outputs": [],
   "source": [
    "var = {}"
   ]
  },
  {
   "cell_type": "markdown",
   "metadata": {},
   "source": [
    "\n",
    "Jak bylo zmíněno v dřívější sekci, dvě základní operace (testování a iterování) jsou dostupné pro všechny kontejnery, tedy i pro slovníky.\n",
    "Je však důležité si uvědomit, že v obou případech se operace provádí __na množině klíčů__:"
   ]
  },
  {
   "cell_type": "code",
   "execution_count": 8,
   "metadata": {},
   "outputs": [
    {
     "name": "stdout",
     "output_type": "stream",
     "text": [
      "True\n",
      "False\n"
     ]
    }
   ],
   "source": [
    "slovník = {1: \"a\", 2: \"b\", 3: \"c\"}\n",
    "print(1 in slovník)     # slovník obsahuje klíč s hodnotou 1\n",
    "print(\"a\" in slovník)   # slovník neobsahuje klíč s hodnotou \"a\""
   ]
  },
  {
   "cell_type": "markdown",
   "metadata": {},
   "source": [
    "Iterování přes slovník pomocí `for` cyklu vrací implicitně pouze klíče:"
   ]
  },
  {
   "cell_type": "code",
   "execution_count": 9,
   "metadata": {},
   "outputs": [
    {
     "name": "stdout",
     "output_type": "stream",
     "text": [
      "1\n",
      "2\n",
      "3\n"
     ]
    }
   ],
   "source": [
    "for i in slovník:\n",
    "    print(i)"
   ]
  },
  {
   "cell_type": "markdown",
   "metadata": {},
   "source": [
    "Pokud chceme v kódu _explicitně_ vyznačit iterování přes množinu klíčů, můžeme místo celého slovníku jako zdroj dat použít přístupovou metodu `keys`: `for i in slovník.keys():` a chování bude ekvivalentní předchozímu příkladu.\n",
    "Také se hodí lépe pojmenovat iterační proměnnou (např. `key` místo `i`).\n",
    "\n",
    "Pokud chceme ze slovníku získat hodnotu pro příslušný klíč, můžeme použít indexovací operátor `[]`:"
   ]
  },
  {
   "cell_type": "code",
   "execution_count": 10,
   "metadata": {},
   "outputs": [
    {
     "name": "stdout",
     "output_type": "stream",
     "text": [
      "1 a\n",
      "2 b\n",
      "3 c\n"
     ]
    }
   ],
   "source": [
    "for key in slovník.keys():\n",
    "    value = slovník[key]  # získání hodnoty pro daný klíč\n",
    "    print(key, value)"
   ]
  },
  {
   "cell_type": "markdown",
   "metadata": {},
   "source": [
    "Použití klíče a odpovídající hodnoty ve `for` cyklu je velmi časté a příkaz pro přístup k hodnotě odpovídající danému klíči by se zbytečně často opakoval.\n",
    "Proto mají slovníky v Pythonu přístupovou metodu `items`, která vrací _dvojice_ `(key, value)`.\n",
    "V příkazu `for` se často používá rozbalení do dvojice proměnných, což nám umožní předchozí příklad o jeden řádek zkrátit:"
   ]
  },
  {
   "cell_type": "code",
   "execution_count": null,
   "metadata": {},
   "outputs": [
    {
     "name": "stdout",
     "output_type": "stream",
     "text": [
      "1 a\n",
      "2 b\n",
      "3 c\n"
     ]
    }
   ],
   "source": [
    "for key, value in slovník.items():\n",
    "    print(key, value)"
   ]
  },
  {
   "cell_type": "markdown",
   "metadata": {},
   "source": [
    "Pokud ve `for` cyklu chceme zpracovat jen hodnoty ze slovníku a klíče by byly zbytečné, můžeme použít přístupovou metodu `values`.\n",
    "V případě, že slovník obsahuje stejnou hodnotu pro několik různých klíčů, bude se zde opakovat (hodnoty slovníku netvoří množinu)."
   ]
  },
  {
   "cell_type": "code",
   "execution_count": 11,
   "metadata": {},
   "outputs": [
    {
     "name": "stdout",
     "output_type": "stream",
     "text": [
      "a\n",
      "b\n",
      "c\n"
     ]
    }
   ],
   "source": [
    "for value in slovník.values():\n",
    "    print(value)"
   ]
  },
  {
   "cell_type": "markdown",
   "metadata": {},
   "source": [
    "### Další operace se slovníky\n",
    "\n",
    "Rozhraní pro práci se slovníky je odlišné od posloupností.\n",
    "Kompletní přehled je možné najít [v dokumentaci](https://docs.python.org/3/library/stdtypes.html#dict), zde uvedeme jen nejdůležitější operace.\n",
    "Proměnná `d` v tomto přehledu představuje nějaký slovník, `key` označuje proměnnou s významem klíče a `value` představuje libovolnou hodnotu.\n",
    "\n",
    "- `len(d)` – počet prvků (klíčů) ve slovníku\n",
    "- `d[key]` – přístup k hodnotě odpovídající danému klíči (musí ve slovníku existovat, jinak je to chyba)\n",
    "- `d[key] = value` – zápis hodnoty pro daný klíč do slovníku (buď vložení nové hodnoty nebo přepsání existující hodnoty)\n",
    "- `del d[key]` – odstranění klíče (a odpovídající hodnoty) ze slovníku\n",
    "- `d.get(key)` – vrátí hodnotu odpovídající danému klíči, pokud ve slovníku existuje, jinak vrátí `None`\n",
    "- `d.get(key, default)` – vrátí odpovídající danému klíči, pokud ve slovníku existuje, jinak vrátí `default`"
   ]
  },
  {
   "cell_type": "markdown",
   "metadata": {},
   "source": [
    "## Příklad\n",
    "\n",
    "Napište funkci, která spočítá počet dětí ($<18$ let), dospělých (18-64 let) a seniorů ($\\ge65$ let) v zadaném seznamu:"
   ]
  },
  {
   "cell_type": "code",
   "execution_count": 30,
   "metadata": {},
   "outputs": [],
   "source": [
    "people = [\n",
    "    {\"name\": \"Bob\", \"age\": 72},\n",
    "    {\"name\": \"Ali\", \"age\": 18},\n",
    "    {\"name\": \"Tim\", \"age\": 65},\n",
    "    {\"name\": \"Tom\", \"age\": 50},\n",
    "    {\"name\": \"Joe\", \"age\": 40},\n",
    "    {\"name\": \"Eve\", \"age\": 30},\n",
    "    {\"name\": \"Tom\", \"age\": 25},\n",
    "    {\"name\": \"Kia\", \"age\": 5},\n",
    "    {\"name\": \"Pam\", \"age\": 7},\n",
    "    {\"name\": \"May\", \"age\": 17},\n",
    "    {\"name\": \"Liz\", \"age\": 29},\n",
    "    {\"name\": \"Dom\", \"age\": 68},\n",
    "    {\"name\": \"Sam\", \"age\": 36},\n",
    "]\n",
    "\n",
    "def count_people(d):\n",
    "    ...\n",
    "\n",
    "count_people(people)  # funkce vrátí trojici čísel nebo slovník se třemi kategoriemi"
   ]
  },
  {
   "cell_type": "markdown",
   "metadata": {},
   "source": [
    "# Důležité poznámky a příklady"
   ]
  },
  {
   "cell_type": "markdown",
   "metadata": {},
   "source": [
    "## Kontejnery jako argumenty funkcí\n",
    "\n",
    "Kontejnery lze předávat jako argumenty funkcím, stejně jako všechny ostatní objekty.\n",
    "Jediná vlastnost jazyka Python, na kterou je nutné dát pozor, souvisí s definicí parametru s výchozí hodnotou, ve které by se __nikdy neměly vyskytovat _modifikovatelné_ kontejnery__ (např. `param=[]` nebo `param={}`).\n",
    "Problematické chování demonstrujeme na následujícím příkladu:"
   ]
  },
  {
   "cell_type": "code",
   "execution_count": 4,
   "metadata": {},
   "outputs": [
    {
     "name": "stdout",
     "output_type": "stream",
     "text": [
      "[5]\n",
      "[5, 5]\n",
      "[5, 5, 5]\n"
     ]
    }
   ],
   "source": [
    "def demo(a=[]):\n",
    "    a.append(5)\n",
    "    print(a)\n",
    "\n",
    "demo()\n",
    "demo()\n",
    "demo()"
   ]
  },
  {
   "cell_type": "markdown",
   "metadata": {},
   "source": [
    "Problém spočívá v tom, že příkaz `def` definující funkci `demo` se provede jednou, přičemž vznikne právě jeden defaultní objekt (prázdný seznam `[]`) pro parametr `a`.\n",
    "Poté se funkce `demo` volá třikrát bez parametru, tj. se stejným defaultním objektem.\n",
    "Dodejme, že v případě _nemodifikovatelných_ kontejnerů (např. `tuple` nebo `str`) tento problém není možné pozorovat, protože jediný defaultní objekt pro daný parametr není možné modifikovat.\n",
    "\n",
    "Jak spravit předchozí příklad?\n",
    "Běžně se používá tento přístup: v definici funkce použijeme objekt `None` pro odlišení, jestli byl parametr specifikován nebo ne, a potřebný modifikovatelný kontejner vytvoříme uvnitř funkce:"
   ]
  },
  {
   "cell_type": "code",
   "execution_count": 5,
   "metadata": {},
   "outputs": [
    {
     "name": "stdout",
     "output_type": "stream",
     "text": [
      "[5]\n",
      "[5]\n",
      "[5]\n"
     ]
    }
   ],
   "source": [
    "def demo2(a=None):\n",
    "    # kontrola parametru a vytvoření kontejneru\n",
    "    if a is None:\n",
    "        a = []\n",
    "\n",
    "    # zbytek funkce\n",
    "    a.append(5)\n",
    "    print(a)\n",
    "\n",
    "demo2()\n",
    "demo2()\n",
    "demo2()"
   ]
  },
  {
   "cell_type": "markdown",
   "metadata": {},
   "source": [
    "## Mutable vs. immutable objekty\n",
    "\n",
    "Kontejnery v Pythonu se podle svých vlastností dělí na:\n",
    "\n",
    "1. **mutable** (*modifikovatelné*) – např. `list`, `set`, `dict`\n",
    "2. **immutable** (*nemodifikovatelné*) – např. `str`, `tuple`, `frozenset`\n",
    "\n",
    "*Modifikovatelné* typy mají metody, které umožňují modifikovat daný objekt (např. přidávat nebo odebírat prvky v kontejneru).\n",
    "Naopak *nemodifikovatelné* typy nemají žádné metody, které by modifikovaly daný objekt – jediný způsob, jak dosáhnout modifikace, je tedy vytvoření nového objektu.\n",
    "\n",
    "### Identita vs hodnota objektů\n",
    "\n",
    "Pro objekty *nemodifikovatelných* typů je důležitá jen jejich hodnota.\n",
    "Pro objekty *modifikovatelných* typů je navíc důležitá jejich **identita**, neboli umístění v paměti počítače.\n",
    "Identity a hodnoty objektů můžeme porovnávat:\n",
    "\n",
    "* [operátory `is` a `is not`](https://docs.python.org/3/reference/expressions.html#is) porovnávají **identitu** dvou objektů (např. dvě proměnné jsou identické, pokud se odkazují na stejný objekt v paměti počítače)\n",
    "* [operátory `==` a `!=`](https://docs.python.org/3/reference/expressions.html#value-comparisons) porovnávají **hodnoty** dvou objektů (identické objekty mají vždy stejnou hodnotu, ale dva neidentické objekty mohou a nemusí mít stejnou hodnotu)\n",
    "\n",
    "### Přiřazovací operátor\n",
    "\n",
    "Pro pochopení důsledků modifikovatelné vlastnosti kontejnerů je důležité si uvědomit, jak funguje přiřazovací operátor.\n",
    "Každá *proměnná* se skládá z *názvu* (*identifikátoru*) v kódu programu a z *odkazu na objekt*, který je uložený v paměti počítače a který nese samotná data objektu.\n",
    "Přiřazovací operátor `=` v Pythonu **vždy mění jen odkaz pro danou proměnnou a nikdy nevytváří kopie objektu na jiném místě v paměti počítače.**\n",
    "\n",
    "**Demonstrační příklady:**"
   ]
  },
  {
   "cell_type": "code",
   "execution_count": 15,
   "metadata": {},
   "outputs": [
    {
     "name": "stdout",
     "output_type": "stream",
     "text": [
      "True\n",
      "a = 1\n",
      "b = 2\n",
      "False\n",
      "is: False\n",
      "== True\n"
     ]
    }
   ],
   "source": [
    "# přiřazení číselných hodnot\n",
    "a = 1\n",
    "b = a\n",
    "print(a is b)  # `a` a `b` jsou identické\n",
    "\n",
    "# \"modifikace\" číselné hodnoty - všechny číselné typy jsou **immutable**\n",
    "b += 1  # vytvoří nový objekt - ekvivalentní `b = b + 1`\n",
    "print(\"a =\", a)  # vypíše 1\n",
    "print(\"b =\", b)  # vypíše 2\n",
    "print(a is b)  # `a` a `b` nejsou identické\n",
    "\n",
    "# porovnání operátorů `is` a `==`\n",
    "a = 1.0\n",
    "b = 2 / 2\n",
    "print(\"is:\", a is b)  # `a` a `b` nejsou identické (ale mají stejnou hodnotu)\n",
    "print(\"==\", a == b)"
   ]
  },
  {
   "cell_type": "code",
   "execution_count": 16,
   "metadata": {},
   "outputs": [
    {
     "name": "stdout",
     "output_type": "stream",
     "text": [
      "True\n",
      "a = [0, 1, 2]\n",
      "b = [0, 1, 2]\n",
      "True\n"
     ]
    }
   ],
   "source": [
    "# přiřazení mutable objektů\n",
    "a = [0, 1]\n",
    "b = a\n",
    "print(a is b)  # `a` a `b` jsou identické\n",
    "\n",
    "# modifikace kontejneru\n",
    "b.append(2)\n",
    "print(\"a =\", a)  # vypíše [0, 1, 2]\n",
    "print(\"b =\", b)  # vypíše [0, 1, 2]\n",
    "print(a is b)  # `a` a `b` jsou stále identické!"
   ]
  },
  {
   "cell_type": "markdown",
   "metadata": {},
   "source": [
    "Předchozí příklad používá seznam (`list`) pro ukázku, ale stejné chování platí všechny *mutable* objekty, včetně množin a slovníků (`set` a `dict`).\n",
    "\n",
    "Naopak pro *immutable* kontejnery podobný případ nastat nemůže – objekt nelze modifikovat přímo, pro změnu bychom museli vytvořit nový objekt a použít přiřazovací operátor, což by však rozpojilo vazbu dvou proměnných na jeden objekt."
   ]
  },
  {
   "cell_type": "markdown",
   "metadata": {},
   "source": [
    "### Předávání argumentů funkci\n",
    "\n",
    "Pro předávání argumentů při volání funkce platí stejné chování jako v případě přiřazovacího operátoru – předává se jen *odkaz* na objekt a nevytváří se kopie objektu na jiném místě v paměti počítače.\n",
    "\n",
    "**Důsledek:** modifikace objektu uvnitř funkce se projeví i navenek! (Záleží na situaci, jestli je tento efekt žádoucí nebo nežádoucí...)"
   ]
  },
  {
   "cell_type": "code",
   "execution_count": 17,
   "metadata": {},
   "outputs": [
    {
     "name": "stdout",
     "output_type": "stream",
     "text": [
      "added key John\n",
      "{'Alice': 20, 'Bob': 21, 'John': 22}\n"
     ]
    }
   ],
   "source": [
    "def add_to_dict(d, key, value):\n",
    "    if key in d:\n",
    "        print(\"key\", key, \"already exists\")\n",
    "    else:\n",
    "        d[key] = value\n",
    "        print(\"added key\", key)\n",
    "\n",
    "people_with_age = {\n",
    "    \"Alice\": 20,\n",
    "    \"Bob\": 21,\n",
    "}\n",
    "add_to_dict(people_with_age, \"John\", 22)\n",
    "print(people_with_age)"
   ]
  },
  {
   "cell_type": "markdown",
   "metadata": {},
   "source": [
    "## Vytváření kopií mutable kontejnerů\n",
    "\n",
    "Jelikož přiřazovací operátor (např. `a = b`) pouze nastaví odkaz na stejný objekt, pro vytvoření skutečné kopie kontejneru jako `list`, `set` a `dict` je nutné postupovat opatrně.\n",
    "Můžeme např. vytvořit prázdný kontejner a postupně do něj přidat všechny prvky z původního kontejneru:"
   ]
  },
  {
   "cell_type": "code",
   "execution_count": 18,
   "metadata": {},
   "outputs": [
    {
     "name": "stdout",
     "output_type": "stream",
     "text": [
      "[0, 1]\n",
      "[0, 1, 2]\n"
     ]
    }
   ],
   "source": [
    "def copy_list(source):\n",
    "    \"\"\" Creates a new list containing all elements of the source.\n",
    "        Does **not** modify the parameter.\n",
    "    \"\"\"\n",
    "    copy = []\n",
    "    for element in source:\n",
    "        copy.append(element)\n",
    "    return copy\n",
    "\n",
    "a = [0, 1]\n",
    "b = copy_list(a)\n",
    "b.append(2)\n",
    "print(a)  # prints [0, 1]\n",
    "print(b)  # prints [0, 1, 2]"
   ]
  },
  {
   "cell_type": "markdown",
   "metadata": {},
   "source": [
    "<div style=\"border-left: 5px solid green; padding-left: 1em\">\n",
    "<p><strong>Tip:</strong>\n",
    "Výraz <code>b = a[:]</code> také vytváří kopii. Jde o <em>slicing</em> s defaultní hodnotou pro počátek i konec rozsahu, tj. od začátku po konec posloupnosti.</p>\n",
    "</div>"
   ]
  },
  {
   "cell_type": "markdown",
   "metadata": {},
   "source": [
    "**Příklad:** naprogramujte analogické funkce pro kopírování množiny a slovníku."
   ]
  },
  {
   "cell_type": "code",
   "execution_count": null,
   "metadata": {},
   "outputs": [],
   "source": [
    "def copy_set(source):\n",
    "    copy = ...\n",
    "    ...\n",
    "    return copy\n",
    "\n",
    "def copy_dict(source):\n",
    "    copy = ...\n",
    "    ...\n",
    "    return copy\n",
    "\n",
    "s1 = {0, 1}\n",
    "s2 = copy_set(s1)\n",
    "s1.add(2)\n",
    "assert s1 == {0, 1, 2}\n",
    "assert s2 == {0, 1}\n",
    "\n",
    "d1 = {\"a\": 0, \"b\": 1}\n",
    "d2 = copy_dict(d1)\n",
    "d1[\"c\"] = 2\n",
    "assert d1 == {\"a\": 0, \"b\": 1, \"c\": 2}\n",
    "assert d2 == {\"a\": 0, \"b\": 1}"
   ]
  },
  {
   "cell_type": "markdown",
   "metadata": {},
   "source": [
    "**Příklad:** naprogramujte obecnou funkci `copy`, která vytvoří kopii kontejneru správným způsobem podle toho, o jaký typ kontejneru se jedná.\n",
    "\n",
    "Typ objektu je možné ověřit buď pomocí funkce `isinstance` (`if isinstance(obj, list):` atd.) nebo pomocí funkce `type` (`if type(obj) == list`)."
   ]
  },
  {
   "cell_type": "code",
   "execution_count": 21,
   "metadata": {},
   "outputs": [],
   "source": [
    "def copy(source):\n",
    "    if isinstance(source, list):\n",
    "        copy = []\n",
    "        for element in source:\n",
    "            copy.append(element)\n",
    "        return copy\n",
    "\n",
    "    elif isinstance(source, set):\n",
    "        ...\n",
    "\n",
    "    elif isinstance(source, dict):\n",
    "        ...\n",
    "\n",
    "    else:\n",
    "        # pokud nevíme, jak vytvořit kopii, vrátíme alespoň odkazu\n",
    "        return source\n",
    "\n",
    "a = [0, 1]\n",
    "b = copy(a)\n",
    "a.append(2)\n",
    "assert b == [0, 1]\n",
    "\n",
    "s1 = {0, 1}\n",
    "s2 = copy(s1)\n",
    "s1.add(2)\n",
    "assert s2 == {0, 1}\n",
    "\n",
    "d1 = {\"a\": 0, \"b\": 1}\n",
    "d2 = copy(d1)\n",
    "d1[\"c\"] = 2\n",
    "assert d2 == {\"a\": 0, \"b\": 1}"
   ]
  },
  {
   "cell_type": "markdown",
   "metadata": {},
   "source": [
    "## Vytváření hluboké kopie\n",
    "\n",
    "Funkce z předchozí sekce vytváří tzv. *mělké kopie* – nový objekt vznikne jen pro kontejner nejvyšší úrovně a pro prvky tohoto kontejneru se přiřadí jen odkazy:"
   ]
  },
  {
   "cell_type": "code",
   "execution_count": 22,
   "metadata": {},
   "outputs": [
    {
     "name": "stdout",
     "output_type": "stream",
     "text": [
      "[[0, 1, 42], [2, 3]]\n",
      "[[0, 1, 42], [2, 3], [4]]\n",
      "True\n"
     ]
    }
   ],
   "source": [
    "s1 = [[0, 1], [2, 3]]\n",
    "s2 = copy(s1)\n",
    "s2.append([4])  # modifikuje jen s2\n",
    "s2[0].append(42)  # modifikuje prvek s2 i s1!\n",
    "print(s1)\n",
    "print(s2)\n",
    "print(s1[0] is s2[0])"
   ]
  },
  {
   "cell_type": "markdown",
   "metadata": {},
   "source": [
    "Pro vytvoření tzv. *hluboké kopie* je potřeba postupovat rekurzivně a pro každý *mutable* objekt, na který narazíme, vytvořit kopii:"
   ]
  },
  {
   "cell_type": "code",
   "execution_count": 27,
   "metadata": {},
   "outputs": [
    {
     "name": "stdout",
     "output_type": "stream",
     "text": [
      "[[0, 1, 2], {'a': {0, 1, 2}, 'b': [0], 0: 0}, {0, 1, 42}, 3]\n",
      "[[0, 1], {}, set()]\n"
     ]
    }
   ],
   "source": [
    "def deep_copy(source):\n",
    "    \"\"\" Vytváří hlubokou kopii zdrojového kontejneru. Nemění parametr `source`.\n",
    "    \"\"\"\n",
    "    if isinstance(source, list):\n",
    "        # nejprve vytvoříme prázdný kontejner\n",
    "        copy = []\n",
    "        # poté projdeme všechny prvky\n",
    "        for element in source:\n",
    "            # vložíme hlubokou kopii\n",
    "            copy.append(deep_copy(element))\n",
    "        # vrátíme výsledek\n",
    "        return copy\n",
    "\n",
    "    elif isinstance(source, set):\n",
    "        copy = set()\n",
    "        ... # Dokončete!\n",
    "        return copy\n",
    "\n",
    "    elif isinstance(source, dict):\n",
    "        copy = {}\n",
    "        ... # Dokončete!\n",
    "        return copy\n",
    "\n",
    "    else:\n",
    "        # pokud source není mutable kontejner, vrátíme odkaz\n",
    "        return source\n",
    "\n",
    "def modify(source):\n",
    "    \"\"\" Pomocná funkce pro testování. **Mění parametr `source`.**\n",
    "    \"\"\"\n",
    "    # nejprve přidáme nový prvek do kontejneru\n",
    "    if isinstance(source, list):\n",
    "        source.append(len(source))\n",
    "    elif isinstance(source, set):\n",
    "        for i in range(len(source) + 1):\n",
    "            if i not in source:\n",
    "                source.add(i)\n",
    "                break\n",
    "    elif isinstance(source, dict):\n",
    "        for i in range(len(source.keys()) + 1):\n",
    "            if i not in source:\n",
    "                source[i] = i\n",
    "                break\n",
    "\n",
    "    # poté modifikujeme všechny prvky\n",
    "    if isinstance(source, list) or isinstance(source, set):\n",
    "        for element in source:\n",
    "            modify(element)\n",
    "    elif isinstance(source, dict):\n",
    "        for key, value in source.items():\n",
    "            modify(value)\n",
    "\n",
    "a = [\n",
    "    [0, 1],\n",
    "    {\n",
    "        \"a\": {1, 2},\n",
    "        \"b\": [],\n",
    "    },\n",
    "    {0, 42},\n",
    "]\n",
    "b = deep_copy(a)\n",
    "assert a == b\n",
    "modify(a)\n",
    "print(a)\n",
    "print(b)\n",
    "assert b == [\n",
    "    [0, 1],\n",
    "    {\n",
    "        \"a\": {1, 2},\n",
    "        \"b\": [],\n",
    "    },\n",
    "    {0, 42},\n",
    "]"
   ]
  },
  {
   "cell_type": "markdown",
   "metadata": {},
   "source": [
    "# Další zajímavé vlastnosti"
   ]
  },
  {
   "cell_type": "markdown",
   "metadata": {},
   "source": [
    "## Funkce s obecným počtem parametrů\n",
    "\n",
    "Syntaxe jazyka Python umožňuje definovat funkce s obecným počtem pozičních a pojmenovaných parametrů/argumentů.\n",
    "Obecně může definice funkce vypadat takto:"
   ]
  },
  {
   "cell_type": "code",
   "execution_count": 20,
   "metadata": {},
   "outputs": [],
   "source": [
    "def f(a, b, c, *args, k1, k2, **kwargs):\n",
    "    print(\"args:\", args)\n",
    "    print(\"kwargs:\", kwargs)\n",
    "    print()"
   ]
  },
  {
   "cell_type": "markdown",
   "metadata": {},
   "source": [
    "Význam jednotlivých parametrů je následující:\n",
    "\n",
    "- `a`, `b`, `c` jsou poziční parametry\n",
    "- parametr označený hvězdičkou, tedy `args`, je _tuple_ obsahující všechny další poziční argumenty\n",
    "- `k1`, `k2` jsou definovány až za `*args`, takže je lze specifikovat jen jako pojmenované argumenty\n",
    "- parametr označený dvěma hvězdičkami, tedy `kwargs`, je _slovník_ obsahující všechny další pojmenované argumenty (_keyword arguments_)\n",
    "\n",
    "Názvy parametry `args` a `kwargs` nejsou vynucené, mohli bychom použít libovolné jiné názvy.\n",
    "Pro přehlednost kódu je však dobré držet se zaběhnuté konvence.\n",
    "\n",
    "Funkci `f` můžeme zavolat např. takto:"
   ]
  },
  {
   "cell_type": "code",
   "execution_count": 19,
   "metadata": {},
   "outputs": [
    {
     "name": "stdout",
     "output_type": "stream",
     "text": [
      "args: ()\n",
      "kwargs: {}\n",
      "\n",
      "args: (3,)\n",
      "kwargs: {'k3': 30}\n",
      "\n",
      "args: (3, 4)\n",
      "kwargs: {'hello': 'world'}\n",
      "\n"
     ]
    }
   ],
   "source": [
    "f(0, 1, 2, k1=10, k2=20)\n",
    "f(0, 1, 2, 3, k1=10, k2=20, k3=30)\n",
    "f(0, 1, 2, 3, 4, k1=10, k2=20, hello=\"world\")"
   ]
  },
  {
   "cell_type": "markdown",
   "metadata": {},
   "source": [
    "## Rozbalovací hvězdička a dvojhvězdička\n",
    "\n",
    "V předchozí sekci jsme viděli, že operátory `*` a `**` označují v definici funkce obecné parametry pro poziční a pojmenované argumenty.\n",
    "Co když ale máme v kódu kontejnery, např. seznam nebo slovník, které chceme předat takové funkci?"
   ]
  },
  {
   "cell_type": "code",
   "execution_count": 21,
   "metadata": {},
   "outputs": [
    {
     "name": "stdout",
     "output_type": "stream",
     "text": [
      "[0, 1, 2]\n"
     ]
    }
   ],
   "source": [
    "def print_sequence(*args):\n",
    "    for item in args:\n",
    "        print(item)\n",
    "\n",
    "s = [0, 1, 2]\n",
    "print_sequence(s)"
   ]
  },
  {
   "cell_type": "markdown",
   "metadata": {},
   "source": [
    "V předchozím příkladu máme seznam `s`, který předáváme funkci `print_sequence`.\n",
    "Jak vypadá v tomto případě `args`?\n",
    "Je to _tuple_ délky 1, kde první prvek je seznam `s` (ověřte to pomocí nástroje __pytutor__).\n",
    "\n",
    "Toto použití je naprosto funkční, ale možná neodpovídá tomu, co programátor zamýšlel.\n",
    "Jak můžeme docílit toho, aby `args` odpovídal přímo seznamu `s`, tj. aby cyklus uvnitř funkce iteroval přes hodnoty seznamu `s`?\n",
    "K tomu nám pomůže tzv. _rozbalovací hvězdička_:"
   ]
  },
  {
   "cell_type": "code",
   "execution_count": 22,
   "metadata": {},
   "outputs": [
    {
     "name": "stdout",
     "output_type": "stream",
     "text": [
      "0\n",
      "1\n",
      "2\n"
     ]
    }
   ],
   "source": [
    "print_sequence(*s)"
   ]
  },
  {
   "cell_type": "markdown",
   "metadata": {},
   "source": [
    "Pokud v kódu použijeme operátor `*` před názvem nějaké posloupnosti, způsobí _rozbalení_ obsažených prvků na daném místě.\n",
    "V předchozím příkladu je `print_sequence(s)` ekvivalentní `print_sequence([0, 1, 2])`, ale `print_sequence(*s)` je ekvivalentní `print_sequence(0, 1, 2)`.\n",
    "\n",
    "Rozbalování posloupností není svázáno jen s voláním funkcí.\n",
    "Je to obecný prvek jazyka Python, který lze použít všude tam, kde lze syntakticky použít seznam prvků:"
   ]
  },
  {
   "cell_type": "code",
   "execution_count": 23,
   "metadata": {},
   "outputs": [
    {
     "name": "stdout",
     "output_type": "stream",
     "text": [
      "[10, 20, 0, 1, 2, 30]\n"
     ]
    }
   ],
   "source": [
    "ss = [10, 20, *s, 30]\n",
    "print(ss)"
   ]
  },
  {
   "cell_type": "markdown",
   "metadata": {},
   "source": [
    "Podobným způsobem funguje rozbalování slovníku pomocí `**` – vyzkoušejte sami."
   ]
  },
  {
   "cell_type": "markdown",
   "metadata": {},
   "source": [
    "## Povinně poziční a povinně pojmenované parametry/argumenty\n",
    "\n",
    "Jazyk Python umožňuje při definici funkce označit, které parametry/argumenty jsou **povinně** poziční a pojmenované:\n",
    "\n",
    "- `def f(a, b, c):` – všechny parametry lze použít buď jako poziční, nebo jako pojmenované\n",
    "- `def f(a, b, *, c)` – parametr `c` je povinně pojmenovaný (nelze použít jako poziční, např. `f(1, 2, 3)`)\n",
    "- `def f(a, /, b, c)` – parametr `a` je povinně poziční (nelze použít jako pojmenovaný, např. `f(a=1, b=2, c=3)`)\n",
    "- `def f(a, /, b, *, c):` – parametr `a` je povinně poziční a parametr `c` je povinně pojmenovaný\n",
    "\n",
    "Vyzkoušejte všechny varianty definice funkce a volání s pozičními/pojmenovanými parametry/argumenty:"
   ]
  },
  {
   "cell_type": "code",
   "execution_count": 7,
   "metadata": {},
   "outputs": [
    {
     "name": "stdout",
     "output_type": "stream",
     "text": [
      "a = 1\n",
      "b = 2\n",
      "c = 3\n",
      "a = 1\n",
      "b = 2\n",
      "c = 3\n"
     ]
    }
   ],
   "source": [
    "def f(a, b, c):\n",
    "    print(\"a =\", a)\n",
    "    print(\"b =\", b)\n",
    "    print(\"c =\", c)\n",
    "\n",
    "f(1, 2, 3)\n",
    "f(a=1, b=2, c=3)"
   ]
  }
 ],
 "metadata": {
  "kernelspec": {
   "display_name": "Python 3",
   "language": "python",
   "name": "python3"
  },
  "language_info": {
   "codemirror_mode": {
    "name": "ipython",
    "version": 3
   },
   "file_extension": ".py",
   "mimetype": "text/x-python",
   "name": "python",
   "nbconvert_exporter": "python",
   "pygments_lexer": "ipython3",
   "version": "3.11.5"
  },
  "orig_nbformat": 4
 },
 "nbformat": 4,
 "nbformat_minor": 2
}
