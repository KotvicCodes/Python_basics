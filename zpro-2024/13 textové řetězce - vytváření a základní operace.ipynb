{
 "cells": [
  {
   "cell_type": "markdown",
   "id": "d76ee55e-8907-401c-90e6-3e4b32538de3",
   "metadata": {},
   "source": [
    "# V minulém díle jste viděli…"
   ]
  },
  {
   "cell_type": "markdown",
   "id": "8c058711-ee92-4511-81b7-014411c04173",
   "metadata": {},
   "source": [
    "Základní kontejnery:\n",
    "\n",
    "- `str` (_string_ neboli _textový řetězec_) – posloupnost znaků\n",
    "- `list` (_seznam_) – _modifikovatelná_ (_mutable_) posloupnost libovolných objektů\n",
    "- `tuple` (_n-tice_) – _nemodifikovatelná_ (_immutable_) posloupnost libovolných objektů\n",
    "- `set` (_množina_) – datová struktura obsahující unikátní prvky, pro které není určené jejich vzájemné pořadí\n",
    "- `dict` (_slovník_) – datová struktura, která představuje zobrazení z množiny klíčů (_keys_) na libovolné hodnoty (_values_)\n",
    "\n",
    "Základní operace s kontejnery:\n",
    "\n",
    "- _testování_: `var in container` – výraz s hodnotou `True`/`False`\n",
    "- _iterování_: `for var in container`\n",
    "\n",
    "Také vždy můžeme použít funkci `len(container)`, která vrací _délku_ neboli počet prvků kontejneru."
   ]
  },
  {
   "cell_type": "markdown",
   "id": "091bd2bb-a844-4b9e-92e0-83af973caec4",
   "metadata": {},
   "source": [
    "Pro zápis seznamů se používají hranaté závorky: `[1, 2, 3]` a pro zápis n-tic se používají kulaté závorky: `(1, 2, 3)`.\n",
    "\n",
    "Pro zápis množin i slovníků se v kódu používají složené závorky.\n",
    "Množina obsahuje přímo své prvky oddělené čárkou, kdežto slovník obsahuje dvojice klíč-hodnota oddělené dvojtečkou:"
   ]
  },
  {
   "cell_type": "code",
   "execution_count": 1,
   "id": "609f140a-19d2-451d-bdef-77ab81612420",
   "metadata": {},
   "outputs": [],
   "source": [
    "my_set = {1, 2, 3}\n",
    "my_dict = {1: \"a\", 2: \"b\", 3: \"c\"}"
   ]
  },
  {
   "cell_type": "markdown",
   "id": "91b00bc7-8b93-4a68-b32b-701fbe0dd960",
   "metadata": {},
   "source": [
    "Prázdné složené závorky nedefinují prázdnou množinu, ale prázdný slovník:"
   ]
  },
  {
   "cell_type": "code",
   "execution_count": 2,
   "id": "5b3aeec4-5d38-4828-89a8-9bef6a55d6d2",
   "metadata": {},
   "outputs": [
    {
     "name": "stdout",
     "output_type": "stream",
     "text": [
      "<class 'dict'>\n"
     ]
    }
   ],
   "source": [
    "var = {}\n",
    "print(type(var))"
   ]
  },
  {
   "cell_type": "markdown",
   "id": "a9c1c81b-b2da-4d3d-8f27-0c2815563d14",
   "metadata": {},
   "source": [
    "Při používání modifikovatelných objektů je potřeba rozlišovat mezi _identitou_ a _hodnotou_ různých proměnných: identita představuje umístění objektu v paměti počítače, kdežto hodnota jen data uložená v dané proměnné.\n",
    "Proč je to důležité:\n",
    "\n",
    "- Přiřazovací operátor (např. `a = b`) pouze nastaví odkaz na stejný objekt. (Umíme ale vytvořit skutečnou kopii kontejneru – _mělkou_ nebo _hlubokou_.)\n",
    "- Předávání parametrů funkcím také předá jen odkaz na daný objekt, takže změny modifikovatelných parametrů uvnitř funkce se projeví i mimo funkci."
   ]
  },
  {
   "cell_type": "markdown",
   "id": "1a42f634-c438-4daa-8d33-eba94264cfa3",
   "metadata": {},
   "source": [
    "# Textové řetězce"
   ]
  },
  {
   "cell_type": "markdown",
   "id": "9f303e96-ff67-4059-8a86-9f6e0604e12e",
   "metadata": {},
   "source": [
    "__Textový řetězec__ (anglicky a slangově __string__) je _posloupnost_ znaků.\n",
    "V Pythonu jsou textové řetězce reprezentovány pomocí typu `str`, což je _nemodifikovatelný_ (_immutable_) kontejner.\n",
    "\n",
    "Python na rozdíl od jiných programovacích jazyků nezavádí samostatný datový typ pro znaky (jako např. <code>char</code> v jazyce C/C++).\n",
    "Znakem v Pythonu rozumíme string obsahující pouze jeden znak.\n",
    "Interně jsou stringy uloženy pomocí typu `bytes` (také nemodifikovatelná posloupnost) a nějakého kódování (typicky [UTF-8](https://en.wikipedia.org/wiki/UTF-8))."
   ]
  },
  {
   "cell_type": "markdown",
   "id": "f02825a9-4f88-488a-997d-3b21f11ec5ef",
   "metadata": {},
   "source": [
    "## Zápis řetězců a escape sekvence\n",
    "\n",
    "Pro zápis řetězců v kódu programu používáme nejčastěji jednoduché uvozovky (apostrofy) nebo dvojité uvozovky:"
   ]
  },
  {
   "cell_type": "code",
   "execution_count": 3,
   "id": "fbd48670-a90f-46b3-8bc9-82229674a236",
   "metadata": {},
   "outputs": [],
   "source": [
    "prvni_prazdny_textovy_retezec = \"\"\n",
    "druhy_prazdny_textovy_retezec = ''\n",
    "prvni_neprazdny_textovy_retezec = \"Python\"\n",
    "druhy_neprazdny_textovy_retezec = 'C++'"
   ]
  },
  {
   "cell_type": "markdown",
   "id": "1fafcd27-106c-4a6d-ab17-40a0ba73fa6d",
   "metadata": {},
   "source": [
    "Význam použitých uvozovek se nijak neliší: podobně jako `1.0` a `1.000` jsou dva zápisy téhož čísla, tak i `'slovo'` a `\"slovo\"` jsou v Pythonu dva zápisy téhož stringu.\n",
    "Použité uvozovky nejsou součástí hodnoty – Python si \"nepamatuje\", jakým způsobem byl řetězec uvozen.\n",
    "\n",
    "Volba hraničních znaků může být ovlivněna tím, zda potřebujeme některý z nich použít uprostřed textu:"
   ]
  },
  {
   "cell_type": "code",
   "execution_count": 4,
   "id": "cd665033-89f4-4b72-991c-7f6be7308397",
   "metadata": {},
   "outputs": [
    {
     "name": "stdout",
     "output_type": "stream",
     "text": [
      "Potřebuji 'apostrofy'\n",
      "Potřebuji \"uvozovky\"\n"
     ]
    }
   ],
   "source": [
    "s1 = \"Potřebuji 'apostrofy'\"\n",
    "s2 = 'Potřebuji \"uvozovky\"'\n",
    "print(s1)\n",
    "print(s2)"
   ]
  },
  {
   "cell_type": "markdown",
   "id": "6d1e97e2-f649-4d84-b518-2583579fcc3d",
   "metadata": {},
   "source": [
    "V případě, že potřebujeme vytvořit string obsahující nějaké speciální znaky, můžeme použit tzv. escapování.\n",
    "_Escapování_ znaků znamená, že před nějakým znakem napíšeme zpětné lomítko (`\\`), kterým začíná speciální posloupnost znaků s jiným významem – tzv. __escape sekvence__ (anglicky __escape sequence__).\n",
    "Tuto sekvenci Python interpretuje jako jediný speciální znak.\n",
    "Některé speciální znaky nejsou \"viditelné\", ale mohou např. vyvolat nějakou akci terminálu.\n",
    "\n",
    "Např. znak `\\n` znamená ukončení řádku:"
   ]
  },
  {
   "cell_type": "code",
   "execution_count": 5,
   "id": "5dff434d-3089-48c2-af9a-4a2c78253e3c",
   "metadata": {},
   "outputs": [
    {
     "name": "stdout",
     "output_type": "stream",
     "text": [
      "Několika řádkový\n",
      "text\n"
     ]
    }
   ],
   "source": [
    "print(\"Několika řádkový\\ntext\")"
   ]
  },
  {
   "cell_type": "markdown",
   "id": "e0f85998-7555-486e-9bd2-1ca5a8e0fcb2",
   "metadata": {},
   "source": [
    "Escapování se také často používá pro zápis jednoduchých a dvojitých uvozovek uvnitř stringu: `\\'`, `\\\"`."
   ]
  },
  {
   "cell_type": "code",
   "execution_count": 6,
   "id": "b4e5c340-64ad-45ed-b90b-ca8eef1644b0",
   "metadata": {},
   "outputs": [
    {
     "name": "stdout",
     "output_type": "stream",
     "text": [
      "Teď potřebuji 'apostrofy' i \"uvozovky\"\n",
      "Teď potřebuji 'apostrofy' i \"uvozovky\"\n"
     ]
    }
   ],
   "source": [
    "print(\"Teď potřebuji \\'apostrofy\\' i \\\"uvozovky\\\"\")\n",
    "print('Teď potřebuji \\'apostrofy\\' i \\\"uvozovky\\\"')"
   ]
  },
  {
   "cell_type": "markdown",
   "id": "0c06826d-f2bc-42ed-910e-540c1135bd1c",
   "metadata": {},
   "source": [
    "Pokud chceme zapsat string obsahující zpětné lomítko, musíme ho escapovat jako `\\\\`.\n",
    "Např. pro vytvoření cesty k adresáři v operačním systému Windows:"
   ]
  },
  {
   "cell_type": "code",
   "execution_count": 7,
   "id": "585cedc1-ed8c-4c63-ad14-6fbd7a0c8822",
   "metadata": {},
   "outputs": [
    {
     "name": "stdout",
     "output_type": "stream",
     "text": [
      "C:\\ZPRO\\Nový adresář\n"
     ]
    }
   ],
   "source": [
    "print(\"C:\\\\ZPRO\\\\Nový adresář\")"
   ]
  },
  {
   "cell_type": "markdown",
   "id": "6f010b04-154d-4f3f-86fc-7b0ef8d3c200",
   "metadata": {},
   "source": [
    "Tyto a některé další příklady escape sekvencí v Pythonu jsou v tabulce níže.\n",
    "\n",
    "Sekvence     | Krátký popis\n",
    "-------------|---------------------------------------------------\n",
    "`\\'`         | Jednoduché uvozovky nebo apostrof (kód `\\x27`).\n",
    "`\\\"`         | Dvojité uvozovky (kód `\\x22`).\n",
    "`\\\\`         | Zpětné lomítko (kód `\\x5c`).\n",
    "`\\n`         | Nový řádek (New Line – NL – kód `\\x0a`).\n",
    "`\\t`         | Vodorovný tabulátor (TAB nebo HT – kód `\\x09`).\n",
    "`\\v`         | Svislý tabulátor (Vertical Tab – VT – kód `\\x0b`).\n",
    "`\\b`         | Backspace (BS – smazání předchozího znaku – kód `\\x08`).\n",
    "`\\r`         | Návrat vozíku (Carriage Return – CR – kód `\\x0d`).\n",
    "`\\ooo`       | Znak s 8bitovým kódem zadaným v osmičkové soustavě, `o` představuje osmičkovou číslici – např. `'\\101' == 'A'`.\n",
    "`\\xhh`       | Znak s 8bitovým kódem zadaným v šestnáctkové soustavě, `h` představuje šestnáctkovou číslici – např. `'\\x42' == 'B'`.\n",
    "`\\uhhhh`     | Znak s 16bitovým kódem zadaným v šestnáctkové soustavě, `h` představuje šestnáctkovou číslici – např. `'\\u263A' == '☺'`.\n",
    "`\\Uhhhhhhhh` | Znak s 32bitovým kódem zadaným v šestnáctkové soustavě, `h` představuje šestnáctkovou číslici – např. `'\\U0000266b' == '♫'`.\n",
    "`\\N{název}`  | Znak, který má v sadě Unicode zadaný název – např. `'\\N{DEGREE CELSIUS}' == '\\u2103' == '℃'` nebo `'\\N{WHITE SMILING FACE}' == '\\u263a' == '☺'`.\n",
    "\n",
    "Jak je vidět z tabulky, se zpětným lomítkem se dá zadat jakýkoli znak – včetně emoji – podle názvu nebo kódu standardu Unicode. Stačí přesné jméno nebo číslo znát (nebo dohledat to na internetu). Jen pro zajímavost zkuste doplnit následující příklad použitím tabulátorů, `\\b`, `\\r` a  výpisem nějakých \"nestandardních\" znaků sady Unicode."
   ]
  },
  {
   "cell_type": "code",
   "execution_count": 8,
   "id": "c1f3674f-348c-4fb2-a54d-5ecde5399d46",
   "metadata": {},
   "outputs": [
    {
     "name": "stdout",
     "output_type": "stream",
     "text": [
      "Δ\n",
      "§\n",
      "😸\n",
      "ツ\n"
     ]
    }
   ],
   "source": [
    "print(\"\\N{GREEK CAPITAL LETTER DELTA}\")\n",
    "print(\"\\N{SECTION SIGN}\")\n",
    "print(\"\\N{GRINNING CAT FACE WITH SMILING EYES}\")\n",
    "print(\"\\u30C4\")"
   ]
  },
  {
   "cell_type": "markdown",
   "id": "38183052-dd3e-4390-8afe-18cd96ec9c6b",
   "metadata": {},
   "source": [
    "Pro zápis víceřádkových stringů v kódu programu může být použití `\\n` příliš komplikované.\n",
    "Alternativou je použít trojice dvojitých uvozovek (`\"\"\"`) nebo jednoduchých uvozovek (`'''`) pro ohraničení stringu:"
   ]
  },
  {
   "cell_type": "code",
   "execution_count": 9,
   "id": "06028890-b910-4b22-8859-2a6d9f80081b",
   "metadata": {},
   "outputs": [
    {
     "name": "stdout",
     "output_type": "stream",
     "text": [
      "Jsem víceřádkový string\n",
      "obklopený dvojitými uvozovkami\n",
      "a obsahující escapování pro nové řádky.\n",
      "Jsem také víceřádkový string,\n",
      "ale vytvořený pomocí\n",
      "trojic jednoduchých uvozovek.\n"
     ]
    }
   ],
   "source": [
    "s1 = \"Jsem víceřádkový string\\nobklopený dvojitými uvozovkami\\na obsahující escapování pro nové řádky.\"\n",
    "s2 = '''Jsem také víceřádkový string,\n",
    "ale vytvořený pomocí\n",
    "trojic jednoduchých uvozovek.'''\n",
    "print(s1)\n",
    "print(s2)"
   ]
  },
  {
   "cell_type": "markdown",
   "id": "ad7b1379-215f-46b0-8bc9-f24df18ab6c9",
   "metadata": {},
   "source": [
    "## Převod stringu na číselné typy\n",
    "\n",
    "S textovými řetězci jsme pracovali od prvního cvičení a mnoho operací se stringy již známe.\n",
    "Umíme např. číst vstup od uživatele pomocí funkce `input()`.\n",
    "Připomeňme si, že tato funkce vždy vrací textový řetězec a v případě, že potřebujeme pracovat s číselnou hodnotou, musíme provést přetypovaní stringu na vhodný datový typ (např. pomocí funkcí `int()`, `float()`, nebo `complex()`)."
   ]
  },
  {
   "cell_type": "markdown",
   "id": "62d5a50b-3aca-4836-8363-dfc48b3b007d",
   "metadata": {},
   "source": [
    "Ve funkci `int(x, base=10)` se prvním argumentem předpokládá objekt, který lze převést na celé číslo.\n",
    "Pokud jde o objekt typu `str`, funkce `int` požaduje, aby vyhovoval pravidlům pro zápis celého čísla v cílové číselné soustavě, navíc jsou povoleny pouze _bílé znaky_ (mezera, tabulátor, nový řádek atd.) _na začátku a na konci_ stringu (ne uvnitř) a podtržítka pro logické oddělení číslic _uvnitř_ stringu.\n",
    "\n",
    "Druhý argument `base` (`2 <= base <= 36`) určuje číselnou soustavu, do které se bude string převádět.\n",
    "Číselné soustavy se základem větším než 10 používají v roli dalších číslic písmena `A`–`Z`, resp. `a`–`z`.\n",
    "Na velikosti použitých písmen přitom nezáleží."
   ]
  },
  {
   "cell_type": "code",
   "execution_count": 10,
   "id": "96d2a56c-20d7-497e-b578-74adab014e96",
   "metadata": {},
   "outputs": [
    {
     "name": "stdout",
     "output_type": "stream",
     "text": [
      "10\n",
      "4112\n",
      "1856027718675\n"
     ]
    }
   ],
   "source": [
    "print(int(\"1010\", 2))\n",
    "print(int(\"1010\", 16))\n",
    "print(int(\"No_nazdar\", 36))"
   ]
  },
  {
   "cell_type": "markdown",
   "id": "5256e15c-b0da-407a-ac86-8626ba739b6f",
   "metadata": {},
   "source": [
    "Funkce `float(x=0.0)` vrátí \"reálné\" číslo vytvořené ze zadaného čísla či stringu.\n",
    "Je-li argumentem string, funkce požaduje, aby vyhovoval pravidlům pro zápis reálných čísel.\n",
    "Navíc jsou povoleny pouze bílé znaky na začátku a na konci stringu a několik speciálních \"konstant\".\n",
    "Není-li zadán argument, funkce vrátí nulu."
   ]
  },
  {
   "cell_type": "code",
   "execution_count": 11,
   "id": "196d224d-5c22-42e8-8fdd-c3250770bbdb",
   "metadata": {},
   "outputs": [
    {
     "name": "stdout",
     "output_type": "stream",
     "text": [
      "0.0\n",
      "3513.0\n",
      "-3.5\n",
      "-inf\n",
      "nan\n"
     ]
    }
   ],
   "source": [
    "print(float())\n",
    "print(float(\"3_513\"))\n",
    "print(float(\"    -3.5\\n\"))\n",
    "print(float(\"-Infinity\"))       # -Nekonečno, také jsou možné zkratky inf, -Inf, atd.\n",
    "print(float(\"NaN\"))             # Not a Number - hodnota typu float, která není číslo\n",
    "#print(float(\"Číslo 1.1\"))       # ValueError"
   ]
  },
  {
   "cell_type": "markdown",
   "id": "e3e524f5-6ac0-4af2-9a60-bf1b99395d0b",
   "metadata": {},
   "source": [
    "Funkce `complex(string)` vrací hodnotu typu `complex`, pokud argument `string` je korektní zápis komplexního čísla _v algebraickém tvaru_ dle Pythonovské notace.\n",
    "Mezery mezi reálnou a imaginární částmi nejsou povoleny a imaginární jednotku představuje symbol `j`:"
   ]
  },
  {
   "cell_type": "code",
   "execution_count": 12,
   "id": "64ef968f-c5e4-4807-b9a3-98d48642f80c",
   "metadata": {},
   "outputs": [
    {
     "name": "stdout",
     "output_type": "stream",
     "text": [
      "(1+2j)\n"
     ]
    }
   ],
   "source": [
    "print(complex(\"1+2j\"))\n",
    "#print(complex(\"1 + 2j\"))  # ValueError"
   ]
  },
  {
   "cell_type": "markdown",
   "id": "fffbbc37-1c18-421b-afb7-84ccd1808568",
   "metadata": {},
   "source": [
    "Funkce `bool(x=False)` převádí zadaný objekt `x` na booleovskou hodnotu.\n",
    "Pokud jde o typ `str`, tak platí:\n",
    "\n",
    "- prázdný řetězec se vyhodnotí jako `False`\n",
    "- jakýkoli neprázdný řetězec se vyhodnotí jako `True`"
   ]
  },
  {
   "cell_type": "code",
   "execution_count": 13,
   "id": "c03771c8-ef6a-409a-bbe4-8d7c8981f437",
   "metadata": {},
   "outputs": [
    {
     "name": "stdout",
     "output_type": "stream",
     "text": [
      "False\n",
      "True\n",
      "True\n"
     ]
    }
   ],
   "source": [
    "print(bool(\"\"))\n",
    "print(bool(\"0\"))\n",
    "print(bool(\"False\"))"
   ]
  },
  {
   "cell_type": "markdown",
   "id": "65c100ec",
   "metadata": {},
   "source": [
    "## Převod objektů na string"
   ]
  },
  {
   "cell_type": "markdown",
   "id": "b876f143-e11f-4690-a894-b0f56cb6f8b9",
   "metadata": {},
   "source": [
    "K převodu libovolného objektu na string slouží funkce `str(object='')`.\n",
    "Není-li zadán argument, funkce vrátí prázdný textový řetězec.\n",
    "\n",
    "Existuje také funkce `repr(object)`, která se snaží vytvořit jednoznačný textový podpis objektu – v řadě případů je jím text, po jehož zadání interpret vytvoří ekvivalentní objekt.\n",
    "Jde o _systémový popis_ objektu, používá se např. při výpisu výsledných hodnot v konzoli.\n",
    "\n",
    "Funkce `str()` naopak vrací \"klasický\" string, který by měl být pro člověka co nejsrozumitelnější – _uživatelský podpis_.\n",
    "Návratové hodnoty funkcí `str()` a `repr()` jsou velmi často shodné, ale občas se liší.\n",
    "Typickým příkladem jsou texty, pro něž funkce `str()` vrací zadaný text, kdežto funkce `repr()` vrací text uzavřený v uvozovkách, tj. text, který můžeme zadat do programu."
   ]
  },
  {
   "cell_type": "code",
   "execution_count": 14,
   "id": "f8c48d38-1717-4ca0-8bd0-a60dd7d96fa4",
   "metadata": {},
   "outputs": [
    {
     "name": "stdout",
     "output_type": "stream",
     "text": [
      "Python Python Python\n",
      "'Python' 'Python' 'Python'\n"
     ]
    }
   ],
   "source": [
    "print(str('Python'), str(\"Python\"), str(\"\"\"Python\"\"\"))\n",
    "print(repr('Python'), repr(\"Python\"), repr(\"\"\"Python\"\"\"))"
   ]
  },
  {
   "cell_type": "markdown",
   "id": "80078650-c239-43ee-b795-8582b9d2f645",
   "metadata": {},
   "source": [
    "## Základní funkce a operace s textovými řetězci\n",
    "\n",
    "Typ `str` je jeden ze základních kontejnerů v Pythonu a tedy můžeme použít všechny společné operace: _testovací operátory_ `in` a `not in` (testují výskyt podřetězce) a _iterování_ (`for char in string`).\n",
    "Délku stringu můžeme získat pomocí funkce `len()`.\n",
    "Dále typ `str` představuje posloupnost, můžeme tedy používat _indexování_ znaků ve stringu a _slicing_ (viz cvičení 11)."
   ]
  },
  {
   "cell_type": "markdown",
   "id": "b26e8fb9-dd8b-43fc-84c3-5031fd48b5d6",
   "metadata": {},
   "source": [
    "__Poznámka:__ `my_string[i:j:k]` vybere každý `k`-tý znak na pozicích od `i` do `j-1` včetně."
   ]
  },
  {
   "cell_type": "code",
   "execution_count": 15,
   "id": "813bcd88-3b41-4e8b-9e12-79aa0f1e1c20",
   "metadata": {},
   "outputs": [
    {
     "name": "stdout",
     "output_type": "stream",
     "text": [
      "eolsRi\n",
      "nohtyP\n"
     ]
    }
   ],
   "source": [
    "my_string = \"Everybody loves ZPRO with Python!\"\n",
    "print(my_string[2:25:4])\n",
    "print(my_string[-2:-8:-1])"
   ]
  },
  {
   "cell_type": "markdown",
   "id": "7f7551df-394a-4ebb-bf43-8f5e5220e9f6",
   "metadata": {},
   "source": [
    "### Sčítání a násobení\n",
    "\n",
    "Pro textové řetězce můžeme používat \"aritmetické\" operátory `+` a `*`.\n",
    "Sčítání stringů je implementováno jako jejich skládání nebo _zřetězení_ (anglicky _concatenation_).\n",
    "Při tom nezávisí na tom, jakým způsobem jsou jednotlivé sčítance zadány (tj. jaké uvozovky nebo escape sekvence jsou v kódu použity) – podstatná je jen hodnota jednotlivých stringů.\n",
    "\n",
    "Navíc Python povoluje nevkládat operátor `+` mezi dva stringy zadané pomocí uvozovek (nikoliv mezi uvozovky ohraničující string a např. nějakou proměnnou).\n",
    "\n",
    "Na rozdíl od některých dalších programovacích jazyků, Python nepovoluje přičítat k textu něco jiného než text. Před přičtením hodnoty jiného druhu ve smyslu skládání musíme tuto hodnotu nejprve převést na text."
   ]
  },
  {
   "cell_type": "code",
   "execution_count": 16,
   "id": "aa31e9ed-d16b-4078-b234-92616930b748",
   "metadata": {},
   "outputs": [
    {
     "name": "stdout",
     "output_type": "stream",
     "text": [
      "JednaDvaTřiČtyři\n",
      "Jedna: 1\n"
     ]
    }
   ],
   "source": [
    "print(\"Jedna\" + \"\"\"Dva\"\"\" + 'Tři' '''Čtyři''')\n",
    "print(\"Jedna: \" + str(1))\n",
    "#print(\"Jedna: \" + 1)      # TypeError\n",
    "#print(\"Jedna\" str(1))     # SyntaxError"
   ]
  },
  {
   "cell_type": "markdown",
   "id": "18acd98f-7d3d-44a3-9777-f48976160ca8",
   "metadata": {},
   "source": [
    "Operátor `*` není definován pro dvojici stringů, ale jen pro string a __celé__ číslo (`int`).\n",
    "Výsledkem bude text, v němž se textový činitel opakuje tolikrát, kolik je hodnota číselného činitele (na pořadí činitelů nezáleží)."
   ]
  },
  {
   "cell_type": "code",
   "execution_count": 17,
   "id": "213b70a2-8186-4178-9192-be8d55f7f5a9",
   "metadata": {},
   "outputs": [
    {
     "name": "stdout",
     "output_type": "stream",
     "text": [
      "abcabcabc\n",
      "abcabc\n"
     ]
    }
   ],
   "source": [
    "print(\"abc\" * 3)\n",
    "print(2 * \"abc\")\n",
    "#print(2.0 * \"abc\")    # TypeError"
   ]
  },
  {
   "cell_type": "markdown",
   "id": "b1118c4d-919b-495d-af96-ea86f60199cf",
   "metadata": {},
   "source": [
    "### Funkce `chr()` a `ord()`\n",
    "\n",
    "Funkce `chr()` a `ord()` jsou vzájemně inverzní funkce, které můžeme používat pro jednoznakové řetězce.\n",
    "`chr(i)` očekává celé číslo a vrátí string tvořený znakem s kódem `i`.\n",
    "Aby se znak zobrazil, musí být definován v použitém fontu, jinak se zobrazí jen zástupný symbol.\n",
    "Funkce `ord(c)` očekává string obsahující jeden znak a vrátí desítkový kód tohoto znaku ve znakové sadě Unicode."
   ]
  },
  {
   "cell_type": "code",
   "execution_count": 18,
   "id": "114cd4d6-9cd1-476c-bbb8-e4650025830e",
   "metadata": {},
   "outputs": [
    {
     "name": "stdout",
     "output_type": "stream",
     "text": [
      "€\n",
      "𝄠\n",
      "8364\n"
     ]
    }
   ],
   "source": [
    "print(chr(0x20ac))    # Znak euro\n",
    "print(chr(0x1D120))   # Houslový klíč\n",
    "print(ord(\"€\"))"
   ]
  },
  {
   "cell_type": "markdown",
   "id": "35676aa1-e298-4b0c-9cdf-4bfba0b34950",
   "metadata": {},
   "source": [
    "### Porovnávání a řazení stringů\n",
    "\n",
    "Řetězce lze porovnávat pomocí standardních operátorů `==`, `!=`, `<`, `>`, `<=`, `>=`.\n",
    "Porovnávání se uskutečňuje znak po znaku v pořadí zleva doprava podle kódů znaků se stejným indexem.\n",
    "Jakmile znaky na stejných pozicích nebudou shodné, je za větší prohlášen ten text, v němž je znak s větším kódem.\n",
    "Pokud už není co porovnávat, protože jeden ze stringů skončil, za větší je prohlášen ten druhý."
   ]
  },
  {
   "cell_type": "markdown",
   "id": "fbece437-2b2d-46c8-a762-cd85161b3f81",
   "metadata": {},
   "source": [
    "<div style=\"border-left: 5px solid orange; padding-left: 1em\">\n",
    "<p><strong>Poznámka:</strong>\n",
    "I když popsaný algoritmus vypadá velmi podobně <em>lexikografickému uspořádání</em>, není to přesně tak. Např. v případě použití písmen s diakritikou nebo nepísmenných znaků můžeme dostat vůbec neočekávaný výsledek. Navíc celá sada velkých písmen latinky (bez diakritiky) se nachází před celou sadou odpovídajících malých písmen. To znamená, že libovolné velké písmeno je dle porovnávacího algoritmu _menší_ než libovolné malé písmeno. Budete-li chtít řadit texty podle pravidel nějakého jazyka, je potřeba vytvořit adaptovaný algoritmus nebo použít knihovnu, která rozumí pravidlům daného jazyka.</p>\n",
    "</div>"
   ]
  },
  {
   "cell_type": "markdown",
   "id": "b66f36d9-024e-461a-bcd7-4cc36c8ed0fe",
   "metadata": {},
   "source": [
    "Doplňte níže několik příkladů, které pomohou vyšetřovat \"divné\" výsledky porovnání stringů. Případně využijte funkci `ord()`, aby bylo zjevně vidět příčiny."
   ]
  },
  {
   "cell_type": "code",
   "execution_count": 19,
   "id": "8fb49e33-0df7-44eb-a2e1-9fec88fe10ae",
   "metadata": {},
   "outputs": [
    {
     "name": "stdout",
     "output_type": "stream",
     "text": [
      "False\n",
      "True\n",
      "True\n"
     ]
    }
   ],
   "source": [
    "print(\"země\" < \"zelí\")\n",
    "print(\"Země\" < \"zelí\")\n",
    "print(\"acd\" > 'ac' > \"ab\" > \"a\")"
   ]
  },
  {
   "cell_type": "markdown",
   "id": "d8bcd5d5-00c3-47f9-b6d3-2e5957fa195a",
   "metadata": {},
   "source": [
    "# Příklady"
   ]
  },
  {
   "cell_type": "markdown",
   "id": "58981c05-e0c1-47ae-9ac3-4d2efaef7bfe",
   "metadata": {},
   "source": [
    "1. __Počet výskytů znaků.__ Napište funkci, která pro daný string spočte, kolikrát se v něm vyskytuje daný znak. Zatím nepoužívejte žádné metody třídy `str`."
   ]
  },
  {
   "cell_type": "code",
   "execution_count": null,
   "id": "bcb13185-932b-4387-adb4-0140a79eecd8",
   "metadata": {},
   "outputs": [],
   "source": [
    "def count_occurrences(text, c):\n",
    "    ...\n",
    "\n",
    "assert count_occurrences(\"abrakadabra\", \"a\") == 5\n",
    "assert count_occurrences(\"abrakadabra\", \"c\") == 0\n",
    "assert count_occurrences(\"\", \"a\") == 0"
   ]
  },
  {
   "cell_type": "markdown",
   "id": "ad6d6b80-5124-429c-b6be-ffae909d862d",
   "metadata": {},
   "source": [
    "2. __Samohlásky.__ Samohláskami v latinské abecedě jsou písmena A, E, I, O, U a Y. Jiná písmena si považujme za souhlásky. Napište funkci, který spočítá počet samohlásek v daném textu."
   ]
  },
  {
   "cell_type": "code",
   "execution_count": null,
   "id": "0a144cc9-88e2-4655-ad77-2e84938ffe09",
   "metadata": {},
   "outputs": [],
   "source": [
    "def count_vowels(text):\n",
    "    ...\n",
    "\n",
    "assert count_vowels(\"Eighty percent of success is showing up. Woody Allen\") == 17"
   ]
  },
  {
   "cell_type": "markdown",
   "id": "62a87357-330c-452c-8596-a620522384ee",
   "metadata": {},
   "source": [
    "3. __Morseovka.__ Implementujte převod textu na morseovku a zpět pomocí slovníku `to_morse(text)`, `from_morse(text)`."
   ]
  },
  {
   "cell_type": "code",
   "execution_count": null,
   "id": "12bd018b-1368-4dca-a03f-de539ba0fd7b",
   "metadata": {},
   "outputs": [],
   "source": [
    "MORSE_CODE = {\n",
    "    \"A\": \".-\",      \"B\": \"-...\",    \"C\": \"-.-.\",    \"D\": \"-..\",\n",
    "    \"E\": \".\",       \"F\": \"..-.\",    \"G\": \"--.\",     \"H\": \"....\",\n",
    "    \"I\": \"..\",      \"J\": \".---\",    \"K\": \"-.-\",     \"L\": \".-..\",\n",
    "    \"M\": \"--\",      \"N\": \"-.\",      \"O\": \"---\",     \"P\": \".--.\",\n",
    "    \"Q\": \"--.-\",    \"R\": \".-.\",     \"S\": \"...\",     \"T\": \"-\",\n",
    "    \"U\": \"..-\",     \"V\": \"...-\",    \"W\": \".--\",     \"X\": \"-..-\",\n",
    "    \"Y\": \"-.--\",    \"Z\": \"--..\",    \"1\": \".----\",   \"2\": \"..---\",\n",
    "    \"3\": \"...--\",   \"4\": \"....-\",   \"5\": \".....\",   \"6\": \"-....\",\n",
    "    \"7\": \"--...\",   \"8\": \"---..\",   \"9\": \"----.\",   \"0\": \"-----\",\n",
    "}"
   ]
  },
  {
   "cell_type": "code",
   "execution_count": null,
   "id": "42e78321-40cb-4f0f-ae8d-34496a0c1bc5",
   "metadata": {},
   "outputs": [],
   "source": [
    "def to_morse(text):\n",
    "    ...\n",
    "\n",
    "print(to_morse(\"SOS\"))"
   ]
  },
  {
   "cell_type": "code",
   "execution_count": null,
   "id": "11cd1a98-2771-465a-9f25-bd7c0a580488",
   "metadata": {},
   "outputs": [],
   "source": [
    "def from_morse(text):\n",
    "    ...\n",
    "\n",
    "print(from_morse(to_morse(\"SOS\")))"
   ]
  },
  {
   "cell_type": "markdown",
   "id": "1818ebad-17dd-4d29-b896-a5a250466a04",
   "metadata": {},
   "source": [
    "4. __Palindrom.__ _Palindrom_ je posloupnost znaků, která se čte stejně pozpátku jako dopředu. Zjistěte, zda zadaný text je palindrom. Nezapomeňte, že mezera se při čtení neprojevuje. Naprogramujte funkci `is_palindrome(string)`, která vrátí `True`, pokud zadaný string je palindrom, a `False`, pokud není. K tomu je možné použit funkci z předchozího úkolu."
   ]
  },
  {
   "cell_type": "code",
   "execution_count": null,
   "id": "212fc97c-f9e1-4983-9e7b-4ccb51a01c40",
   "metadata": {},
   "outputs": [],
   "source": [
    "def is_palindrome(string):\n",
    "    ...\n",
    "\n",
    "assert is_palindrome(\"kobylamamalybok\")\n",
    "assert is_palindrome(\"kobylamamalyboky\") == False"
   ]
  },
  {
   "cell_type": "markdown",
   "id": "467afb28-25eb-451a-bbc3-ad07d5943b11",
   "metadata": {},
   "source": [
    "5. __Diagonála.__ Napište funkci `diagonal(string, lines_count)`, která vypíše zadáný uživatelem řetězec `string` šikmo do `lines_count` řádků:"
   ]
  },
  {
   "cell_type": "markdown",
   "id": "6c8f8d7c-a1a6-4438-98ae-89b3398cb36d",
   "metadata": {},
   "source": [
    "```python\n",
    "diagonal(\"abcdefgh\", 2) -> \n",
    "a c e g\n",
    " b d f h\n",
    "\n",
    "diagonal(\"abcdefgh\", 3) ->\n",
    "a d g\n",
    " b e h\n",
    "  c f\n",
    "```"
   ]
  },
  {
   "cell_type": "code",
   "execution_count": null,
   "id": "f819cab4-fdb3-4803-b911-aae85ca12142",
   "metadata": {},
   "outputs": [],
   "source": [
    "def diagonal(string, lines_count):\n",
    "    ...\n",
    "\n",
    "diagonal(\"abcdefgh\", 2)\n",
    "diagonal(\"abcdefgh\", 3)"
   ]
  },
  {
   "cell_type": "markdown",
   "id": "cf8dadca-45e3-4460-a277-63107edf296d",
   "metadata": {},
   "source": [
    "6. __Heterogram.__ _Heterogram_ je slovo, v kterém každý znak se vyskytuje nejvýše jednou. Naprogramujte funkci `is_heterogram(slovo)`, která vrací `True` nebo `False` jako odpověď na otázku, je-li dané slovo heterogram."
   ]
  },
  {
   "cell_type": "code",
   "execution_count": null,
   "id": "97d0cc69-4de3-4c50-b992-930469abb8d5",
   "metadata": {},
   "outputs": [],
   "source": [
    "def is_heterogram(string):\n",
    "    ...\n",
    "    \n",
    "assert is_heterogram(\"abcdeb\") == False\n",
    "assert is_heterogram(\"abcde\")"
   ]
  },
  {
   "cell_type": "markdown",
   "id": "e534aa1f-3dfe-4dbd-aa4b-af77f8990363",
   "metadata": {},
   "source": [
    "7. __Bláznivé křížení zvířat.__ Máme dva seznamy `s`, `t` s názvy zvířat. Napište funkci `merge_animals(s, t)`, která vytvoří nový seznam, který bude obsahovat \"zkřížené\" názvy zvířat tak, že z prvního názvu vezmeme vždy první polovinu a z druhého druhou polovinu. Např. `'hroch' a 'tigr' -> 'hrogr'`."
   ]
  },
  {
   "cell_type": "code",
   "execution_count": null,
   "id": "5699be76-bd93-4afc-8fb5-cc492227deb4",
   "metadata": {},
   "outputs": [],
   "source": [
    "def merge_animals(s, t):\n",
    "    ...\n",
    "\n",
    "assert merge_animals([\"hroch\",\"potkan\"],[\"žirafa\",\"orangutan\",\"lev\"]) == [\"hrafa\", \"potgutan\"]"
   ]
  },
  {
   "cell_type": "markdown",
   "id": "eedbd94b-9099-4bfb-90a6-84c214afd79b",
   "metadata": {},
   "source": [
    "8. __Reverse.__ Napište funkci `reverse(string)`, která vezme textový řetězec a vrátí ho otočený."
   ]
  },
  {
   "cell_type": "code",
   "execution_count": null,
   "id": "f4ea3e0e-dc22-45c3-b896-9a9c36d75635",
   "metadata": {},
   "outputs": [],
   "source": [
    "def reverse(string):\n",
    "    ...\n"
   ]
  },
  {
   "cell_type": "markdown",
   "id": "45ef2253-1bef-43d0-8f9d-7374f75b8e63",
   "metadata": {},
   "source": [
    "9. __Periodické řetězce.__ Budeme říkat, že řetězec _má periodu_ $k$, pokud ho lze vytvořit zřetězením jednoho nebo více opakování jiného řetězce délky $k$. Např. řetězec `\"abcabcabcabc\"` má periodu 3, protože je tvořen 4 opakováními řetězce `\"abc\"`. Má také periody 6 (dvě opakování `\"abcabc\"`) a 12 (jedno opakování `\"abcabcabcabc\"`). Napište funkci, která určí nejmenší periodu zadaného řetězce."
   ]
  },
  {
   "cell_type": "code",
   "execution_count": null,
   "id": "0a82de1f-8688-424e-aae3-84cb8021f471",
   "metadata": {},
   "outputs": [],
   "source": [
    "def find_period(s):\n",
    "    ...\n",
    "\n",
    "assert find_period(\"abcabcabcabc\")==3\n",
    "assert find_period(\"abcabcabcabc \")==10"
   ]
  }
 ],
 "metadata": {
  "kernelspec": {
   "display_name": "Python 3",
   "language": "python",
   "name": "python3"
  },
  "language_info": {
   "codemirror_mode": {
    "name": "ipython",
    "version": 3
   },
   "file_extension": ".py",
   "mimetype": "text/x-python",
   "name": "python",
   "nbconvert_exporter": "python",
   "pygments_lexer": "ipython3",
   "version": "3.12.7"
  }
 },
 "nbformat": 4,
 "nbformat_minor": 5
}
