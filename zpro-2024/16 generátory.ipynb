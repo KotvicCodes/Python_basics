{
 "cells": [
  {
   "cell_type": "markdown",
   "id": "241a6870-e08c-4c50-ad1a-7a13cf094696",
   "metadata": {},
   "source": [
    "# V minulém díle jste viděli…\n",
    "\n",
    "_Iterovatelné objekty (iterables)_ v Pythonu jsou objekty, přes které může být provedena iterace, např. pomocí `for`-cyklu. Mezi iterovatelné objekty patří např. kontejnery. Za iteraci na iterovatelném objektu je zodpovědný objekt zvaný _iterátor_, který postupně poskytuje jednotlivé prvky iterovatelného objektu.\n",
    "\n",
    "Iterátor pro daný iterovatelný objekt získáme pomocí vestavěné funkce `iter(iterable)`, další prvek v iteraci získáme pomocí funkce `next(iterator)`. Jakmile iterátor poskytne všechny prvky iterovatelného objektu, vyvolá výjimku `StopIteraion`, což iteraci ukončí:\n"
   ]
  },
  {
   "cell_type": "code",
   "execution_count": 1,
   "id": "a6a77a13-9c53-43e8-bb2b-78eb6cc07e11",
   "metadata": {},
   "outputs": [
    {
     "name": "stdout",
     "output_type": "stream",
     "text": [
      "1\n",
      "5\n",
      "4\n"
     ]
    },
    {
     "ename": "StopIteration",
     "evalue": "",
     "output_type": "error",
     "traceback": [
      "\u001b[1;31m---------------------------------------------------------------------------\u001b[0m",
      "\u001b[1;31mStopIteration\u001b[0m                             Traceback (most recent call last)",
      "Cell \u001b[1;32mIn[1], line 7\u001b[0m\n\u001b[0;32m      5\u001b[0m \u001b[38;5;28mprint\u001b[39m(\u001b[38;5;28mnext\u001b[39m(my_iterator))\n\u001b[0;32m      6\u001b[0m \u001b[38;5;28mprint\u001b[39m(\u001b[38;5;28mnext\u001b[39m(my_iterator))\n\u001b[1;32m----> 7\u001b[0m \u001b[38;5;28mprint\u001b[39m(\u001b[38;5;28;43mnext\u001b[39;49m\u001b[43m(\u001b[49m\u001b[43mmy_iterator\u001b[49m\u001b[43m)\u001b[49m)\n",
      "\u001b[1;31mStopIteration\u001b[0m: "
     ]
    }
   ],
   "source": [
    "my_list = [1, 5, 4]\n",
    "\n",
    "my_iterator = iter(my_list)\n",
    "print(next(my_iterator))\n",
    "print(next(my_iterator))\n",
    "print(next(my_iterator))\n",
    "print(next(my_iterator))"
   ]
  },
  {
   "cell_type": "markdown",
   "id": "ea2d6cfb-6ad5-4ba0-9fbe-aaf132b05126",
   "metadata": {},
   "source": [
    "V programech s iterátory často nepracujeme přímo, ale skrytě - na iterátorech je založený `for`-cyklus:"
   ]
  },
  {
   "cell_type": "code",
   "execution_count": 3,
   "id": "87307e7c-b8e6-42d5-920d-e51b3029a01d",
   "metadata": {},
   "outputs": [],
   "source": [
    "my_list = [1, 8, 3]\n",
    "\n",
    "for x in my_list:\n",
    "    ... # do something"
   ]
  },
  {
   "cell_type": "markdown",
   "id": "937cfd45-145f-43f1-8713-05b75426f146",
   "metadata": {},
   "source": [
    "Kód v předchozí buňce můžeme přepsat tímto způsobem:"
   ]
  },
  {
   "cell_type": "code",
   "execution_count": null,
   "id": "8b09d699-90ed-4c91-86ca-e2b64ae37c0e",
   "metadata": {},
   "outputs": [],
   "source": [
    "my_list = [1, 8, 3]\n",
    "\n",
    "iterator = iter(my_list)\n",
    "while True:\n",
    "    try:\n",
    "        x = next(iterator)\n",
    "        ... # do something        \n",
    "    except StopIteration:\n",
    "        break\n"
   ]
  },
  {
   "cell_type": "markdown",
   "id": "863e9114-cc48-495a-871f-ad2f2a431e7f",
   "metadata": {},
   "source": [
    "Seznámili jsme se s několika užitečnými vestavěnými funkcemi v Pythonu, které vrací iterátory:\n",
    "Funkce                             | Krátký popis\n",
    "-----------------------------------|-----------------------------\n",
    "`reversed(sequence)`               | Vrací iterátor, který poskytuje prvky posloupnosti `sequence` v opačném pořadí.\n",
    "`map(function, iterable)`          | Vrací iterátor přes `function(x)` pro `x` z `iterable`.\n",
    "`filter(function, iterable)`       | Vrací iterátor přes ta `x` z `iterable`, pro která `function(x)==True`.\n",
    "`zip(*iterables)`                  | Vrací iterátor přes n-tice `(x, y,...)` pro `x` z `iterable1`, `y` z `iterable2`,...\n",
    "`enumerate(iterable,start=0)`      | Vrací objekt `enumerate` - iterátor přes dvojice `(index, x)` pro `x` z `iterable`.\n",
    "\n",
    "A s dalšími vestavěnými funkcemi nad iterovatelnými objekty:\n",
    "Funkce                             | Krátký popis\n",
    "-----------------------------------|-----------------------------\n",
    "`sorted(iterable, /, *, key=None, reverse=False`) | Vrací setříděný seznam prvků z `iterable`.\n",
    "`all(iterable)`                    | Vrací `True`, pokud každý prvek z `iterable` má hodnotu `True`, jinak vrací `False`.\n",
    "`any(iterable)`                    | Vrací `True`, pokud alespoň jeden prvek z `iterable` má hodnotu `True`, jinak vrací `False`.\n",
    "`sum(iterable,/,start=0)`  | Vrací součet prvků z `iterable`.\n",
    "`max(iterable,/,key=None)`  | Vrací největší prvek z `iterable`.\n",
    "`min(iterable,/,key=None)`  | Vrací nejmenší prvek z `iterable`.\n",
    "`range(stop)`, `range(start,stop)`, `range(start,stop,step)` | Vrací iterovatelný objekt typu `range`, nemodifikovatelnou posloupnost čísel."
   ]
  },
  {
   "cell_type": "markdown",
   "id": "4300b889",
   "metadata": {},
   "source": [
    "## Generátory\n",
    "\n",
    "_Generátory_ jsou zvláštním druhem iterátoru, který neiteruje přes existující iterovatelný objekt, ale přes průběžně generované hodnoty.\n",
    "Můžeme ho vytvořit pomocí tzv. _generátorové funkce_ (_generator function_) nebo pomocí tzv. _generátorového výrazu_ (_generator expression_).\n",
    "\n",
    "_Generátorová funkce_ je taková funkce, která hodnoty _nevrací_ (pomocí příkazu `return`), ale generuje (pomocí příkazu `yield`). Například:"
   ]
  },
  {
   "cell_type": "code",
   "execution_count": null,
   "id": "a7f9322d",
   "metadata": {},
   "outputs": [],
   "source": [
    "def generate_squares(n):\n",
    "    for x in range(n):\n",
    "        yield x ** 2"
   ]
  },
  {
   "cell_type": "markdown",
   "id": "702515c2",
   "metadata": {},
   "source": [
    "Kdykoliv v programu zavoláme generátorovou funkci, funkce vrátí nový generátor - tj. iterátor, který iteruje přes hodnoty generované pomocí `yield`."
   ]
  },
  {
   "cell_type": "code",
   "execution_count": null,
   "id": "6d158e91",
   "metadata": {},
   "outputs": [
    {
     "name": "stdout",
     "output_type": "stream",
     "text": [
      "<generator object generate_squares at 0x7fcec44bb5e0>\n"
     ]
    }
   ],
   "source": [
    "m = generate_squares(5)\n",
    "print(m)"
   ]
  },
  {
   "cell_type": "code",
   "execution_count": null,
   "id": "dbd73e6e",
   "metadata": {},
   "outputs": [
    {
     "name": "stdout",
     "output_type": "stream",
     "text": [
      "0 1 4 9 16 "
     ]
    }
   ],
   "source": [
    "for x in m:\n",
    "    print(x, end = \" \")"
   ]
  },
  {
   "cell_type": "markdown",
   "id": "497003d1",
   "metadata": {},
   "source": [
    "<div style=\"border-left: 5px solid orange; padding-left: 1em\">\n",
    "<p><strong>Podrobněji:</strong>\n",
    "Generátor si pamatuje aktuální pozici v rámci funkce. Při volání <code>next()</code> iterátor spustí generátorovou funkci od aktuální pozice. Provádění příkazů přeruší u příkazu <code>yield</code> a jako návratovou hodnotu funkce <code>next()</code> poskytne příslušnou hodnotu. Při dalším volání <code>next()</code> funkce pokračuje dál od daného místa. Například:\n",
    "</div>"
   ]
  },
  {
   "cell_type": "code",
   "execution_count": null,
   "id": "5e3ee559",
   "metadata": {},
   "outputs": [
    {
     "name": "stdout",
     "output_type": "stream",
     "text": [
      "<generator object generate_whatever at 0x7fcecda2f4c0>\n"
     ]
    }
   ],
   "source": [
    "def generate_whatever():\n",
    "    x = 1\n",
    "    yield x\n",
    "    x = 2\n",
    "    yield x\n",
    "    yield \"the end\"\n",
    "m = generate_whatever()\n",
    "print(m)"
   ]
  },
  {
   "cell_type": "code",
   "execution_count": null,
   "id": "f8032843",
   "metadata": {},
   "outputs": [
    {
     "name": "stdout",
     "output_type": "stream",
     "text": [
      "1\n"
     ]
    }
   ],
   "source": [
    "# opět si zkuste pustit tuto buňku opakovaně:\n",
    "print(next(m))"
   ]
  },
  {
   "cell_type": "code",
   "execution_count": null,
   "id": "1d64c726",
   "metadata": {},
   "outputs": [
    {
     "name": "stdout",
     "output_type": "stream",
     "text": [
      "[1, 2, 'the end']\n"
     ]
    }
   ],
   "source": [
    "# generátor můžeme převést na iterovatelný objekt:\n",
    "s = list(generate_whatever())\n",
    "print(s)"
   ]
  },
  {
   "cell_type": "code",
   "execution_count": null,
   "id": "9ab992a7",
   "metadata": {},
   "outputs": [
    {
     "name": "stdout",
     "output_type": "stream",
     "text": [
      "0 1 2 3 4 5 6 7 8 9 10 11 12 13 14 15 16 17 18 19 20 "
     ]
    }
   ],
   "source": [
    "# další ukázka: generátor hodnot od 0 do n-1:\n",
    "def my_range(n):\n",
    "    i = 0\n",
    "    while i < n:\n",
    "        yield i\n",
    "        i = i + 1\n",
    "\n",
    "for x in my_range(21):\n",
    "    print(x, end = \" \")"
   ]
  },
  {
   "cell_type": "markdown",
   "id": "d444505e",
   "metadata": {},
   "source": [
    "<div style=\"border-left: 5px solid orange; padding-left: 1em\">\n",
    "<p><strong>Poznámka:</strong>\n",
    "Generátory šetří časové i paměťové nároky programu: nemusíme uchovávat všechna data v paměti najednou (např. v kontejneru), hodnoty jsou generované jedna po druhé až ve chvíli, kdy jsou potřeba.</div>"
   ]
  },
  {
   "cell_type": "markdown",
   "metadata": {},
   "source": [
    "### Příklady"
   ]
  },
  {
   "cell_type": "markdown",
   "metadata": {},
   "source": [
    "1a. __Generátor dělitelů.__\n",
    "    Napište generátorovou funkci, která vrátí generátor všech dělitelů zadaného přirozeného čísla n. Čísla budou generována v pořadí od nejmenšího po největší."
   ]
  },
  {
   "cell_type": "code",
   "execution_count": null,
   "metadata": {},
   "outputs": [],
   "source": [
    "def divisors_generator(n):\n",
    "   ...\n",
    "\n",
    "n = 24\n",
    "for divisor in divisors_generator(n):\n",
    "    print(divisor, end=' ')\n",
    "\n",
    "print(list(divisors_generator(504)))\n",
    "\n",
    "assert list(divisors_generator(504)) == [1, 2, 3, 4, 6, 7, 8, 9, 12, 14, 18, 21, 24, 28, 36, 42, 56, 63, 72, 84, 126, 168, 252, 504]\n"
   ]
  },
  {
   "cell_type": "markdown",
   "metadata": {},
   "source": [
    "2a. __Generátor posloupnosti__\n",
    "    Napište generátorovou funkci, která vrátí generátor prvků následující posloupnosti (pro dané n): 1 1 2 1 2 3 1 2 3 4 1 2 3 4 5 ... 1 2 ... n."
   ]
  },
  {
   "cell_type": "code",
   "execution_count": null,
   "metadata": {},
   "outputs": [],
   "source": [
    "def sequence_generator(n):\n",
    "    ...\n",
    "\n",
    "n = 5\n",
    "generator = sequence_generator(n)\n",
    "for num in generator:\n",
    "    print(num, end=' ')\n",
    "\n",
    "print(list(sequence_generator(8)))\n",
    "\n",
    "assert list(sequence_generator(8)) == [1, 1, 2, 1, 2, 3, 1, 2, 3, 4, 1, 2, 3, 4, 5, 1, 2, 3, 4, 5, 6, 1, 2, 3, 4, 5, 6, 7, 1, 2, 3, 4, 5, 6, 7, 8]"
   ]
  },
  {
   "cell_type": "markdown",
   "metadata": {},
   "source": [
    "4a. __Generátor délek slov__. Naprogramujte generátorovou funkci, která vrátí generátor délek všech slov v textu. Předpokládejme, že slova jsou oddělená pomocí obyčejných mezer (možná několika za sebou). Hodit se mohou i metody pro stringy (např. `split()`)."
   ]
  },
  {
   "cell_type": "code",
   "execution_count": null,
   "metadata": {},
   "outputs": [
    {
     "name": "stdout",
     "output_type": "stream",
     "text": [
      "4 2 7 5 1 8 5 10 8 "
     ]
    }
   ],
   "source": [
    "def word_lengths_generator(text):\n",
    "   ...\n",
    "\n",
    "text = \"Toto  je  příklad textu s několika slovy oddělenými mezerami\"\n",
    "\n",
    "for length in word_lengths_generator(text):\n",
    "    print(length, end=' ')\n",
    "\n",
    "assert (list(word_lengths_generator(text)) == [4, 2, 7, 5, 1, 8, 5, 10, 8])"
   ]
  },
  {
   "cell_type": "markdown",
   "id": "07308952",
   "metadata": {},
   "source": [
    "## Generátorové výrazy a generátorová notace modifikovatelných kontejnerů\n",
    "\n",
    "__Generátorové výrazy__ umožňují vytvářet jednoduché generátory elegantně bez nutnosti vytváření generátorových funkcí. __Generátorová notace__ (_comprehension_) u modifikovatelných (_mutable_) kontejnerů (_list_, _set_, _dict_) nám pak výrazně zjednodušuje vytváření a zpracování těchto objektů.\n",
    "\n",
    "Základní syntaxe je následující:\n",
    "```python:\n",
    "new_generator = (expression for member in iterable)\n",
    "new_list = [expression for member in iterable]\n",
    "new_set  = {expression for member in iterable}\n",
    "new_dict = {key:expression for member in iterable}\n",
    "```\n",
    "Výrazy se liší jen typem použitých závorek. Pokud použijeme kulaté závorky, bude výsledkem generátor, jinak příslušný kontejner. \n",
    "Použitou syntaxi si vysvětlíme na několika následujících příkladech:"
   ]
  },
  {
   "cell_type": "markdown",
   "id": "881af40a",
   "metadata": {},
   "source": [
    "Například pro seznam příkaz ```s = [expression for member in iterable]``` můžeme přepsat jako:\n",
    "```python:\n",
    "s = []\n",
    "for member in iterable:\n",
    "    s.append(expression)\n",
    "```\n",
    "Obdobně pro množinu ```s = {expression for member in iterable}```:\n",
    "```python:\n",
    "s = set()\n",
    "for member in iterable:\n",
    "    s.add(expression)\n",
    "```\n",
    "Pro slovník  ```d = {key:expression for member in iterable}```:\n",
    "```python:\n",
    "d = {}\n",
    "for member in iterable:\n",
    "    d[key] = expression\n",
    "```\n",
    "\n",
    "Ukážeme si to na konkrétních příkladech:"
   ]
  },
  {
   "cell_type": "code",
   "execution_count": 3,
   "id": "9cdce531",
   "metadata": {},
   "outputs": [
    {
     "name": "stdout",
     "output_type": "stream",
     "text": [
      "(1, 8, 3)\n",
      "[2, 16, 6]\n",
      "{16, 2, 6}\n",
      "{1: 2, 8: 16, 3: 6}\n"
     ]
    }
   ],
   "source": [
    "# generátorová notace seznamu, množiny a slovníku:\n",
    "my_tuple = (1,8,3)\n",
    "\n",
    "my_list = [x*2 for x in my_tuple]\n",
    "my_set  = {x*2 for x in my_tuple}\n",
    "my_dict = {x:x*2 for x in my_tuple}\n",
    "\n",
    "print(my_tuple)\n",
    "print(my_list)\n",
    "print(my_set)\n",
    "print(my_dict)"
   ]
  },
  {
   "cell_type": "code",
   "execution_count": 2,
   "id": "3ff9f71b",
   "metadata": {},
   "outputs": [
    {
     "name": "stdout",
     "output_type": "stream",
     "text": [
      "<generator object <genexpr> at 0x000001474E5FD8A0>\n",
      "2 16 6 2 16 6 "
     ]
    }
   ],
   "source": [
    "# generátorový výraz:\n",
    "my_generator = (x*2 for x in my_tuple)\n",
    "print(my_generator)\n",
    "\n",
    "for x in my_generator:\n",
    "    print(x, end = \" \")\n",
    "\n",
    "# generátorový výraz přímo ve for-cyklu:\n",
    "for x in (x*2 for x in my_tuple):\n",
    "    print(x, end = \" \") "
   ]
  },
  {
   "cell_type": "markdown",
   "id": "34e0e269",
   "metadata": {},
   "source": [
    "Výraz `my_generator = (x**2 for x in my_tuple)` je zkratkou následujícího kódu: "
   ]
  },
  {
   "cell_type": "code",
   "execution_count": null,
   "id": "e2c36887",
   "metadata": {},
   "outputs": [],
   "source": [
    "# generátorová funkce: \n",
    "def generate_squares(source):\n",
    "    for x in source:\n",
    "        yield x ** 2\n",
    "        \n",
    "my_generator = generate_squares(my_tuple)"
   ]
  },
  {
   "cell_type": "markdown",
   "id": "31c8b69d",
   "metadata": {},
   "source": [
    "Výraz `new_list = [expression for member in iterable]` můžeme ekvivalentně zapsat jako:\n",
    "`new_list = list(expression for member in iterable)`. Obdobně pro množinu. Pro slovník bude syntaxe lehce odlišná - argumentem funkce `dict` může být generátor dvojic `(klíč, hodnota)`:"
   ]
  },
  {
   "cell_type": "code",
   "execution_count": null,
   "id": "d4dea55e",
   "metadata": {},
   "outputs": [
    {
     "name": "stdout",
     "output_type": "stream",
     "text": [
      "(1, 8, 3)\n",
      "[2, 16, 6]\n",
      "{16, 2, 6}\n",
      "{1: 2, 8: 16, 3: 6}\n"
     ]
    }
   ],
   "source": [
    "my_tuple = (1,8,3)\n",
    "\n",
    "my_list = list(x*2 for x in my_tuple)\n",
    "my_set  = set(x*2 for x in my_tuple)\n",
    "my_dict = dict((x, x*2) for x in my_tuple)\n",
    "\n",
    "print(my_tuple)\n",
    "print(my_list)\n",
    "print(my_set)\n",
    "print(my_dict)"
   ]
  },
  {
   "cell_type": "markdown",
   "id": "2d428824",
   "metadata": {},
   "source": [
    "Generové výrazy můžeme rozšířit o podmínky a můžeme pomocí nich kombinovat hodnoty z více zdrojů:\n",
    "\n",
    "- Filtrování (obdoba funkce `filter`):\n",
    "```python:\n",
    "    (expression for member in iterable if condition)\n",
    "```\n",
    "- Kombinace hodnot z více zdrojů:\n",
    "```python:\n",
    "  (expression for member1 in iterable1 (if condition1)\n",
    "             for member2 in iterable2 (if condition2) \n",
    "             ...\n",
    "             for memberN in iterableN (if conditionN))\n",
    "```"
   ]
  },
  {
   "cell_type": "markdown",
   "id": "2e935153",
   "metadata": {},
   "source": [
    "Příkaz `s = [f(x) for x in iterable if condition]` je zkratkou za:\n",
    "```python:\n",
    "s = []\n",
    "for x in iterable:\n",
    "    if condition:\n",
    "        s.add(f(x))\n",
    "```   "
   ]
  },
  {
   "cell_type": "markdown",
   "id": "be0b40f6",
   "metadata": {},
   "source": [
    "Příkaz `s = [x+y for x in range(5) for y in range(x)]` je zkratkou za:\n",
    "```python:\n",
    "s = []\n",
    "for x in range(5):\n",
    "    for y in range(x):\n",
    "        s.append(x+y)\n",
    "```   "
   ]
  },
  {
   "cell_type": "markdown",
   "id": "f4a11ac8",
   "metadata": {},
   "source": [
    "Opět si to ukážeme na konkrétních příkladech:"
   ]
  },
  {
   "cell_type": "code",
   "execution_count": null,
   "id": "2115b70f",
   "metadata": {},
   "outputs": [
    {
     "name": "stdout",
     "output_type": "stream",
     "text": [
      "[1, 2, 3, 4, 5, 6, 7, 8, 9, 10]\n",
      "\n",
      "[2, 4, 8, 16, 32, 64, 128, 256, 512, 1024]\n",
      "\n",
      "{2, 4, 6, 8, 10}\n",
      "\n",
      "[(1, False, 'A'), (1, False, 'B'), (1, True, 'A'), (1, True, 'B'), (2, False, 'A'), (2, False, 'B'), (2, True, 'A'), (2, True, 'B'), (3, False, 'A'), (3, False, 'B'), (3, True, 'A'), (3, True, 'B')]\n",
      "\n",
      "[(1, False, 'A'), (2, True, 'B')]\n",
      "\n",
      "{('a', 1): 'černý král', ('a', 2): '', ('a', 3): '', ('a', 4): '', ('a', 5): '', ('a', 6): '', ('a', 7): '', ('b', 1): '', ('b', 2): '', ('b', 3): '', ('b', 4): '', ('b', 5): '', ('b', 6): '', ('b', 7): '', ('c', 1): '', ('c', 2): '', ('c', 3): '', ('c', 4): 'bílý pěšec', ('c', 5): '', ('c', 6): '', ('c', 7): '', ('d', 1): '', ('d', 2): '', ('d', 3): '', ('d', 4): '', ('d', 5): '', ('d', 6): '', ('d', 7): '', ('e', 1): '', ('e', 2): '', ('e', 3): '', ('e', 4): '', ('e', 5): '', ('e', 6): '', ('e', 7): '', ('f', 1): '', ('f', 2): '', ('f', 3): '', ('f', 4): '', ('f', 5): '', ('f', 6): '', ('f', 7): '', ('g', 1): '', ('g', 2): '', ('g', 3): '', ('g', 4): '', ('g', 5): '', ('g', 6): '', ('g', 7): '', ('h', 1): '', ('h', 2): '', ('h', 3): '', ('h', 4): '', ('h', 5): '', ('h', 6): '', ('h', 7): ''}\n"
     ]
    }
   ],
   "source": [
    "# generátorová notace seznamu (list comprehension):\n",
    "s = [x for x in range(1, 11)]\n",
    "print(s, end =\"\\n\\n\")\n",
    "t = [2 ** x for x in range(1, 11)]\n",
    "print(t, end =\"\\n\\n\")\n",
    "\n",
    "# generátorová notace množiny (set comprehension) s podmínkou:\n",
    "m = {x for x in s if x % 2== 0}\n",
    "print(m, end =\"\\n\\n\")\n",
    "\n",
    "# generátorová notace seznamu s více zdroji:\n",
    "trojice =[(i,j,k) for i in [1,2,3] for j in {True, False} for k in \"AB\"]\n",
    "print(trojice, end =\"\\n\\n\")\n",
    "\n",
    "# generátorová notace seznamu s využitím funkce zip:\n",
    "trojice =[(i,j,k) for (i,j,k) in zip([1,2,3], {True, False},\"AB\")]\n",
    "print(trojice, end =\"\\n\\n\")\n",
    "\n",
    "# generátorová notace slovníku:\n",
    "šachovnice ={(i,j) : \"\" for i in \"abcdefgh\" for j in range(1,8)}\n",
    "šachovnice[\"c\",4] = \"bílý pěšec\"\n",
    "šachovnice[\"a\",1] = \"černý král\"\n",
    "print(šachovnice)\n"
   ]
  },
  {
   "cell_type": "markdown",
   "id": "4397c10d",
   "metadata": {},
   "source": [
    "## Příklady\n",
    "\n",
    "Předně můžete zkusit naprogramovat příklady z minulého cvičení tak, aby místo funkcí `map` a `filter` používaly generátory."
   ]
  },
  {
   "cell_type": "markdown",
   "id": "3fd9c5f0",
   "metadata": {},
   "source": [
    "1b. __Seznam dělitelů.__\n",
    "    Napište funkci, která vrátí seznam všech dělitelů zadaného přirozeného čísla seřazený od nejmenšího po největší. Úlohu řeště tentokrát pomocí generátorové notace seznamu (_list comprehension_). Příklad navazuje na příklad __1a__ výše."
   ]
  },
  {
   "cell_type": "code",
   "execution_count": null,
   "id": "7e7c19c7",
   "metadata": {},
   "outputs": [
    {
     "name": "stdout",
     "output_type": "stream",
     "text": [
      "Ellipsis "
     ]
    }
   ],
   "source": [
    "def divisors_list(n):\n",
    "     return  [ ... ]\n",
    "\n",
    "n = 24\n",
    "for divisor in divisors_list(n):\n",
    "    print(divisor, end=' ')\n",
    "assert divisors_list(504) == [1, 2, 3, 4, 6, 7, 8, 9, 12, 14, 18, 21, 24, 28, 36, 42, 56, 63, 72, 84, 126, 168, 252, 504]"
   ]
  },
  {
   "cell_type": "markdown",
   "id": "e2d5f8db",
   "metadata": {},
   "source": [
    "1c. __Generátor dělitelů podruhé.__\n",
    "    Šla by předchozí funkce jednoduše upravit tak, aby místo seznamu dělitelů vracela generátor dělitelů?  "
   ]
  },
  {
   "cell_type": "code",
   "execution_count": null,
   "id": "dbf735b8",
   "metadata": {},
   "outputs": [],
   "source": [
    "def divisors_generator(n):\n",
    "     return  ( ... )\n",
    "\n",
    "n = 24\n",
    "for divisor in divisors_generator(n):\n",
    "    print(divisor, end=' ')\n",
    "assert list(divisors_generator(504)) == [1, 2, 3, 4, 6, 7, 8, 9, 12, 14, 18, 21, 24, 28, 36, 42, 56, 63, 72, 84, 126, 168, 252, 504]"
   ]
  },
  {
   "cell_type": "markdown",
   "id": "d2fb0f30",
   "metadata": {},
   "source": [
    "2b. __Generátor posloupnosti podruhé__ Napište funkci, která vrátí generátor prvků následující posloupnosti (pro dané n): 1 1 2 1 2 3 1 2 3 4 1 2 3 4 5 ... 1 2 ... n. \n",
    "     Tentokrát úlohu řešte pomocí generátorového výrazu. Funkce bude vracet generátor. Příklad navazuje na příklad __2a__ výše."
   ]
  },
  {
   "cell_type": "code",
   "execution_count": null,
   "id": "69c2611c",
   "metadata": {},
   "outputs": [],
   "source": [
    "def sequence(n):\n",
    "  return ...\n",
    "    \n",
    "n = 8\n",
    "\n",
    "nums = sequence(n)\n",
    "for num in nums:\n",
    "    print(num, end=' ')\n",
    "print(list(sequence(n)))\n",
    "\n",
    "nums = sequence(n)\n",
    "assert list(nums) == [1, 1, 2, 1, 2, 3, 1, 2, 3, 4, 1, 2, 3, 4, 5, 1, 2, 3, 4, 5, 6, 1, 2, 3, 4, 5, 6, 7, 1, 2, 3, 4, 5, 6, 7, 8]\n"
   ]
  },
  {
   "cell_type": "markdown",
   "id": "c4512908",
   "metadata": {},
   "source": [
    "3. __Prohoď klíče a hodnoty__. Naprogramujte funkci, která na základě slovníku vytvoří nový slovník, kde budou prohozené klíče a hodnoty. Úlohu řešte pomocí generátorové generátorové notace slovníku."
   ]
  },
  {
   "cell_type": "code",
   "execution_count": null,
   "id": "c6cf77b7",
   "metadata": {},
   "outputs": [
    {
     "name": "stdout",
     "output_type": "stream",
     "text": [
      "{1: 'a', 2: 'b', 3: 'c'}\n",
      "{1: 'a', 2: 'b', 3: 'c'}\n"
     ]
    }
   ],
   "source": [
    "def swap_keys_and_values(input_dict):\n",
    "    return ...\n",
    "\n",
    "original_dict = {'a': 1, 'b': 2, 'c': 3}\n",
    "swapped_dict = swap_keys_and_values(original_dict)\n",
    "print(swapped_dict)\n",
    "assert swapped_dict == {1: 'a', 2: 'b', 3: 'c'}"
   ]
  },
  {
   "cell_type": "markdown",
   "id": "43f0603f",
   "metadata": {},
   "source": [
    "4b. __Délka slov__. Naprogramujte funkci, která zjistí délku každého slova v textu. Předpokládejme, že slova jsou oddělená pomocí obyčejných mezer (možná několika za sebou). Úlohu řešte tentokrát pomocí generátorového výrazu nebo generátorové notace seznamu. Funkce bude vracet generátor nebo seznam. Hodit se mohou i metody pro stringy (např. `split()`). "
   ]
  },
  {
   "cell_type": "code",
   "execution_count": null,
   "id": "83041087",
   "metadata": {},
   "outputs": [
    {
     "name": "stdout",
     "output_type": "stream",
     "text": [
      "4 2 7 5 1 8 5 10 8 "
     ]
    }
   ],
   "source": [
    "def word_lengths(text):\n",
    "   ...\n",
    "\n",
    "text = \"Toto  je  příklad textu s několika slovy oddělenými mezerami\"\n",
    "\n",
    "for length in word_lengths(text):\n",
    "    print(length, end=' ')\n",
    "print(list(word_lengths(text)))\n",
    "\n",
    "assert (list(word_lengths(text)) == [4, 2, 7, 5, 1, 8, 5, 10, 8])"
   ]
  },
  {
   "cell_type": "markdown",
   "id": "bab1d1eb",
   "metadata": {},
   "source": [
    "4c. __Jen krátká slova.__ Naprogramujte funkci, která z textu odstraní všechna moc dlouhá slova, tj. slova, která jsou delší než `n` písmen. \n",
    "Předpokládejme, že slova jsou oddělená pomocí obyčejných mezer. Úlohu řešte  s využitím generátorové notace. Hodit se mohou i metody pro stringy (např. `join()` a `split()`). \n"
   ]
  },
  {
   "cell_type": "code",
   "execution_count": null,
   "id": "fd889746",
   "metadata": {},
   "outputs": [
    {
     "name": "stdout",
     "output_type": "stream",
     "text": [
      "None\n"
     ]
    }
   ],
   "source": [
    "def remove_long_words(text, n):\n",
    "    ...\n",
    "\n",
    "text = \"Toto je příklad textu s několika slovy oddělenými mezerami\"\n",
    "\n",
    "new_text = remove_long_words(text,12)\n",
    "print(new_text)\n",
    "assert remove_long_words(text,6) == \"Toto je textu s slovy\""
   ]
  },
  {
   "cell_type": "markdown",
   "id": "a3e60850",
   "metadata": {},
   "source": [
    "4d. __Zkrať moc dlouhá slova.__ Naprogramujte funkci, která z textu zkrátí na `n` písmen všechna moc dlouhá slova, tj. slova, která jsou delší než `n` písmen. \n",
    "Předpokládejme, že slova jsou oddělená pomocí obyčejných mezer. Úlohu řešte  s využitím generátorové notace. Hodit se mohou i metody pro stringy (např. `join()` a `split()`). \n"
   ]
  },
  {
   "cell_type": "code",
   "execution_count": null,
   "id": "69d2a16e",
   "metadata": {},
   "outputs": [
    {
     "name": "stdout",
     "output_type": "stream",
     "text": [
      "None\n"
     ]
    }
   ],
   "source": [
    "def shorten_long_words(text, n):\n",
    "    ...\n",
    "\n",
    "text = \"Toto je příklad textu s několika slovy oddělenými mezerami\"\n",
    "\n",
    "new_text = shorten_long_words(text,8)\n",
    "print(new_text)\n",
    "assert shorten_long_words(text,6) == \"Toto je příkla textu s několi slovy odděle mezera\""
   ]
  },
  {
   "cell_type": "markdown",
   "id": "8cdd638a",
   "metadata": {},
   "source": [
    "5. __Bláznivé křížení zvířat podruhé__. Máme dva seznamy `s`, `t` s názvy zvířat. Napište funkci `merge_animals(s, t)`, která vytvoří nový seznam, který bude obsahovat \"zkřížené\" názvy zvířat tak, že z prvního názvu vezmeme vždy první polovinu a z druhého druhou polovinu. Např. 'hroch' a 'tigr' -> 'hrogr'. Úlohu řešte tentokrát pomocí generátorové notace. Hodit se může i funkce `zip()`."
   ]
  },
  {
   "cell_type": "code",
   "execution_count": null,
   "id": "d6f33d0a",
   "metadata": {},
   "outputs": [],
   "source": [
    "def merge_animals(s, t):\n",
    "    ...\n",
    "\n",
    "print(merge_animals([\"hroch\",\"potkan\"],[\"žirafa\",\"orangutan\",\"lev\"]))\n",
    "assert merge_animals([\"hroch\",\"potkan\"],[\"žirafa\",\"orangutan\",\"lev\"]) == ['hrafa', 'potgutan']"
   ]
  },
  {
   "cell_type": "markdown",
   "id": "f4154fef",
   "metadata": {},
   "source": [
    "6. __Frekvenční analýza písmen.__ Napište funkci `freq_analysis(text)`, která spočítá výskyt jednotlivých písmen (znaků) ve vstupním textu a vrátí výsledek jako slovník s prvky `písmeno: počet výskytů`. Malá a velká písmena nebudeme rozlišovat. Úlohu řešte tentokrát pomocí generátorové notace slovníku. Hodit se mohou i různé metody pro stringy (např. `count()`, `lower()`, `upper()` nebo `isalpha()`). Písmena a počty jejich výskytů vypište setříděné sestupně podle počtu výskytů."
   ]
  },
  {
   "cell_type": "code",
   "execution_count": null,
   "id": "d2bd747f",
   "metadata": {},
   "outputs": [
    {
     "name": "stdout",
     "output_type": "stream",
     "text": [
      "None\n"
     ]
    }
   ],
   "source": [
    "def freq_analysis(text):\n",
    "    ...\n",
    "\n",
    "d = freq_analysis(\"All the world is a stage and all the men and women merely players.\")\n",
    "\n",
    "print(d)\n",
    "print(sorted(d.items()))\n",
    "\n",
    "# vypište setříděné sestupně podle počtu výskytů:\n",
    "..."
   ]
  },
  {
   "cell_type": "markdown",
   "id": "bffd1d11",
   "metadata": {},
   "source": [
    "7. __Frekvenční analýza slov.__ Napište funkci `freq_analysis_words(text)`, která spočítá výskytů jednotlivých slov ve vstupním textu a vrátí výsledek jako slovník s prvky `slovo: počet výskytů`. Malá a velká písmena nebudeme rozlišovat.  Úlohu řešte tentokrát pomocí generátorové notace slovníku. Hodit se mohou i různé metody pro stringy (např. `count()`, `lower()`,  `upper()` nebo `split()`). Slova a počty výskytů vypište setříděné vzestupně podle abecedy."
   ]
  },
  {
   "cell_type": "code",
   "execution_count": null,
   "id": "2ebf4a9a",
   "metadata": {},
   "outputs": [],
   "source": [
    "def freq_analysis(text):\n",
    "    ...\n",
    "\n",
    "d = freq_analysis(\"This is a test. This is only a test, not a real situation.\")\n",
    "\n",
    "print(d)\n",
    "\n",
    "# vypište setříděné vzestupně podle abecedy:\n",
    "..."
   ]
  },
  {
   "cell_type": "markdown",
   "id": "56bdfff4",
   "metadata": {},
   "source": [
    "8. __indexy__ Napište funkci, která vrátí seznam všech indexů, kde se v řetězci `string` vyskytuje znak `char`. \n",
    "Úlohu řešte tentokrát pomocí generátorové notace seznamu nebo generátorové funkce. Hodit se může i funkce `enumerate()`."
   ]
  },
  {
   "cell_type": "code",
   "execution_count": null,
   "id": "2a1402a0",
   "metadata": {},
   "outputs": [],
   "source": [
    "# generátorová notace:\n",
    "def find_letter_indexes(string, letter):\n",
    "    ...\n",
    "\n",
    "print(find_letter_indexes(\"hello world\", \"l\"))\n",
    "assert find_letter_indexes(\"hello world\", \"l\") == [2, 3, 9]"
   ]
  },
  {
   "cell_type": "code",
   "execution_count": null,
   "id": "ed2703d9",
   "metadata": {},
   "outputs": [],
   "source": [
    "# generátorová funkce:\n",
    "def generate_letter_indexes(string, letter):\n",
    "    ...\n",
    "\n",
    "print(list(generate_letter_indexes(\"hello world\", \"l\")))\n",
    "assert list(generate_letter_indexes(\"hello world\", \"l\")) == [2, 3, 9]"
   ]
  },
  {
   "cell_type": "markdown",
   "id": "ba5cd759",
   "metadata": {},
   "source": [
    "8b.  __indexy__ Napište funkci, která vrátí seznam všech indexů, na kterých v řetězci `string` začíná podstring `substring`. Úlohu řešte tentokrát pomocí generátorové notace seznamu nebo generátorové funkce. Hodit se může i funkce `enumerate()`."
   ]
  },
  {
   "cell_type": "code",
   "execution_count": null,
   "id": "a12f5256",
   "metadata": {},
   "outputs": [],
   "source": [
    "def find_substring_indexes(string, substring):\n",
    "   ...\n",
    "\n",
    "print(find_substring_indexes(\"ara aaraara arara\", \"ara\"))\n",
    "assert find_substring_indexes(\"ara aaraara arara\", \"ara\") == [0, 5, 8, 12, 14]"
   ]
  },
  {
   "cell_type": "code",
   "execution_count": null,
   "id": "3a8fa2b0",
   "metadata": {},
   "outputs": [],
   "source": [
    "# generátorová funkce:\n",
    "def generate_substring_indexes(string, substring):\n",
    "    ...\n",
    "\n",
    "print(list(generate_letter_indexes(\"ara aaraara arara\", \"ara\")))\n",
    "assert list(generate_letter_indexes(\"ara aaraara arara\", \"ara\")) == [0, 5, 8, 12, 14]"
   ]
  }
 ],
 "metadata": {
  "kernelspec": {
   "display_name": "Python 3 (ipykernel)",
   "language": "python",
   "name": "python3"
  },
  "language_info": {
   "codemirror_mode": {
    "name": "ipython",
    "version": 3
   },
   "file_extension": ".py",
   "mimetype": "text/x-python",
   "name": "python",
   "nbconvert_exporter": "python",
   "pygments_lexer": "ipython3",
   "version": "3.11.5"
  }
 },
 "nbformat": 4,
 "nbformat_minor": 5
}
