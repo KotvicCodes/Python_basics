{
 "cells": [
  {
   "cell_type": "markdown",
   "id": "01a01fd6-1ec2-4771-ab49-7d104cbd72d7",
   "metadata": {
    "scrolled": true
   },
   "source": [
    "# Práce se soubory 2\n",
    "## Minule jsme viděli"
   ]
  },
  {
   "cell_type": "markdown",
   "id": "7ca8a876-a2a7-4928-80bc-6585b330a999",
   "metadata": {
    "scrolled": true
   },
   "source": [
    "* Otevření souboru pomocí `open()`.\n",
    "* Čtení dat pomocí `read()`, `readlines()`.\n",
    "* Zápis do souboru pomocí `write()` nebo `print()`.\n",
    "* Uzavření souboru pomocí `close()`."
   ]
  },
  {
   "cell_type": "markdown",
   "id": "63a82e1d",
   "metadata": {},
   "source": [
    "## Práce s adresářovou a souborovou strukturou\n",
    "\n",
    "Práce s adresáři v Pythonu může být komplikovaná a bývá nutné použít více importovaných balíčků. Mimojiné z tohoto důvodu byl vytvořen balíček `pathlib`, který práci dost zjednodušuje a umožňuje lehce psát multiplatformní skripty pro různé operační systémy. Systémy Windows používají pro zápis cesty k souboru odlišnou syntaxi oproti systémům Linux a MacOS.\n",
    "\n",
    "Příklad cesty ve Windows: `C:\\Users\\billgates\\Documents\\chemtrails.txt`\n",
    "\n",
    "Příklad cesty v Linuxu: `/home/linustorvalds/linuxftw.txt`\n",
    "\n",
    "Příklad cesty v MacOS: `/Users/stevejobs/howtowearasweater.txt`\n",
    "\n",
    "Pro použítí `pathlib` je nutné tento modul importovat pomocí `import pathlib`. Případně si můžeme vybrat, které součásti modulu chceme použít. Například `from pathlib import Path` importuje pouze součást pro práci s cestami.\n",
    "\n",
    "Modul `pathlib` je objektově orientovaný, což přispívá k jednoduchému použití."
   ]
  },
  {
   "cell_type": "markdown",
   "id": "f3e823c8",
   "metadata": {},
   "source": [
    "## `Path` a dostupné metody\n",
    "\n",
    "`Path` má přímo dostupné základní metody pro zjištění aktuální pracovní složky a také domovského adresáře. Podle použitého operačního systému bude návratová hodnota buď objekt `WindowsPath` nebo `PosixPath`. Implementace uvnitř se liší, ale navenek (pro naše použití) jsou identické.\n",
    "\n",
    "* `Path.cwd()` vrátí objekt s aktuální pracovní složkou. \n",
    "* `Path.home()` vrátí objekt s cestou do domovské složky."
   ]
  },
  {
   "cell_type": "code",
   "execution_count": null,
   "id": "73058d7d",
   "metadata": {},
   "outputs": [],
   "source": [
    "from pathlib import Path\n",
    "path = Path.cwd()\n",
    "home = Path.home()\n",
    "print(\"CWD:\", path)\n",
    "print(\"HOME:\", home)\n",
    "\n",
    "print(type(path), type(home))"
   ]
  },
  {
   "cell_type": "markdown",
   "id": "0b54676a",
   "metadata": {},
   "source": [
    "Objekt `Path` lze vytvořit také z libovolné cesty uložené ve stringu. Zde je dobré použít raw string, ve kterém se neprovádí escapování, takže můžeme v klidu psát i zpětná lomítka jako normální znak.\n",
    "\n",
    "* `path = Path(r\"C:\\Windows\")` (Windows)\n",
    "* `path = Path(\"/users/hatsunemiku\")` (Linux/MacOs)\n",
    "\n",
    "`pathlib` také dovoluje spojování cest do jedné. K tomu může například posloužit operátor `/`, který známe jako dělení."
   ]
  },
  {
   "cell_type": "code",
   "execution_count": 8,
   "id": "ed65e352",
   "metadata": {},
   "outputs": [
    {
     "name": "stdout",
     "output_type": "stream",
     "text": [
      "/Users/prasatko/Download/rickroll.mp4\n"
     ]
    }
   ],
   "source": [
    "home = Path.home()\n",
    "download = Path(\"Download\")\n",
    "file = Path(\"rickroll.mp4\")\n",
    "\n",
    "full_path = home / download / file\n",
    "\n",
    "print(full_path)"
   ]
  },
  {
   "cell_type": "markdown",
   "id": "44b304b1",
   "metadata": {},
   "source": [
    "Pokud se vám tento zápis nelíbí, lze též použít metodu `joinpath()`, která bere jako parametry stringy nebo objekty `Path`."
   ]
  },
  {
   "cell_type": "code",
   "execution_count": 9,
   "id": "cb866517",
   "metadata": {},
   "outputs": [
    {
     "name": "stdout",
     "output_type": "stream",
     "text": [
      "/Users/prasatko/Download/rickroll.mp4\n"
     ]
    }
   ],
   "source": [
    "full_path2 = Path.home().joinpath(\"Download\", Path(\"rickroll.mp4\"))\n",
    "print(full_path2) "
   ]
  },
  {
   "cell_type": "markdown",
   "id": "2fbd3be8",
   "metadata": {},
   "source": [
    "## Součásti cesty\n",
    "\n",
    "Cestu ke složce nebo souboru lze v operačních systémech rozdělit na několik částí, např. přípona souboru, jméno souboru, cesta k němu, atd. `pathlib` získávání těchto částí zjednodušuje.\n",
    "\n",
    "* `.name`: Vrací jméno souboru bez cesty.\n",
    "* `.stem`: Vrací jméno souboru bez přípony.\n",
    "* `.suffix`: Vrací příponu\n",
    "* `.anchor`: Část cesty před složkami.\n",
    "* `.parent`: Vrací složku, ve které je soubor, nebo nadřazenou složku dané složce."
   ]
  },
  {
   "cell_type": "code",
   "execution_count": 13,
   "id": "41665edf",
   "metadata": {},
   "outputs": [
    {
     "name": "stdout",
     "output_type": "stream",
     "text": [
      "Celá cesta: /Users/prasatko/recept_na_rumove_pralinky.html\n",
      "Name: recept_na_rumove_pralinky.html\n",
      "Stem: recept_na_rumove_pralinky\n",
      "Suffix: .html\n",
      "Anchor: /\n",
      "Parent: /Users/prasatko\n"
     ]
    }
   ],
   "source": [
    "from pathlib import Path\n",
    "path = Path.home() / \"recept_na_rumove_pralinky.html\"\n",
    "print(\"Celá cesta:\", path)\n",
    "print(\"Name:\", path.name)\n",
    "print(\"Stem:\", path.stem)\n",
    "print(\"Suffix:\", path.suffix)\n",
    "print(\"Anchor:\", path.anchor)\n",
    "print(\"Parent:\", path.parent)"
   ]
  },
  {
   "cell_type": "markdown",
   "id": "e71cb436",
   "metadata": {},
   "source": [
    "## Přejmenování a kopírování souborů\n",
    "\n",
    "Pro nahrazení jména souboru nebo jeho přípony něčím novým lze využít následující metody objektu `Path`:\n",
    "\n",
    "* `.with_suffix(\"nová přípona\")` v cestě k souboru nahradí starou příponu za novou.\n",
    "* `.with_name(\"nové jméno souboru včetně přípony\")` v cestě k souboru nahradí celé jméno souboru za nové.\n",
    "* `.with_stem(\"nové jméno souboru\")` nahradí v cestě původní jméno za nové, příponu zanechá.\n",
    "\n",
    "Následně je třeba použít metodu `.replace()`, aby se změny provedly na disku. Více v následujícím příkladu."
   ]
  },
  {
   "cell_type": "code",
   "execution_count": 7,
   "id": "c5f2d188",
   "metadata": {},
   "outputs": [
    {
     "name": "stdout",
     "output_type": "stream",
     "text": [
      "Renamed data/rename.txt to data/rename.html\n",
      "Renamed data/rename.html to data/newname.html\n",
      "Renamed data/newname.html to data/readme.md\n"
     ]
    }
   ],
   "source": [
    "from pathlib import Path\n",
    "original_path = Path(\"data/rename.txt\")\n",
    "\n",
    "# změna přípony\n",
    "html_path = original_path.with_suffix(\".html\")\n",
    "original_path.replace(html_path)\n",
    "print(f\"Renamed {original_path} to {html_path}\")\n",
    "\n",
    "# změna jména\n",
    "new_stem_path = html_path.with_stem(\"newname\")\n",
    "html_path.replace(new_stem_path)\n",
    "print(f\"Renamed {html_path} to {new_stem_path}\")\n",
    "\n",
    "# změna celého jména včetně přípony\n",
    "new_name_path = new_stem_path.with_name(\"readme.md\")\n",
    "new_stem_path.replace(new_name_path)\n",
    "print(f\"Renamed {new_stem_path} to {new_name_path}\")\n"
   ]
  },
  {
   "cell_type": "markdown",
   "id": "5950d357",
   "metadata": {},
   "source": [
    "Při přejmenovávání souborů je případný existující soubor automaticky přepsán. Je třeba na to dávat pozor. Lze si ale pomoci detekcí, zda soubor s novým jménem existuje, pomocí metody `.exists()`, která vrací `True` nebo `False`."
   ]
  },
  {
   "cell_type": "code",
   "execution_count": 9,
   "id": "f9757a9c",
   "metadata": {},
   "outputs": [],
   "source": [
    "from pathlib import Path\n",
    "\n",
    "src = Path(\"data/readme.md\")\n",
    "dest = src.with_suffix(\".exe\")\n",
    "\n",
    "if not dest.exists():\n",
    "    src.replace(dest)"
   ]
  },
  {
   "cell_type": "markdown",
   "id": "dbf30997",
   "metadata": {},
   "source": [
    "Kopírování souborů je trošku komplikovanější, protože `pathlib` nemá přímou podporu. Ale lze to vyřešit pomocí metod `.read_bytes()` a `.write_bytes()`."
   ]
  },
  {
   "cell_type": "code",
   "execution_count": 10,
   "id": "25d7eedd",
   "metadata": {},
   "outputs": [
    {
     "data": {
      "text/plain": [
       "39"
      ]
     },
     "execution_count": 10,
     "metadata": {},
     "output_type": "execute_result"
    }
   ],
   "source": [
    "from pathlib import Path\n",
    "src = Path(\"data/readme.exe\")\n",
    "dest = src.with_name(\"dontreadme.md\")\n",
    "dest.write_bytes(src.read_bytes())"
   ]
  },
  {
   "cell_type": "markdown",
   "id": "567260b9",
   "metadata": {},
   "source": [
    "Soubory lze smazat pomocí metody `.unlink()`.\n",
    "Složky lze mazat pomocí metody `.rmdir()`."
   ]
  },
  {
   "cell_type": "code",
   "execution_count": 11,
   "id": "7c0c1835",
   "metadata": {},
   "outputs": [],
   "source": [
    "from pathlib import Path\n",
    "src = Path(\"data/dontreadme.md\")\n",
    "src.unlink()"
   ]
  },
  {
   "cell_type": "markdown",
   "id": "b2c704be",
   "metadata": {},
   "source": [
    "## Vytváření, čtení, zápis souborů a složek\n",
    "\n"
   ]
  },
  {
   "cell_type": "markdown",
   "id": "758b52c8",
   "metadata": {},
   "source": [
    "Modul `pathlib` dovoluje i zjednodušený zápis a čtení souborů. K tomu slouží metody třídy `Path`.\n",
    "\n",
    "* `.read_text()` otevře soubor v textovém režimu a načte obsah do stringu.\n",
    "* `.read_bytes()` otevře soubor v binárním režimu a načte jeho obsah jako byty.\n",
    "* `.write_text()` otevře soubor v textovém režimu a zapíše do něj text.\n",
    "* `.write_bytes()` otevře soubor v binárním režimu a zapíše binární data.\n",
    "* `.touch()` vytvoří prázdný soubor. Pokud existuje, změní čas modifikace na aktuální čas.\n",
    "* `.mkdir()` vytvoří novou složku. Nelze vytvořit více zanořených podsložek najednou. \n",
    "\n",
    "Tyto metody rovnou soubor otevírají a zavírají. Není třeba se o to starat."
   ]
  },
  {
   "cell_type": "code",
   "execution_count": 1,
   "id": "abddf839",
   "metadata": {},
   "outputs": [
    {
     "name": "stdout",
     "output_type": "stream",
     "text": [
      "Okolo lesa pole lán,\n",
      "hoj jede, jede z lesa pán,\n",
      "na vraném bujném jede koni,\n",
      "vesele podkovičky zvoní,\n",
      "jede sám a sám.\n",
      "\n",
      "A před chalupou s koně hop\n",
      "a na chalupu: klop, klop, klop!\n",
      "„Hola hej! otevřte mi dvéře,\n",
      "zbloudil jsem při lovení zvěře,\n",
      "dejte vody pít!“\n"
     ]
    }
   ],
   "source": [
    "from pathlib import Path\n",
    "textfile = Path(\"data/text.txt\")\n",
    "file_contents = textfile.read_text()\n",
    "print(file_contents)"
   ]
  },
  {
   "cell_type": "code",
   "execution_count": 2,
   "id": "6445421d",
   "metadata": {},
   "outputs": [
    {
     "data": {
      "text/plain": [
       "33"
      ]
     },
     "execution_count": 2,
     "metadata": {},
     "output_type": "execute_result"
    }
   ],
   "source": [
    "from pathlib import Path\n",
    "data = [\"Snorlax\", \"Bulbasaur\", \"Mewtwo\", \"Smoochum\"]\n",
    "new_text_file = Path(\"data/pokemon.txt\")\n",
    "new_text_file.write_text(\"\\n\".join(data))"
   ]
  },
  {
   "cell_type": "code",
   "execution_count": 11,
   "id": "0f6a18be",
   "metadata": {},
   "outputs": [],
   "source": [
    "from pathlib import Path\n",
    "path = Path(\"data/touch.html\")\n",
    "path.touch()"
   ]
  },
  {
   "cell_type": "code",
   "execution_count": 15,
   "id": "10f63246",
   "metadata": {},
   "outputs": [],
   "source": [
    "from pathlib import Path\n",
    "path = Path(\"data/subfolder\")\n",
    "path.mkdir()\n",
    "path = path / \"subsubfolder\"\n",
    "path.mkdir()"
   ]
  },
  {
   "cell_type": "markdown",
   "id": "4ef7e959",
   "metadata": {},
   "source": [
    "## Obsah složky (adresáře)\n",
    "\n",
    "Pro získání obsahu složky lze použít metodu `.glob()`, která podle zadaného filtru vrátí odpovídající položky. Případně lze procházet složku pomocí metody `.iterdir()`.\n",
    "\n",
    "`Path` též dovoluje zjišťovat, o jaký typ cesty se jedná. Zda je to soubor, složka, symbolický link nebo další.\n",
    "\n",
    "* `.is_dir()` vrátí `True`, pokud se jedná o složku (adresář).\n",
    "* `.is_file()` vrátí `True`, pokud se jedná o soubor.\n",
    "* `.is_symlink()` vrátí `True`, pokud se jedná o symbolický link."
   ]
  },
  {
   "cell_type": "code",
   "execution_count": 10,
   "id": "7afd7b23",
   "metadata": {},
   "outputs": [
    {
     "name": "stdout",
     "output_type": "stream",
     "text": [
      "/Users/prasatko/Documents/CVUT/VYUKA/ZPRO/Files/12 soubory a adresáře_2.ipynb\n",
      "Folder: False File: True\n",
      "/Users/prasatko/Documents/CVUT/VYUKA/ZPRO/Files/data\n",
      "Folder: True File: False\n",
      "/Users/prasatko/Documents/CVUT/VYUKA/ZPRO/Files/12 soubory a adresáře_1.ipynb\n",
      "Folder: False File: True\n"
     ]
    }
   ],
   "source": [
    "from pathlib import Path\n",
    "path = Path().cwd()\n",
    "for file in path.iterdir():\n",
    "    print(f\"{file}\\nFolder: {file.is_dir()} File: {file.is_file()}\")"
   ]
  },
  {
   "cell_type": "code",
   "execution_count": 6,
   "id": "4d58633d",
   "metadata": {},
   "outputs": [
    {
     "name": "stdout",
     "output_type": "stream",
     "text": [
      "data/pokemon.txt\n",
      "data/cisla.txt\n",
      "data/rename.txt\n",
      "data/inventory.txt\n",
      "data/sinus.txt\n",
      "data/text.txt\n",
      "data/data.txt\n"
     ]
    }
   ],
   "source": [
    "from pathlib import Path\n",
    "path_list = Path(\"data\").glob(\"*.txt\")\n",
    "for file in path_list:\n",
    "    print(file)"
   ]
  },
  {
   "cell_type": "markdown",
   "id": "23129897",
   "metadata": {},
   "source": [
    "## Příklady"
   ]
  },
  {
   "cell_type": "markdown",
   "id": "f1270130",
   "metadata": {},
   "source": [
    "1. Ve složce `data/testing-folder` vytvořte novou podsložku se jménem `text-files`. V této nové složce vytvořte 20 textových souborů se jménem `file##.txt`, kde `##` odpovídá číslům 0 až 19. Do souboru zapište nějaký neprázdný text."
   ]
  },
  {
   "cell_type": "code",
   "execution_count": null,
   "id": "1774c937",
   "metadata": {},
   "outputs": [],
   "source": []
  },
  {
   "cell_type": "markdown",
   "id": "809f5031",
   "metadata": {},
   "source": [
    "2. Soubory `.txt` vytvořené v minulém příkladě přejmenujte tak, aby měly příponu `.md`."
   ]
  },
  {
   "cell_type": "code",
   "execution_count": null,
   "id": "4c09ea88",
   "metadata": {},
   "outputs": [],
   "source": []
  },
  {
   "cell_type": "markdown",
   "id": "21c276a3",
   "metadata": {},
   "source": [
    "3. Smažte po sobě všechny soubory `.md` a také složku `text-files`."
   ]
  },
  {
   "cell_type": "code",
   "execution_count": null,
   "id": "94c8440d",
   "metadata": {},
   "outputs": [],
   "source": []
  },
  {
   "cell_type": "markdown",
   "id": "eb9c9191",
   "metadata": {},
   "source": [
    "4. Spočítejte kolik různých typů souborů existuje ve složce `data/example-files` a u každého typu též spočítejte, kolik takových souborů existuje. "
   ]
  },
  {
   "cell_type": "code",
   "execution_count": null,
   "id": "1fc57d77",
   "metadata": {},
   "outputs": [],
   "source": []
  },
  {
   "cell_type": "markdown",
   "id": "bd549cfc",
   "metadata": {},
   "source": [
    "5. Ukázkové soubory ze složky `data/example-files` roztřiďte podle roku a měsíce uvedeného ve jméně souboru (formát jména je `data-YYYY-MM-DD.EXT`) do složek s číslem roku a měsíce. Roztříděné soubory nakopírujte do složky `data/testing-folder`.\n",
    "\n",
    "Příklad: Soubor `data-2002-01-01.md` nakopírujeme do složky `data/testing-folder/2002/01`."
   ]
  },
  {
   "cell_type": "code",
   "execution_count": null,
   "id": "d07861c0",
   "metadata": {},
   "outputs": [],
   "source": []
  },
  {
   "cell_type": "markdown",
   "id": "2aa7d547",
   "metadata": {},
   "source": [
    "6. Vypište celou strukturu složky `data/testing-folder` z minulého příkladu včetně souborů v následujícím formátu (včetně odsazení):\n",
    "```\n",
    "2000\n",
    " 01\n",
    "  data-2000-01-01.html\n",
    "  ...\n",
    " 02\n",
    "  data-2000-02-01.txt\n",
    "  ...\n",
    "2001\n",
    " 01\n",
    "   data ...\n",
    "```"
   ]
  },
  {
   "cell_type": "code",
   "execution_count": null,
   "id": "84523768",
   "metadata": {},
   "outputs": [],
   "source": []
  }
 ],
 "metadata": {
  "kernelspec": {
   "display_name": "Python 3",
   "language": "python",
   "name": "python3"
  },
  "language_info": {
   "codemirror_mode": {
    "name": "ipython",
    "version": 3
   },
   "file_extension": ".py",
   "mimetype": "text/x-python",
   "name": "python",
   "nbconvert_exporter": "python",
   "pygments_lexer": "ipython3",
   "version": "3.12.7"
  }
 },
 "nbformat": 4,
 "nbformat_minor": 5
}
