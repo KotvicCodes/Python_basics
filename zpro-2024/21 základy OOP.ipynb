{
 "cells": [
  {
   "cell_type": "markdown",
   "id": "55391ab2",
   "metadata": {},
   "source": [
    "# V minulém díle jste viděli...\n",
    "\n",
    "## Modul `pathlib` a třída `Path`\n",
    "Pro zjednodušení práce s aresáři a se soubory vznikla knihovna `pathlib`. Seznámili jsme se s třídou `Path` a jejími metodami a vlastnostmi:\n",
    "- `cwd()` - zjištění aktuálního adresáře\n",
    "- `home()` - zjištění domovského adresáře\n",
    "- `joinpath()` - spojování cest\n",
    "- aritmetika cest - využití operátoru `/` pro spojování cest\n",
    "```python\n",
    "home = Path.home()\n",
    "download = Path(\"Download\")\n",
    "file = Path(\"rickroll.mp4\")\n",
    "\n",
    "full_path = home / download / file\n",
    "```\n",
    "- zjišťování informací o cestě a souborech\n",
    "  - `.name`: Vrací jméno souboru bez cesty.\n",
    "  - `.stem`: Vrací jméno souboru bez přípony.\n",
    "  - `.suffix`: Vrací příponu\n",
    "  - `.anchor`: Část cesty před složkami.\n",
    "  - `.parent`: Vrací složku, ve které je soubor, nebo nadřazenou složku dané složce.\n",
    "  - `.exists()`: Říká, jestli složka/soubor existují\n",
    "  - `.is_dir()` vrátí `True`, pokud se jedná o složku (adresář).\n",
    "  - `.is_file()` vrátí `True`, pokud se jedná o soubor.\n",
    "  - `.is_symlink()` vrátí `True`, pokud se jedná o symbolický link.\n",
    "- zápis a čtení souboru\n",
    "  - `.read_text()` otevře soubor v textovém režimu a načte obsah do stringu.\n",
    "  - `.read_bytes()` otevře soubor v binárním režimu a načte jeho obsah jako byty.\n",
    "  - `.write_text()` otevře soubor v textovém režimu a zapíše do něj text.\n",
    "  - `.write_bytes()` otevře soubor v binárním režimu a zapíše binární data.\n",
    "  - `.touch()` vytvoří prázdný soubor. Pokud existuje, změní čas modifikace na aktuální čas.\n",
    "  - `.mkdir()` vytvoří novou složku. Nelze vytvořit více zanořených podsložek najednou. \n",
    "\n"
   ]
  },
  {
   "cell_type": "markdown",
   "id": "97d1fd2d-fd49-475b-a1b0-a6acba53edeb",
   "metadata": {},
   "source": [
    "# Objektově Orientované Programování (OOP)\n",
    "\n",
    "Objektově orientované programování (Object-Oriented Programming – OOP) představuje moderní a efektivní přístup (paradigma) k vývoji softwaru, které klade důraz na modularitu a znovupoužitelnost. V OOP je program strukturován kolem objektů, které mohou obsahovat data ve formě proměnných a provádět akce pomocí funkcí. Těmto proměnným v kontextu OOP říkáme **atributy** a funkcím **metody**. Tento přístup tedy svazuje data a funkce, které s nimi pracují do jednoho celku. Jinými slovy je objekt entita, která má nějaký stav a chování. Z těchto objektů se následně staví celý program, přičemž jednotlivé moduly na sobě mohou být nezávislé, a na to konto snadno použitelné i v jiných projektech.\n",
    "\n",
    "Příkladem objektu může být třeba `list` (seznam): atributy jsou například jeho rozměry a prvky, metody třeba `list.append(x)` nebo `list.remove(x)`.  Zjednodušeně řečeno je OOP přístup modelování konkrétních, reálných objektů a jejich vzájemných vztahů. \n",
    "\n",
    "O Pythonu hovoříme jako o objektově orientovaném jazyku. To znamená, že skoro vše v Pythonu je objekt s nějakými atributy a metodami. \n",
    "\n",
    "Základním stavebním kamenem OOP je **třída** (class), která definuje atributy a metody nějakého objektu. S tímto pojmem jsme se již setkali (například při výpisu `type(list)`, ale ještě jsme se u něj nezastavili. Podívejme se nyní, jak třídu definovat:"
   ]
  },
  {
   "cell_type": "code",
   "execution_count": 33,
   "id": "6b97ba6b-1fc5-43b8-8292-3fc776b03f9e",
   "metadata": {},
   "outputs": [],
   "source": [
    "class MyClass:\n",
    "    some_attr = 5  # class attribute"
   ]
  },
  {
   "cell_type": "markdown",
   "id": "eb5da29a-48a8-447f-ab9b-e6c9691ca90e",
   "metadata": {},
   "source": [
    "Předchozí kód definuje třídu s názvem `MyClass` a jediným atributem `some_attr`, bez metod. Tento kód nevytváří žádný objekt, podobně jako v případě definice funkce. Abychom vytvořili objekt, je třeba vytvořit tzv. **instanci** třídy:"
   ]
  },
  {
   "cell_type": "code",
   "execution_count": 7,
   "id": "ca817340-04eb-4f28-917f-e23449abe39e",
   "metadata": {},
   "outputs": [],
   "source": [
    "class_instance = MyClass()"
   ]
  },
  {
   "cell_type": "markdown",
   "id": "f3efb582-99f6-4d88-a4b3-26c49a0ce97e",
   "metadata": {},
   "source": [
    "Všimněte si závorek při vytváření instance – tu totiž vytvoříme *zavoláním* třídy `MyClass` (opět je nasnadě podobnost s voláním funkcí). K atributům a metodám třídy přistupujeme pomocí tečkové notace (pro čtení i zápis):"
   ]
  },
  {
   "cell_type": "code",
   "execution_count": 8,
   "id": "7050a452-8401-4787-b512-ecc5b51bd2eb",
   "metadata": {},
   "outputs": [
    {
     "name": "stdout",
     "output_type": "stream",
     "text": [
      "5\n"
     ]
    }
   ],
   "source": [
    "print(class_instance.some_attr)"
   ]
  },
  {
   "cell_type": "markdown",
   "id": "c5fd0a95-b405-498f-9866-103c973900c5",
   "metadata": {},
   "source": [
    "> Poznámka: Narozdíl od pojmenovávání proměnných a funkcí, pro názvy tříd se vžilo použití CamelCase (velká počáteční písmena slov)."
   ]
  },
  {
   "cell_type": "markdown",
   "id": "9651dc4d-0595-43a4-9e9d-cc8354ea0905",
   "metadata": {},
   "source": [
    "Tento příklad představuje nejjednodušší možnou třídu, ale k reálnému použití se nehodí. Povšimněme si ještě, že atribut `some_attr` bude stejný pro všechny instance třídy. \n",
    "\n",
    "## Metoda `__init__`\n",
    "\n",
    "Abychom pochopili přidanou hodnotu tříd, je třeba porozumět vestavěné metodě `__init__()`. Tuto metodu má automaticky každá třída a volá se kdykoliv vzniká nová instance. Z tohoto důvodu o ní často mluvíme jako o tzv. **konstruktoru**. Pomocí konstruktoru můžeme nastavit atributy instance (tj. konkrétního objektu) nebo provést operace související s jejím vznikem. V závislosti na tom, jestli se jedná o atribut společný pro celou třídu, nebo jen instanci, hovoříme o **atributu třídy** (class attribute) a **atributu instance** (instance attribute). Nyní je nám jasnější, proč při vytváření instance voláme třídu se závorkami – voláme totiž vlastně její konstruktor.\n",
    "\n",
    "V následujícím příkladu vytvoříme třídu `Person` se dvěma atributy, konstruktorem a jednou další metodou. Všimněte si, že v definici metod uvádíme jako jeden z parametrů (konkrétně první) identifikátor `self`, který představuje odkaz na aktuální instanci třídy, pomocí něhož přistupujeme k jejím atributům a metodám. Ve volání metod tento argument vynecháváme, Python jej za nás doplní automaticky.\n",
    "\n",
    "Pokud chceme v rámci metody přistoupit k některým atributům třídy či instance, můžeme tak učinit pomocí parametru `self` a tečkové notace. Tím se odkazujeme na aktuální instanci.\n",
    "\n",
    "> Poznámka: Identifikátor `self` je podobný ukazateli `this` v jazycích C++ a Java."
   ]
  },
  {
   "cell_type": "code",
   "execution_count": 145,
   "id": "70ef9878-0dbc-4c4f-bb86-39d16dfb5827",
   "metadata": {},
   "outputs": [
    {
     "name": "stdout",
     "output_type": "stream",
     "text": [
      "A new instance created with the following attributes: \n",
      "name: John, year of birth: 1936\n"
     ]
    }
   ],
   "source": [
    "class Person:\n",
    "    '''A class representing a single person's record.'''\n",
    "    def __init__(self, name, year_of_birth):\n",
    "        '''Constructor that sets instance attributes.\n",
    "        Expects two arguments: name (str), age (int).'''\n",
    "        self.name = name\n",
    "        self.year_of_birth = year_of_birth\n",
    "        print(\"A new instance created with the following attributes: \")\n",
    "        print(f\"name: {self.name}, year of birth: {self.year_of_birth}\")\n",
    "\n",
    "    def compute_age(self):\n",
    "        '''Computes the age of person.'''\n",
    "        from datetime import datetime\n",
    "        current_year = datetime.now().year\n",
    "        return current_year - self.year_of_birth \n",
    "        \n",
    "# create an instance\n",
    "p1 = Person(\"John\", 1936)"
   ]
  },
  {
   "cell_type": "markdown",
   "id": "d4198713-42ac-4a56-aef8-e75b0362581c",
   "metadata": {},
   "source": [
    "## Metoda `__str__`\n",
    "\n",
    "Nyní se podívejme, co se stane, pokud se pokusíme vytisknout typ `p1` a také přímo `p1`:"
   ]
  },
  {
   "cell_type": "code",
   "execution_count": 146,
   "id": "4a12ae6a-735c-4d59-bc8e-d4364ed3ab68",
   "metadata": {},
   "outputs": [
    {
     "name": "stdout",
     "output_type": "stream",
     "text": [
      "<class '__main__.Person'>\n",
      "<__main__.Person object at 0x7f750861b880>\n"
     ]
    }
   ],
   "source": [
    "print(type(p1))\n",
    "print(p1)"
   ]
  },
  {
   "cell_type": "markdown",
   "id": "d67bf5f9-2caf-4d4c-a076-2b7c9c4bff2a",
   "metadata": {},
   "source": [
    "Z výpisu vidíme, že se typ je třída `Person` definovaná v hlavním modulu (`__main__` je vstupní bod Python Interpreteru). Druhý výpis nám toho příliš neprozradí - pouze že se jedná o instanci třídy (`Person object`) uloženou na konkrétní adrese v paměti. Nezřídka proto chceme definovat, jakým způsobem třídu vypsat. Příkladem může být výpis obyčejného seznamu:"
   ]
  },
  {
   "cell_type": "code",
   "execution_count": 22,
   "id": "75e1abfc-a6f3-449c-86e3-31ca3bd36a68",
   "metadata": {},
   "outputs": [
    {
     "name": "stdout",
     "output_type": "stream",
     "text": [
      "<class 'list'>\n",
      "[1, 2, 3]\n"
     ]
    }
   ],
   "source": [
    "a = [1, 2, 3]\n",
    "print(type(a))\n",
    "print(a)"
   ]
  },
  {
   "cell_type": "markdown",
   "id": "af532084-8fb3-4b81-808a-4b71ca657d5f",
   "metadata": {},
   "source": [
    "Vidíme, že i v tomto případě se jedná o třídu, konkrétně `list`. Ta již není definovaná v hlavním modulu.\n",
    "\n",
    "Výpis instance funguje tak, jak bychom očekávali – do konzole se vytiskne obsah seznamu. Toto chování je způsobeno implementovanou další vestavěnou metodou `__str__`, která definuje převod instance třídy na string. Tuto metodu funke `print` zavolá a její návratovou hodnotu vytiskne. \n",
    "\n",
    "Podívejme se nyní, jak bychom mohli předchozí příklad přepsat trochu elegantněji:"
   ]
  },
  {
   "cell_type": "code",
   "execution_count": 2,
   "id": "22e94f9f-4d7b-4e9c-863a-e84dd0d5dd3d",
   "metadata": {},
   "outputs": [
    {
     "name": "stdout",
     "output_type": "stream",
     "text": [
      "A new instance created with the following attributes: \n",
      "name: John, year of birth: 1936\n",
      "name: John, year of birth: 1937\n"
     ]
    }
   ],
   "source": [
    "class Person:\n",
    "    '''A class representing a single person's record.'''\n",
    "    def __init__(self, name, year_of_birth):\n",
    "        '''Constructor that sets instance attributes.\n",
    "        Expects two arguments: name (str), age (int).'''\n",
    "        self.name = name\n",
    "        self.year_of_birth = year_of_birth\n",
    "        print(\"A new instance created with the following attributes: \")\n",
    "        print(self)\n",
    "        \n",
    "    def __str__(self):\n",
    "        '''Prints formatted information about name and age attributes.'''\n",
    "        #print(\"Converting to string...\")  # uncomment to see when __str__ gets called\n",
    "        return f\"name: {self.name}, year of birth: {self.year_of_birth}\"\n",
    "\n",
    "    def compute_age(self):\n",
    "        '''Computes the age of person.'''\n",
    "        from datetime import datetime\n",
    "        current_year = datetime.now().year\n",
    "        return current_year - self.year_of_birth \n",
    "\n",
    "# create an instance\n",
    "p1 = Person(\"John\", 1936)\n",
    "# change the attribute 'year_of_birth'\n",
    "p1.year_of_birth = 1937\n",
    "# print the information\n",
    "print(p1)"
   ]
  },
  {
   "cell_type": "markdown",
   "id": "777808fc-df00-4b8f-b457-4f5869c5db21",
   "metadata": {},
   "source": [
    "> Poznámka: atributy třídy/instance můžeme stejně jako instance smazat pomocí klíčového slova `del`."
   ]
  },
  {
   "cell_type": "code",
   "execution_count": 155,
   "id": "a89bdc2b-0a00-43cf-a409-0566d487f94b",
   "metadata": {},
   "outputs": [
    {
     "name": "stdout",
     "output_type": "stream",
     "text": [
      "A new instance created with the following attributes: \n",
      "name: Jack, year of birth: 1999\n"
     ]
    }
   ],
   "source": [
    "# create an instance\n",
    "p2 = Person(\"Jack\", 1999)"
   ]
  },
  {
   "cell_type": "code",
   "execution_count": 156,
   "id": "e43da946-7306-4803-af20-13517e603ed8",
   "metadata": {},
   "outputs": [
    {
     "name": "stdout",
     "output_type": "stream",
     "text": [
      "Error: 'Person' object has no attribute 'year_of_birth'\n"
     ]
    }
   ],
   "source": [
    "# delete age attribute\n",
    "del p2.year_of_birth\n",
    "# try to print it\n",
    "try:\n",
    "    print(p2)\n",
    "# raises exception because attribute year_of_birth does not exist anymore\n",
    "except AttributeError as error:\n",
    "    print(f\"Error: {error}\")"
   ]
  },
  {
   "cell_type": "code",
   "execution_count": 157,
   "id": "18bcbe7c-eafc-480d-a17f-7d6d041b3a6b",
   "metadata": {},
   "outputs": [
    {
     "name": "stdout",
     "output_type": "stream",
     "text": [
      "Error: name 'p2' is not defined\n"
     ]
    }
   ],
   "source": [
    "# now delete the instance altogether\n",
    "del p2\n",
    "# try to print it\n",
    "try:\n",
    "    print(p2)\n",
    "# raises exception because the variable with name p2 no longer exists\n",
    "except NameError as error:\n",
    "    print(f\"Error: {error}\")"
   ]
  },
  {
   "cell_type": "markdown",
   "id": "ef255d00-784a-448b-bd39-73012f96a1f2",
   "metadata": {},
   "source": [
    "## Zapouzdření\n",
    "\n",
    "Jedním z hlavních důvodů pro použití objektového přístupu je tzv. **zapouzdření**, jakési odstínění programátora, jež využívá danou třídu od detailů její implementace. Zapouzdření umožňuje skrýt některé atributy a metody tak, aby mohly být použit pouze \"zevnitř\". Objekt si tak můžeme představit jako \"blackbox\", o kterém sice nevíme, jak funguje uvnitř, ale víme, jak se chová navenek a jak se používá (tedy jaké má **rozhraní** neboli interface).  Nemůžeme proto způsobit nějakou chybu, protože používáme a vidíme jen to, co nám tvůrce třídy zpřístupnil.\n",
    "\n",
    "Jako příklad můžeme použít opět třídu `list`. Jako uživatele této třídy nás nezajímá, jakým způsobem funguje obsluha paměti při přidávání jednotlivých prvků do seznamu - stačí nám pouze znalost metody `list.append(x)`, která tento problém řeší interně.  "
   ]
  },
  {
   "cell_type": "markdown",
   "id": "eadde84a-1c47-4891-be09-8f733d038ce4",
   "metadata": {},
   "source": [
    "## Dědění\n",
    "\n",
    "Dalším klíčovým konceptem OOP je tzv. **dědění** (inheritance). Dědění nám umožňuje definovat třídu, tzv. **potomka** (child class), která \"zdědí\" všechny metody a atributy nějaké jiné třídy, tzv. **předka** (parent class), a zpravidla je nějak rozšíří. Potomek je tedy specializovanější verzí svého předka. Nejlépe si tento koncept ukážeme na příkladu. Jako předka použijeme třídu `Person` definovanou dříve. Od ní odvodíme více specifikovanou třídu `Student`:\n",
    "\n"
   ]
  },
  {
   "cell_type": "code",
   "execution_count": 158,
   "id": "0ac4b8f9-9e96-4c20-8f8d-36fc73b08140",
   "metadata": {},
   "outputs": [
    {
     "name": "stdout",
     "output_type": "stream",
     "text": [
      "A new instance created with the following attributes: \n",
      "name: Mahulena, year of birth: 1990\n",
      "Age: 33\n"
     ]
    }
   ],
   "source": [
    "class Student(Person):  # this is how we define inheritance\n",
    "    pass\n",
    "s0 = Student(\"Mahulena\", 1990)  # we can create a new instance just as before\n",
    "print(\"Age:\", s0.compute_age())"
   ]
  },
  {
   "cell_type": "markdown",
   "id": "e2c05011-d4c7-4ff1-a1f9-0a360a965650",
   "metadata": {},
   "source": [
    "V tuto chvíli má třída `Student` stejné atributy a metody jako třída `Person`. Nyní ji budeme chtít rozšířit přidáním atributu `grades`, což bude seznam uchovávající studentovi známky:"
   ]
  },
  {
   "cell_type": "code",
   "execution_count": 3,
   "id": "6fc9f106-10d6-4f55-9d64-398fae6f9f17",
   "metadata": {},
   "outputs": [
    {
     "name": "stdout",
     "output_type": "stream",
     "text": [
      "A new instance created with the following attributes: \n",
      "name: Karel, year of birth: 1995\n",
      "[1, 3, 5]\n",
      "Age: 29\n"
     ]
    }
   ],
   "source": [
    "class Student(Person):  # this is how we define inheritance\n",
    "    def __init__(self, name, year_of_birth, grades):\n",
    "        '''Constructor that sets instance attributes.\n",
    "        Expects three arguments: name (str), year_of_birth (int) and grade (float).'''\n",
    "        Person.__init__(self, name, year_of_birth)  # we call parent constructor\n",
    "        self.grades=grades  # we add another attribute\n",
    "\n",
    "s1 = Student(\"Karel\", 1995, [1,3,5])  # we redefined the constructor, now it expects three arguments \n",
    "print(s1.grades)  # we can access the additional attribute\n",
    "print(\"Age:\", s1.compute_age())  # access parent method"
   ]
  },
  {
   "cell_type": "markdown",
   "id": "d67d311b-8998-488d-9972-f791bcde3d68",
   "metadata": {},
   "source": [
    "Když definujeme konstruktor, **přetížíme** (override) tím definici konstruktoru předka. Při vzniku nové instance se bude používat tento nový konstruktor. Podobné chování platí pro jakoukoli metodu. \n",
    "\n",
    "Povšimněte si volání konstruktoru předka `Person`, do kterého předáváme rovněž odkaz na aktuální instance `self`. Místo konkrétního názvu třídy můžeme použít funkci `super()`, která vrátí název předka. V tomto případě funkci nevoláme s argumentem `self`."
   ]
  },
  {
   "cell_type": "code",
   "execution_count": 4,
   "id": "7f358694-1e69-41aa-8eca-666e3c67276a",
   "metadata": {},
   "outputs": [
    {
     "name": "stdout",
     "output_type": "stream",
     "text": [
      "A new instance created with the following attributes: \n",
      "name: Karel, year of birth: 1995\n",
      "[1, 3, 5]\n",
      "Age: 29\n"
     ]
    }
   ],
   "source": [
    "class Student(Person):  # this is how we define inheritance\n",
    "    def __init__(self, name, year_of_birth, grades):  # overriding parent constructor\n",
    "        '''Constructor that sets instance attributes.\n",
    "        Expects three arguments: name (str), year_of_birth (int) and grade (float).'''\n",
    "        super().__init__(name, year_of_birth)  # we call parent constructor using super()\n",
    "        self.grades = grades  # we add another attribute. This can be another object\n",
    "\n",
    "s1=Student(\"Karel\", 1995, [1,3,5])  # we redefined the constructor, now it expects three arguments \n",
    "print(s1.grades)  # we can access the additional attribute\n",
    "print(\"Age:\",s1.compute_age())  # access parent method"
   ]
  },
  {
   "cell_type": "markdown",
   "id": "d16aae55-986e-4649-8bda-51dd29356ce2",
   "metadata": {},
   "source": [
    "Kromě atributů můžeme přidávat/přetěžovat rovněž metody. Přetěžme metodu `__str__`. Povšimněte si, že při vykonávání příkazu `print(self)` v konstruktoru předka dochází k výpisu pomocí přetížené funkce `__str__`. To proto, že funkce přetížené potomkem \"mají přednost\". Z tohoto důvodu je nutné přiřazení atributu `grades` provést před voláním konstruktoru předka.\n",
    "\n",
    "Za zdůraznění stojí, že atributem může být opět nějaký objekt (jako v našem případě, kdy je atribut `grades` instance třídy `list`) "
   ]
  },
  {
   "cell_type": "code",
   "execution_count": 170,
   "id": "1c4ac8c5-4a5d-4006-9e78-f6076208ba0a",
   "metadata": {},
   "outputs": [
    {
     "name": "stdout",
     "output_type": "stream",
     "text": [
      "A new instance created with the following attributes: \n",
      "name: Karel, year of birth: 1995, grades: [1, 3, 5]\n",
      "name: Karel, year of birth: 1995, grades: [1, 3, 5, 1, 2]\n",
      "Average grade: 2.4\n",
      "Average weighted grade: 3.6315789473684212\n"
     ]
    }
   ],
   "source": [
    "class Student(Person):  # this is how we define inheritance\n",
    "    def __init__(self, name, year_of_birth, grades):\n",
    "        '''Constructor that sets instance attributes.\n",
    "        Expects three arguments: name (str), age (int) and grade (float).'''\n",
    "        self.grades = grades  # we add another attribute\n",
    "        super().__init__(name, year_of_birth)  # we call parent constructor using super()\n",
    "    def __str__(self):\n",
    "        '''Overriding str method.'''\n",
    "        return f\"{super().__str__()}, grades: {self.grades}\"\n",
    "    def add_grade(self, grade):\n",
    "        '''Appends grade to a list of grades.'''\n",
    "        self.grades.append(grade)\n",
    "    def compute_grades_mean(self,weights=None):\n",
    "        '''Computes the mean of all grades.\n",
    "        Optional argument weights gives weights to grades.\n",
    "        By default, a simple mean is computed.'''\n",
    "        if  weights is None:\n",
    "            return sum(self.grades) / len(self.grades)\n",
    "        return sum([w*grade for w, grade in zip(weights, self.grades)]) / sum(weights)\n",
    "\n",
    "s1=Student(\"Karel\", 1995, [1,3,5])  # we redefined the constructor, now it expects three arguments \n",
    "# add grades\n",
    "s1.add_grade(1)\n",
    "s1.add_grade(2)\n",
    "print(s1)  # print the instance, calling __str__ method\n",
    "print(\"Average grade:\", s1.compute_grades_mean())\n",
    "print(\"Average weighted grade:\", s1.compute_grades_mean([0.5, 2, 5, 1, 1]))\n"
   ]
  },
  {
   "cell_type": "markdown",
   "id": "e1b709c4-81eb-45d0-8a05-2ae21027d490",
   "metadata": {},
   "source": [
    "> Poznámka: Dědění bychom tedy měli používat v případě, že potomek *je* specializací předka (student je speciální případ člověka atd.), nikoliv pokud předek *má* potomka (například auto má kolo - kolo rozhodně nebude dědit od auta)."
   ]
  },
  {
   "cell_type": "markdown",
   "id": "4b6567ed-9275-4e35-bc40-860220027cdf",
   "metadata": {},
   "source": [
    "## Polymorfismus\n",
    "\n",
    "**Polymorfismus** (polymorphism) znamená jednoduše \"mít mnoho forem\". V praxi to znamená, že funkci se stejným názvem můžeme volat na různé objekty. Např. funkci `len` můžeme zavolat na instanci tříd `list`, `tuple`, `dict` nebo `str`:"
   ]
  },
  {
   "cell_type": "code",
   "execution_count": 134,
   "id": "f0688093-c83b-4bf1-b441-41df37b823a6",
   "metadata": {},
   "outputs": [
    {
     "name": "stdout",
     "output_type": "stream",
     "text": [
      "Length of list 'a': 5\n",
      "Length of tuple 'b': 10\n",
      "Length of dictionary 'c': 2\n",
      "Length of string 'd': 14\n"
     ]
    }
   ],
   "source": [
    "# polymorphic behavior with len() function\n",
    "a = [1, 2, 3, 4, 5]          \n",
    "b = (1, 2, 3, 4, 5, 6, 7, 8, 9, 10)  \n",
    "c = {'first': 1, 'second': 2}       \n",
    "d = \"nazdárek párek\"                \n",
    "\n",
    "# use the len() function to get the length of each object and print the results\n",
    "print(f\"Length of list 'a': {len(a)}\")\n",
    "print(f\"Length of tuple 'b': {len(b)}\")\n",
    "print(f\"Length of dictionary 'c': {len(c)}\")\n",
    "print(f\"Length of string 'd': {len(d)}\")\n"
   ]
  },
  {
   "cell_type": "markdown",
   "id": "66b00027-8fb4-48c0-90a5-8205c13ec336",
   "metadata": {},
   "source": [
    " V kontextu OOP pak může více tříd mít metody se stejným názvem. Příkladem může být metoda `count`:"
   ]
  },
  {
   "cell_type": "code",
   "execution_count": 135,
   "id": "1d4f2717-e7be-40b2-a53f-43f7846a9e56",
   "metadata": {},
   "outputs": [
    {
     "name": "stdout",
     "output_type": "stream",
     "text": [
      "Count of 1 in list: 3\n",
      "Count of 10 in tuple: 3\n",
      "Count of blank spaces in string: 6\n"
     ]
    }
   ],
   "source": [
    "# polymorphic behavior with count() method\n",
    "a = [1, 2, 3, 1, 4, 1, 5]\n",
    "b = (10, 20, 30, 10, 40, 10, 50)\n",
    "c = \"Living is just eternal pain and suffering. Especially if you are a programmer.\"\n",
    "\n",
    "# using count() method with different types\n",
    "count_in_list = a.count(1)\n",
    "count_in_tuple = b.count(10)\n",
    "count_in_string = c.count(\" \")\n",
    "\n",
    "print(f\"Count of 1 in list: {count_in_list}\")\n",
    "print(f\"Count of 10 in tuple: {count_in_tuple}\")\n",
    "print(f\"Count of blank spaces in string: {count_in_string}\")\n"
   ]
  },
  {
   "cell_type": "markdown",
   "id": "70489bb1-c5f8-4d21-9a7c-7b05c267f497",
   "metadata": {},
   "source": [
    "Obecně je polymorfismus situace, ve které může jeden objekt zastoupit jiný objekt se stejným rozhraním. "
   ]
  },
  {
   "cell_type": "markdown",
   "id": "cba0fa04-9216-4358-b11c-bb67b1eb6236",
   "metadata": {},
   "source": [
    "# Příklady"
   ]
  },
  {
   "cell_type": "markdown",
   "id": "b58444b4-9417-4683-bb1b-a9079b931735",
   "metadata": {},
   "source": [
    "## 1) Bankovní účet\n",
    "\n",
    "Vytvořte třídu `BankAccount` s konstruktorem, který přijímá jméno a výchozí zůstatek (defaultně 0).\n",
    "\n",
    "Implementujte metody `deposit` a `withdraw` pro vkládání a výběr peněz. Při pokusu o výběr většího obnosu, než je stav účtu, se žádné peníze nevyberou, ale program neskončí.\n",
    "\n",
    "Implementujte metodu `get_balance` pro získání aktuálního zůstatku na účtu."
   ]
  },
  {
   "cell_type": "code",
   "execution_count": 141,
   "id": "a0f8c747-7220-4d9e-b101-9abf75c3ceb7",
   "metadata": {},
   "outputs": [],
   "source": [
    "class BankAccount:\n",
    "    pass\n",
    "\n",
    "\n",
    "a = BankAccount(\"John Doe\")\n",
    "a.deposit(100)\n",
    "a.withdraw(50)\n",
    "assert a.get_balance() == 50, a.get_balance()\n",
    "\n",
    "a = BankAccount(\"Peter Pan\",100)\n",
    "a.deposit(100)\n",
    "a.withdraw(50)\n",
    "assert a.get_balance() == 150, a.get_balance()\n",
    "\n",
    "a = BankAccount(\"Bob Smith\", 100)\n",
    "a.withdraw(500)\n",
    "assert a.get_balance() == 100, a.get_balance()"
   ]
  },
  {
   "cell_type": "markdown",
   "id": "7b3b2742-1d74-4eac-a44b-5f84913ba1fe",
   "metadata": {},
   "source": [
    "## 2) Geometrické tvary\n",
    "\n",
    "Vytvořte třídu `Rectangle` s konstruktorem, který přijímá velikost dvou stran. Definujte metodu `calculate_area`, která spočítá obsah obdélníku.\n",
    "\n",
    "Vytvořte potomka `Square`, který je speciálním případem obdélníku tak, aby pro něj metoda `calculate_area` vracela správný výsledek a konstruktor přijímal jediný argument.\n",
    "\n",
    "Ošetřete hodnoty předávané do konstruktoru a případně vyvolejte příslušnou výjimku."
   ]
  },
  {
   "cell_type": "code",
   "execution_count": 139,
   "id": "17910d2e-55f6-4618-ba7a-9a20af4f8495",
   "metadata": {},
   "outputs": [],
   "source": [
    "class Rectangle:\n",
    "    pass\n",
    "\n",
    "class Square(Rectangle):\n",
    "    pass\n",
    "\n",
    "r = Rectangle(10, 5.5)\n",
    "assert r.calculate_area() == 55\n",
    "\n",
    "s = Square(10)\n",
    "assert s.calculate_area() == 100\n",
    "\n",
    "s = Square(9)\n",
    "assert s.calculate_area() == 81"
   ]
  },
  {
   "cell_type": "markdown",
   "id": "7ea4694c-8ef1-4b94-a03a-1ba5b3bd0bd2",
   "metadata": {},
   "source": [
    "## 3) Knihovna\n",
    "\n",
    "Vytvořte třídu `Book` s konstruktorem, který přijímá název a autora knihy, případně další informace o nějaké knize (rok vydání, nakladatelství, ISBN...). Implementujte metodu `__str__`.\n",
    "\n",
    "Vytvořte třídu `Library` s konstruktorem, který inicializuje prázdný seznam knih.\n",
    "\n",
    "Implementujte metodu `add_book` v třídě `Library` pro přidání knihy do knihovny.\n",
    "\n",
    "Implementujte metodu `list_books` v třídě `Library` pro výpis názvů a autorů knih v knihovně (případně dalších atributů)\n"
   ]
  },
  {
   "cell_type": "code",
   "execution_count": null,
   "id": "a38b6613",
   "metadata": {},
   "outputs": [],
   "source": [
    "class Book:\n",
    "    pass\n",
    "\n",
    "class Library:\n",
    "    pass\n",
    "\n",
    "\n",
    "book1 = Book(\"The Great Gatsby\", \"F. Scott Fitzgerald\", 1925, \"Scribner\", \"9780743273565\")\n",
    "book2 = Book(\"To Kill a Mockingbird\", \"Harper Lee\", 1960, \"J.B. Lippincott & Co.\", \"9780061120084\")\n",
    "print(book1)\n",
    "print(book2)\n",
    "\n",
    "library = Library()\n",
    "library.list_books()  \n",
    "\n",
    "library.add_book(book1)\n",
    "library.add_book(book2)\n",
    "\n",
    "library.list_books() "
   ]
  },
  {
   "cell_type": "markdown",
   "id": "ff42c1f2-7a51-430d-8135-0e06f80d1782",
   "metadata": {},
   "source": [
    "## 4) Lepší knihovna \n",
    "Vylepšete předchozí třídu tak, aby mohla obsahovat více stejných knih a zároveň doplňte funkci `borrow_book` a `return_book`. V případě pokusu o výpůjčku knihy, která neexistuje nebo je již zapůjčená vyvolejte vyjímku."
   ]
  },
  {
   "cell_type": "code",
   "execution_count": null,
   "id": "d62cab62",
   "metadata": {},
   "outputs": [],
   "source": [
    "class Library:\n",
    "    pass\n",
    "\n",
    "book1 = Book(\"The Great Gatsby\", \"F. Scott Fitzgerald\", 1925, \"Scribner\", \"9780743273565\")\n",
    "book2 = Book(\"To Kill a Mockingbird\", \"Harper Lee\", 1960, \"J.B. Lippincott & Co.\", \"9780061120084\")\n",
    "\n",
    "library = Library()\n",
    "library.list_books()  \n",
    "\n",
    "library.add_book(book1)\n",
    "library.add_book(book2)\n",
    "library.add_book(book1) \n",
    "\n",
    "library.list_books()  \n",
    "\n",
    "library.borrow_book(\"The Great Gatsby\")\n",
    "library.borrow_book(\"The Great Gatsby\")  \n",
    "\n",
    "library.return_book(\"The Great Gatsby\")\n",
    "library.return_book(\"The Great Gatsby\")  \n",
    "\n",
    "library.list_books()  \n"
   ]
  },
  {
   "cell_type": "markdown",
   "id": "1ec0727c-91e7-4c76-bcd4-f3ff8d9590fc",
   "metadata": {},
   "source": [
    "## 5) Zapisovatel do souboru\n",
    "Vytvořte třídu `FileWriter`, která do konstruktoru dostane název textového souboru, který následně vytvoří. Implementujte metodu `append_text(text)`, která do souboru přidá zadaný text, metodu  `get_text`, která vrátí obsah souboru, metodu `clear_file`, která smaže veškerý text v souboru a metodu `delete_file`, která zcela odstraní textový soubor.\n"
   ]
  },
  {
   "cell_type": "code",
   "execution_count": null,
   "id": "0aea5285",
   "metadata": {},
   "outputs": [],
   "source": [
    "class FileWriter:\n",
    "    pass\n",
    "\n",
    "\n",
    "file_writer = FileWriter(\"example.txt\")\n",
    "\n",
    "file_writer.append_text(\"Hello, this is line 1.\")\n",
    "file_writer.append_text(\"And this is line 2.\")\n",
    "\n",
    "print(\"Content of the file:\")\n",
    "print(file_writer.get_text())\n",
    "\n",
    "file_writer.clear_file()\n",
    "\n",
    "print(\"\\nContent of the file after clearing:\")\n",
    "print(file_writer.get_text())\n",
    "\n",
    "file_writer.append_text(\"This is a new line after clearing.\")\n",
    "print(\"\\nUpdated content of the file:\")\n",
    "print(file_writer.get_text())\n",
    "\n",
    "file_writer.delete_file()"
   ]
  },
  {
   "cell_type": "markdown",
   "id": "6d82a292-363f-4f83-8cc4-f7c6b5a6e82d",
   "metadata": {},
   "source": [
    "## 6) Body v prostoru\n",
    "\n",
    "Implementujte třídu `Point`, která bude reprezentovat bod v prostoru (souřadnice [x, y, z]), případně v rovině (souřadnice z bude nulová) nebo na přímce (y i z budou nulové). Můžete využít principu dědění pro odlišení těchto třech případů se společným předkem.\n",
    "\n",
    "Implementujte metodu `compute_distance` která jako argument dostane další bod ve stejném prostoru (tj. počítáme vzdálenost vždy jen mezi dvěma body v prostoru/rovině/přímce, nikdy ne mezi bodem v rovině a prostoru/přímce) a spočte vzdálenost těchto dvou bodů. V případě, že body jsou v \"jiných\" prostorech, vyvolá výjimku.\n",
    "\n",
    "Implementujte metodu `compute_distance_in_projection`, která spočítá vzdálenost libovolných dvou bodů tak, že zohlední jen nenulové složky souřadnic. (tj. např. [1,1] a [2,2,5] je výsledek stejný jako pro [1,1] a [2,2], tedy sqrt(2))\n",
    "\n",
    "Dokážete program zobecnit na libovolnou dimenzionalitu prostoru?"
   ]
  },
  {
   "cell_type": "code",
   "execution_count": null,
   "id": "15cc68ba",
   "metadata": {},
   "outputs": [],
   "source": []
  },
  {
   "cell_type": "markdown",
   "id": "549fef27-42ca-4082-85a7-c7acb3a886e1",
   "metadata": {},
   "source": [
    "## 7) Vlastní datová struktura\n",
    "\n",
    "Zkuste vymyslet nějakou vlastní datovou strukturu a implementovat ji jako třídu s příslušnými atributy a metodami."
   ]
  },
  {
   "cell_type": "markdown",
   "id": "dc0e5519-0356-46dd-b2e7-5736374b8832",
   "metadata": {},
   "source": [
    "## 8) Vylepšení předchozích příkladů \n",
    "\n",
    "Vylepšete některý z příkladů z minulých hodin tak, že svoje řešení implementujete pomocí OOP paradigma, aby bylo možné jej znovu použít v budoucím kódu. "
   ]
  }
 ],
 "metadata": {
  "kernelspec": {
   "display_name": "Python 3 (Spyder)",
   "language": "python3",
   "name": "python3"
  },
  "language_info": {
   "codemirror_mode": {
    "name": "ipython",
    "version": 3
   },
   "file_extension": ".py",
   "mimetype": "text/x-python",
   "name": "python",
   "nbconvert_exporter": "python",
   "pygments_lexer": "ipython3",
   "version": "3.11.4"
  }
 },
 "nbformat": 4,
 "nbformat_minor": 5
}
