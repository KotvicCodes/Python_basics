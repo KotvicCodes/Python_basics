{
 "cells": [
  {
   "cell_type": "markdown",
   "metadata": {},
   "source": [
    "# V minulém díle jste viděli..."
   ]
  },
  {
   "cell_type": "markdown",
   "metadata": {},
   "source": [
    "## Příkaz `if`\n",
    "\n",
    "Příkaz `if` umožňuje vytvořit blok příkazů, které se provedou, pouze pokud je splněna určitá podmínka.\n",
    "Příkaz `if` můžeme rozšířit o další větve – libovolný počet příkazů `elif` umožňuje ověřovat dodatečné podmínky a poslední větev `else` se provede, pokud není splněna žádná z předchozích podmínek:"
   ]
  },
  {
   "cell_type": "code",
   "execution_count": null,
   "metadata": {},
   "outputs": [
    {
     "name": "stdout",
     "output_type": "stream",
     "text": [
      "číslo se rovná 0\n"
     ]
    }
   ],
   "source": [
    "a = 0\n",
    "if a > 0:\n",
    "    print(\"číslo je kladné\")\n",
    "    print(\"číslo se rovná\", a)\n",
    "elif a == 0:\n",
    "    print(\"číslo se rovná 0\")\n",
    "else:\n",
    "    print(\"číslo není kladné\")\n",
    "    print(\"číslo se rovná\", a)"
   ]
  },
  {
   "cell_type": "markdown",
   "metadata": {},
   "source": [
    "## Příkaz `while`\n",
    "\n",
    "Příkaz `while` umožňuje opakovat skupinu příkazů, dokud je splněna vstupní podmínka:"
   ]
  },
  {
   "cell_type": "code",
   "execution_count": null,
   "metadata": {},
   "outputs": [
    {
     "name": "stdout",
     "output_type": "stream",
     "text": [
      "0\n",
      "1\n",
      "2\n",
      "3\n",
      "4\n",
      "5\n",
      "6\n",
      "7\n",
      "8\n",
      "9\n",
      "10\n"
     ]
    }
   ],
   "source": [
    "n = 0\n",
    "while n <= 10:\n",
    "    print(n)\n",
    "    n += 1"
   ]
  },
  {
   "cell_type": "markdown",
   "metadata": {},
   "source": [
    "## Příkaz `for`\n",
    "\n",
    "Příkaz `for` umožňuje opakovat skupinu příkazů pro předem známou sadu hodnot:"
   ]
  },
  {
   "cell_type": "code",
   "execution_count": null,
   "metadata": {},
   "outputs": [
    {
     "name": "stdout",
     "output_type": "stream",
     "text": [
      "0\n",
      "1\n",
      "2\n",
      "3\n",
      "4\n",
      "5\n",
      "6\n",
      "7\n",
      "8\n",
      "9\n",
      "10\n"
     ]
    }
   ],
   "source": [
    "for n in range(11):\n",
    "    print(n)"
   ]
  },
  {
   "cell_type": "markdown",
   "metadata": {},
   "source": [
    "# Podrobnosti k používání podmínek a cyklů"
   ]
  },
  {
   "cell_type": "markdown",
   "metadata": {},
   "source": [
    "## Podmíněný výraz\n",
    "\n",
    "Pokud v programu potřebujeme spočítat nějakou hodnotu, která závisí na vyhodnocení nějaké podmínky, můžeme použít buď podmíněný příkaz:\n",
    "```python\n",
    "if nějaká_podmínka:\n",
    "    hodnota = výraz1\n",
    "else:\n",
    "    hodnota = výraz2\n",
    "```\n",
    "nebo můžeme použít _podmíněný výraz_, což je ternární operace ve tvaru:\n",
    "```python\n",
    "hodnota = výraz1 if nějaká_podmínka else výraz2\n",
    "```\n",
    "\n",
    "Podmíněný výraz lze samozřejmě použít všude tam, kde je očekáván nějaký výraz.\n",
    "Může být tedy součástí komplikovanějších aritmetických výrazů a dokonce můžete psát vnořené podmíněné výrazy, čímž se ale značně zhoršuje přehlednost kódu."
   ]
  },
  {
   "cell_type": "markdown",
   "metadata": {},
   "source": [
    "## Příkazy `break` a `continue`\n",
    "\n",
    "Příkazy `break` a `continue` slouží pro podrobnější kontrolu provádění cyklů.\n",
    "Zatímco příkaz `break` ukončí provádění celého cyklu, příkaz `continue` způsobí přerušení pouze aktuální iterace a přejde na vyhodnocování vstupní podmínky.\n",
    "Oba příkazy lze použít uvnitř cyklu `while` i uvnitř cyklu `for`.\n",
    "\n",
    "__Příklad:__ následující program vypisuje čísla větší než 100, která nejsou sudá a skončí, jakmile se vypíše první číslo dělitelné 7:"
   ]
  },
  {
   "cell_type": "code",
   "execution_count": 10,
   "metadata": {},
   "outputs": [
    {
     "name": "stdout",
     "output_type": "stream",
     "text": [
      "101\n",
      "103\n",
      "105\n"
     ]
    }
   ],
   "source": [
    "n = 100\n",
    "while True:\n",
    "    # pokud je číslo sudé, přejdeme na další iteraci\n",
    "    if n % 2 == 0:\n",
    "        n += 1\n",
    "        continue\n",
    "\n",
    "    # vypíšeme číslo\n",
    "    print(n)\n",
    "\n",
    "    # pokud jsme vypsali číslo dělitelné 7, ukončíme cyklus\n",
    "    if n % 7 == 0:\n",
    "        break\n",
    "\n",
    "    n += 1"
   ]
  },
  {
   "cell_type": "markdown",
   "metadata": {},
   "source": [
    "<div style=\"border-left: 5px solid green; padding-left: 1em\">\n",
    "<p><strong>Tip:</strong>\n",
    "Kliknutím na tlačítko <strong>pytutor</strong> v rozhraní JupyterLab se zobrazí grafická interpretace toho, co se v programu děje.</p>\n",
    "</div>"
   ]
  },
  {
   "cell_type": "markdown",
   "metadata": {},
   "source": [
    "# Příklady"
   ]
  },
  {
   "cell_type": "markdown",
   "metadata": {},
   "source": [
    "## 1. Kvadratická rovnice\n",
    "\n",
    "Napište program pro vyřešení kvadratické rovnice $ax^2 + bx + c = 0$, kde čísla $a,b,c$ jsou reálné parametry."
   ]
  },
  {
   "cell_type": "code",
   "execution_count": 14,
   "metadata": {},
   "outputs": [
    {
     "data": {
      "text/plain": [
       "Ellipsis"
      ]
     },
     "execution_count": 14,
     "metadata": {},
     "output_type": "execute_result"
    }
   ],
   "source": [
    "# Complex quadratics solver\n",
    "from cmath import sqrt\n",
    "print(\"I'll help you solve a quadratic equation in the form: ax^2 + bx + c = 0.\")\n",
    "print(\"If you wish to proceed with complex numbers, use the exact form: u+vj.\")\n",
    "a = complex(input(\"Define a\"))\n",
    "b = complex(input(\"Define b\"))\n",
    "c = complex(input(\"Define c\"))\n",
    "\n",
    "D = b**2 - 4 * (a * c)\n",
    "solution1 = (-b + sqrt(D)) / (2 * a)\n",
    "solution2 = (-b - sqrt(D)) / (2 * a)\n",
    "\n",
    "print(f\"1st root of the equation is {solution1}\")\n",
    "print(f\"2nd root of the equation is {solution2}\")"
   ]
  },
  {
   "cell_type": "markdown",
   "metadata": {},
   "source": [
    "## 2. BMI podruhé\n",
    "\n",
    "Napište program, který spočítá BMI uživatele a vypíše, zda má nadváhu, podváhu nebo normální váhu (normální váze odpovídá BMI mezi 18.5 a 25).\n",
    "Dále program napíše uživateli, jaké je jeho rozmezí optimální hmotnosti."
   ]
  },
  {
   "cell_type": "code",
   "execution_count": 7,
   "metadata": {},
   "outputs": [
    {
     "name": "stdin",
     "output_type": "stream",
     "text": [
      "Your weight in kg: 100\n",
      "Your height in cm: 200\n"
     ]
    },
    {
     "name": "stdout",
     "output_type": "stream",
     "text": [
      "------------------------------------\n",
      "Your BMI: 25.0\n",
      "Your BMI category: overweight\n",
      "Interval of weight for the optimal category for your height is from 74.0 to 99.9\n"
     ]
    }
   ],
   "source": [
    "# BMI & Optimal Weight Calc\n",
    "m = float(input(\"Your weight in kg:\"))\n",
    "h = float(input(\"Your height in cm:\")) / 100\n",
    "\n",
    "## Bmi categories\n",
    "bmiTier = \"\"\n",
    "bmi = m / h ** 2\n",
    "\n",
    "if (bmi < 18.5):\n",
    "    bmiTier = \"underweight\"\n",
    "elif (bmi < 25):\n",
    "    bmiTier = \"optimal\"\n",
    "elif (bmi < 30):\n",
    "    bmiTier = \"overweight\"\n",
    "elif (bmi < 35):\n",
    "    bmiTier = \"1st degree obesity\"\n",
    "elif (bmi < 40):\n",
    "    bmiTier = \"2nd degree obesity\"\n",
    "else:\n",
    "    bmiTier = \"3rd degree obesity\"\n",
    "\n",
    "## Optimal height calc\n",
    "upperBound = round(25.0 * h**2, 1) - 0.1\n",
    "lowerBound = round(18.5 * h**2, 1)\n",
    "\n",
    "## Outputs\n",
    "print(f\"------------------------------------\")\n",
    "print(f\"Your BMI: {bmi}\")\n",
    "print(f\"Your BMI category: {bmiTier}\")\n",
    "print(f\"Interval of weight for the optimal category for your height is from {lowerBound} to {upperBound}\")"
   ]
  },
  {
   "cell_type": "markdown",
   "metadata": {},
   "source": [
    "## 3. Ověření prvočíselnosti\n",
    "\n",
    "Napište program, který ověří, jestli je vstupní celé číslo $n$ prvočíslo nebo ne."
   ]
  },
  {
   "cell_type": "code",
   "execution_count": 17,
   "metadata": {},
   "outputs": [
    {
     "name": "stdin",
     "output_type": "stream",
     "text": [
      "Input an integer: 127\n"
     ]
    },
    {
     "name": "stdout",
     "output_type": "stream",
     "text": [
      "Your number is a prime!\n"
     ]
    }
   ],
   "source": [
    "# Prime Number Confirm\n",
    "n = int(input(\"Input a positive integer:\"))\n",
    "\n",
    "for i in range(2, n):\n",
    "    mod = n % i\n",
    "    if mod == 0:\n",
    "        print(f\"Your number isn't a prime!\")\n",
    "        print(f\"You can for example divide it by {i}\")\n",
    "        break\n",
    "    if i == (n - 1):\n",
    "        print(f\"Your number is a prime!\")"
   ]
  },
  {
   "cell_type": "markdown",
   "metadata": {},
   "source": [
    "## 4. Ciferný součet\n",
    "\n",
    "Napište program, který sečte jednotlivé cifry zadaného celého kladného celého čísla."
   ]
  },
  {
   "cell_type": "code",
   "execution_count": 21,
   "metadata": {},
   "outputs": [
    {
     "name": "stdin",
     "output_type": "stream",
     "text": [
      "Input a positive integer: 33\n"
     ]
    },
    {
     "name": "stdout",
     "output_type": "stream",
     "text": [
      "The cipher sum of your numbers is 6\n"
     ]
    }
   ],
   "source": [
    "# Cipher Sum\n",
    "nString = str(int(input(\"Input a positive integer:\")))\n",
    "length = len(nString)\n",
    "sum = 0\n",
    "\n",
    "for i in range(length):\n",
    "    currentNumber = int(nString[i])\n",
    "    sum += currentNumber\n",
    "print(f\"The cipher sum of your numbers is {sum}\")"
   ]
  },
  {
   "cell_type": "markdown",
   "metadata": {},
   "source": [
    "## 5. Collatzova posloupnost\n",
    "\n",
    "Napište program, který vypíše [Collatzovu posloupnost](https://cs.wikipedia.org/wiki/Collatz%C5%AFv_probl%C3%A9m) (do dosažení hodnoty 1) pro dané počáteční přirozené číslo $n$.\n",
    "\n",
    "Collatzova posloupnost: vezmeme celé kladné číslo $n$. Pokud je $n$ sudé, vydělíme ho dvěma, pokud je $n$ liché, vynásobíme ho třemi a přičteme jedničku, postup opakujeme.\n",
    "\n",
    "Hypotéza je, že posloupnost pro každé přirozené $n$ nakonec dojde k číslu 1."
   ]
  },
  {
   "cell_type": "code",
   "execution_count": 38,
   "metadata": {},
   "outputs": [
    {
     "name": "stdin",
     "output_type": "stream",
     "text": [
      "Input a positive integer: 420\n"
     ]
    },
    {
     "name": "stdout",
     "output_type": "stream",
     "text": [
      "Your Collatz's sequence is: 420, 210, 105, 316, 158, 79, 238, 119, 358, 179, 538, 269, 808, 404, 202, 101, 304, 152, 76, 38, 19, 58, 29, 88, 44, 22, 11, 34, 17, 52, 26, 13, 40, 20, 10, 5, 16, 8, 4, 2, 1\n"
     ]
    }
   ],
   "source": [
    "# Collatz Conjecture\n",
    "n = int(input(\"Input a positive integer:\"))\n",
    "collatzArray = []\n",
    "\n",
    "while n != 1:\n",
    "    collatzArray.append(str(n))\n",
    "\n",
    "    if (n % 2) == 0:\n",
    "        n = int(n / 2)\n",
    "    else:\n",
    "        n = int((n * 3) + 1)\n",
    "collatzArray.append(str(1))\n",
    "print(f\"Your Collatz's sequence is: {\", \".join(collatzArray)}\")"
   ]
  },
  {
   "cell_type": "markdown",
   "metadata": {},
   "source": [
    "## 6. Prvočíselný rozklad\n",
    "\n",
    "Napište program, který vypíše prvočíselný rozklad přirozeného čísla $n$."
   ]
  },
  {
   "cell_type": "code",
   "execution_count": 50,
   "metadata": {},
   "outputs": [
    {
     "name": "stdin",
     "output_type": "stream",
     "text": [
      "Input a positive integer: 45\n"
     ]
    },
    {
     "name": "stdout",
     "output_type": "stream",
     "text": [
      "Your prime decomposition: 3 * 3 * 5\n"
     ]
    }
   ],
   "source": [
    "# Prime Number Confirm\n",
    "n = int(input(\"Input a positive integer:\"))\n",
    "decompositionArray = []\n",
    "\n",
    "while n != 1:\n",
    "    for i in range(2, n+1):\n",
    "        mod = n % i\n",
    "        if mod == 0:\n",
    "            decompositionArray.append(str(i))\n",
    "            n = n // i\n",
    "            break\n",
    "print(f\"Your prime decomposition: {\" * \".join(decompositionArray)}\")"
   ]
  }
 ],
 "metadata": {
  "kernelspec": {
   "display_name": "Python 3 (ipykernel)",
   "language": "python",
   "name": "python3"
  },
  "language_info": {
   "codemirror_mode": {
    "name": "ipython",
    "version": 3
   },
   "file_extension": ".py",
   "mimetype": "text/x-python",
   "name": "python",
   "nbconvert_exporter": "python",
   "pygments_lexer": "ipython3",
   "version": "3.13.7"
  }
 },
 "nbformat": 4,
 "nbformat_minor": 4
}
