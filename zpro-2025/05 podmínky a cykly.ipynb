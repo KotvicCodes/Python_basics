{
 "cells": [
  {
   "cell_type": "markdown",
   "metadata": {},
   "source": [
    "# V minulém díle jste viděli..."
   ]
  },
  {
   "cell_type": "markdown",
   "metadata": {},
   "source": [
    "Data, se kterými pracuje počítač, jsou vždy zakódována v binární soustavě, bez ohledu na to, v jaké soustavě nebo multimediální reprezentaci jsou zobrazena uživateli na výstupu nebo vstupu."
   ]
  },
  {
   "cell_type": "markdown",
   "metadata": {},
   "source": [
    "Základní aritmetické typů v jazyku Python jsou `bool`, `int`, `float` a `complex`.\n",
    "Kromě booleovských konstant `True` a `False` existuje také speciální hodnota `None`, která má svůj vlastní typ.\n",
    "Čísla můžeme zadávat v desítkové, dvojkové, osmičkové nebo šestnáctkové soustavě:"
   ]
  },
  {
   "cell_type": "code",
   "execution_count": 1,
   "metadata": {},
   "outputs": [
    {
     "name": "stdout",
     "output_type": "stream",
     "text": [
      "11\n",
      "9\n",
      "17\n",
      "3\n"
     ]
    }
   ],
   "source": [
    "print(11)\n",
    "print(0o11)\n",
    "print(0x11)\n",
    "print(0b11)"
   ]
  },
  {
   "cell_type": "markdown",
   "metadata": {},
   "source": [
    "S číselnými hodnotami můžeme provádět běžné aritmetické operace pomocí operátorů `+`, `-`, `*`, `/`, `//`, `%` a `**`.\n",
    "Také jsou k dispozici funkce `abs`, `min`, `max` a můžeme importovat modul `math` pro zpřístupnění matematických konstant a funkcí:"
   ]
  },
  {
   "cell_type": "code",
   "execution_count": 2,
   "metadata": {},
   "outputs": [
    {
     "name": "stdout",
     "output_type": "stream",
     "text": [
      "Číslo π je přibližně 3.141592653589793\n",
      "Hodnota cos(π) je  -1.0\n"
     ]
    }
   ],
   "source": [
    "import math\n",
    "\n",
    "print(\"Číslo π je přibližně\", math.pi)\n",
    "print(\"Hodnota cos(π) je \", math.cos(math.pi))"
   ]
  },
  {
   "cell_type": "markdown",
   "metadata": {},
   "source": [
    "# Komentáře v jazyku Python"
   ]
  },
  {
   "cell_type": "markdown",
   "metadata": {},
   "source": [
    "Důležitým prvkem programovacích jazyků, který však nemá vliv na vykonávání kódu, jsou komentáře.\n",
    "__Komentáře__ ve zdrojovém kódu programu slouží programátorům k bližšímu vysvětlení příkazu nebo bloku příkazů, které se v programu vyskytují, a umožňují tak program učinit pro lidi pochopitelnějším.\n",
    "Na rozdíl od ostatních prvků jazyka Python nejsou komentáře vázány žádnými syntaktickými pravidly – interpret je zcela ignoruje, pro něj je komentář ekvivalentem mezery: kam se smí vložit mezera, tam se smí vložit komentář.\n",
    "\n",
    "V jazyku Python komentáře začínají znakem `#` a končí na konci řádku:"
   ]
  },
  {
   "cell_type": "code",
   "execution_count": 3,
   "metadata": {},
   "outputs": [],
   "source": [
    "# první komentář\n",
    "a = 1\n",
    "b = 2 # druhý komentář\n",
    "c = 3 # třetí komentář"
   ]
  },
  {
   "cell_type": "markdown",
   "metadata": {},
   "source": [
    "Pokud je komentář delší, typicky pokud komentuje několik příkazů společně, můžeme jej rozdělit na několik řádků.\n",
    "Takové _blokové komentáře_ je běžné psát __před kód, který komentují__:"
   ]
  },
  {
   "cell_type": "code",
   "execution_count": 4,
   "metadata": {},
   "outputs": [
    {
     "name": "stdout",
     "output_type": "stream",
     "text": [
      "Obvod kruhu je 9.42477796076938\n"
     ]
    }
   ],
   "source": [
    "# Zde nastavíme poloměr kruhu, spočítáme jeho obvod,\n",
    "# a výslednou hodnotu vypíšeme pomocí funkce print.\n",
    "import math\n",
    "r = 1.5\n",
    "obvod = 2 * math.pi * r\n",
    "print(\"Obvod kruhu je\", obvod)"
   ]
  },
  {
   "cell_type": "markdown",
   "metadata": {},
   "source": [
    "# Strukturování programu: podmínky a cykly"
   ]
  },
  {
   "cell_type": "markdown",
   "metadata": {},
   "source": [
    "Potřebujeme-li se v programu rozhodnout, jak dále řešit zadanou úlohu, používáme __podmíněný příkaz__, který vyhodnotí zadanou podmínku a na základě obdrženého výsledku se rozhodne, které příkazy bude provádět dál.\n",
    "Dalším velmi častým prvkem pro strukturování programu jsou __cykly__, které umožňují provádět určité příkazy opakovaně."
   ]
  },
  {
   "cell_type": "markdown",
   "metadata": {},
   "source": [
    "## Podmíněný příkaz\n",
    "\n",
    "Podmíněný příkaz začíná klíčovým slovem `if`, za nímž následuje podmínka a dvojtečka (znak `:`).\n",
    "Podmínku podmíněného příkazu může tvořit libovolný booleovský výraz (resp. libovolný výraz, který lze převést na typ `bool`) a tělo podmíněného příkazu je tvořeno blokem příkazů, které se mají provést v případě, je-li podmínka splněna:"
   ]
  },
  {
   "cell_type": "code",
   "execution_count": 5,
   "metadata": {},
   "outputs": [
    {
     "name": "stdout",
     "output_type": "stream",
     "text": [
      "číslo je kladné\n",
      "číslo se rovná 1\n"
     ]
    }
   ],
   "source": [
    "a = 1\n",
    "if a > 0:\n",
    "    print(\"číslo je kladné\")\n",
    "    print(\"číslo se rovná\", a)"
   ]
  },
  {
   "cell_type": "markdown",
   "metadata": {},
   "source": [
    "<div style=\"border-left: 5px solid red; padding-left: 1em\">\n",
    "<p><strong>Univerzální syntaktické pravidlo:</strong></p>\n",
    "<p>Ve všech případech, kde znak <code>:</code> uvozuje nějaký blok příkazů, ať už jde o podmíněný příkaz, cyklus nebo definici nějakého objektu, musí být všechny příkazy, které do daného bloku patří, odsazeny stejným počtem mezer.\n",
    "</p>\n",
    "<p>Běžně se používá konvence odsazování pomocí 4 mezer. Přesný počet mezer sice není určen syntaktickými pravidly jazyka, ale všichni se této konvence budeme držet. Také pozor na míchání znaků \"mezera\" (<code>\" \"</code>, číslo 40 v ASCII) a \"tabulátor\" (<code>\"\t\"</code>, reprezentován symbolem <code>\"\\t\"</code>, číslo 9 v ASCII).\n",
    "</p>\n",
    "</div>"
   ]
  },
  {
   "cell_type": "markdown",
   "metadata": {},
   "source": [
    "Za jednoduchým podmíněným příkazem může následovat příkaz `else`, který uvozuje blok příkazů, které se mají provést, pokud podmínka v předchozím příkazu `if` není splněna:"
   ]
  },
  {
   "cell_type": "code",
   "execution_count": 6,
   "metadata": {},
   "outputs": [
    {
     "name": "stdout",
     "output_type": "stream",
     "text": [
      "číslo není kladné\n",
      "číslo se rovná 0\n"
     ]
    }
   ],
   "source": [
    "a = 0\n",
    "if a > 0:\n",
    "    print(\"číslo je kladné\")\n",
    "    print(\"číslo se rovná\", a)\n",
    "else:\n",
    "    print(\"číslo není kladné\")\n",
    "    print(\"číslo se rovná\", a)"
   ]
  },
  {
   "cell_type": "markdown",
   "metadata": {},
   "source": [
    "Podmíněné příkazy lze samozřejmě vnořovat, přičemž je nutné dbát na správnou úroveň odsazení vnořených příkazů:"
   ]
  },
  {
   "cell_type": "code",
   "execution_count": 7,
   "metadata": {},
   "outputs": [
    {
     "name": "stdout",
     "output_type": "stream",
     "text": [
      "číslo se rovná 0\n"
     ]
    }
   ],
   "source": [
    "a = 0\n",
    "if a > 0:\n",
    "    print(\"číslo je kladné\")\n",
    "    print(\"číslo se rovná\", a)\n",
    "else:\n",
    "    if a == 0:\n",
    "        print(\"číslo se rovná 0\")\n",
    "    else:\n",
    "        print(\"číslo není kladné\")\n",
    "        print(\"číslo se rovná\", a)"
   ]
  },
  {
   "cell_type": "markdown",
   "metadata": {},
   "source": [
    "Mezi příkazy `if` a `else` spolu s jejich bloky příkazů může ještě vystupovat libovolný počet příkazů `elif` (zkratka pro `else`-`if`), které umožňují provádět ověření dodatečné podmínky v případě, že žádná z předchozích podmínek nebyla splněna.\n",
    "Předchozí příklad tedy můžeme zjednodušit takto:"
   ]
  },
  {
   "cell_type": "code",
   "execution_count": 8,
   "metadata": {},
   "outputs": [
    {
     "name": "stdout",
     "output_type": "stream",
     "text": [
      "číslo se rovná 0\n"
     ]
    }
   ],
   "source": [
    "a = 0\n",
    "if a > 0:\n",
    "    print(\"číslo je kladné\")\n",
    "    print(\"číslo se rovná\", a)\n",
    "elif a == 0:\n",
    "    print(\"číslo se rovná 0\")\n",
    "else:\n",
    "    print(\"číslo není kladné\")\n",
    "    print(\"číslo se rovná\", a)"
   ]
  },
  {
   "cell_type": "markdown",
   "metadata": {},
   "source": [
    "## Porovnávací operátory\n",
    "\n",
    "V jazyku Python jsou k dispozici následující operátory pro porovnávání hodnot výrazů:\n",
    "\n",
    "Operátor | Význam\n",
    "---------|-------\n",
    "`==`     | Rovnost dvou hodnot. __Pozor:__ neplést s přiřazovacím operátorem `=`.\n",
    "`!=`     | Nerovnost dvou hodnot ($a \\ne b$).\n",
    "`<`      | Ostře menší.\n",
    "`>`      | Ostře větší.\n",
    "`<=`     | Menší nebo rovno ($\\le$).\n",
    "`>=`     | Větší nebo rovno ($\\ge$).\n",
    "\n",
    "Jazyk Python dále umožňuje provádět _zřetězené porovnávání_.\n",
    "Např. výraz `x < y <= z > a` je ekvivalentní výrazu `x < y and y <= z and z > a`.\n",
    "\n",
    "Všechny operátory jsou k dispozici pro datové typy, kde uvedený význam má smysl (např. operátory `<`, `>`, `<=`, `>=` nejsou k dispozici pro komplexní čísla, kombinace číslo a textový řetězec, apod.) a jejich výsledek je booleovská hodnota `True` nebo `False`.\n",
    "\n",
    "V podmíněných příkazech, kde je očekávána booleovská hodnota, je možné použít libovolný výraz, jehož hodnotu lze implicitně převést na typ `bool`.\n",
    "Převod se řídí těmito pravidly: `None` → `False`, `0` → `False`, `0.0` → `False`, `complex(0, 0)` → `False`, všechny ostatní číselné hodnoty → `True`."
   ]
  },
  {
   "cell_type": "markdown",
   "metadata": {},
   "source": [
    "## Příklady"
   ]
  },
  {
   "cell_type": "markdown",
   "metadata": {},
   "source": [
    "1.  **Sudé-liché.** Napište program, který zjistí a vypíše, zda je zadané číslo sudé nebo liché."
   ]
  },
  {
   "cell_type": "code",
   "execution_count": 8,
   "metadata": {},
   "outputs": [
    {
     "name": "stdin",
     "output_type": "stream",
     "text": [
      "Your number 10\n"
     ]
    },
    {
     "name": "stdout",
     "output_type": "stream",
     "text": [
      "Even\n"
     ]
    }
   ],
   "source": [
    "# Odd or Even\n",
    "number = int(input(\"Your number\"))\n",
    "\n",
    "if number % 2 == 0:\n",
    "    print(\"Even\")\n",
    "else:\n",
    "    print(\"Odd\")"
   ]
  },
  {
   "cell_type": "markdown",
   "metadata": {},
   "source": [
    "2.  **Je větší.** Napište program, který zjistí a vypíše, které ze dvou zadaných čísel je větší."
   ]
  },
  {
   "cell_type": "code",
   "execution_count": 10,
   "metadata": {},
   "outputs": [
    {
     "name": "stdin",
     "output_type": "stream",
     "text": [
      "Your number 1 2\n",
      "Your number 2 3\n"
     ]
    },
    {
     "name": "stdout",
     "output_type": "stream",
     "text": [
      "2 < 3\n"
     ]
    }
   ],
   "source": [
    "# Bigger of two\n",
    "num1 = int(input(\"Your number 1\"))\n",
    "num2 = int(input(\"Your number 2\"))\n",
    "\n",
    "if num1 > num2:\n",
    "    print(f\"{num1} > {num2}\")\n",
    "elif num1 < num2:\n",
    "    print(f\"{num1} < {num2}\")\n",
    "elif num1 == num2:\n",
    "    print(f\"{num1} = {num2}\")"
   ]
  },
  {
   "cell_type": "markdown",
   "metadata": {},
   "source": [
    "3.  **Je největší.** Napište program, který zjistí a vypíše, které ze tří zadaných čísel je největší."
   ]
  },
  {
   "cell_type": "code",
   "execution_count": 12,
   "metadata": {},
   "outputs": [
    {
     "name": "stdin",
     "output_type": "stream",
     "text": [
      "Your number 1: 1\n",
      "Your number 2: 2\n",
      "Your number 3: 3\n"
     ]
    },
    {
     "name": "stdout",
     "output_type": "stream",
     "text": [
      "1 < 2 < 3\n"
     ]
    }
   ],
   "source": [
    "# Bigger of Three (Intentional chaos)\n",
    "num1 = int(input(\"Your number 1:\"))\n",
    "num2 = int(input(\"Your number 2:\"))\n",
    "num3 = int(input(\"Your number 3:\"))\n",
    "\n",
    "if num1 > num2 > num3:\n",
    "    print(f\"{num1} > {num2} > {num3}\")\n",
    "elif num1 > num2 == num3:\n",
    "    print(f\"{num1} > {num2} = {num3}\")\n",
    "elif num1 > num2 < num3:\n",
    "    print(f\"{num1} > {num2} < {num3}\")\n",
    "elif num1 == num2 > num3:\n",
    "    print(f\"{num1} = {num2} > {num3}\")\n",
    "elif num1 == num2 == num3:\n",
    "    print(f\"{num1} = {num2} = {num3}\")\n",
    "elif num1 == num2 < num3:\n",
    "    print(f\"{num1} = {num2} < {num3}\")\n",
    "elif num1 < num2 > num3:\n",
    "    print(f\"{num1} < {num2} > {num3}\")\n",
    "elif num1 < num2 == num3:\n",
    "    print(f\"{num1} < {num2} = {num3}\")\n",
    "elif num1 < num2 < num3:\n",
    "    print(f\"{num1} < {num2} < {num3}\")"
   ]
  },
  {
   "cell_type": "markdown",
   "metadata": {},
   "source": [
    "4.  **Seřaď.** Napište program, který vypíše tři zadaná čísla v pořadí od největšího po nejmenší."
   ]
  },
  {
   "cell_type": "code",
   "execution_count": 14,
   "metadata": {},
   "outputs": [
    {
     "name": "stdin",
     "output_type": "stream",
     "text": [
      "Your number 1: 82\n",
      "Your number 2: 192\n",
      "Your number 3: 290\n"
     ]
    },
    {
     "name": "stdout",
     "output_type": "stream",
     "text": [
      "290, 192, 82\n"
     ]
    }
   ],
   "source": [
    "# Sorter\n",
    "import statistics\n",
    "num1 = int(input(\"Your number 1:\"))\n",
    "num2 = int(input(\"Your number 2:\"))\n",
    "num3 = int(input(\"Your number 3:\"))\n",
    "array = [num1, num2, num3]\n",
    "\n",
    "maximum = max(array)\n",
    "minimum = min(array)\n",
    "median = statistics.median(array)\n",
    "\n",
    "print(f\"{maximum}, {median}, {minimum}\")"
   ]
  },
  {
   "cell_type": "markdown",
   "metadata": {},
   "source": [
    "5.  **Trojúhelník.** Napište program, který zjistí a vypíše, zda lze sestrojit trojúhelník zadaný pomocí tří délek stran."
   ]
  },
  {
   "cell_type": "code",
   "execution_count": 26,
   "metadata": {},
   "outputs": [
    {
     "name": "stdin",
     "output_type": "stream",
     "text": [
      "Side of triangle 1: 1\n",
      "Side of triangle 2: 2\n",
      "Side of triangle 3: 3\n"
     ]
    },
    {
     "name": "stdout",
     "output_type": "stream",
     "text": [
      "You might be able to proceed in noneuclidean space\n"
     ]
    }
   ],
   "source": [
    "side1 = float(input(\"Side of triangle 1:\"))\n",
    "side2 = float(input(\"Side of triangle 2:\"))\n",
    "side3 = float(input(\"Side of triangle 3:\"))\n",
    "\n",
    "if ((side1 + side2) > side3) and ((side1 + side3) > side2) and ((side2 + side3) > side1):\n",
    "    print(\"You can proceed to draw your triangle\")\n",
    "else:\n",
    "    print(\"You might be able to proceed in noneuclidean space\")"
   ]
  },
  {
   "cell_type": "markdown",
   "metadata": {},
   "source": [
    "6.  **Test plnoletosti.** Napište program, který se zeptá uživatele na věk a odpoví, zda je plnoletý."
   ]
  },
  {
   "cell_type": "code",
   "execution_count": 24,
   "metadata": {},
   "outputs": [
    {
     "name": "stdin",
     "output_type": "stream",
     "text": [
      "Váš reálný věk: 17.999999999999999\n"
     ]
    },
    {
     "name": "stdout",
     "output_type": "stream",
     "text": [
      "You are an adult, have you not noticed yet?\n"
     ]
    }
   ],
   "source": [
    "# Adult test\n",
    "age = float(input(\"Váš reálný věk:\"))\n",
    "\n",
    "if age >= 18:\n",
    "    print(\"You are an adult, have you not noticed yet?\")\n",
    "else:\n",
    "    print(\"Not adult yet!!\")"
   ]
  },
  {
   "cell_type": "markdown",
   "metadata": {},
   "source": [
    "## Příkaz `while` – cyklus se vstupní podmínkou\n",
    "\n",
    "Příkaz `while` je variantou cyklu, který umožňuje ověření libovolné podmínky.\n",
    "Obecná syntaxe vypadá takto:\n",
    "```python\n",
    "while nějaká_podmínka:\n",
    "    tělo_cyklu\n",
    "    ...\n",
    "```\n",
    "K ověření podmínky dochází vždy před provedením příkazů z těla cyklu.\n",
    "Interpretace chování příkazu `while` tedy je: _dokud platí podmínka, prováděj příkazy_."
   ]
  },
  {
   "cell_type": "markdown",
   "metadata": {},
   "source": [
    "__Příklad:__ následující program vypíše všechna čísla od 0 do 10 včetně:"
   ]
  },
  {
   "cell_type": "code",
   "execution_count": 9,
   "metadata": {},
   "outputs": [
    {
     "name": "stdout",
     "output_type": "stream",
     "text": [
      "0\n",
      "1\n",
      "2\n",
      "3\n",
      "4\n",
      "5\n",
      "6\n",
      "7\n",
      "8\n",
      "9\n",
      "10\n"
     ]
    }
   ],
   "source": [
    "n = 0\n",
    "while n <= 10:\n",
    "    print(n)\n",
    "    n += 1"
   ]
  },
  {
   "cell_type": "markdown",
   "metadata": {},
   "source": [
    "<div style=\"border-left: 5px solid green; padding-left: 1em\">\n",
    "<p><strong>Tip:</strong>\n",
    "Kliknutím na tlačítko <strong>pytutor</strong> v rozhraní JupyterLab se zobrazí grafická interpretace toho, co se v programu děje.</p>\n",
    "</div>"
   ]
  },
  {
   "cell_type": "markdown",
   "metadata": {},
   "source": [
    "## Příkaz `for` – cyklus s parametrem\n",
    "\n",
    "Příkaz `while` je sice obecný cyklus (umožňuje ověřovat libovolnou podmínku), ale často je poměrně nešikovný, protože musíme sami zajistit správný přechod na následující iteraci.\n",
    "Alternativní příkaz `for` je užitečný v případech, kdy chceme opakovat příkazy pro předem známou sadu hodnot.\n",
    "\n",
    "Obecná syntaxe příkazu `for` vypadá takto:\n",
    "```python\n",
    "for parametry_cyklu in zdroj:\n",
    "    tělo_cyklu\n",
    "```\n",
    "Parametr cyklu bývá většinou jen jeden.\n",
    "Může jich být i více, ale pak potřebujeme zdroj, který v každém kroku dodává příslušně velkou sadu hodnot.\n",
    "\n",
    "Jako zdroj hodnot pro příkaz `for` může sloužit mnoho různých objektů, např. kontejnery a datové struktury, se kterými se seznámíme později.\n",
    "Dnes si ukážeme jen základní, ale velmi častý zdroj hodnot: funkci `range`, která představuje posloupnost celých čísel v určitém rozmezí.\n",
    "Chování funkce `range` se liší podle počtu (celočíselných!) argumentů, které jí předáme:\n",
    "\n",
    "1. Zadáme-li jeden argument, zdroj představuje posloupnost celých čísel od nuly až po zadanou hodnotu, ale tu už ne.\n",
    "   Zadáte-li proto jako argument nulu nebo nějaké záporné číslo, dostaneme prázdnou posloupnost.\n",
    "   Následující program vypisuje čísla od 0 do 10 včetně:"
   ]
  },
  {
   "cell_type": "code",
   "execution_count": 11,
   "metadata": {},
   "outputs": [
    {
     "name": "stdout",
     "output_type": "stream",
     "text": [
      "0\n",
      "1\n",
      "2\n",
      "3\n",
      "4\n",
      "5\n",
      "6\n",
      "7\n",
      "8\n",
      "9\n",
      "10\n"
     ]
    }
   ],
   "source": [
    "for n in range(11):\n",
    "    print(n)"
   ]
  },
  {
   "cell_type": "markdown",
   "metadata": {},
   "source": [
    "2. Zadáme-li dva argumenty, zdroj představuje posloupnost celých čísel od hodnoty prvního argumentu po hodnotu druhého, ale hodnotu druhého už ne.\n",
    "   Následující program vypisuje hodnoty od 7 do 10 včetně:"
   ]
  },
  {
   "cell_type": "code",
   "execution_count": 12,
   "metadata": {},
   "outputs": [
    {
     "name": "stdout",
     "output_type": "stream",
     "text": [
      "7\n",
      "8\n",
      "9\n",
      "10\n"
     ]
    }
   ],
   "source": [
    "for n in range(7, 11):\n",
    "    print(n)"
   ]
  },
  {
   "cell_type": "markdown",
   "metadata": {},
   "source": [
    "3. Zadáme-li tři argumenty, zdroj představuje posloupnost celých čísel od hodnoty prvního argumentu až po hodnotu druhého (jeho hodnotu už ne) s krokem zadaným ve třetím argumentu.\n",
    "   Pro kladný krok bude posloupnost rostoucí, pro záporný bude klesající."
   ]
  },
  {
   "cell_type": "code",
   "execution_count": 13,
   "metadata": {},
   "outputs": [
    {
     "name": "stdout",
     "output_type": "stream",
     "text": [
      "10\n",
      "7\n",
      "4\n",
      "1\n"
     ]
    }
   ],
   "source": [
    "for n in range(10, 0, -3):\n",
    "    print(n)"
   ]
  },
  {
   "cell_type": "markdown",
   "metadata": {},
   "source": [
    "# Příklady"
   ]
  },
  {
   "cell_type": "markdown",
   "metadata": {},
   "source": [
    "1.  **Součet čísel pomocí for cyklu.** Napište program, který sečte čísla od 1 do n (pomocí for cyklu)."
   ]
  },
  {
   "cell_type": "code",
   "execution_count": 33,
   "metadata": {},
   "outputs": [
    {
     "name": "stdin",
     "output_type": "stream",
     "text": [
      "input n: 99999999\n"
     ]
    },
    {
     "name": "stdout",
     "output_type": "stream",
     "text": [
      "Sum: 4999999950000000\n"
     ]
    }
   ],
   "source": [
    "# Sum of Natural numbers up to n (including)\n",
    "n = int(input(\"input n:\"))\n",
    "sum = 0\n",
    "\n",
    "for i in range(n + 1):\n",
    "    sum += i\n",
    "\n",
    "print(f\"Sum: {sum}\")"
   ]
  },
  {
   "cell_type": "markdown",
   "metadata": {},
   "source": [
    "2. **Sudé-liché podruhé.**\n",
    "Napište program, který bude pořád dokola žádat uživatele, aby zadal celé číslo, a poté vypíše, jestli je zadané číslo sudé nebo liché.\n",
    "Jakmile uživatel napíše \"konec\", tak program skončí."
   ]
  },
  {
   "cell_type": "code",
   "execution_count": 35,
   "metadata": {},
   "outputs": [
    {
     "name": "stdin",
     "output_type": "stream",
     "text": [
      "Input a number to see whether it is odd or even end\n"
     ]
    }
   ],
   "source": [
    "# Odd or Even Infinity\n",
    "string = \"\"\n",
    "\n",
    "while string != \"end\":\n",
    "    string = input(\"Input a number to see whether it is odd or even:\")\n",
    "\n",
    "    if string != \"end\":\n",
    "        print(\"Input 'end' to stop\")\n",
    "        number = int(string)\n",
    "        if number % 2 == 0:\n",
    "            print(f\"{string} is even\")\n",
    "        else:\n",
    "            print(f\"{string} is odd\")"
   ]
  },
  {
   "cell_type": "markdown",
   "metadata": {},
   "source": [
    "3. **Načti a sečti čísla.** Napište program, který postupně načítá čísla ze vstupu, dokud nepřijde prázdný řetězec `\"\"`. Pak vypíše počet zadaných čísel a jejich součet."
   ]
  },
  {
   "cell_type": "code",
   "execution_count": 45,
   "metadata": {},
   "outputs": [
    {
     "name": "stdin",
     "output_type": "stream",
     "text": [
      "Input number to sum: 78979\n"
     ]
    },
    {
     "name": "stdout",
     "output_type": "stream",
     "text": [
      "Input empty string to stop summation:\n"
     ]
    },
    {
     "name": "stdin",
     "output_type": "stream",
     "text": [
      "Input number to sum: 69698\n"
     ]
    },
    {
     "name": "stdout",
     "output_type": "stream",
     "text": [
      "Input empty string to stop summation:\n"
     ]
    },
    {
     "name": "stdin",
     "output_type": "stream",
     "text": [
      "Input number to sum: 56587\n"
     ]
    },
    {
     "name": "stdout",
     "output_type": "stream",
     "text": [
      "Input empty string to stop summation:\n"
     ]
    },
    {
     "name": "stdin",
     "output_type": "stream",
     "text": [
      "Input number to sum: \n"
     ]
    },
    {
     "name": "stdout",
     "output_type": "stream",
     "text": [
      "------------------------------------\n",
      "------------------------------------\n",
      "Number of summed numbers: 3\n",
      "Sum: 205264.0\n"
     ]
    }
   ],
   "source": [
    "# Sum up to infinity\n",
    "string = \"0\"\n",
    "Sum = 0\n",
    "numberOfNumbers = 0\n",
    "\n",
    "while string != \"\":\n",
    "    string = input(\"Input number to sum:\")\n",
    "\n",
    "    if string != \"\":\n",
    "        numberOfNumbers += 1\n",
    "        print(\"Input empty string to stop summation:\")\n",
    "        Sum += float(string)\n",
    "    else:\n",
    "        print(f\"------------------------------------\")\n",
    "        print(f\"------------------------------------\")\n",
    "        print(f\"Number of summed numbers: {numberOfNumbers}\")\n",
    "        print(f\"Sum: {Sum}\")"
   ]
  },
  {
   "cell_type": "markdown",
   "metadata": {},
   "source": [
    "4.  **Chci číslo z intervalu.** Program-kecálek čte čísla od uživatele, dokud uživatel nezadá číslo z požadovaného intervalu. Pak mu poděkuje a vypíše počet neúspěšných pokusů."
   ]
  },
  {
   "cell_type": "code",
   "execution_count": null,
   "metadata": {},
   "outputs": [],
   "source": []
  },
  {
   "cell_type": "markdown",
   "metadata": {},
   "source": [
    "5.  **Posloupnost.** Napište program, který vypíše prvních n členů následující posloupnosti: 1 1 2 1 2 3 1 2 3 4 1 2 3 4 5 ..."
   ]
  },
  {
   "cell_type": "code",
   "execution_count": null,
   "metadata": {},
   "outputs": [],
   "source": []
  }
 ],
 "metadata": {
  "kernelspec": {
   "display_name": "Python 3 (ipykernel)",
   "language": "python",
   "name": "python3"
  },
  "language_info": {
   "codemirror_mode": {
    "name": "ipython",
    "version": 3
   },
   "file_extension": ".py",
   "mimetype": "text/x-python",
   "name": "python",
   "nbconvert_exporter": "python",
   "pygments_lexer": "ipython3",
   "version": "3.13.7"
  }
 },
 "nbformat": 4,
 "nbformat_minor": 4
}
