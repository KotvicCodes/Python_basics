{
 "cells": [
  {
   "cell_type": "markdown",
   "metadata": {},
   "source": [
    "# V minulém díle jste viděli..."
   ]
  },
  {
   "cell_type": "markdown",
   "metadata": {},
   "source": [
    "Rekurzivní funkce je taková funkce, která volá sama sebe, a to buď přímo (`f` → `f`) nebo nepřímo (`f` → `g` → `h` → `f`).\n",
    "Použití rekurze může v určitých případech zjednodušit řešení dané úlohy.\n",
    "\n",
    "Obecná struktura rekurzivní funkce se skládá z následujících částí:\n",
    "\n",
    "1. __základní případ__: nejjednodušší úloha, kterou lze vyřešit přímo bez použití rekurze\n",
    "2. __rekurzivní volání__: rozdělení velké úlohy na menší části a použití stejné funkce pro vyřešení těchto menších úloh\n",
    "3. __rekombinace__: spojení výsledků menších úloh pro vyřešení původní velké úlohy"
   ]
  },
  {
   "cell_type": "markdown",
   "metadata": {},
   "source": [
    "Rekurzivní funkce pro výpočet Fibonacciho čísel (je __velmi neefektivní__):"
   ]
  },
  {
   "cell_type": "code",
   "execution_count": 4,
   "metadata": {},
   "outputs": [
    {
     "name": "stdout",
     "output_type": "stream",
     "text": [
      "21\n"
     ]
    }
   ],
   "source": [
    "def fib(n):\n",
    "    if n == 0:\n",
    "        # ověření první počáteční podmínky\n",
    "        return 0\n",
    "    elif n == 1:\n",
    "        # ověření druhé počáteční podmínky\n",
    "        return 1\n",
    "    else:\n",
    "        # rekurzivní volání pro vyřešení menších úloh\n",
    "        # rekombinace a vrácení finálního výsledku\n",
    "        return fib(n - 2) + fib(n - 1)\n",
    "\n",
    "print(fib(8))"
   ]
  },
  {
   "cell_type": "markdown",
   "metadata": {},
   "source": [
    "Efektivnější implementaci s _lineární složitostí_ můžeme dostat pomocí iteračního přístupu:"
   ]
  },
  {
   "cell_type": "code",
   "execution_count": 18,
   "metadata": {},
   "outputs": [
    {
     "name": "stdout",
     "output_type": "stream",
     "text": [
      "21\n"
     ]
    }
   ],
   "source": [
    "def fib_iterative(n):\n",
    "    # nastavení počátečních hodnot\n",
    "    term1 = 0\n",
    "    term2 = 1\n",
    "\n",
    "    # iterační výpočet\n",
    "    while n > 0:\n",
    "        new = term1 + term2\n",
    "        term1 = term2\n",
    "        term2 = new\n",
    "        n -= 1\n",
    "\n",
    "    return term1\n",
    "\n",
    "print(fib_iterative(8))"
   ]
  },
  {
   "cell_type": "markdown",
   "metadata": {},
   "source": [
    "# Kontejnery"
   ]
  },
  {
   "cell_type": "markdown",
   "metadata": {},
   "source": [
    "__Kontejner__ je libovolný objekt, který představuje datovou strukturu obsahující libovolný počet jiných objektů.\n",
    "Kontejnery poskytují způsob uchování několika objektů a přístup k nim.\n",
    "\n",
    "Python obsahuje několik vestavěných kontejnerů, které jsou rozděleny do několika kategorií podle jejich vlastností:\n",
    "\n",
    "![](images/11/Python_3._The_standard_type_hierarchy-en.svg)\n",
    "\n",
    "Číselné typy a hodnotu `None` jsme viděli v minulých dílech.\n",
    "Poté v diagramu následují posloupnosti, zejména seznamy (`list`), n-tice (`tuple`) a stringy (`str`).\n",
    "V samostatných kategoriích jsou množinové typy (`set` a `frozenset`) a zobrazení neboli slovníky (`dict`).\n",
    "Pro úplnost jsou v diagramu kategorizace objektů i _volatelné objekty_ (sem patří např. funkce) a moduly."
   ]
  },
  {
   "cell_type": "markdown",
   "metadata": {},
   "source": [
    "## Zápis a vytváření základních kontejnerů\n",
    "\n",
    "Základní kontejnery mají následující význam:\n",
    "\n",
    "- __string__ neboli __textový řetězec__ je posloupnost znaků, v Pythonu reprezentovaná třídou `str`.\n",
    "  Stringy zapisujeme typicky mezi dvojici uvozovek (`\"string\"` nebo `'string'`).\n",
    "  Podrobnosti týkající se zápisu stringů si ukážeme na příštím cvičení.\n",
    "- __seznam__ je _modifikovatelná_ (_mutable_) posloupnost libovolných objektů, v Pythonu reprezentovaná třídou `list`.\n",
    "- __n-tice__ je _nemodifikovatelná_ (_immutable_) posloupnost libovolných objektů, v Pythonu reprezentovaná třídou `tuple`.\n",
    "- __množina__ (třída `set`) je datová struktura obsahující objekty, pro které není určené jejich vzájemné pořadí.\n",
    "- __slovník__ (třída `dict`) je datová struktura, která představuje zobrazení z množiny klíčů (_keys_) na libovolné hodnoty (_values_).\n",
    "\n",
    "Kromě slovníků můžeme ostatní kontejnery mezi sebou jednoduše převádět pomocí příslušných funkcí (`str`, `list`, `tuple`, `set`):"
   ]
  },
  {
   "cell_type": "code",
   "execution_count": 1,
   "metadata": {},
   "outputs": [
    {
     "name": "stdout",
     "output_type": "stream",
     "text": [
      "string: Hello, world!\n",
      "seznam: ['H', 'e', 'l', 'l', 'o', ',', ' ', 'w', 'o', 'r', 'l', 'd', '!']\n",
      "ntice: ('H', 'e', 'l', 'l', 'o', ',', ' ', 'w', 'o', 'r', 'l', 'd', '!')\n",
      "množina: {'w', 'H', 'd', 'o', '!', 'e', ',', 'l', 'r', ' '}\n"
     ]
    }
   ],
   "source": [
    "string = \"Hello, world!\"\n",
    "seznam = list(string)\n",
    "ntice = tuple(string)\n",
    "množina = set(string)\n",
    "\n",
    "print(\"string:\", string)\n",
    "print(\"seznam:\", seznam)\n",
    "print(\"ntice:\", ntice)\n",
    "print(\"množina:\", množina)"
   ]
  },
  {
   "cell_type": "markdown",
   "metadata": {},
   "source": [
    "Předchozí výstup nám napovídá, jakým způsobem lze zapsat určitý kontejner přímo v kódu.\n",
    "Objekty v ostatních kontejnerech nemusí být jen znaky a navíc všechny objekty v daném kontejneru nemusí mít stejný typ:"
   ]
  },
  {
   "cell_type": "code",
   "execution_count": 1,
   "metadata": {},
   "outputs": [
    {
     "name": "stdout",
     "output_type": "stream",
     "text": [
      "seznam: [0, 1, 'A', 'hello']\n",
      "ntice: (2, 'A', 1, 2, 'hello')\n",
      "množina: {'A', 2, 1}\n"
     ]
    }
   ],
   "source": [
    "a = 0\n",
    "b = \"A\"\n",
    "seznam = [a, 1, b, \"hello\"]\n",
    "a = 2  # změní se hodnota proměnné `a`, ale v seznamu zůstane původní hodnota\n",
    "ntice = (a, b, 1, 2, \"hello\")\n",
    "množina = {a, b, 1, 2}\n",
    "\n",
    "print(\"seznam:\", seznam)\n",
    "print(\"ntice:\", ntice)\n",
    "print(\"množina:\", množina)"
   ]
  },
  {
   "cell_type": "markdown",
   "metadata": {},
   "source": [
    "<div style=\"border-left: 5px solid #08c; padding-left: 1em\">\n",
    "<p><strong>Poznámka:</strong>\n",
    "V tomto cvičení se budeme soustředit na <emph>posloupnosti</emph>, tedy seznamy a n-tice. Množiny a slovníky probereme podrobně na příštím cvičení.</p>\n",
    "</div>"
   ]
  },
  {
   "cell_type": "markdown",
   "metadata": {},
   "source": [
    "## Základní operace s kontejnery\n",
    "\n",
    "Všechny kontejnery poskytují dvě základní operace:\n",
    "\n",
    "1. _Testování_, jestli kontejner obsahuje danou hodnotu.\n",
    "   Testovací výraz obsahuje operátor `in`, případně `not in`, a vrací vždy hodnotu `True` nebo `False`:"
   ]
  },
  {
   "cell_type": "code",
   "execution_count": 8,
   "metadata": {},
   "outputs": [
    {
     "name": "stdout",
     "output_type": "stream",
     "text": [
      "True\n",
      "False\n"
     ]
    }
   ],
   "source": [
    "print(1 in [0, 1, 2])\n",
    "print(1 not in [0, 1])"
   ]
  },
  {
   "cell_type": "markdown",
   "metadata": {},
   "source": [
    "\n",
    "2. _Iterování_: každý kontejner lze použít jako zdroj dat v příkazu `for`.\n",
    "   Zde opět vystupuje klíčové slovo `in`, ale v jiném významu: `for hodnota in kontejner`.\n",
    "   Podle typu kontejneru mají iterované prvky buď určité nebo nespecifikované pořadí."
   ]
  },
  {
   "cell_type": "code",
   "execution_count": 9,
   "metadata": {},
   "outputs": [
    {
     "name": "stdout",
     "output_type": "stream",
     "text": [
      "0\n",
      "1\n",
      "A\n",
      "hello\n"
     ]
    }
   ],
   "source": [
    "for i in seznam:\n",
    "    print(i)"
   ]
  },
  {
   "cell_type": "markdown",
   "metadata": {},
   "source": [
    "Kromě těchto základních operací má každý typ kontejneru své vlastní rozhraní, které jej odlišuje od ostatních.\n",
    "Proto si postupně probereme všechny zmíněné kontejnery."
   ]
  },
  {
   "cell_type": "markdown",
   "metadata": {},
   "source": [
    "## Indexování posloupností\n",
    "\n",
    "Předpokládejme, že máme seznam `my_list` definovaný následovně:"
   ]
  },
  {
   "cell_type": "code",
   "execution_count": 12,
   "metadata": {},
   "outputs": [
    {
     "name": "stdout",
     "output_type": "stream",
     "text": [
      "10\n",
      "[10, 20, 30, 40, 50, 60, 70, 80, 90, 100]\n",
      "[80, 90, 100]\n",
      "80\n",
      "<class 'int'>\n",
      "[15, 20, 30, 40, 50, 60, 70, 80, 90, 100]\n"
     ]
    }
   ],
   "source": [
    "my_list = [10, 20, 30, 40, 50, 60, 70, 80, 90, 100]\n",
    "\n",
    "print(my_list[0])\n",
    "print(my_list[0:])\n",
    "print(my_list[-3:])\n",
    "print(my_list[-3])\n",
    "print(type(my_list[-3]))\n",
    "\n",
    "my_list[0] = 15\n",
    "print(my_list)"
   ]
  },
  {
   "cell_type": "markdown",
   "metadata": {},
   "source": [
    "Pro přístup k jednotlivým prvkům seznamu můžeme použít operátor `[]`, např. `my_list[i]`, kde `i` je celočíselná hodnota určující pořadí daného prvku.\n",
    "Přípustné hodnoty indexu `i` jsou znázorněny na tomto obrázku:\n",
    "\n",
    "![](images/11/python-indexing.png)"
   ]
  },
  {
   "cell_type": "markdown",
   "metadata": {},
   "source": [
    "Tento způsob indexování funguje stejně pro všechny typy posloupností (`list`, `tuple`, `str`, atd).\n",
    "Navíc pro všechny posloupnosti můžeme použít funkci `len`, která vrací aktuální počet prvků v daném kontejneru.\n",
    "Např. pokud máme `L = len(my_list)`, ve výrazu `my_list[i]` můžeme za `i` dosadit libovolnou hodnotu z `-L`, `-L+1`, `-L+2`, ..., `0`, `1`, `2`, ..., `L-2`, `L-1`.\n",
    "\n",
    "Známe již dva způsoby iterování přes prvky seznamu:\n",
    "\n",
    "1. `for value in my_list:` – `my_list` slouží přímo jako zdroj dat pro příkaz `for`, v proměnné `value` dostáváme postupně hodnoty uložené v seznamu.\n",
    "2. `for i in range(len(my_list)):` – funkce `len` zjistí počet prvků v seznamu a funkce `range` představuje posloupnost všech _nezáporných_ hodnot, které můžeme použít pro indexování seznamu `my_list`.\n",
    "   Všimněte si, že funkce `range` příhodně vynechává koncovou hodnotu `len(my_list)`.\n",
    "\n",
    "První způsob iterování je snadněji pochopitelný a vhodný pro případy, kdy potřebujeme zpracovat všechny hodnoty z určitého seznamu stejným způsobem.\n",
    "Druhý způsob je hůře čitelný, ale hodí se v případech, kdy potřebujeme _modifikovat hodnoty uložené v modifikovatelné (mutable) posloupnosti_, což není možné prvním způsobem.\n",
    "Např. pokud bychom chtěli všechny hodnoty v seznamu `my_list` zmenšit o 1:"
   ]
  },
  {
   "cell_type": "code",
   "execution_count": 11,
   "metadata": {},
   "outputs": [
    {
     "name": "stdout",
     "output_type": "stream",
     "text": [
      "[9, 19, 29, 39, 49, 59, 69, 79, 89, 99]\n"
     ]
    }
   ],
   "source": [
    "for i in range(len(my_list)):\n",
    "    my_list[i] = my_list[i] - 1\n",
    "\n",
    "print(my_list)"
   ]
  },
  {
   "cell_type": "markdown",
   "metadata": {},
   "source": [
    "Velmi příjemným syntaktickým rozšířením indexování jednotlivých prvků posloupnosti je _slicing_ (česky _vykrajování_).\n",
    "Při něm se v hranatých závorkách za názvem posloupnosti zadají dva indexy oddělené dvojtečkou, např. `my_list[i:j]`, a výsledkem výrazu je podposloupnost daná těmito indexy:\n",
    "- index `i` představuje počáteční index podposloupnosti\n",
    "- index `j` představuje index „po-posledního“ prvku podposloupnosti\n",
    "\n",
    "Není-li zadán první index, dosadí se nula, a není-li zadán druhý index, dosadí se délka posloupnosti.\n",
    "Bude-li proto v indexových závorkách pouze dvojtečka, výsledná podposloupnost bude celá posloupnost.\n",
    "\n",
    "_Slicing_ je názorně ukázán v následujícím příkladu, kde jako vstupní posloupnost používáme proměnnou `python` (zde string, ale stejný princip je možné aplikovat pro všechny posloupnosti):"
   ]
  },
  {
   "cell_type": "code",
   "execution_count": 4,
   "metadata": {},
   "outputs": [
    {
     "name": "stdout",
     "output_type": "stream",
     "text": [
      "Pytho\n",
      "tho\n",
      "thon\n",
      "Py\n",
      "tho\n",
      "tho\n",
      "Pyth\n",
      "on\n",
      "Python\n"
     ]
    }
   ],
   "source": [
    "# vstupní posloupnost\n",
    "python = \"Python\"\n",
    "\n",
    "# ukázky operace slicing (mezery uvnitř hranatých závorek nehrají roli)\n",
    "print(python[ 0: 5])\n",
    "print(python[ 2: 5])  # \"tho\"\n",
    "print(python[ 2:  ])  # \"thon\"\n",
    "print(python[  : 2])  # \"Py\"\n",
    "print(python[ 2:-1])  # \"tho\"\n",
    "print(python[-4:-1])  # \"tho\"\n",
    "print(python[  :-2])  # \"Pyth\"\n",
    "print(python[-2:  ])  # \"on\"\n",
    "print(python[:])  # \"Python\""
   ]
  },
  {
   "cell_type": "markdown",
   "metadata": {},
   "source": [
    "<div style=\"border-left: 5px solid green; padding-left: 1em\">\n",
    "<p><strong>Tip:</strong>\n",
    "V případě operace <emph>slicing</emph> je vhodné si představit, že indexy nepředstavují pozice jednotlivých prvků posloupnosti, ale pozice <q>mezer</q> mezi nimi. Viz následující tabulku:</p>\n",
    "</div>\n",
    "\n",
    "```\n",
    "   0   1   2   3   4   5    <-- Indexování od počátku\n",
    "  -6  -5  -4  -3  -2  -1    <-- Indexování od konce\n",
    " +---+---+---+---+---+---+\n",
    " | P | y | t | h | o | n |\n",
    " +---+---+---+---+---+---+\n",
    " 0   1   2   3   4   5   6  <-- Slicing od počátku\n",
    "-6  -5  -4  -3  -2  -1      <-- Slicing od konce\n",
    "```"
   ]
  },
  {
   "cell_type": "markdown",
   "metadata": {},
   "source": [
    "Dále si podrobněji ukážeme práci se seznamy a n-ticemi.\n",
    "Stringům se budeme podrobně věnovat na příštím cvičení, protože mají velmi odlišné rozhraní."
   ]
  },
  {
   "cell_type": "markdown",
   "metadata": {},
   "source": [
    "## Seznamy a n-tice\n",
    "\n",
    "__Seznam__ (`list`) (array) a __n-tice__ (`tuple`) jsou datové struktury představující posloupnosti, které se ale zásadním způsobem liší:\n",
    "\n",
    "- seznam je __modifikovatelná__ (_mutable_) datová struktura – do seznamu můžeme přidávat nové objekty a nebo z něj objekty odebírat\n",
    "- n-tice je __nemodifikovatelná__ (_immutable_) datová struktura – nelze přidat nebo odebrat objekt v existující n-tici (jediný způsob jak změnit n-tici je vytvořit nový objekt)\n",
    "\n",
    "Seznam se často používá v algoritmech, kde je potřeba si průběžně ukládat nějaké hodnoty a později se k nim vracet.\n",
    "Často začínáme s prázdným seznamem, do kterého postupně přidáváme prvky pomocí metod `append` (přidání na konec) nebo `insert` (vložení na zadanou pozici):"
   ]
  },
  {
   "cell_type": "code",
   "execution_count": 13,
   "metadata": {},
   "outputs": [
    {
     "name": "stdout",
     "output_type": "stream",
     "text": [
      "[9, 7, 5, 3, 1, 0, 2, 4, 6, 8]\n"
     ]
    }
   ],
   "source": [
    "# prázdný seznam\n",
    "seznam = []\n",
    "\n",
    "# výpočet prvků\n",
    "for i in range(10):\n",
    "    if i % 2 == 0:\n",
    "        # sudé číslo vložíme na konec\n",
    "        seznam.append(i)\n",
    "    else:\n",
    "        # liché číslo vložíme na začátek\n",
    "        seznam.insert(0, i)\n",
    "\n",
    "# výpis seznamu\n",
    "print(seznam)"
   ]
  },
  {
   "cell_type": "markdown",
   "metadata": {},
   "source": [
    "Úplný přehled metod použitelných pro seznam (resp. každou _modifikovatelnou_ posloupnost) je možné najít [v dokumentaci](https://docs.python.org/3/library/stdtypes.html#mutable-sequence-types).\n",
    "\n",
    "Naopak n-tice (`tuple`) se běžně používá tam, kde modifikace posloupnosti není potřeba.\n",
    "Jeden z typických případů jsou funkce, které vrací více než jednu hodnotu, např. funkce [divmod](https://docs.python.org/3/library/functions.html#divmod), která vrací _dvojici_ (tuple o dvou prvcích) hodnot, z nichž první je celočíselný podíl a druhá je zbytek po celočíselném dělení:"
   ]
  },
  {
   "cell_type": "code",
   "execution_count": 16,
   "metadata": {},
   "outputs": [
    {
     "name": "stdout",
     "output_type": "stream",
     "text": [
      "(3, 2)\n"
     ]
    }
   ],
   "source": [
    "dvojice = divmod(11, 3)\n",
    "print(dvojice)"
   ]
  },
  {
   "cell_type": "markdown",
   "metadata": {},
   "source": [
    "K jednotlivým prvkům dvojice se dostaneme pomocí indexovacího operátoru: `dvojice[0]` je první prvek a `dvojice[1]` je druhý prvek.\n",
    "Protože počet prvků v n-tici nelze změnit a jednotlivé prvky je často vhodné pojmenovat pro větší přehlednost kódu, umožňuje syntaxe jazyka Python tzv. _rozbalování_ (_unpacking_):"
   ]
  },
  {
   "cell_type": "code",
   "execution_count": 20,
   "metadata": {},
   "outputs": [
    {
     "name": "stdout",
     "output_type": "stream",
     "text": [
      "1 2 3\n",
      "(1, 2, 3)\n"
     ]
    }
   ],
   "source": [
    "# definice trojice\n",
    "point = (1, 2, 3)\n",
    "\n",
    "# rozbalení\n",
    "x, y, z = point\n",
    "print(x, y, z)\n",
    "print(point)"
   ]
  },
  {
   "cell_type": "markdown",
   "metadata": {},
   "source": [
    "Při rozbalování je potřeba zajistit, že počet proměnných definovaných na levé straně odpovídá počtu prvků v n-tici, jinak dojde k chybě `ValueError`.\n",
    "Rozbalování je možné provést obecně pro libovolnou posloupnost, ale právě kvůli zajištění odpovídajícího počtu prvků je toto použití nejtypičtější pro n-tice.\n",
    "\n",
    "A jak vrátit více hodnot z námi definované funkce?\n",
    "Stačí v příkazu `return` zadat tuple, např. `return (a, b, c)` nebo ekvivalentně `return a, b, c`."
   ]
  },
  {
   "cell_type": "markdown",
   "metadata": {},
   "source": [
    "# Příklady"
   ]
  },
  {
   "cell_type": "markdown",
   "metadata": {},
   "source": [
    "1. Napište funkci, která vezme vstupní posloupnost a vrátí seznam, ve kterém jsou všechny prvky posloupnosti uspořádané pozpátku."
   ]
  },
  {
   "cell_type": "code",
   "execution_count": 36,
   "metadata": {},
   "outputs": [],
   "source": [
    "def pozpatku(posloupnost):\n",
    "     array = []\n",
    "     for x in posloupnost:\n",
    "          array.insert(0, x)\n",
    "     return array\n",
    "\n",
    "seznam = [1, 2, 3, 3, 4, 10]\n",
    "vysledek = pozpatku(seznam)\n",
    "assert vysledek == [10, 4, 3, 3, 2, 1]"
   ]
  },
  {
   "cell_type": "markdown",
   "metadata": {},
   "source": [
    "2. Napište funkci, která vrátí [medián](https://cs.wikipedia.org/wiki/Medi%C3%A1n) vstupní posloupnosti čísel."
   ]
  },
  {
   "cell_type": "code",
   "execution_count": null,
   "metadata": {},
   "outputs": [
    {
     "name": "stdout",
     "output_type": "stream",
     "text": [
      "3\n",
      "(3, 4)\n",
      "3.5\n",
      "(1, 2)\n"
     ]
    }
   ],
   "source": [
    "def median(posloupnost):\n",
    "     length = len(posloupnost)\n",
    "     array = sorted(posloupnost)\n",
    "\n",
    "     ### even number\n",
    "     if length % 2 == 0:\n",
    "          num1 = length // 2 - 1  #### 0-indexed\n",
    "          num2 = num1 + 1\n",
    "          return (array[num1] + array[num2]) / 2\n",
    "     \n",
    "     ### odd number\n",
    "     else:\n",
    "          num1 = int(length / 2) ### 0-indexed\n",
    "          return array[num1]\n",
    "\n",
    "\n",
    "seznam = [1, 2, 3, 4, 5]\n",
    "print(median(seznam))\n",
    "print(median([1,3,4,5]))\n",
    "\n",
    "assert median([1, 2, 3]) == 2\n",
    "assert median([1, 2]) == 1.5"
   ]
  },
  {
   "cell_type": "markdown",
   "metadata": {},
   "source": [
    "3. Napište funkci, která přečte vstupní posloupnost přirozených čísel a vrátí seznam obsahující všechna čísla, která nejsou dělitelná 2 ani 3, v pořadí odpovídajícím vstupu."
   ]
  },
  {
   "cell_type": "code",
   "execution_count": 55,
   "metadata": {},
   "outputs": [],
   "source": [
    "def vyber_cisla(posloupnost):\n",
    "     array = []\n",
    "     for x in posloupnost:\n",
    "          if x % 2 != 0 and x % 3 != 0:\n",
    "               array.append(x)\n",
    "     return array\n",
    "\n",
    "assert vyber_cisla([1, 2, 3, 4, 5, 7, 4, 3, 2, 1]) == [1, 5, 7, 1]"
   ]
  },
  {
   "cell_type": "markdown",
   "metadata": {},
   "source": [
    "4. Napište funkci, která vrátí seznam všech dělitelů zadaného přirozeného čísla seřazený od nejmenšího po největší."
   ]
  },
  {
   "cell_type": "code",
   "execution_count": null,
   "metadata": {},
   "outputs": [
    {
     "name": "stdout",
     "output_type": "stream",
     "text": [
      "[1, 2, 3, 5, 6, 7, 9, 10, 14, 15, 18, 21, 27, 30, 35, 42, 45, 54, 63, 70, 90, 105, 126, 135, 189, 210, 270, 315, 378, 630, 945, 1890]\n"
     ]
    }
   ],
   "source": [
    "def delitele(n):\n",
    "     divisorsArray = []\n",
    "     i = 1\n",
    "\n",
    "     while n >= i:\n",
    "          if n % i == 0:\n",
    "               divisorsArray.append(i)\n",
    "          i += 1\n",
    "     return divisorsArray\n",
    "\n",
    "print(delitele(1890))\n",
    "assert delitele(24) == [1, 2, 3, 4, 6, 8, 12, 24]"
   ]
  },
  {
   "cell_type": "markdown",
   "metadata": {},
   "source": [
    "5. Napište funkci, která vrátí seznam prvočísel seřazený od největšího po nejmenší, jejichž součin se rovná vstupnímu přirozenému číslu."
   ]
  },
  {
   "cell_type": "code",
   "execution_count": 69,
   "metadata": {},
   "outputs": [
    {
     "name": "stdout",
     "output_type": "stream",
     "text": [
      "[3, 3, 2, 2, 2]\n"
     ]
    }
   ],
   "source": [
    "def primes(n):\n",
    "     array = []\n",
    "     i = 2\n",
    "\n",
    "     while n >= i:\n",
    "          if n % i == 0:\n",
    "               array.append(i)\n",
    "               n //= i\n",
    "          else:\n",
    "               i += 1\n",
    "     return sorted(array, reverse=True)\n",
    "\n",
    "print(primes(72))\n",
    "assert primes(72) == [3, 3, 2, 2, 2]"
   ]
  },
  {
   "cell_type": "markdown",
   "metadata": {},
   "source": [
    "6. Napište funkci, která pomocí [Eratosthenova síta](https://cs.wikipedia.org/wiki/Eratosthenovo_s%C3%ADto) najde všechna prvočísla menší nebo rovna $n$."
   ]
  },
  {
   "cell_type": "code",
   "execution_count": 18,
   "metadata": {},
   "outputs": [
    {
     "name": "stdout",
     "output_type": "stream",
     "text": [
      "[2, 3, 4, 5, 6, 7, 8, 9, 10, 11]\n",
      "helperArray at start of loop: [2, 3, 4, 5, 6, 7, 8, 9, 10, 11]\n",
      "removing 2, helperArray now [3, 4, 5, 6, 7, 8, 9, 10, 11]\n",
      "removing 4, helperArray now [3, 5, 6, 7, 8, 9, 10, 11]\n",
      "removing 6, helperArray now [3, 5, 7, 8, 9, 10, 11]\n",
      "removing 8, helperArray now [3, 5, 7, 9, 10, 11]\n",
      "removing 10, helperArray now [3, 5, 7, 9, 11]\n",
      "helperArray at start of loop: [3, 5, 7, 9, 11]\n",
      "removing 3, helperArray now [5, 7, 9, 11]\n",
      "removing 9, helperArray now [5, 7, 11]\n",
      "helperArray at start of loop: [5, 7, 11]\n",
      "removing 5, helperArray now [7, 11]\n",
      "helperArray at start of loop: [7, 11]\n",
      "removing 7, helperArray now [11]\n",
      "helperArray at start of loop: [11]\n",
      "removing 11, helperArray now []\n"
     ]
    }
   ],
   "source": [
    "def eratosthenes(n):\n",
    "     primes = []\n",
    "     helperArray = []\n",
    "\n",
    "     for i in range(2, n+1):\n",
    "          helperArray.append(i)\n",
    "     print(helperArray)\n",
    "     \n",
    "     while len(helperArray) > 0:\n",
    "          print(f\"helperArray at start of loop: {helperArray}\")\n",
    "          currentNumber = helperArray[0]\n",
    "          primes.append(currentNumber)\n",
    "\n",
    "          for x in helperArray:\n",
    "               if x % currentNumber == 0:\n",
    "                    helperArray.remove(x)\n",
    "                    print(f\"removing {x}, helperArray now {helperArray}\")\n",
    "     return primes\n",
    "\n",
    "assert eratosthenes(11) == [2, 3, 5, 7, 11]"
   ]
  },
  {
   "cell_type": "markdown",
   "metadata": {},
   "source": [
    "7. Napište funkci, která vypíše $n$ řádků [Pascalova trojúhelníku](https://cs.wikipedia.org/wiki/Pascal%C5%AFv_troj%C3%BAheln%C3%ADk). Vytvořte pomocnou funkci, která spočte nový řádek na základě předchozího."
   ]
  },
  {
   "cell_type": "code",
   "execution_count": 57,
   "metadata": {},
   "outputs": [
    {
     "data": {
      "text/plain": [
       "{1: '                                                                                                                                                                                                    1                                                                                                                                                                                                    ',\n",
       " 2: '                                                                                                                                                                                                   1, 1                                                                                                                                                                                                   ',\n",
       " 3: '                                                                                                                                                                                                 1, 2, 1                                                                                                                                                                                                 ',\n",
       " 4: '                                                                                                                                                                                                1, 3, 3, 1                                                                                                                                                                                                ',\n",
       " 5: '                                                                                                                                                                                              1, 4, 6, 4, 1                                                                                                                                                                                              ',\n",
       " 6: '                                                                                                                                                                                            1, 5, 10, 10, 5, 1                                                                                                                                                                                            ',\n",
       " 7: '                                                                                                                                                                                          1, 6, 15, 20, 15, 6, 1                                                                                                                                                                                          ',\n",
       " 8: '                                                                                                                                                                                        1, 7, 21, 35, 35, 21, 7, 1                                                                                                                                                                                        ',\n",
       " 9: '                                                                                                                                                                                      1, 8, 28, 56, 70, 56, 28, 8, 1                                                                                                                                                                                      ',\n",
       " 10: '                                                                                                                                                                                   1, 9, 36, 84, 126, 126, 84, 36, 9, 1                                                                                                                                                                                   ',\n",
       " 11: '                                                                                                                                                                              1, 10, 45, 120, 210, 252, 210, 120, 45, 10, 1                                                                                                                                                                              ',\n",
       " 12: '                                                                                                                                                                            1, 11, 55, 165, 330, 462, 462, 330, 165, 55, 11, 1                                                                                                                                                                            ',\n",
       " 13: '                                                                                                                                                                         1, 12, 66, 220, 495, 792, 924, 792, 495, 220, 66, 12, 1                                                                                                                                                                         ',\n",
       " 14: '                                                                                                                                                                     1, 13, 78, 286, 715, 1287, 1716, 1716, 1287, 715, 286, 78, 13, 1                                                                                                                                                                     ',\n",
       " 15: '                                                                                                                                                                 1, 14, 91, 364, 1001, 2002, 3003, 3432, 3003, 2002, 1001, 364, 91, 14, 1                                                                                                                                                                 ',\n",
       " 16: '                                                                                                                                                             1, 15, 105, 455, 1365, 3003, 5005, 6435, 6435, 5005, 3003, 1365, 455, 105, 15, 1                                                                                                                                                             ',\n",
       " 17: '                                                                                                                                                        1, 16, 120, 560, 1820, 4368, 8008, 11440, 12870, 11440, 8008, 4368, 1820, 560, 120, 16, 1                                                                                                                                                        ',\n",
       " 18: '                                                                                                                                                    1, 17, 136, 680, 2380, 6188, 12376, 19448, 24310, 24310, 19448, 12376, 6188, 2380, 680, 136, 17, 1                                                                                                                                                    ',\n",
       " 19: '                                                                                                                                                1, 18, 153, 816, 3060, 8568, 18564, 31824, 43758, 48620, 43758, 31824, 18564, 8568, 3060, 816, 153, 18, 1                                                                                                                                                ',\n",
       " 20: '                                                                                                                                            1, 19, 171, 969, 3876, 11628, 27132, 50388, 75582, 92378, 92378, 75582, 50388, 27132, 11628, 3876, 969, 171, 19, 1                                                                                                                                            ',\n",
       " 21: '                                                                                                                                     1, 20, 190, 1140, 4845, 15504, 38760, 77520, 125970, 167960, 184756, 167960, 125970, 77520, 38760, 15504, 4845, 1140, 190, 20, 1                                                                                                                                     ',\n",
       " 22: '                                                                                                                                1, 21, 210, 1330, 5985, 20349, 54264, 116280, 203490, 293930, 352716, 352716, 293930, 203490, 116280, 54264, 20349, 5985, 1330, 210, 21, 1                                                                                                                                ',\n",
       " 23: '                                                                                                                            1, 22, 231, 1540, 7315, 26334, 74613, 170544, 319770, 497420, 646646, 705432, 646646, 497420, 319770, 170544, 74613, 26334, 7315, 1540, 231, 22, 1                                                                                                                            ',\n",
       " 24: '                                                                                                                     1, 23, 253, 1771, 8855, 33649, 100947, 245157, 490314, 817190, 1144066, 1352078, 1352078, 1144066, 817190, 490314, 245157, 100947, 33649, 8855, 1771, 253, 23, 1                                                                                                                     ',\n",
       " 25: '                                                                                                              1, 24, 276, 2024, 10626, 42504, 134596, 346104, 735471, 1307504, 1961256, 2496144, 2704156, 2496144, 1961256, 1307504, 735471, 346104, 134596, 42504, 10626, 2024, 276, 24, 1                                                                                                              ',\n",
       " 26: '                                                                                                         1, 25, 300, 2300, 12650, 53130, 177100, 480700, 1081575, 2042975, 3268760, 4457400, 5200300, 5200300, 4457400, 3268760, 2042975, 1081575, 480700, 177100, 53130, 12650, 2300, 300, 25, 1                                                                                                         ',\n",
       " 27: '                                                                                                    1, 26, 325, 2600, 14950, 65780, 230230, 657800, 1562275, 3124550, 5311735, 7726160, 9657700, 10400600, 9657700, 7726160, 5311735, 3124550, 1562275, 657800, 230230, 65780, 14950, 2600, 325, 26, 1                                                                                                    ',\n",
       " 28: '                                                                                             1, 27, 351, 2925, 17550, 80730, 296010, 888030, 2220075, 4686825, 8436285, 13037895, 17383860, 20058300, 20058300, 17383860, 13037895, 8436285, 4686825, 2220075, 888030, 296010, 80730, 17550, 2925, 351, 27, 1                                                                                             ',\n",
       " 29: '                                                                                      1, 28, 378, 3276, 20475, 98280, 376740, 1184040, 3108105, 6906900, 13123110, 21474180, 30421755, 37442160, 40116600, 37442160, 30421755, 21474180, 13123110, 6906900, 3108105, 1184040, 376740, 98280, 20475, 3276, 378, 28, 1                                                                                      ',\n",
       " 30: '                                                                               1, 29, 406, 3654, 23751, 118755, 475020, 1560780, 4292145, 10015005, 20030010, 34597290, 51895935, 67863915, 77558760, 77558760, 67863915, 51895935, 34597290, 20030010, 10015005, 4292145, 1560780, 475020, 118755, 23751, 3654, 406, 29, 1                                                                               ',\n",
       " 31: '                                                                       1, 30, 435, 4060, 27405, 142506, 593775, 2035800, 5852925, 14307150, 30045015, 54627300, 86493225, 119759850, 145422675, 155117520, 145422675, 119759850, 86493225, 54627300, 30045015, 14307150, 5852925, 2035800, 593775, 142506, 27405, 4060, 435, 30, 1                                                                       ',\n",
       " 32: '                                                                 1, 31, 465, 4495, 31465, 169911, 736281, 2629575, 7888725, 20160075, 44352165, 84672315, 141120525, 206253075, 265182525, 300540195, 300540195, 265182525, 206253075, 141120525, 84672315, 44352165, 20160075, 7888725, 2629575, 736281, 169911, 31465, 4495, 465, 31, 1                                                                 ',\n",
       " 33: '                                                         1, 32, 496, 4960, 35960, 201376, 906192, 3365856, 10518300, 28048800, 64512240, 129024480, 225792840, 347373600, 471435600, 565722720, 601080390, 565722720, 471435600, 347373600, 225792840, 129024480, 64512240, 28048800, 10518300, 3365856, 906192, 201376, 35960, 4960, 496, 32, 1                                                         ',\n",
       " 34: '                                                 1, 33, 528, 5456, 40920, 237336, 1107568, 4272048, 13884156, 38567100, 92561040, 193536720, 354817320, 573166440, 818809200, 1037158320, 1166803110, 1166803110, 1037158320, 818809200, 573166440, 354817320, 193536720, 92561040, 38567100, 13884156, 4272048, 1107568, 237336, 40920, 5456, 528, 33, 1                                                 ',\n",
       " 35: '                                         1, 34, 561, 5984, 46376, 278256, 1344904, 5379616, 18156204, 52451256, 131128140, 286097760, 548354040, 927983760, 1391975640, 1855967520, 2203961430, 2333606220, 2203961430, 1855967520, 1391975640, 927983760, 548354040, 286097760, 131128140, 52451256, 18156204, 5379616, 1344904, 278256, 46376, 5984, 561, 34, 1                                         ',\n",
       " 36: '                                  1, 35, 595, 6545, 52360, 324632, 1623160, 6724520, 23535820, 70607460, 183579396, 417225900, 834451800, 1476337800, 2319959400, 3247943160, 4059928950, 4537567650, 4537567650, 4059928950, 3247943160, 2319959400, 1476337800, 834451800, 417225900, 183579396, 70607460, 23535820, 6724520, 1623160, 324632, 52360, 6545, 595, 35, 1                                  ',\n",
       " 37: '                           1, 36, 630, 7140, 58905, 376992, 1947792, 8347680, 30260340, 94143280, 254186856, 600805296, 1251677700, 2310789600, 3796297200, 5567902560, 7307872110, 8597496600, 9075135300, 8597496600, 7307872110, 5567902560, 3796297200, 2310789600, 1251677700, 600805296, 254186856, 94143280, 30260340, 8347680, 1947792, 376992, 58905, 7140, 630, 36, 1                           ',\n",
       " 38: '                1, 37, 666, 7770, 66045, 435897, 2324784, 10295472, 38608020, 124403620, 348330136, 854992152, 1852482996, 3562467300, 6107086800, 9364199760, 12875774670, 15905368710, 17672631900, 17672631900, 15905368710, 12875774670, 9364199760, 6107086800, 3562467300, 1852482996, 854992152, 348330136, 124403620, 38608020, 10295472, 2324784, 435897, 66045, 7770, 666, 37, 1                ',\n",
       " 39: '       1, 38, 703, 8436, 73815, 501942, 2760681, 12620256, 48903492, 163011640, 472733756, 1203322288, 2707475148, 5414950296, 9669554100, 15471286560, 22239974430, 28781143380, 33578000610, 35345263800, 33578000610, 28781143380, 22239974430, 15471286560, 9669554100, 5414950296, 2707475148, 1203322288, 472733756, 163011640, 48903492, 12620256, 2760681, 501942, 73815, 8436, 703, 38, 1       ',\n",
       " 40: '1, 39, 741, 9139, 82251, 575757, 3262623, 15380937, 61523748, 211915132, 635745396, 1676056044, 3910797436, 8122425444, 15084504396, 25140840660, 37711260990, 51021117810, 62359143990, 68923264410, 68923264410, 62359143990, 51021117810, 37711260990, 25140840660, 15084504396, 8122425444, 3910797436, 1676056044, 635745396, 211915132, 61523748, 15380937, 3262623, 575757, 82251, 9139, 741, 39, 1'}"
      ]
     },
     "execution_count": 57,
     "metadata": {},
     "output_type": "execute_result"
    }
   ],
   "source": [
    "from math import factorial\n",
    "\n",
    "def pascal(z):\n",
    "     triangle = {}\n",
    "     for n in range(1, z+1):\n",
    "          array = []\n",
    "          for k in range(0, n):\n",
    "               currentNumber = int(factorial(n-1) / (factorial(k) * factorial((n-1) - k)))\n",
    "               array.append(currentNumber)\n",
    "          triangle[n] = array\n",
    "     return triangleGraphics(triangle, z)\n",
    "\n",
    "def triangleGraphics(object, n):\n",
    "     lastLineLength = len(str(object[n]))\n",
    "     for i in range(1, n+1):\n",
    "          length = len(str(object[i]))\n",
    "          spaces = (lastLineLength - length) // 2\n",
    "          row = str(object[i]).replace(\"[\", \"\").replace(\"]\", \"\")\n",
    "          object[i] = \" \" * spaces + row + \" \" * spaces\n",
    "     return object\n",
    "     \n",
    "pascal(40)"
   ]
  }
 ],
 "metadata": {
  "kernelspec": {
   "display_name": "Python 3",
   "language": "python",
   "name": "python3"
  },
  "language_info": {
   "codemirror_mode": {
    "name": "ipython",
    "version": 3
   },
   "file_extension": ".py",
   "mimetype": "text/x-python",
   "name": "python",
   "nbconvert_exporter": "python",
   "pygments_lexer": "ipython3",
   "version": "3.13.5"
  }
 },
 "nbformat": 4,
 "nbformat_minor": 4
}
