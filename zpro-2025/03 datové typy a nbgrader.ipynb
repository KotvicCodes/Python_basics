{
 "cells": [
  {
   "cell_type": "markdown",
   "metadata": {},
   "source": [
    "# V minulém díle jste viděli..."
   ]
  },
  {
   "cell_type": "markdown",
   "metadata": {},
   "source": [
    "- Jak efektivně psát na klávesnici – určitě všichni ovládáme nebo alespoň procvičujeme *psaní všemi deseti* 😃\n",
    "- Jak jsou kódovaná data v paměti počítače\n",
    "- Jak zadávat číselné hodnoty – převod textu získaného pomocí funkce `input` na číslo"
   ]
  },
  {
   "cell_type": "markdown",
   "metadata": {},
   "source": [
    "Funkce `input` _vždy vrátí textový objekt_, i když uživatel zadá číslo.\n",
    "Pokud chceme získat _číselný objekt_, musíme použít příslušnou funkci, která získá číselnou hodnotu z textu:\n",
    "\n",
    "- funkce `int` vrátí celé číslo:\n",
    "    ```python\n",
    "    a = int(input(\"Zadej celé číslo:\"))\n",
    "    ```\n",
    "- funkce `float` vrátí \"reálné\" číslo:\n",
    "    ```python\n",
    "    a = float(input(\"Zadej libovolné reálné číslo:\"))\n",
    "    ```"
   ]
  },
  {
   "cell_type": "markdown",
   "metadata": {},
   "source": [
    "# Datové typy a zápis hodnot v Pythonu"
   ]
  },
  {
   "cell_type": "markdown",
   "metadata": {},
   "source": [
    "V této sekci si ukážeme použití základních aritmetických typů v jazyku Python (`bool`, `int`, `float`, `complex`), podporované operátory a převod mezi různými typy.\n",
    "Naopak práci s textovými řetězci (typ `str`) odložíme na později.\n",
    "\n",
    "![](images/03/standard-type-hierarchy-numbers.svg)"
   ]
  },
  {
   "cell_type": "markdown",
   "metadata": {},
   "source": [
    "## Typ `bool` a speciální hodnota `None`"
   ]
  },
  {
   "cell_type": "markdown",
   "metadata": {},
   "source": [
    "Typ `bool` je datový typ umožňující reprezentovat pravdivostní hodnoty _pravda_ (_true_) a _nepravda_ (_false_), které se v jazyku Python zapisují pomocí konstant `True` a `False` (pozor na velká písmena!).\n",
    "Dále je možné použít funkci `bool` pro převod jiných datových typů a používat logické operátory `and`, `or`, `not`:"
   ]
  },
  {
   "cell_type": "code",
   "execution_count": 3,
   "metadata": {},
   "outputs": [
    {
     "name": "stdout",
     "output_type": "stream",
     "text": [
      "True\n"
     ]
    }
   ],
   "source": [
    "a = True\n",
    "b = 0\n",
    "print(a and not bool(b))"
   ]
  },
  {
   "cell_type": "markdown",
   "metadata": {},
   "source": [
    "__K zamyšlení a vyzkoušení:__ jaké další operátory jsou v Pythonu k dispozici pro hodnoty typu `bool`?"
   ]
  },
  {
   "cell_type": "markdown",
   "metadata": {},
   "source": [
    "V jazyku Python existuje další hodnota reprezentovaná konstantou `None`, která představuje \"prázdnou\" hodnotu.\n",
    "Lze ji použít např. pro inicializaci proměnné, kterou budeme dále v programu potřebovat, ale zatím pro ni nemáme žádnou užitečnou hodnotu.\n",
    "Hodnota `None` také může sloužit k zavedení ternární logiky v programu, ale na rozdíl od hodnot `True` a `False` má svůj vlastní typ (ne `bool` ani `int`, ale `NoneType`)."
   ]
  },
  {
   "cell_type": "markdown",
   "metadata": {},
   "source": [
    "## Typ `int`"
   ]
  },
  {
   "cell_type": "markdown",
   "metadata": {},
   "source": [
    "Typ `int` je datový typ pro reprezentaci celých čísel.\n",
    "Přípustné hodnoty jsou např. `0`, `1`, `2`, `3`, ..., a dále `-1`, `-2`, `-3`, ...\n",
    "Celá čísla se ve zdrojovém kódu jazyka Python běžně zadávají v desítkové soustavě, jako např.:"
   ]
  },
  {
   "cell_type": "code",
   "execution_count": 4,
   "metadata": {},
   "outputs": [
    {
     "name": "stdout",
     "output_type": "stream",
     "text": [
      "123456789\n"
     ]
    }
   ],
   "source": [
    "a = 123456789\n",
    "print(a)"
   ]
  },
  {
   "cell_type": "markdown",
   "metadata": {},
   "source": [
    "Omezení na zápis celých čísel ve zdrojovém kódu jsou v zásadě dvě: číselný zápis nesmí začínat nulou a mezi číslicemi nesmí být mezery:"
   ]
  },
  {
   "cell_type": "code",
   "execution_count": 5,
   "metadata": {},
   "outputs": [
    {
     "ename": "SyntaxError",
     "evalue": "leading zeros in decimal integer literals are not permitted; use an 0o prefix for octal integers (1225713507.py, line 1)",
     "output_type": "error",
     "traceback": [
      "\u001b[0;36m  Cell \u001b[0;32mIn[5], line 1\u001b[0;36m\u001b[0m\n\u001b[0;31m    a = 01\u001b[0m\n\u001b[0m        ^\u001b[0m\n\u001b[0;31mSyntaxError\u001b[0m\u001b[0;31m:\u001b[0m leading zeros in decimal integer literals are not permitted; use an 0o prefix for octal integers\n"
     ]
    }
   ],
   "source": [
    "a = 01"
   ]
  },
  {
   "cell_type": "code",
   "execution_count": 6,
   "metadata": {},
   "outputs": [
    {
     "ename": "SyntaxError",
     "evalue": "invalid syntax (2267069512.py, line 1)",
     "output_type": "error",
     "traceback": [
      "\u001b[0;36m  Cell \u001b[0;32mIn[6], line 1\u001b[0;36m\u001b[0m\n\u001b[0;31m    a = 123 456\u001b[0m\n\u001b[0m            ^\u001b[0m\n\u001b[0;31mSyntaxError\u001b[0m\u001b[0;31m:\u001b[0m invalid syntax\n"
     ]
    }
   ],
   "source": [
    "a = 123 456"
   ]
  },
  {
   "cell_type": "markdown",
   "metadata": {},
   "source": [
    "Naopak mezi číslicemi může vystupovat znak `_`, který slouží jako oddělovač pro člověka významných číslic, podobně jako např. mezery v zápisu telefonního čísla.\n",
    "Jakýkoliv výskyt znaku `_` však nezmění číselnou hodnotu."
   ]
  },
  {
   "cell_type": "code",
   "execution_count": 7,
   "metadata": {},
   "outputs": [
    {
     "name": "stdout",
     "output_type": "stream",
     "text": [
      "123456\n",
      "77888899\n"
     ]
    }
   ],
   "source": [
    "print(123_456)\n",
    "print(77_8888_99)"
   ]
  },
  {
   "cell_type": "markdown",
   "metadata": {},
   "source": [
    "### Zápis čísel v jiných soustavách"
   ]
  },
  {
   "cell_type": "markdown",
   "metadata": {},
   "source": [
    "Kromě desítkové soustavy lze pro zápis čísel v jazyku Python použít také dvojkovou (binární), osmičkovou nebo šestnáctkovou (hexadecimální) soustavu.\n",
    "Pro odlišení od desítkového zápisu se používají prefixy `0b`, `0o` a `0x`, za kterými následují číslice příslušné soustavy, přičemž první číslice za prefixem může být 0:\n",
    "\n",
    "- dvojková: `0b01`\n",
    "- osmičková: `0o01234567`\n",
    "- šestnáctková: `0x0123456789abcdef`"
   ]
  },
  {
   "cell_type": "markdown",
   "metadata": {},
   "source": [
    "V libovolné soustavě také můžeme použít oddělovač číslic `_` pro zlepšení čitelnosti kódu, např.:"
   ]
  },
  {
   "cell_type": "code",
   "execution_count": 8,
   "metadata": {},
   "outputs": [
    {
     "name": "stdout",
     "output_type": "stream",
     "text": [
      "22699\n"
     ]
    }
   ],
   "source": [
    "print(0b1011000_10101011)"
   ]
  },
  {
   "cell_type": "markdown",
   "metadata": {},
   "source": [
    "Všimněte si, že rozlišení číselných soustav vystupuje pouze na úrovni zdrojového kódu.\n",
    "Jak bylo řečeno, interně program pracuje vždy se dvojkovou soustavou.\n",
    "Naopak pro výstup jazyk Python používá desítkovou reprezentaci dané hodnoty (pokud mu neřekneme jinak):"
   ]
  },
  {
   "cell_type": "code",
   "execution_count": 9,
   "metadata": {},
   "outputs": [
    {
     "name": "stdout",
     "output_type": "stream",
     "text": [
      "11\n",
      "9\n",
      "17\n",
      "3\n"
     ]
    }
   ],
   "source": [
    "print(11)\n",
    "print(0o11)\n",
    "print(0x11)\n",
    "print(0b11)"
   ]
  },
  {
   "cell_type": "markdown",
   "metadata": {},
   "source": [
    "Pokud chceme vytisknout reprezentaci čísla v jiné soustavě než desítkové, můžeme použít některou z funkcí `bin`, `oct` a `hex`:"
   ]
  },
  {
   "cell_type": "code",
   "execution_count": 10,
   "metadata": {},
   "outputs": [
    {
     "name": "stdout",
     "output_type": "stream",
     "text": [
      "0b1011\n",
      "0o21\n",
      "0xf\n"
     ]
    }
   ],
   "source": [
    "print(bin(11))\n",
    "print(oct(0x11))\n",
    "print(hex(0b1111))"
   ]
  },
  {
   "cell_type": "markdown",
   "metadata": {},
   "source": [
    "Všechny tři funkce však vrací textový řetězec (typ `str`, na který se podrobně podíváme později), ale jako vstup očekávají číslo (typ `int`).\n",
    "Nelze je tedy skládat, např. výrazy jako `hex(bin(1))` nebo `oct(hex(1))` nebudou fungovat."
   ]
  },
  {
   "cell_type": "markdown",
   "metadata": {},
   "source": [
    "### Aritmetické operátory"
   ]
  },
  {
   "cell_type": "markdown",
   "metadata": {},
   "source": [
    "S číselnými hodnotami můžeme provádět různé aritmetické operace.\n",
    "V Pythonu jsou k dispozici tyto aritmetické operátory:\n",
    "\n",
    "Operace | Výsledek\n",
    "--------|---------\n",
    "`x + y` | součet hodnot $x$ a $y$\n",
    "`x - y` | rozdíl hodnot $x$ a $y$\n",
    "`x * y` | součin hodnot $x$ a $y$\n",
    "`x / y` | podíl hodnot $x$ a $y$\n",
    "`x // y` | celočíselný podíl hodnot $x$ a $y$\n",
    "`x % y` | zbytek po celočíselném dělení hodnot $x$ a $y$\n",
    "`-x` | hodnota $-x$\n",
    "`+x` | hodnota $x$\n",
    "`x ** y` | $x^y$ ($x$ \"na\" $y$)\n",
    "\n",
    "Jak uvidíme na dalších cvičeních, některé z těchto operátorů lze použít i pro hodnoty nečíselných typů, kde ale mají jiný význam."
   ]
  },
  {
   "cell_type": "markdown",
   "metadata": {},
   "source": [
    "### Příklad\n",
    "\n",
    "**Přesný čas**\n",
    "\n",
    "- Napište program, který zadaný čas ve vteřinách vypíše v hodinách, minutách a vteřinách. Případně i ve dnech a rocích.\n",
    "- Napište program, který zadaný čas ve dnech, hodinách, minutách a vteřinách vypíše ve vteřinách."
   ]
  },
  {
   "cell_type": "code",
   "execution_count": 9,
   "metadata": {},
   "outputs": [
    {
     "name": "stdin",
     "output_type": "stream",
     "text": [
      "Zadejte čas ve vteřinách 3600\n"
     ]
    },
    {
     "name": "stdout",
     "output_type": "stream",
     "text": [
      "1h 0min 0s \n"
     ]
    }
   ],
   "source": [
    "# Převod sekund na roky, dny, hodiny, minuty a sekundy\n",
    "seconds = int(input(\"Zadejte čas ve vteřinách\"))\n",
    "\n",
    "def convertSeconds(s):\n",
    "    mins = s // 60\n",
    "    s = s % 60\n",
    "    \n",
    "    h = mins // 60\n",
    "    mins = mins % 60\n",
    "\n",
    "    if(h >= 24):\n",
    "        day = h // 24\n",
    "        h = h % 24\n",
    "\n",
    "        if(day >= 365):\n",
    "            year = day // 365\n",
    "            day = day % 365\n",
    "            print(str(year) + \" years \" + str(day) + \" days \" + str(h) + \"h \" + str(mins) + \"min \" + str(s) + \"s \")\n",
    "            return\n",
    "\n",
    "        print(str(day) + \" days \" + str(h) + \"h \" + str(mins) + \"min \" + str(s) + \"s \")\n",
    "        return\n",
    "\n",
    "    print(str(h) + \"h \" + str(min) + \"min \" + str(s) + \"s \")\n",
    "\n",
    "convertSeconds(seconds)"
   ]
  },
  {
   "cell_type": "code",
   "execution_count": 33,
   "metadata": {},
   "outputs": [
    {
     "name": "stdin",
     "output_type": "stream",
     "text": [
      "Zadejte počet dní. 2\n",
      "Zadejte počet hodin. 2\n",
      "Zadejte počet minut. 2\n",
      "Zadejte počet sekund. 2\n"
     ]
    },
    {
     "name": "stdout",
     "output_type": "stream",
     "text": [
      "Gratuluji, celkem jste zadal 180122 sekund\n"
     ]
    }
   ],
   "source": [
    "# Převod jednotek času na sekundy\n",
    "day = int(input(\"Zadejte počet dní.\"))\n",
    "h = int(input(\"Zadejte počet hodin.\"))\n",
    "mins = int(input(\"Zadejte počet minut.\"))\n",
    "s = int(input(\"Zadejte počet sekund.\"))\n",
    "\n",
    "secondsTotal = s + 60 * (mins + 60 * (h + 24 * day))\n",
    "print(\"Gratuluji, celkem jste zadal \" + str(secondsTotal) + \" sekund\")"
   ]
  },
  {
   "cell_type": "markdown",
   "metadata": {},
   "source": [
    "## Typ `float`"
   ]
  },
  {
   "cell_type": "markdown",
   "metadata": {},
   "source": [
    "Typ `float` je datový typ pro reprezentaci \"reálných\" čísel.\n",
    "Tyto hodnoty můžeme ve zdrojovém kódu zapsat pomocí běžného zápisu s desetinnou tečkou, např. `1.5`, `2.0` nebo `2.` (výraz `2.` je ekvivalentní `2.0` a je _různý_ od `2`).\n",
    "Stejně jako v případě celých čísel i pro hodnoty typu `float` můžeme používat oddělovač `_`, a to jak před desetinnou tečkou, tak i za ní:"
   ]
  },
  {
   "cell_type": "code",
   "execution_count": 11,
   "metadata": {},
   "outputs": [
    {
     "name": "stdout",
     "output_type": "stream",
     "text": [
      "1234.5678\n"
     ]
    }
   ],
   "source": [
    "print(1_234.567_8)"
   ]
  },
  {
   "cell_type": "markdown",
   "metadata": {},
   "source": [
    "Kromě zápisu v klasickém tvaru s desetinnou tečkou můžeme pro zápis \"reálných\" čísel použít tzv. _exponentový_ tvar, ve kterém použijeme písmeno `e` nebo `E`, za něž zapíšeme číslo oznamující, kolikátou mocninou deseti se má vynásobit číslo zadané vlevo od znaku `e`, resp. `E`.\n",
    "Python tento tvar používá také v některých případech pro výpis:"
   ]
  },
  {
   "cell_type": "code",
   "execution_count": 12,
   "metadata": {},
   "outputs": [
    {
     "name": "stdout",
     "output_type": "stream",
     "text": [
      "0.123\n",
      "123000.0\n",
      "1.2345678901234568e+28\n"
     ]
    }
   ],
   "source": [
    "print(123e-3)\n",
    "print(123e3)\n",
    "print(123_456_789_0_123_456_789_0_123_456_789.)"
   ]
  },
  {
   "cell_type": "markdown",
   "metadata": {},
   "source": [
    "Všimněte si, že při výpisu posledního čísla Python nevypsal všechny číslice, které se vyskytují v zápisu čísla ve zdrojovém kódu.\n",
    "To ale neznamená, že s nimi program nepracuje.\n",
    "Při převodu desetinného čísla do dvojkové soustavy a uložení v paměti počítače sice může dojít k zaokrouhlení, ale k dalšímu zaokrouhlení s ještě menší přesností dochází při výpisu čísla v desítkové soustavě.\n",
    "Toto chování je kvůli pohodlí uživatele. Později si ukážeme, jak ovlivnit přesnost vypisovaných čísel."
   ]
  },
  {
   "cell_type": "markdown",
   "metadata": {},
   "source": [
    "S hodnotami typu `float` můžeme provádět všechny aritmetické operace stejně jako pro typ `int`, viz [tabulka výše](#Aritmetické-operátory).\n",
    "\n",
    "__K zamyšlení a vyzkoušení:__ jak funguje celočíselné dělení pro necelá čísla?"
   ]
  },
  {
   "cell_type": "code",
   "execution_count": 15,
   "metadata": {},
   "outputs": [
    {
     "name": "stdout",
     "output_type": "stream",
     "text": [
      "1.0\n",
      "0.542\n"
     ]
    }
   ],
   "source": [
    "print(1.542 // 1)\n",
    "print(1.542 % 1)"
   ]
  },
  {
   "cell_type": "markdown",
   "metadata": {},
   "source": [
    "Číselné hodnoty můžeme v programu převádět z typu `int` na typ `float` a opačně.\n",
    "Explicitní převod typu pro danou hodnotu vyvoláme, pokud `int` nebo `float` použijeme jako funkci:"
   ]
  },
  {
   "cell_type": "code",
   "execution_count": 13,
   "metadata": {},
   "outputs": [
    {
     "name": "stdout",
     "output_type": "stream",
     "text": [
      "1\n",
      "2.0\n"
     ]
    }
   ],
   "source": [
    "print(int(1.5))\n",
    "print(float(2))"
   ]
  },
  {
   "cell_type": "markdown",
   "metadata": {},
   "source": [
    "K převodu typu může dojít také implicitně, např. pokud sčítáme hodnotu typu `int` s hodnotou typu `float`, přičemž výsledek bude \"většího\" typu `float`.\n",
    "\n",
    "Všimněte si, že funkce `int` zaokrouhluje vždy směrem dolů, tj. odsekne a zahodí desetinnou část daného čísla.\n",
    "Pokud chceme zaokrouhlení směrem k nejbližšímu celému číslu, poslouží nám funkce `round`:"
   ]
  },
  {
   "cell_type": "code",
   "execution_count": 14,
   "metadata": {},
   "outputs": [
    {
     "name": "stdout",
     "output_type": "stream",
     "text": [
      "2\n"
     ]
    }
   ],
   "source": [
    "print(round(1.5))"
   ]
  },
  {
   "cell_type": "markdown",
   "metadata": {},
   "source": [
    "# Matematické funkce a konstanty"
   ]
  },
  {
   "cell_type": "markdown",
   "metadata": {},
   "source": [
    "Kromě aritmetických operátorů je často potřeba při práci s číselnými hodnotami použít nějakou matematickou funkci.\n",
    "Nejzákladnější funkce `abs`, `min` a `max` jsou v jazyku Python k dispozici přímo.\n",
    "Poznamenejme, že funkce `min` a `max` mají dva nebo více číselných parametrů a funkce `abs` má jeden číselný parametr."
   ]
  },
  {
   "cell_type": "code",
   "execution_count": 22,
   "metadata": {},
   "outputs": [
    {
     "name": "stdout",
     "output_type": "stream",
     "text": [
      "2\n"
     ]
    }
   ],
   "source": [
    "a = -1\n",
    "b = 2\n",
    "c = min(a, b)\n",
    "d = max(a, b, c)\n",
    "e = abs(d) \n",
    "print(d)"
   ]
  },
  {
   "cell_type": "markdown",
   "metadata": {},
   "source": [
    "Další matematické funkce jako např. `sqrt` (odmocnina), `sin` nebo `cos` nejsou k dispozici přímo, ale v tzv. _modulu_.\n",
    "__Moduly__ jsou v jazyku Python ucelené části zdrojového kódu, které obsahují proměnné, funkce a další objekty.\n",
    "V první řadě je potřeba říci, že Python poskytuje širokou _standardní knihovnu_ složenou z mnoha modulů, které programátorům usnadňují život.\n",
    "Jeden z takových modulů je modul `math` obsahující matematické funkce a konstanty.\n",
    "\n",
    "Abychom obsah modulu zpřístupnili, musíme jej nejprve _importovat_ pomocí příkazu `import`.\n",
    "K objektům v modulu se potom dostaneme pomocí tečkové notace:"
   ]
  },
  {
   "cell_type": "code",
   "execution_count": 23,
   "metadata": {},
   "outputs": [
    {
     "name": "stdout",
     "output_type": "stream",
     "text": [
      "Číslo π je přibližně 3.141592653589793\n",
      "Hodnota cos(π) je  -1.0\n"
     ]
    }
   ],
   "source": [
    "import math\n",
    "\n",
    "print(\"Číslo π je přibližně\", math.pi)\n",
    "print(\"Hodnota cos(π) je \", math.cos(math.pi))"
   ]
  },
  {
   "cell_type": "markdown",
   "metadata": {},
   "source": [
    "Alternativním způsobem importování je zápis `from math import ...`, kde místo `...` napíšeme seznam identifikátorů, které chceme importovat, oddělených čárkami.\n",
    "Na rozdíl od předchozího způsobu pak nemusíme používat tečkovou notaci a importované objekty máme k dispozici přímo.\n",
    "Předchozí příklad tedy můžeme přepsat následovně:"
   ]
  },
  {
   "cell_type": "code",
   "execution_count": 24,
   "metadata": {},
   "outputs": [
    {
     "name": "stdout",
     "output_type": "stream",
     "text": [
      "Číslo π je přibližně 3.141592653589793\n",
      "Hodnota cos(π) je  -1.0\n"
     ]
    }
   ],
   "source": [
    "from math import pi, cos\n",
    "\n",
    "print(\"Číslo π je přibližně\", pi)\n",
    "print(\"Hodnota cos(π) je \", cos(pi))"
   ]
  },
  {
   "cell_type": "markdown",
   "metadata": {},
   "source": [
    "Místo seznamu identifikátorů můžeme z modulu importovat vše pomocí příkazu `from math import *`.\n",
    "To nám ušetří práci s psaním dlouhého seznamu názvů, ale na druhou stranu se tím zvýší pravděpodobnost kolize mezi názvy importovaných objektů a námi definovaných proměnných a funkcí."
   ]
  },
  {
   "cell_type": "markdown",
   "metadata": {},
   "source": [
    "K tématu modulů se během semestru ještě několikrát vrátíme.\n",
    "Naučíme se používat další funkce a třídy dostupné v modulech standardní knihovny a také se naučíme tvořit vlastní moduly pro přehlednější strukturování vlastního programu."
   ]
  },
  {
   "cell_type": "markdown",
   "metadata": {},
   "source": [
    "# Příklady"
   ]
  },
  {
   "cell_type": "markdown",
   "metadata": {},
   "source": [
    "1. Napište program, který se uživatele zeptá na jeho hmotnost a pomocí průměrné hustoty lidského těla ($1000~kg/m^3$) spočítá jeho objem. Jaký by měl uživatel průměr, pokud by měl tvar koule?"
   ]
  },
  {
   "cell_type": "code",
   "execution_count": 26,
   "metadata": {},
   "outputs": [
    {
     "name": "stdin",
     "output_type": "stream",
     "text": [
      "Zadejte svojí hmotnost v kg. 58\n"
     ]
    },
    {
     "name": "stdout",
     "output_type": "stream",
     "text": [
      "Váš objem jest 58.0 dm^3\n",
      "Byl-li byste koule, váš průměr by byl 0.4802600448448949m\n"
     ]
    }
   ],
   "source": [
    "from math import pi \n",
    "# Objem uživatele\n",
    "## ro = m / V\n",
    "m = float(input(\"Zadejte svojí hmotnost v kg.\"))\n",
    "ro = 1000\n",
    "V = m / ro * 1000\n",
    "\n",
    "print(\"Váš objem jest\", V, \"dm^3\")\n",
    "\n",
    "# Uživatel jako koule\n",
    "## V = 4/3 πr^3\n",
    "r = ((3 * (V / 1000) / (4 * pi)) ** (1/3))\n",
    "print(\"Byl-li byste koule, váš průměr by byl \" + str(2 * r) + \"m\")"
   ]
  },
  {
   "cell_type": "markdown",
   "metadata": {},
   "source": [
    "2.  **Objemy a povrchy geometrických těles**\n",
    "    - Napište program, který spočítá objem a povrch koule o průměru $d$, který zadá uživatel.\n",
    "    - Napište program, který spočítá objem a povrch pravidelného čtyřbokého jehlanu se základnou o straně délky $a$ a výškou délky $v$.\n",
    "    - Napište program, který spočítá obvod a plochu [pravidelného mnohoúhelníku](https://cs.wikipedia.org/wiki/Pravideln%C3%BD_mnoho%C3%BAheln%C3%ADk) o straně délky $a$. "
   ]
  },
  {
   "cell_type": "code",
   "execution_count": 40,
   "metadata": {},
   "outputs": [
    {
     "name": "stdin",
     "output_type": "stream",
     "text": [
      "Zadejte průměr koule 10\n"
     ]
    },
    {
     "name": "stdout",
     "output_type": "stream",
     "text": [
      "Vaše koule má povrch 314.1592653589793j^2\n",
      "Vaše koule má objem 523.5987755982989j^3\n"
     ]
    }
   ],
   "source": [
    "# Povrch a Objem koule\n",
    "from math import pi\n",
    "d = float(input(\"Zadejte průměr koule\"))\n",
    "r = d / 2\n",
    "\n",
    "S = 4 * pi * r ** 2\n",
    "V = 4 / 3 * pi * r ** 3\n",
    "\n",
    "print(\"Vaše koule má povrch \" + str(S) + \"j^2\")\n",
    "print(\"Vaše koule má objem \" + str(V) + \"j^3\")"
   ]
  },
  {
   "cell_type": "code",
   "execution_count": 44,
   "metadata": {},
   "outputs": [
    {
     "name": "stdin",
     "output_type": "stream",
     "text": [
      "Zadejte délku strany pravidelného čtyřbokého jehlanu. 5\n",
      "Zadejte výšku pravidelného čtyřbokého jehlanu. 6\n"
     ]
    },
    {
     "name": "stdout",
     "output_type": "stream",
     "text": [
      "Povrch vašeho pravidelného čtyřbokého jehlanu je 90.0j^2\n",
      "Objem vašeho pravidelného čtyřbokého jehlanu je 50.0j^3\n"
     ]
    }
   ],
   "source": [
    "# Povrch a objem čtyřbokého jehlanu\n",
    "from math import sqrt\n",
    "\n",
    "a = float(input(\"Zadejte délku strany pravidelného čtyřbokého jehlanu.\"))\n",
    "v = float(input(\"Zadejte výšku pravidelného čtyřbokého jehlanu.\"))\n",
    "\n",
    "S = a ** 2 + 4 * (a * sqrt(v ** 2 + (a / 2) ** 2)) / 2\n",
    "V = 1/3 * a**2 * v\n",
    "\n",
    "print(\"Povrch vašeho pravidelného čtyřbokého jehlanu je \" + str(round(S, 3)) + \"j^2\")\n",
    "print(\"Objem vašeho pravidelného čtyřbokého jehlanu je \" + str(round(V, 3)) + \"j^3\")"
   ]
  },
  {
   "cell_type": "code",
   "execution_count": 4,
   "metadata": {},
   "outputs": [
    {
     "name": "stdin",
     "output_type": "stream",
     "text": [
      "Zadejte počet stran vašeho pravidelného n-úhelníku 3\n",
      "Vložte stranu vašeho 3-úhelníku 3\n"
     ]
    },
    {
     "name": "stdout",
     "output_type": "stream",
     "text": [
      "Obvod vašeho pravidelného3-úhelníku je: 9.0j\n",
      "Plocha vašeho pravidelného3-úhelníku je: 3.897j^2\n"
     ]
    }
   ],
   "source": [
    "# Obvod a plocha pravidelného núhelníku\n",
    "from math import pi, tan\n",
    "\n",
    "n = int(input(\"Zadejte počet stran vašeho pravidelného n-úhelníku\"))\n",
    "a = float(input(\"Vložte stranu vašeho \" + str(n) + \"-úhelníku\"))\n",
    "\n",
    "cotan = 1 / tan(pi / n)\n",
    "\n",
    "o = n * a\n",
    "S = 1/4 * n * a**2 * cotan\n",
    "\n",
    "print(\"Obvod vašeho pravidelného\" + str(n) + \"-úhelníku je: \" + str(round(o, 3)) + \"j\")\n",
    "print(\"Plocha vašeho pravidelného\" + str(n) + \"-úhelníku je: \" + str(round(S, 3)) + \"j^2\")"
   ]
  },
  {
   "cell_type": "markdown",
   "metadata": {},
   "source": [
    "3. **Pravidelné mnohostěny** Napište program, který spočítá objem a povrch pravidelného [čtyřstěnu](https://cs.wikipedia.org/wiki/%C4%8Cty%C5%99st%C4%9Bn), [krychle](https://cs.wikipedia.org/wiki/Krychle), pravidelného [osmistěnu](https://cs.wikipedia.org/wiki/Osmist%C4%9Bn), pravidelného [dvanáctistěnu](https://cs.wikipedia.org/wiki/Dvan%C3%A1ctist%C4%9Bn) a pravidelného [dvacetistěnu](https://cs.wikipedia.org/wiki/Dvacetist%C4%9Bn)."
   ]
  },
  {
   "cell_type": "code",
   "execution_count": 5,
   "metadata": {},
   "outputs": [
    {
     "name": "stdout",
     "output_type": "stream",
     "text": [
      "Select 1 for a tetrahedron (4 sides)\n",
      "Select 2 for a cube (6 sides)\n",
      "Select 3 for a octahedron (8 sides)\n",
      "Select 4 for a dodecahedron (12 sides)\n",
      "Select 5 for a icosahedron (20 sides)\n"
     ]
    },
    {
     "name": "stdin",
     "output_type": "stream",
     "text": [
      "Your input 2\n",
      "Input a side of your body 10\n"
     ]
    },
    {
     "name": "stdout",
     "output_type": "stream",
     "text": [
      "Surface: 600.0 units^2\n",
      "Surface: 1000.0 units^3\n"
     ]
    }
   ],
   "source": [
    "# Surface & volume calc for tetrahedrons, cubes, octahedrons dodecahedrons, icosahedrons\n",
    "def surfaceAndVolumeFinder():\n",
    "    print(\"Select 1 for a tetrahedron (4 sides)\")\n",
    "    print(\"Select 2 for a cube (6 sides)\")\n",
    "    print(\"Select 3 for a octahedron (8 sides)\")\n",
    "    print(\"Select 4 for a dodecahedron (12 sides)\")\n",
    "    print(\"Select 5 for a icosahedron (20 sides)\")\n",
    "    \n",
    "    bodyType = int(input(\"Your input\"))\n",
    "    if bodyType not in [1, 2, 3, 4, 5]:\n",
    "        print(\"Please select a valid option.\")\n",
    "        return\n",
    "    else:\n",
    "        a = float(input(\"Input a side of your body\"))\n",
    "    \n",
    "    if bodyType == 1:\n",
    "        coeficientForS = sqrt(3)\n",
    "        coeficientForV = 1 / (6 * sqrt(2))\n",
    "    elif bodyType == 2:\n",
    "        coeficientForS = 6\n",
    "        coeficientForV = 1\n",
    "    elif bodyType == 3:\n",
    "        coeficientForS = 2 * sqrt(3)\n",
    "        coeficientForV = sqrt(2) / 3\n",
    "    elif bodyType == 4:\n",
    "        coeficientForS = 3 * sqrt(25 + 10 * sqrt(5))\n",
    "        coeficientForV = (15 + 7 * sqrt(5)) / 4\n",
    "    elif bodyType == 5:\n",
    "        coeficientForS = 5 * sqrt(3)\n",
    "        coeficientForV = (5 * (3 + sqrt(5))) / 12\n",
    "    \n",
    "    S = coeficientForS * a**2\n",
    "    V = coeficientForV * a**3\n",
    "\n",
    "    print(f\"Surface: {S} units^2\")\n",
    "    print(f\"Volume: {V} units^3\")\n",
    "surfaceAndVolumeFinder()"
   ]
  },
  {
   "cell_type": "markdown",
   "metadata": {},
   "source": [
    "4. **Šitý fotbalový míč** Napište program, který spočítá délku švů na fotbalovém míči tvaru [komolého dvacetistěnu](https://cs.wikipedia.org/wiki/Komol%C3%BD_dvacetist%C4%9Bn) o poloměru $r$."
   ]
  },
  {
   "cell_type": "code",
   "execution_count": 1,
   "metadata": {},
   "outputs": [
    {
     "name": "stdin",
     "output_type": "stream",
     "text": [
      "Define r of such ball in any units (j) 4\n"
     ]
    },
    {
     "name": "stdout",
     "output_type": "stream",
     "text": [
      "The length of such thread would be 145.27735644067116j long\n"
     ]
    }
   ],
   "source": [
    "# Ball thread quantificator\n",
    "from math import sqrt\n",
    "r = float(input(\"Define r of such ball in any units (j)\"))\n",
    "\n",
    "a = 4 * r / (sqrt(58 + 18 * sqrt(5)))\n",
    "d = 90 * a\n",
    "\n",
    "print(f\"The length of such thread would be {d}j\")"
   ]
  },
  {
   "cell_type": "markdown",
   "metadata": {},
   "source": [
    "# Rozšíření nbgrader\n",
    "\n",
    "V prostředí [JupyterHub](https://jupyter.fjfi.cvut.cz/) je nainstalované rozšíření **nbgrader**, které budeme používat pro zadávání a odevzdávání úkolů.\n",
    "Studentský pohled představuje nabídka **Assignment List**, kterou najdete v menu:\n",
    "\n",
    "![](images/03/nbgrader-1.png)\n",
    "\n",
    "Po kliknutí se otevře nová záložka s nabídkou kurzů, ve kterých je přihlášený uživatel studentem.\n",
    "Dokud není zadaný žádný úkol, tento seznam je prázdný:\n",
    "\n",
    "![](images/03/nbgrader-2.png)\n",
    "\n",
    "Také se objeví \"no courses found\", což však není chyba – znamená to, že zatím není zadaný žádný úkol.\n",
    "Po zadání prvního úkolu se v nabídce objeví název kurzu s aktuálním rokem: `zpro2025`.\n",
    "\n",
    "<div style=\"border-left: 5px solid #08c; padding-left: 1em\">\n",
    "<strong>Poznámka:</strong> Následující obrázky jsou z minulého roku, až na jiný obsah je však rozvržení všech prvků stejné.\n",
    "</div>\n",
    "\n",
    "Po zveřejnění nového úkolu se objeví další položka v seznamu \"Released assignments\":\n",
    "\n",
    "![](images/03/nbgrader-3.png)\n",
    "\n",
    "Kliknutím na tlačítko \"Fetch\" se stáhnou soubory pro daný úkol do vašeho domovského adresáře a objeví se příslušná položka v seznamu \"Downloaded assignments\":\n",
    "\n",
    "![](images/03/nbgrader-4.png)\n",
    "\n",
    "Klikněte na název úkolu (viz červený rámeček výše) a poté na název souboru (o řádek níže, viz červený rámeček na dalším obrázku):\n",
    "\n",
    "![](images/03/nbgrader-5.png)\n",
    "\n",
    "Tím se v nové záložce otevře Jupyter notebook se zadáním úkolu, který může vypadat např. takto:\n",
    "\n",
    "![](images/03/nbgrader-6.png)\n",
    "\n",
    "V zadání je typicky několik buněk, které byste neměli měnit.\n",
    "Buňka, ve které je potřeba vypracovat zadaný úkol, je označena komentářem `YOUR CODE HERE`.\n",
    "V tomto ukázkovém příkladu je potřeba nahradit celý obsah buňky, v budoucích úkolech však může být předpřipravený kód, který je potřeba dokončit.\n",
    "\n",
    "<div style=\"border-left: 5px solid #08c; padding-left: 1em\">\n",
    "<strong>Poznámka:</strong> První úkol obsahuje podrobnější <em>návod k použití</em> před samotným zadáním.\n",
    "</div>\n",
    "\n",
    "Při programování úkolu můžete využít tlačítko \"Validate\", kterým se spustí kontrola testů, které byly zveřejněny spolu s úkolem.\n",
    "Dále může úkol obsahovat **skryté testy**, které studenti nevidí, ale provedou se při kontrole úkolu vyučujícím.\n",
    "\n",
    "Jakmile jste dostatečně spokojeni se svým řešením, zkontrolujte, že **notebook s úkolem je uložený** (stiskněte `Ctrl+S`).\n",
    "Poté přejděte zpět na záložku \"Assignments\", pro jistotu znovu použijte tlačítko \"Validate\" a odevzdejte úkol pomocí tlačítka \"Submit\":\n",
    "\n",
    "![](images/03/nbgrader-8.png)\n",
    "![](images/03/nbgrader-9.png)\n",
    "\n",
    "Po odevzdání se objeví nová položka v seznamu \"Submitted assignments\" s časem odevzdání a tlačítko \"Fetch Feedback\", které v této chvíli nemá žádný efekt:\n",
    "\n",
    "![](images/03/nbgrader-10.png)\n",
    "\n",
    "Teprve po zkontrolování úkolu vyučujícím a zveřejnění hodnocení, což může trvat několik dní, tlačítko \"Fetch Feedback\" stáhne report s ohodnoceným úkolem.\n",
    "Kliknutím na odkaz \"view feedback\" se v průzkumníku souborů nalevo zobrazí HTML soubor, který můžete otevřít a podívat se na své hodnocení.\n",
    "\n",
    "![](images/03/nbgrader-11.png)\n",
    "\n",
    "![](images/03/nbgrader-12.png)\n",
    "\n",
    "Report obsahuje bodové ohodnocení buněk na základě vykonání automatických testů a případně také osobní vyjádření vyučujícího.\n",
    "Také se vám zobrazí kód skrytých testů, v této ukázce jsou však zastřeny:\n",
    "\n",
    "![](images/03/nbgrader-13.png)"
   ]
  },
  {
   "cell_type": "markdown",
   "metadata": {},
   "source": [
    "### Poznámky a omezení\n",
    "\n",
    "- Rozšíření nbgrader ve svém rozhraní neumožňuje studentům zobrazit *deadline* pro daný úkol. Datum tedy budeme ručně psát v textu samotného zadání.\n",
    "- Systém umožňuje opakované odevzdání úkolu. Před oznámkováním a zveřejněním výsledků to můžete využívat, výsledný report pak bude odpovídat poslední odevzdané verzi. Po oznámkování a zveřejnění výsledků se již oprava úkolu nijak neprojeví."
   ]
  }
 ],
 "metadata": {
  "kernelspec": {
   "display_name": "Python 3 (ipykernel)",
   "language": "python",
   "name": "python3"
  },
  "language_info": {
   "codemirror_mode": {
    "name": "ipython",
    "version": 3
   },
   "file_extension": ".py",
   "mimetype": "text/x-python",
   "name": "python",
   "nbconvert_exporter": "python",
   "pygments_lexer": "ipython3",
   "version": "3.13.7"
  }
 },
 "nbformat": 4,
 "nbformat_minor": 4
}
