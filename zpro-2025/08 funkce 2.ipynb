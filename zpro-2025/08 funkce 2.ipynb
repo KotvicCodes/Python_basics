{
 "cells": [
  {
   "cell_type": "markdown",
   "metadata": {},
   "source": [
    "# V minulém díle jste viděli..."
   ]
  },
  {
   "cell_type": "markdown",
   "metadata": {},
   "source": [
    "Příkaz `def` slouží k definici funkce s daným názvem a seznamem parametrů v kulatých závorkách:"
   ]
  },
  {
   "cell_type": "code",
   "execution_count": null,
   "metadata": {},
   "outputs": [],
   "source": [
    "def print_demo2(param1, param2):\n",
    "    print(\"Hodnota prvního parametru je\", param1)\n",
    "    print(\"Hodnota druhého parametru je\", param2)"
   ]
  },
  {
   "cell_type": "markdown",
   "metadata": {},
   "source": [
    "Pokud není řečeno jinak, výsledkem funkce je prázdná hodnota `None`.\n",
    "Jiné výsledné hodnoty můžeme vrátit pomocí příkazu `return`, který okamžitě ukončí vykonávání funkce a vrátí výsledek:"
   ]
  },
  {
   "cell_type": "code",
   "execution_count": null,
   "metadata": {},
   "outputs": [
    {
     "name": "stdout",
     "output_type": "stream",
     "text": [
      "Definiční obor této funkce nezahrnuje záporná čísla.\n",
      "None\n"
     ]
    }
   ],
   "source": [
    "def polynom(x):\n",
    "    if x < 0:\n",
    "        print(\"Definiční obor této funkce nezahrnuje záporná čísla.\")\n",
    "        return\n",
    "    return x ** 2 - 3 * x + 1\n",
    "\n",
    "vysledek = polynom(-1)\n",
    "print(vysledek)"
   ]
  },
  {
   "cell_type": "markdown",
   "metadata": {},
   "source": [
    "Proměnné definované uvnitř funkce jsou **lokální** a jejich rozsah je omezen na tělo příslušné funkce, po skončení funkce přestanou její lokální proměnné existovat.\n",
    "Platí to i pro **proměnné se stejným názvem, jako objekty definované mimo funkci!**"
   ]
  },
  {
   "cell_type": "markdown",
   "metadata": {},
   "source": [
    "# Další vlastnosti funkcí"
   ]
  },
  {
   "cell_type": "markdown",
   "metadata": {},
   "source": [
    "## Parametry s výchozí hodnotou\n",
    "\n",
    "Jazyk Python umožňuje při definici funkce zadat výchozí (_defaultní_) hodnoty pro parametry, které se použijí v případě, že programátor při volání funkce nepředá jiné hodnoty.\n",
    "To se hodí, pokud se domníváte, že funkce bude často používána s jednou konkrétní hodnotou pro určitý parametr, ale pro speciální případy chcete umožnit jeho změnu.\n",
    "Základní demonstrační příklad takové funkce je:"
   ]
  },
  {
   "cell_type": "code",
   "execution_count": 14,
   "metadata": {},
   "outputs": [],
   "source": [
    "def demo_funkce_s_mnoha_parametry(param1, param2, param3=10, param4=None):\n",
    "    print(\"param1 je\", param1)\n",
    "    print(\"param2 je\", param2)\n",
    "    print(\"param3 je\", param3)\n",
    "    print(\"param4 je\", param4)"
   ]
  },
  {
   "cell_type": "markdown",
   "metadata": {},
   "source": [
    "Všimněte si, že parametry s výchozí hodnotou musí být v seznamu parametrů za všemi parametry bez výchozí hodnoty.\n",
    "Nelze tedy např. definovat výchozí hodnotu pro `param1`, ale ne pro `param2`.\n",
    "\n",
    "Funkci `demo_funkce_s_mnoha_parametry` teď můžeme použít se dvěma, třemi nebo čtyřmi argumenty:"
   ]
  },
  {
   "cell_type": "code",
   "execution_count": 15,
   "metadata": {},
   "outputs": [
    {
     "name": "stdout",
     "output_type": "stream",
     "text": [
      "param1 je 1\n",
      "param2 je 2\n",
      "param3 je 10\n",
      "param4 je None\n"
     ]
    }
   ],
   "source": [
    "demo_funkce_s_mnoha_parametry(1, 2)"
   ]
  },
  {
   "cell_type": "code",
   "execution_count": 16,
   "metadata": {},
   "outputs": [
    {
     "name": "stdout",
     "output_type": "stream",
     "text": [
      "param1 je 1\n",
      "param2 je 2\n",
      "param3 je 3\n",
      "param4 je None\n"
     ]
    }
   ],
   "source": [
    "demo_funkce_s_mnoha_parametry(1, 2, 3)"
   ]
  },
  {
   "cell_type": "code",
   "execution_count": 17,
   "metadata": {},
   "outputs": [
    {
     "name": "stdout",
     "output_type": "stream",
     "text": [
      "param1 je 1\n",
      "param2 je 2\n",
      "param3 je 3\n",
      "param4 je 4\n"
     ]
    }
   ],
   "source": [
    "demo_funkce_s_mnoha_parametry(1, 2, 3, 4)"
   ]
  },
  {
   "cell_type": "markdown",
   "metadata": {},
   "source": [
    "## Poziční vs. pojmenované argumenty\n",
    "\n",
    "V předchozích příkladech jsme zatím vždy používali tzv. _poziční_ způsob předávání argumentů, kde se jednotlivé hodnoty přiřazují definovaným parametrům dle jejich pořadí v kulatých závorkách.\n",
    "Tento způsob může být značně nepřehledný, pokud má funkce velké množství parametrů.\n",
    "Proto jazyk Python umožňuje také předávání tzv. _pojmenovaných argumentů_ (anglicky _keyword arguments_), kde na pořadí nezáleží a hodnoty se parametrům přiřadí dle jména (jméno argumentu musí odpovídat jménu parametru).\n",
    "\n",
    "V předchozím příkladu tedy místo `demo_funkce_s_mnoha_parametry(1, 2, 3, 4)` můžeme ekvivalentně použít např. libovolné z těchto volání:"
   ]
  },
  {
   "cell_type": "code",
   "execution_count": 18,
   "metadata": {},
   "outputs": [
    {
     "name": "stdout",
     "output_type": "stream",
     "text": [
      "param1 je 1\n",
      "param2 je 2\n",
      "param3 je 3\n",
      "param4 je 4\n"
     ]
    }
   ],
   "source": [
    "demo_funkce_s_mnoha_parametry(param1=1, param2=2, param3=3, param4=4)"
   ]
  },
  {
   "cell_type": "code",
   "execution_count": 19,
   "metadata": {},
   "outputs": [
    {
     "name": "stdout",
     "output_type": "stream",
     "text": [
      "param1 je 1\n",
      "param2 je 2\n",
      "param3 je 3\n",
      "param4 je 4\n"
     ]
    }
   ],
   "source": [
    "demo_funkce_s_mnoha_parametry(param2=2, param1=1, param4=4, param3=3)"
   ]
  },
  {
   "cell_type": "code",
   "execution_count": 20,
   "metadata": {},
   "outputs": [
    {
     "name": "stdout",
     "output_type": "stream",
     "text": [
      "param1 je 1\n",
      "param2 je 2\n",
      "param3 je 3\n",
      "param4 je 4\n"
     ]
    }
   ],
   "source": [
    "demo_funkce_s_mnoha_parametry(param4=4, param3=3, param2=2, param1=1)"
   ]
  },
  {
   "cell_type": "markdown",
   "metadata": {},
   "source": [
    "Oba způsoby předávání pozičních a pojmenovaných argumentů můžeme i kombinovat, jenom musíme __dbát na to, aby všechny pojmenované argumenty byly zadány až za všemi pozičními argumenty__.\n",
    "To umožňuje např. vynechat argumenty, které mají výchozí hodnotu, které bychom při pozičním způsobu byli nuceni zadat:"
   ]
  },
  {
   "cell_type": "code",
   "execution_count": 21,
   "metadata": {},
   "outputs": [
    {
     "name": "stdout",
     "output_type": "stream",
     "text": [
      "param1 je 1\n",
      "param2 je 2\n",
      "param3 je 10\n",
      "param4 je 4\n"
     ]
    }
   ],
   "source": [
    "demo_funkce_s_mnoha_parametry(1, 2, param4=4)"
   ]
  },
  {
   "cell_type": "markdown",
   "metadata": {},
   "source": [
    "<div style=\"border-left: 5px solid green; padding-left: 1em\">\n",
    "<p><strong>Tip:</strong>\n",
    "Předávání pojmenovaných argumentů je nezávislé na parametrech s výchozí hodnotou – dá se použít pro parametry s výchozí hodnotou i bez výchozí hodnoty.\n",
    "Nejčastěji se ale používá právě pro parametry s výchozí hodnotou.</p>\n",
    "</div>"
   ]
  },
  {
   "cell_type": "markdown",
   "metadata": {},
   "source": [
    "<div style=\"border-left: 5px solid green; padding-left: 1em\">\n",
    "<p><strong>Tip:</strong>\n",
    "Jazyk Python umožňuje při definici funkce vynutit, aby určité parametry bylo možné zadat pouze pozičním způsobem a jiné jen pojmenovaným způsobem.\n",
    "Možná se s tímto případem brzy setkáme při používání funkcí ze standardní knihovny.</p>\n",
    "</div>"
   ]
  },
  {
   "cell_type": "markdown",
   "metadata": {},
   "source": [
    "## Funkce jako proměnné\n",
    "\n",
    "Definice funkce pomocí příkazu `def` je speciální forma přiřazení, při kterém se provede několik věcí:\n",
    "\n",
    "1. Vytvoří se objekt, který reprezentuje danou funkci a obsahuje kód definovaný v těle funkce.\n",
    "2. Vytvoří se proměnná s názvem dané funkce a do ní se uloží odkaz na vytvořený objekt.\n",
    "\n",
    "V principu tedy s názvy funkcí pracujeme stejně jako s názvy proměnných.\n",
    "To nám umožňuje např. \"přejmenovávat\" funkce po jejich definici nebo používat názvy funkcí pro pojmenování hodnot.\n",
    "Pokud se jedná o lokální proměnné a tyto funkce, jejichž názvy jsme použili, na lokální úrovni nebudeme potřebovat, tak tato shoda názvů ničemu nevadí:"
   ]
  },
  {
   "cell_type": "code",
   "execution_count": 1,
   "metadata": {},
   "outputs": [
    {
     "name": "stdout",
     "output_type": "stream",
     "text": [
      "<function demo2 at 0x7f45a80ded40>\n",
      "v = 4\n"
     ]
    },
    {
     "data": {
      "text/plain": [
       "[1, 2, 3, 4, 5]"
      ]
     },
     "execution_count": 1,
     "metadata": {},
     "output_type": "execute_result"
    }
   ],
   "source": [
    "def demo1():\n",
    "    f = max\n",
    "    g = min\n",
    "    v = f(f(2, g(1, 3)), 4)\n",
    "    print(\"v =\", v)\n",
    "\n",
    "def demo2():\n",
    "    print = 1\n",
    "    max = 5\n",
    "    array = []\n",
    "    for i in range(print, max + 1):\n",
    "        array.append(i)\n",
    "    return array\n",
    "\n",
    "print(demo2)\n",
    "\n",
    "demo1()\n",
    "demo2()"
   ]
  },
  {
   "cell_type": "markdown",
   "metadata": {},
   "source": [
    "Definice funkce je navíc obyčejný složený příkaz, který můžeme použít všude tam, kde se smí použít příkaz.\n",
    "Funkce tedy můžeme definovat i uvnitř jiné funkce, můžeme funkce předávat jako argument nějaké funkci a funkce může představovat návratovou hodnotu jiné funkce.\n",
    "Tyto vlastnosti umožňují použít Python pro práci s [funkcemi vyšších řádů](https://en.wikipedia.org/wiki/Higher-order_function) a pro [funkcionální programování](https://cs.wikipedia.org/wiki/Funkcion%C3%A1ln%C3%AD_programov%C3%A1n%C3%AD).\n",
    "To je ale nad rámec předmětu ZPRO a podrobnostmi vás teď nebudeme zatěžovat."
   ]
  },
  {
   "cell_type": "markdown",
   "metadata": {},
   "source": [
    "## Docstring a nápověda\n",
    "\n",
    "Poslední věc, kterou si dnes ukážeme, nesouvisí s vykonáváním kódu, ale velmi se hodí pro podrobný popis toho, jak určitá funkce funguje a jak by se měla používat.\n",
    "Při definici funkce můžeme přidat tzv. _docstring_, neboli _dokumentační řetězec_:"
   ]
  },
  {
   "cell_type": "code",
   "execution_count": 23,
   "metadata": {},
   "outputs": [],
   "source": [
    "def demo():\n",
    "    \"\"\" Toto je docstring. Slouží jako místo k umístění dokumentace pro danou funkci.\n",
    "\n",
    "        Docstring typicky obsahuje:\n",
    "        - popis všech parametrů a jejich vliv na chování funkce\n",
    "        - popis návratové hodnoty\n",
    "        - popis případných chyb, které mohou nastat při vykonávání funkce\n",
    "    \"\"\"\n",
    "    return"
   ]
  },
  {
   "cell_type": "markdown",
   "metadata": {},
   "source": [
    "Docstring je formálně libovolný textový řetězec, který je vložen v těle funkce jako první příkaz (bez přiřazení proměnné!) se správným odsazením.\n",
    "V předchozím příkladu jsme místo párových dvojitých uvozovek (`\"...\"`) použili párovou trojici dvojitých uvozovek (`\"\"\"...\"\"\"`), která umožňuje zadat v kódu víceřádkový string.\n",
    "\n",
    "Jak jsme viděli v předchozí sekci, jazyk Python umožňuje dynamickým způsobem pracovat s objekty a jejich názvy.\n",
    "Existuje jednoduchý způsob, jak se jednoduchým způsobem dostat k docstringu nějakého objektu, se kterým si při programování nevíme rady.\n",
    "Např. docstring výše definované funkce `demo` můžeme zobrazit pomocí funkce `help` nebo přímo v prostředí Jupyter (v menu po kliknutí pravým tlačítkem na kód buňky vybereme _Show Contextual Help_):"
   ]
  },
  {
   "cell_type": "code",
   "execution_count": 24,
   "metadata": {},
   "outputs": [
    {
     "name": "stdout",
     "output_type": "stream",
     "text": [
      "Help on function demo in module __main__:\n",
      "\n",
      "demo()\n",
      "    Toto je docstring. Slouží jako místo k umístění dokumentace pro danou funkci.\n",
      "    \n",
      "    Docstring typicky obsahuje:\n",
      "    - popis všech parametrů a jejich vliv na chování funkce\n",
      "    - popis návratové hodnoty\n",
      "    - popis případných chyb, které mohou nastat při vykonávání funkce\n",
      "\n"
     ]
    }
   ],
   "source": [
    "help(demo)"
   ]
  },
  {
   "cell_type": "markdown",
   "metadata": {},
   "source": [
    "Objekty poskytované prostředím jazyka Python, případně jinými balíčky, mají také svou dokumentaci vytvořenou pomocí docstringů.\n",
    "Např. dokumentace pro funkci `print` vypadá takto:"
   ]
  },
  {
   "cell_type": "code",
   "execution_count": 25,
   "metadata": {},
   "outputs": [
    {
     "name": "stdout",
     "output_type": "stream",
     "text": [
      "Help on built-in function print in module builtins:\n",
      "\n",
      "print(*args, sep=' ', end='\\n', file=None, flush=False)\n",
      "    Prints the values to a stream, or to sys.stdout by default.\n",
      "    \n",
      "    sep\n",
      "      string inserted between values, default a space.\n",
      "    end\n",
      "      string appended after the last value, default a newline.\n",
      "    file\n",
      "      a file-like object (stream); defaults to the current sys.stdout.\n",
      "    flush\n",
      "      whether to forcibly flush the stream.\n",
      "\n"
     ]
    }
   ],
   "source": [
    "help(print)"
   ]
  },
  {
   "cell_type": "markdown",
   "metadata": {},
   "source": [
    "Všimněte si, jakým způsobem jsou popsané jednotlivé parametry a chování funkce.\n",
    "Pokud budete psát vlastní dokumentaci, je dobré se inspirovat stylem použitým ve standardní knihovně.\n",
    "Pro úplnost dodejme, že dokumentace standardní knihovny jazyka Python je k dispozici online na stránce https://docs.python.org/.\n",
    "Až budeme vědět více o jejích modulech, tak si ukážeme, kde potřebné informace najít."
   ]
  },
  {
   "cell_type": "markdown",
   "metadata": {},
   "source": [
    "# Příklady"
   ]
  },
  {
   "cell_type": "markdown",
   "metadata": {},
   "source": [
    "Pro každou funkci v následujících příkladech napište vhodný _docstring_."
   ]
  },
  {
   "cell_type": "markdown",
   "metadata": {},
   "source": [
    "## Ano/ne"
   ]
  },
  {
   "cell_type": "markdown",
   "metadata": {},
   "source": [
    "1. Napište funkci `ano_ne(otázka)`, která uživateli položí zadanou otázku a zeptá se ho na odpověď \"ano\" nebo \"ne\". Pokud je odpověď \"ano\", funkce vrátí `True`, pokud je odpověď \"ne\", funkce vrátí `False`. Pokud je odpověď něco jiného, program vypíše chybu a zeptá se znovu (uvnitř cyklu)."
   ]
  },
  {
   "cell_type": "code",
   "execution_count": 7,
   "metadata": {},
   "outputs": [
    {
     "name": "stdin",
     "output_type": "stream",
     "text": [
      "Ask me any question: Do you like pineapple on pizza???\n"
     ]
    },
    {
     "name": "stdout",
     "output_type": "stream",
     "text": [
      "Uno reverse card\n"
     ]
    },
    {
     "name": "stdin",
     "output_type": "stream",
     "text": [
      "Do you like pineapple on pizza???: what\n",
      "Do you like pineapple on pizza???: I asked first\n",
      "Do you like pineapple on pizza???: Answeeer meeee\n",
      "Do you like pineapple on pizza???: aaaahhhh\n",
      "Do you like pineapple on pizza???: no\n"
     ]
    },
    {
     "data": {
      "text/plain": [
       "False"
      ]
     },
     "execution_count": 7,
     "metadata": {},
     "output_type": "execute_result"
    }
   ],
   "source": [
    "# Yes/No Question\n",
    "def yesOrNo(question):\n",
    "    print(\"Uno reverse card\")\n",
    "    answer = \"\"\n",
    "    while answer not in [\"yes\", \"no\", \"nah\", \"nein\"]:\n",
    "        answer = input(f\"{question}:\")\n",
    "        if answer == \"yes\":\n",
    "            return True\n",
    "        if answer in [\"no\", \"nah\", \"nein\"]:\n",
    "            return False\n",
    "\n",
    "userQuestion = input(\"Ask me any question:\")\n",
    "yesOrNo(userQuestion)"
   ]
  },
  {
   "cell_type": "markdown",
   "metadata": {},
   "source": [
    "2. Upravte předchozí funkci do tvaru `ano_ne(otázka, počet_pokusů)`, kde číslo `počet_pokusů` omezí maximální počet opakování cyklu."
   ]
  },
  {
   "cell_type": "code",
   "execution_count": 9,
   "metadata": {},
   "outputs": [
    {
     "name": "stdin",
     "output_type": "stream",
     "text": [
      "Ask me any question: Cats or dogs?\n",
      "Give me the highest integer you know: 5\n"
     ]
    },
    {
     "name": "stdout",
     "output_type": "stream",
     "text": [
      "Uno reverse card\n"
     ]
    },
    {
     "name": "stdin",
     "output_type": "stream",
     "text": [
      "Cats or dogs?: did I get bamboozled\n",
      "Cats or dogs?: how is this\n",
      "Cats or dogs?: again\n",
      "Cats or dogs?: not again\n",
      "Cats or dogs?: can you stop pls\n"
     ]
    },
    {
     "data": {
      "text/plain": [
       "\"You've got enough I'm satisfied\""
      ]
     },
     "execution_count": 9,
     "metadata": {},
     "output_type": "execute_result"
    }
   ],
   "source": [
    "# Yes/No Question With Limited Itterations\n",
    "def yesOrNoLimited(question, itterations):\n",
    "    print(\"Uno reverse card\")\n",
    "    answer = \"\"\n",
    "    \n",
    "    while answer not in [\"yes\", \"no\", \"nah\", \"nein\"]:\n",
    "        answer = input(f\"{question}:\")\n",
    "        if answer == \"yes\":\n",
    "            return True\n",
    "        if answer in [\"no\", \"nah\", \"nein\"]:\n",
    "            return False\n",
    "            \n",
    "        itterations -= 1\n",
    "        if itterations == 0:\n",
    "            return \"You've got enough I'm satisfied\"\n",
    "\n",
    "userQuestion = input(\"Ask me any question:\")\n",
    "painLevel = int(input(\"Give me the highest integer you know:\"))\n",
    "yesOrNoLimited(userQuestion, painLevel)"
   ]
  },
  {
   "cell_type": "markdown",
   "metadata": {},
   "source": [
    "3. Upravte předchozí funkci tak, aby parametr `počet_pokusů` byl volitelný a pokud při použití funkce není zadaný, tak opakování může probíhat nekonečně dlouho."
   ]
  },
  {
   "cell_type": "code",
   "execution_count": 19,
   "metadata": {},
   "outputs": [
    {
     "name": "stdin",
     "output_type": "stream",
     "text": [
      "Ask me any question: How's your gf?\n",
      "Give me the highest integer you know: \n"
     ]
    },
    {
     "name": "stdout",
     "output_type": "stream",
     "text": [
      "Uno reverse card\n"
     ]
    },
    {
     "name": "stdin",
     "output_type": "stream",
     "text": [
      "How's your gf?: what\n",
      "How's your gf?: I asked first\n",
      "How's your gf?: NO\n"
     ]
    },
    {
     "data": {
      "text/plain": [
       "False"
      ]
     },
     "execution_count": 19,
     "metadata": {},
     "output_type": "execute_result"
    }
   ],
   "source": [
    "# Yes/No Question With Limited Itterations Pro Max\n",
    "## Main function\n",
    "def yesOrNoLimitedProMax(question, itterations):\n",
    "    print(\"Uno reverse card\")\n",
    "\n",
    "    answer = \"\"\n",
    "    flagged = False\n",
    "\n",
    "    ## If itterations is empty, prepare for infinite loop\n",
    "    if itterations == \"\":\n",
    "        flagged = True\n",
    "    else:\n",
    "        while type(itterations) != int:\n",
    "            try:\n",
    "                itterations = int(itterations)\n",
    "                break\n",
    "            except ValueError:\n",
    "                itterations = input(\"I said the highest integer:\")\n",
    "\n",
    "    while answer not in [\"yes\", \"no\", \"nah\", \"nein\"]:\n",
    "        answer = input(f\"{question}:\").lower()\n",
    "        if answer == \"yes\":\n",
    "            return True\n",
    "        if answer in [\"no\", \"nah\", \"nein\"]:\n",
    "            return False\n",
    "\n",
    "        ## Make number of itterations of itterations optional parameter\n",
    "        if flagged == False and type(itterations) == int:\n",
    "            itterations -= 1\n",
    "            if itterations == 0:\n",
    "                return \"You've got enough I'm satisfied\"\n",
    "\n",
    "## Inputs & f(x) call\n",
    "userQuestion = input(\"Ask me any question:\")\n",
    "painLevel = input(\"Give me the highest positive integer you know:\")\n",
    "yesOrNoLimitedProMax(userQuestion, painLevel)"
   ]
  },
  {
   "cell_type": "markdown",
   "metadata": {},
   "source": [
    "## Dělitelé"
   ]
  },
  {
   "cell_type": "markdown",
   "metadata": {},
   "source": [
    "1.  Napište funkci `prvociselny_rozklad(n)`, která vypíše prvočíselný rozklad přirozeného čísla `n`."
   ]
  },
  {
   "cell_type": "code",
   "execution_count": 26,
   "metadata": {},
   "outputs": [
    {
     "name": "stdin",
     "output_type": "stream",
     "text": [
      "Provide a positive integer: 9\n"
     ]
    },
    {
     "data": {
      "text/plain": [
       "'3 * 3'"
      ]
     },
     "execution_count": 26,
     "metadata": {},
     "output_type": "execute_result"
    }
   ],
   "source": [
    "# Prime Factorization\n",
    "def primeFactor(n):\n",
    "    array = []\n",
    "    i = 2\n",
    "\n",
    "    while i <= n:\n",
    "        remainder = n % i\n",
    "        if remainder == 0:\n",
    "            array.append(str(i))\n",
    "            n //= i\n",
    "        else:\n",
    "            i += 1\n",
    "    return \" * \".join(array)\n",
    "    \n",
    "n = int(input(\"Provide a positive integer:\"))\n",
    "primeFactor(n)"
   ]
  },
  {
   "cell_type": "markdown",
   "metadata": {},
   "source": [
    "2.  Napište funkci `je_prvocislo(n)`, která vrátí `True`, pokud přirozené číslo `n` je prvočíslo. Jinak vrátí `False`."
   ]
  },
  {
   "cell_type": "code",
   "execution_count": 50,
   "metadata": {},
   "outputs": [
    {
     "data": {
      "text/plain": [
       "True"
      ]
     },
     "execution_count": 50,
     "metadata": {},
     "output_type": "execute_result"
    }
   ],
   "source": [
    "# Is Prime?\n",
    "def isPrime(n):\n",
    "    for i in range (2, int(n ** (1/2) + 1)):\n",
    "        if (n % i) == 0:\n",
    "            return False\n",
    "    return True\n",
    "isPrime(997)"
   ]
  },
  {
   "cell_type": "markdown",
   "metadata": {},
   "source": [
    "3.  Napište funkci `vypis_prvocisla(n)`, která vypíše všechna prvočísla menší než přirozené číslo `n`."
   ]
  },
  {
   "cell_type": "code",
   "execution_count": 73,
   "metadata": {},
   "outputs": [
    {
     "name": "stdout",
     "output_type": "stream",
     "text": [
      "[2, 3, 5, 7, 11, 13, 17, 19, 23, 29, 31, 37, 41, 43, 47, 53, 59, 61, 67, 71, 73, 79, 83, 89, 97, 101, 103, 107, 109, 113, 127, 131, 137, 139, 149, 151, 157, 163, 167, 173, 179, 181, 191, 193, 197, 199, 211, 223, 227, 229, 233, 239, 241, 251, 257, 263, 269, 271, 277, 281, 283, 293, 307, 311, 313, 317, 331, 337, 347, 349, 353, 359, 367, 373, 379, 383, 389, 397, 401, 409, 419, 421, 431, 433, 439, 443, 449, 457, 461, 463, 467, 479, 487, 491, 499, 503, 509, 521, 523, 541, 547, 557, 563, 569, 571, 577, 587, 593, 599, 601, 607, 613, 617, 619, 631, 641, 643, 647, 653, 659, 661, 673, 677, 683, 691, 701, 709, 719, 727, 733, 739, 743, 751, 757, 761, 769, 773, 787, 797, 809, 811, 821, 823, 827, 829, 839, 853, 857, 859, 863, 877, 881, 883, 887, 907, 911, 919, 929, 937, 941, 947, 953, 967, 971, 977, 983, 991, 997]\n"
     ]
    }
   ],
   "source": [
    "# Prime Array Finder\n",
    "def primeFinder(highBound):\n",
    "    primes = []\n",
    "    \n",
    "    for i in range(2, highBound):\n",
    "        length = len(primes) \n",
    "        flagged = False\n",
    "\n",
    "        for j in range(0, length):\n",
    "            if (i % primes[j] == 0):\n",
    "                flagged = True\n",
    "                break\n",
    "                \n",
    "        if (flagged == False):\n",
    "            primes.append(i)\n",
    "    return primes\n",
    "print(primeFinder(1000))"
   ]
  },
  {
   "cell_type": "markdown",
   "metadata": {},
   "source": [
    "4.  Napište funkci `kte_prvocislo(k)`, která spočítá a vrátí `k`-té prvočíslo."
   ]
  },
  {
   "cell_type": "code",
   "execution_count": 68,
   "metadata": {},
   "outputs": [
    {
     "name": "stdout",
     "output_type": "stream",
     "text": [
      "37\n"
     ]
    }
   ],
   "source": [
    "# K-th Prime Finder\n",
    "def kthPrimeFinder(k):\n",
    "    i = 2    \n",
    "    while k > 0:\n",
    "        for j in range(2, i+1):\n",
    "            ### found factor\n",
    "            if i % j == 0 and i != j:\n",
    "                i += 1\n",
    "                break\n",
    "            ### has no factor => is prime\n",
    "            if i % j == 0 and i == j:\n",
    "                i += 1\n",
    "                k -=1\n",
    "    return i - 1\n",
    "\n",
    "print(kthPrimeFinder(12))"
   ]
  },
  {
   "cell_type": "markdown",
   "metadata": {},
   "source": [
    "5.  Napište funkci `nsn(a, b)`, která spočítá a vrátí nejmenší společný násobek přirozených čísel `a` a `b`."
   ]
  },
  {
   "cell_type": "code",
   "execution_count": 84,
   "metadata": {},
   "outputs": [
    {
     "data": {
      "text/plain": [
       "861410"
      ]
     },
     "execution_count": 84,
     "metadata": {},
     "output_type": "execute_result"
    }
   ],
   "source": [
    "# Least Common Multiple\n",
    "def lcm(a,b):\n",
    "    a = int(a)\n",
    "    b = int(b)\n",
    "    \n",
    "    c = min(a,b)\n",
    "    d = max(a,b)\n",
    "    candidate = c\n",
    "    \n",
    "    while True:\n",
    "        if candidate % d == 0:\n",
    "            return candidate\n",
    "        candidate += c\n",
    "lcm(1910, 451)"
   ]
  },
  {
   "cell_type": "markdown",
   "metadata": {},
   "source": [
    "## Odhady, aproximace"
   ]
  },
  {
   "cell_type": "markdown",
   "metadata": {},
   "source": [
    "1.  Napište funkci `eulerovo_cislo(n)`, která spočítá a vrátí odhad [Eulerova čísla](https://cs.wikipedia.org/wiki/Eulerovo_%C4%8D%C3%ADslo) $e$ pomocí $n$-tého členu posloupnosti $(1 + \\frac{1}{n})^n$. Pomocí srovnání s hodnotou `math.exp(1)` zhodnoťte, na kolik desetinných míst je výsledek přesný."
   ]
  },
  {
   "cell_type": "code",
   "execution_count": 19,
   "metadata": {},
   "outputs": [
    {
     "name": "stdout",
     "output_type": "stream",
     "text": [
      "aproximation: 2.7182816939147743\n",
      "e: 2.718281828459045\n",
      "deviation = 1.345442708355904e-07\n"
     ]
    }
   ],
   "source": [
    "# Euler\n",
    "from math import exp\n",
    "\n",
    "def eulerAproximation(n):\n",
    "    return ((1 + 1/n) ** n)\n",
    "aproximation = eulerAproximation(9999999)\n",
    "\n",
    "print(f\"aproximation: {aproximation}\")\n",
    "print(f\"e: {exp(1)}\")\n",
    "print (f\"deviation = {abs(aproximation - exp(1))}\")"
   ]
  },
  {
   "cell_type": "markdown",
   "metadata": {},
   "source": [
    "2. Číslo $\\sqrt{2}$ lze zapsat pomocí [nekonečného řetězového zlomku](https://cs.wikipedia.org/wiki/%C5%98et%C4%9Bzov%C3%BD_zlomek):\n",
    "\n",
    "    $$\n",
    "    \\sqrt{2} = 1 + \\cfrac{1}{2 + \\cfrac{1}{2 + \\cfrac{1}{2 + \\ddots}}}\n",
    "    $$\n",
    "\n",
    "    Napište funkci `odmocnina_2(n)`, která spočítá odhad čísla $\\sqrt{2}$ pomocí řetězového zlomku s $n$ jmenovateli. Zhodnoťte, na kolik desetinných míst je výsledek přesný."
   ]
  },
  {
   "cell_type": "code",
   "execution_count": null,
   "metadata": {},
   "outputs": [],
   "source": []
  },
  {
   "cell_type": "markdown",
   "metadata": {},
   "source": [
    "3. Napište funkci `zlatý_řez(n)`, která spočítá odhad [zlatého řezu](https://cs.wikipedia.org/wiki/Zlat%C3%BD_%C5%99ez) $\\varphi$ pomocí řetězového zlomku s $n$ jmenovateli. Také zhodnoťte, na kolik desetinných míst je výsledek přesný.\n",
    "\n",
    "    Zlatý řez:\n",
    "\n",
    "    $$\n",
    "    \\varphi = \\cfrac{1 + \\sqrt{5}}{2} = 1 + \\cfrac{1}{1 + \\cfrac{1}{1 + \\cfrac{1}{1 + \\ddots}}}\n",
    "    $$"
   ]
  },
  {
   "cell_type": "code",
   "execution_count": null,
   "metadata": {},
   "outputs": [],
   "source": []
  },
  {
   "cell_type": "markdown",
   "metadata": {},
   "source": [
    "4.  Napište funkci `ludolfovo_číslo(n)`, která spočítá a vrátí odhad [Ludolfova čísla](https://cs.wikipedia.org/wiki/P%C3%AD_(%C4%8D%C3%ADslo)) $\\pi$ pomocí součtu prvních $n$ členů Leibnizovy řady. Zhodnoťte, na kolik desetinných míst je výsledek přesný.\n",
    "\n",
    "$$\n",
    "\\pi = 4\\sum^\\infty_{k=0} \\frac{(-1)^k}{2k+1} = \\frac{4}{1}-\\frac{4}{3}+\\frac{4}{5}-\\frac{4}{7}+\\frac{4}{9}-\\cdots\n",
    "$$"
   ]
  },
  {
   "cell_type": "code",
   "execution_count": null,
   "metadata": {},
   "outputs": [],
   "source": []
  }
 ],
 "metadata": {
  "kernelspec": {
   "display_name": "Python 3 (ipykernel)",
   "language": "python",
   "name": "python3"
  },
  "language_info": {
   "codemirror_mode": {
    "name": "ipython",
    "version": 3
   },
   "file_extension": ".py",
   "mimetype": "text/x-python",
   "name": "python",
   "nbconvert_exporter": "python",
   "pygments_lexer": "ipython3",
   "version": "3.13.7"
  }
 },
 "nbformat": 4,
 "nbformat_minor": 4
}
