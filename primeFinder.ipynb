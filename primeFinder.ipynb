{
 "cells": [
  {
   "cell_type": "code",
   "execution_count": 13,
   "id": "869bd8e2-4c8a-4d3e-aea2-d48a8353dc6e",
   "metadata": {},
   "outputs": [
    {
     "name": "stdout",
     "output_type": "stream",
     "text": [
      "[1, 2, 3, 5, 7, 11, 13, 17, 19, 23, 29, 31, 37, 41, 43, 47, 53, 59, 61, 67, 71, 73, 79, 83, 89, 97]\n"
     ]
    }
   ],
   "source": [
    "# Prime Finder\n",
    "numbersArray = 100\n",
    "primes = [1]\n",
    "\n",
    "for i in range(2, numbersArray):\n",
    "    length = len(primes)\n",
    "        \n",
    "    flagged = False\n",
    "    for j in range(1, length):\n",
    "        if (i % primes[j] == 0):\n",
    "            flagged = True\n",
    "            \n",
    "    if (flagged == False):\n",
    "        primes.append(i)\n",
    "            \n",
    "print(primes)"
   ]
  }
 ],
 "metadata": {
  "kernelspec": {
   "display_name": "Python 3 (ipykernel)",
   "language": "python",
   "name": "python3"
  },
  "language_info": {
   "codemirror_mode": {
    "name": "ipython",
    "version": 3
   },
   "file_extension": ".py",
   "mimetype": "text/x-python",
   "name": "python",
   "nbconvert_exporter": "python",
   "pygments_lexer": "ipython3",
   "version": "3.13.7"
  }
 },
 "nbformat": 4,
 "nbformat_minor": 5
}
